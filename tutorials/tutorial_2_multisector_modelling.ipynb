{
 "cells": [
  {
   "cell_type": "markdown",
   "metadata": {},
   "source": [
    "# Multisector modelling with Macro"
   ]
  },
  {
   "cell_type": "markdown",
   "metadata": {},
   "source": [
    "In this tutorial, we extend the electricity-only model considered in Tutorial 2 to build a multisector model for joint capacity expansion in electricity and hydrogen sectors. \n",
    "\n",
    "To do this, we scorporate hydrogen and electricity demand from Tutorial 2, and endogeneously model hydrogen production and storage in MACRO."
   ]
  },
  {
   "cell_type": "code",
   "execution_count": null,
   "metadata": {
    "collapsed": true,
    "jupyter": {
     "outputs_hidden": true
    }
   },
   "outputs": [],
   "source": [
    "using Pkg; Pkg.add([\"VegaLite\", \"Plots\"])"
   ]
  },
  {
   "cell_type": "code",
   "execution_count": null,
   "metadata": {},
   "outputs": [],
   "source": [
    "using MacroEnergy\n",
    "using HiGHS\n",
    "using CSV\n",
    "using DataFrames\n",
    "using JSON3\n",
    "using Plots\n",
    "using VegaLite"
   ]
  },
  {
   "cell_type": "markdown",
   "metadata": {},
   "source": [
    "Create a new case folder named \"one_zone_multisector\""
   ]
  },
  {
   "cell_type": "code",
   "execution_count": null,
   "metadata": {},
   "outputs": [],
   "source": [
    "if !isdir(\"one_zone_multisector\")\n",
    "    mkdir(\"one_zone_multisector\")\n",
    "    cp(\"one_zone_electricity_only/assets\",\"one_zone_multisector/assets\", force=true)\n",
    "    cp(\"one_zone_electricity_only/settings\",\"one_zone_multisector/settings\", force=true)\n",
    "    cp(\"one_zone_electricity_only/system\",\"one_zone_multisector/system\", force=true)\n",
    "    cp(\"one_zone_electricity_only/system_data.json\",\"one_zone_multisector/system_data.json\", force=true)\n",
    "end"
   ]
  },
  {
   "cell_type": "markdown",
   "metadata": {},
   "source": [
    "**Note:** If you have previously run Tutorial 2, make sure that file `one_zone_multisector/system/nodes.json` is restored to the original version with a $\\text{CO}_2$ price. The definition of the $\\text{CO}_2$ node should look like this:\n",
    "```json\n",
    "{\n",
    "    \"type\": \"CO2\",\n",
    "    \"global_data\": {\n",
    "        \"time_interval\": \"CO2\"\n",
    "    },\n",
    "    \"instance_data\": [\n",
    "        {\n",
    "            \"id\": \"co2_sink\",\n",
    "            \"constraints\": {\n",
    "                \"CO2CapConstraint\": true\n",
    "            },\n",
    "            \"rhs_policy\": {\n",
    "                    \"CO2CapConstraint\": 0\n",
    "                },\n",
    "            \"price_unmet_policy\":{\n",
    "                \"CO2CapConstraint\": 200\n",
    "            }    \n",
    "        }\n",
    "    ]\n",
    "}\n",
    "```"
   ]
  },
  {
   "cell_type": "markdown",
   "metadata": {},
   "source": [
    "Add Hydrogen to the list of modeled commodities, modifying file `one_zone_multisector/system/commodities.json`:"
   ]
  },
  {
   "cell_type": "code",
   "execution_count": 8,
   "metadata": {},
   "outputs": [],
   "source": [
    "new_macro_commodities = Dict(\"commodities\"=> [\"Electricity\", \"NaturalGas\", \"CO2\", \"Hydrogen\"])\n",
    "\n",
    "open(\"one_zone_multisector/system/commodities.json\", \"w\") do io\n",
    "    JSON3.pretty(io, new_macro_commodities)\n",
    "end"
   ]
  },
  {
   "cell_type": "markdown",
   "metadata": {},
   "source": [
    "Update file `one_zone_multisector/system/time_data.json` accordingly:"
   ]
  },
  {
   "cell_type": "code",
   "execution_count": 9,
   "metadata": {},
   "outputs": [],
   "source": [
    "new_time_data = Dict(\"PeriodLength\"=>8760,\n",
    "                    \"HoursPerTimeStep\"=>Dict(\"Electricity\"=>1, \"NaturalGas\"=> 1, \"CO2\"=> 1, \"Hydrogen\"=>1),\n",
    "                    \"HoursPerSubperiod\"=>Dict(\"Electricity\"=>8760, \"NaturalGas\"=> 8760, \"CO2\"=> 8760, \"Hydrogen\"=>8760)\n",
    "                )\n",
    "\n",
    "open(\"one_zone_multisector/system/time_data.json\", \"w\") do io\n",
    "    JSON3.pretty(io, new_time_data)\n",
    "end"
   ]
  },
  {
   "cell_type": "markdown",
   "metadata": {},
   "source": [
    "Move separate electricity and hydrogen demand timeseries into the system folder"
   ]
  },
  {
   "cell_type": "code",
   "execution_count": null,
   "metadata": {},
   "outputs": [],
   "source": [
    "cp(\"demand_timeseries/electricity_demand.csv\",\"one_zone_multisector/system/demand.csv\";force=true)"
   ]
  },
  {
   "cell_type": "code",
   "execution_count": null,
   "metadata": {},
   "outputs": [],
   "source": [
    "cp(\"demand_timeseries/hydrogen_demand.csv\",\"one_zone_multisector/system/hydrogen_demand.csv\";force=true)"
   ]
  },
  {
   "cell_type": "markdown",
   "metadata": {},
   "source": [
    "**Task 1:** using the existing electricity nodes in `one_zone_multisector/system/nodes.json` as template, add an Hydrogen demand node, linking it to the `hydogen_demand.csv` timeseries."
   ]
  },
  {
   "cell_type": "markdown",
   "metadata": {},
   "source": [
    "<details>\n",
    "<summary>Solution</summary>\n",
    "\n",
    "The definition of the new Hydrogen node in `one_zone_multisector/system/nodes.json` should look like this:\n",
    "\n",
    "```json\n",
    "    {\n",
    "        \"type\": \"Hydrogen\",\n",
    "        \"global_data\": {\n",
    "            \"time_interval\": \"Hydrogen\",\n",
    "            \"constraints\": {\n",
    "                \"BalanceConstraint\": true\n",
    "            }\n",
    "        },\n",
    "        \"instance_data\": [\n",
    "            {\n",
    "                \"id\": \"h2_SE\",\n",
    "                \"demand\": {\n",
    "                    \"timeseries\": {\n",
    "                        \"path\": \"system/hydrogen_demand.csv\",\n",
    "                        \"header\": \"Demand_H2_z1\"\n",
    "                    }\n",
    "                }\n",
    "            }\n",
    "        ]\n",
    "    },\n",
    "```\n",
    "</details>"
   ]
  },
  {
   "cell_type": "markdown",
   "metadata": {},
   "source": [
    "Next, add an electrolyzer asset represented in Macro as a transformation connecting electricity and hydrogen nodes:"
   ]
  },
  {
   "cell_type": "markdown",
   "metadata": {},
   "source": [
    "![electrolyzer](images/electrolyzer_asset.png)"
   ]
  },
  {
   "cell_type": "markdown",
   "metadata": {},
   "source": [
    "To include the electrolyzer, create a file `one_zone_multisector/assets/electrolyzer.json` based on the asset definition in `src/model/assets/electrolyzer.jl`:"
   ]
  },
  {
   "cell_type": "markdown",
   "metadata": {},
   "source": [
    "```json\n",
    "{\n",
    "   \"electrolyzer\": [\n",
    "        {   \n",
    "            \"type\": \"Electrolyzer\",\n",
    "            \"global_data\":{\n",
    "                \"transforms\": {\n",
    "                    \"timedata\": \"Electricity\",\n",
    "                    \"constraints\": {\n",
    "                        \"BalanceConstraint\": true\n",
    "                    }\n",
    "                },\n",
    "                \"edges\": {\n",
    "                    \"h2_edge\": {\n",
    "                        \"type\": \"Hydrogen\",\n",
    "                        \"unidirectional\": true,\n",
    "                        \"has_capacity\": true,\n",
    "                        \"can_retire\": true,\n",
    "                        \"can_expand\": true,\n",
    "                        \"constraints\": {\n",
    "                            \"CapacityConstraint\": true,\n",
    "                            \"RampingLimitConstraint\": true,\n",
    "                            \"MinFlowConstraint\": true\n",
    "                        }\n",
    "                    },\n",
    "                    \"elec_edge\": {\n",
    "                        \"type\": \"Electricity\",\n",
    "                        \"unidirectional\": true,\n",
    "                        \"has_capacity\": false\n",
    "                    }\n",
    "                }\n",
    "            },\n",
    "            \"instance_data\":[\n",
    "                {\n",
    "                    \"id\": \"SE_Electrolyzer\",\n",
    "                    \"transforms\":{\n",
    "                        \"efficiency_rate\": 0.875111139 // units: # MWh of H2 / MWh of electricity\n",
    "                    },\n",
    "                    \"edges\":{\n",
    "                        \"elec_edge\": {\n",
    "                            \"start_vertex\": \"elec_SE\"\n",
    "                        },\n",
    "                        \"h2_edge\": {\n",
    "                            \"end_vertex\": \"h2_SE\",\n",
    "                            \"existing_capacity\": 0,\n",
    "                            \"investment_cost\": 41112.53426,\n",
    "                            \"fixed_om_cost\": 1052.480877,\n",
    "                            \"variable_om_cost\": 0.0,\n",
    "                            \"capacity_size\": 1.5752,\n",
    "                            \"ramp_up_fraction\": 1,\n",
    "                            \"ramp_down_fraction\": 1,\n",
    "                            \"min_flow_fraction\":0.1\n",
    "                        }\n",
    "                    }\n",
    "                }\n",
    "            ]\n",
    "        }\n",
    "    ]\n",
    "}\n",
    "```"
   ]
  },
  {
   "cell_type": "markdown",
   "metadata": {},
   "source": [
    "Include an hydrogen storage resource cluster, represented in MACRO as combination of a compressor transformation (consuming electricity to compress the gas) and a storage node:"
   ]
  },
  {
   "cell_type": "markdown",
   "metadata": {},
   "source": [
    "![hydrogen_storage](images/hydrogen_storage.png)"
   ]
  },
  {
   "cell_type": "markdown",
   "metadata": {},
   "source": [
    "Add a file `one_zone_multisector/assets/h2_storage.json` based on the asset definition in  `src/model/assets/gasstorage.jl`that should look like this:"
   ]
  },
  {
   "cell_type": "markdown",
   "metadata": {},
   "source": [
    "```json\n",
    "{\n",
    "    \"h2stor\": [\n",
    "        {\n",
    "            \"type\": \"GasStorage\",\n",
    "            \"global_data\": {\n",
    "                \"transforms\": {\n",
    "                    \"timedata\": \"Hydrogen\",\n",
    "                    \"constraints\": {\n",
    "                        \"BalanceConstraint\": true\n",
    "                    }\n",
    "                },\n",
    "                \"edges\": {\n",
    "                    \"discharge_edge\": {\n",
    "                        \"type\": \"Hydrogen\",\n",
    "                        \"unidirectional\": true,\n",
    "                        \"can_expand\": true,\n",
    "                        \"can_retire\": false,\n",
    "                        \"has_capacity\": true,\n",
    "                        \"constraints\": {\n",
    "                            \"CapacityConstraint\": true,\n",
    "                            \"RampingLimitConstraint\": true\n",
    "                        }\n",
    "                    },\n",
    "                    \"charge_edge\": {\n",
    "                        \"type\": \"Hydrogen\",\n",
    "                        \"unidirectional\": true,\n",
    "                        \"has_capacity\": true,\n",
    "                        \"can_expand\": true,\n",
    "                        \"can_retire\": false,\n",
    "                        \"constraints\": {\n",
    "                            \"CapacityConstraint\": true\n",
    "                        }\n",
    "                    },\n",
    "                    \"compressor_elec_edge\": {\n",
    "                        \"type\": \"Electricity\",\n",
    "                        \"unidirectional\": true,\n",
    "                        \"has_capacity\": false\n",
    "                    },\n",
    "                    \"compressor_gas_edge\": {\n",
    "                        \"type\": \"Hydrogen\",\n",
    "                        \"unidirectional\": true,\n",
    "                        \"has_capacity\": false\n",
    "                    }\n",
    "                },\n",
    "                \"storage\": {\n",
    "                    \"commodity\": \"Hydrogen\",\n",
    "                    \"can_expand\": true,\n",
    "                    \"can_retire\": false,\n",
    "                    \"constraints\": {\n",
    "                        \"StorageCapacityConstraint\": true,\n",
    "                        \"BalanceConstraint\": true,\n",
    "                        \"MinStorageLevelConstraint\": true\n",
    "                    }\n",
    "                }\n",
    "            },\n",
    "            \"instance_data\": [\n",
    "                {\n",
    "                    \"id\": \"SE_Above_ground_storage\",\n",
    "                    \"transforms\": {\n",
    "                        \"electricity_consumption\": 0.018029457\n",
    "                    },\n",
    "                    \"edges\": {\n",
    "                        \"discharge_edge\": {\n",
    "                            \"end_vertex\": \"h2_SE\",\n",
    "                            \"existing_capacity\": 0,\n",
    "                            \"investment_cost\": 0.0,\n",
    "                            \"fixed_om_cost\": 0.0,\n",
    "                            \"variable_om_cost\": 0.0,\n",
    "                            \"efficiency\": 1.0,\n",
    "                            \"ramp_up_fraction\": 1,\n",
    "                            \"ramp_down_fraction\": 1\n",
    "                        },\n",
    "                        \"charge_edge\":{\n",
    "                            \"existing_capacity\": 0,\n",
    "                            \"investment_cost\": 3219.236569,\n",
    "                            \"fixed_om_cost\": 0.0,\n",
    "                            \"variable_om_cost\": 0.0,\n",
    "                            \"efficiency\": 1.0\n",
    "                        },\n",
    "                        \"compressor_gas_edge\": {\n",
    "                            \"start_vertex\": \"h2_SE\"\n",
    "                        },\n",
    "                        \"compressor_elec_edge\": {\n",
    "                            \"start_vertex\": \"elec_SE\"\n",
    "                        }\n",
    "                    },\n",
    "                    \"storage\":{\n",
    "                        \"investment_cost\": 873.013307,\n",
    "                        \"fixed_om_cost\":28.75810056,\n",
    "                        \"loss_fraction\": 0.0,\n",
    "                        \"min_storage_level\": 0.3\n",
    "                    }\n",
    "                }\n",
    "            ]\n",
    "        }\n",
    "    ]\n",
    "}\n",
    "```"
   ]
  },
  {
   "cell_type": "markdown",
   "metadata": {},
   "source": [
    "**Task 2:** Following the same steps taken in Tutorial 2, load the input files, generate MACRO model, and solve it using the open-source solver HiGHS."
   ]
  },
  {
   "cell_type": "markdown",
   "metadata": {},
   "source": [
    "<details>\n",
    "<summary>Solution</summary>\n",
    "\n",
    "First, load the inputs:\n",
    "```julia\n",
    "    system = MacroEnergy.load_system(\"one_zone_multisector\");\n",
    "```\n",
    "Then, generate the model:\n",
    "```julia\n",
    "    model = MacroEnergy.generate_model(system)\n",
    "```\n",
    "\n",
    "Finally, solve it using the HiGHS solver:\n",
    "```julia\n",
    "    MacroEnergy.set_optimizer(model, HiGHS.Optimizer);\n",
    "    MacroEnergy.optimize!(model)\n",
    "```\n",
    "\n",
    "</details>"
   ]
  },
  {
   "cell_type": "markdown",
   "metadata": {},
   "source": [
    "**Task 3:** As in Tutorial 2, print optimized capacity for each asset, the system total cost, and the total emissions. \n",
    "\n",
    "What do you observe?\n",
    "\n",
    "To explain the results, plot both the electricity generation and hydrogen supply results as done in Tutorial 2 using `VegaLite.jl`."
   ]
  },
  {
   "cell_type": "markdown",
   "metadata": {},
   "source": [
    "<details>\n",
    "<summary>Solution</summary>\n",
    "\n",
    "Optimized capacities are retrieved as follows:\n",
    "\n",
    "```julia\n",
    "capacity_results = get_optimal_capacity(system)\n",
    "new_capacity_results = get_optimal_new_capacity(system)\n",
    "retired_capacity_results = get_optimal_retired_capacity(system)\n",
    "```\n",
    "Total system cost is:\n",
    "```julia\n",
    "MacroEnergy.objective_value(model)\n",
    "```\n",
    "\n",
    "Total $\\text{CO}_2$ emissions are:\n",
    "```julia\n",
    "co2_node_idx = findfirst(isa.(system.locations,Node{CO2}).==1)\n",
    "MacroEnergy.value(sum(system.locations[co2_node_idx].operation_expr[:emissions]))\n",
    "```\n",
    "\n",
    "Note that we have achieved lower costs and emissions when able to co-optimize capacity and operation of electricity and hydrogen sectors. In the following, we further investigate these\n",
    "\n",
    "```julia\n",
    "plot_time_interval = 3600:3624\n",
    "```\n",
    "Here is the electricity generation profile:\n",
    "```julia\n",
    "natgas_power =  MacroEnergy.value.(MacroEnergy.flow(system.assets[4].elec_edge)).data[plot_time_interval]/1e3;\n",
    "solar_power = MacroEnergy.value.(MacroEnergy.flow(system.assets[5].edge)).data[plot_time_interval]/1e3;\n",
    "wind_power = MacroEnergy.value.(MacroEnergy.flow(system.assets[6].edge)).data[plot_time_interval]/1e3;\n",
    "\n",
    "elec_gen =  DataFrame( hours = plot_time_interval, \n",
    "                solar_photovoltaic = solar_power,\n",
    "                wind_turbine = wind_power,\n",
    "                natural_gas_fired_combined_cycle = natgas_power,\n",
    "                )\n",
    "\n",
    "stack_elec_gen = stack(elec_gen, [:natural_gas_fired_combined_cycle,:wind_turbine,:solar_photovoltaic], variable_name=:resource, value_name=:generation);\n",
    "\n",
    "elc_plot = stack_elec_gen |> \n",
    "@vlplot(\n",
    "    :area,\n",
    "    x={:hours, title=\"Hours\"},\n",
    "    y={:generation, title=\"Electricity generation (GWh)\",stack=:zero},\n",
    "    color={\"resource:n\", scale={scheme=:category10}},\n",
    "    width=400,\n",
    "    height=300\n",
    ")\n",
    "```\n",
    "![elec_generation](images/multisector_elec_gen.png)\n",
    "\n",
    "During the day, when solar photovoltaic is available, almost all of the electricity generation comes from VREs.\n",
    "\n",
    "Because hydrogen storage is cheaper than batteries, we expect the system to use the electricity generated during the day to operate the electrolyzers to meet the hydrogen demand, storing the excess hydrogen to be used when solar photolvoltaics can not generate electricity.\n",
    "\n",
    "We verify our assumption by making a stacked area plot of the hydrogen supply (hydrogen generation net of the hydrogen stored):\n",
    "\n",
    "```julia\n",
    "electrolyzer_idx = findfirst(isa.(system.assets,Electrolyzer).==1)\n",
    "h2stor_idx = findfirst(isa.(system.assets,GasStorage{Hydrogen}).==1)\n",
    "\n",
    "electrolyzer_gen =  MacroEnergy.value.(MacroEnergy.flow(system.assets[electrolyzer_idx].h2_edge)).data[plot_time_interval]/1e3;\n",
    "h2stor_charge =  MacroEnergy.value.(MacroEnergy.flow(system.assets[h2stor_idx].charge_edge)).data[plot_time_interval]/1e3;\n",
    "h2stor_discharge = MacroEnergy.value.(MacroEnergy.flow(system.assets[h2stor_idx].discharge_edge)).data[plot_time_interval]/1e3;\n",
    "\n",
    "h2_gen = DataFrame( hours = plot_time_interval, \n",
    "                    electrolyzer = electrolyzer_gen - h2stor_charge,\n",
    "                    storage =  h2stor_discharge)\n",
    "\n",
    "stack_h2_gen = stack(h2_gen, [:electrolyzer, :storage], variable_name=:resource, value_name=:supply);\n",
    "\n",
    "h2plot = stack_h2_gen |> \n",
    "    @vlplot(\n",
    "        :area,\n",
    "        x={:hours, title=\"Hours\"},\n",
    "        y={:supply, title=\"Hydrogen supply (GWh)\",stack=:zero},\n",
    "        color={\"resource:n\", scale={scheme=:category20}},\n",
    "        width=400,\n",
    "        height=300\n",
    "    )\n",
    "```\n",
    "\n",
    "![h2_generation](images/multisector_hydrogen.png)\n",
    "\n",
    "</details>"
   ]
  },
  {
   "cell_type": "markdown",
   "metadata": {},
   "source": []
  }
 ],
 "metadata": {
  "kernelspec": {
   "display_name": "Julia 1.11.3",
   "language": "julia",
   "name": "julia-1.11"
  },
  "language_info": {
   "file_extension": ".jl",
   "mimetype": "application/julia",
   "name": "julia",
   "version": "1.11.3"
  }
 },
 "nbformat": 4,
 "nbformat_minor": 4
}
