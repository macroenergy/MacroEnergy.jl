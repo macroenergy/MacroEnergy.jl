{
 "cells": [
  {
   "cell_type": "code",
   "execution_count": 1,
   "metadata": {},
   "outputs": [
    {
     "name": "stderr",
     "output_type": "stream",
     "text": [
      "\u001b[32m\u001b[1m  Activating\u001b[22m\u001b[39m project at `~/Code/Macro`\n"
     ]
    }
   ],
   "source": [
    "# Activate the environment using the path to the Macro repository\n",
    "macro_repo_path = dirname(@__DIR__)\n",
    "using Pkg; Pkg.activate(macro_repo_path)"
   ]
  },
  {
   "cell_type": "code",
   "execution_count": 2,
   "metadata": {},
   "outputs": [],
   "source": [
    "using Macro\n",
    "using HiGHS"
   ]
  },
  {
   "cell_type": "markdown",
   "metadata": {},
   "source": [
    "Single zone electricity system with utility scale solar PV, land-based wind generation, natural gas power generation, and electricity storage. The model includes a carbon price of 250 $/ton."
   ]
  },
  {
   "cell_type": "code",
   "execution_count": 3,
   "metadata": {},
   "outputs": [],
   "source": [
    "inputs_path = \"one_zone\";"
   ]
  },
  {
   "cell_type": "code",
   "execution_count": 4,
   "metadata": {},
   "outputs": [
    {
     "name": "stderr",
     "output_type": "stream",
     "text": [
      "┌ Info: Loading JSON data from /Users/fpecci/Code/Macro/tutorials/one_zone/system_data.json\n",
      "└ @ Macro /Users/fpecci/Code/Macro/src/load_inputs/load_macroobject.jl:135\n",
      "┌ Info: Loading JSON data from one_zone/system_data.json\n",
      "└ @ Macro /Users/fpecci/Code/Macro/src/load_inputs/load_macroobject.jl:135\n",
      "┌ Info: Loading JSON data from one_zone/system/nodes.json\n",
      "└ @ Macro /Users/fpecci/Code/Macro/src/load_inputs/load_macroobject.jl:135\n",
      "┌ Info: Loading columns [:natgas_SE] from CSV data from one_zone/system/fuel_prices.csv\n",
      "└ @ Macro /Users/fpecci/Code/Macro/src/load_inputs/file_io/csv.jl:8\n",
      "┌ Info: Loading CSV data from one_zone/system/fuel_prices.csv\n",
      "└ @ Macro /Users/fpecci/Code/Macro/src/load_inputs/file_io/csv.jl:14\n",
      "┌ Info: Loading columns [:Demand_MW_z1] from CSV data from one_zone/system/demand.csv\n",
      "└ @ Macro /Users/fpecci/Code/Macro/src/load_inputs/file_io/csv.jl:8\n",
      "┌ Info: Loading CSV data from one_zone/system/demand.csv\n",
      "└ @ Macro /Users/fpecci/Code/Macro/src/load_inputs/file_io/csv.jl:14\n",
      "┌ Info: Loading JSON data from one_zone/assets/electricity_stor.json\n",
      "└ @ Macro /Users/fpecci/Code/Macro/src/load_inputs/load_macroobject.jl:135\n",
      "┌ Info: Loading JSON data from one_zone/assets/naturalgas_power.json\n",
      "└ @ Macro /Users/fpecci/Code/Macro/src/load_inputs/load_macroobject.jl:135\n",
      "┌ Info: Loading JSON data from one_zone/assets/vre.json\n",
      "└ @ Macro /Users/fpecci/Code/Macro/src/load_inputs/load_macroobject.jl:135\n",
      "┌ Info: Loading columns [:SE_utilitypv_class1_moderate_70_0_2_1] from CSV data from one_zone/assets/availability.csv\n",
      "└ @ Macro /Users/fpecci/Code/Macro/src/load_inputs/file_io/csv.jl:8\n",
      "┌ Info: Loading CSV data from one_zone/assets/availability.csv\n",
      "└ @ Macro /Users/fpecci/Code/Macro/src/load_inputs/file_io/csv.jl:14\n",
      "┌ Info: Loading columns [:SE_landbasedwind_class4_moderate_70_1] from CSV data from one_zone/assets/availability.csv\n",
      "└ @ Macro /Users/fpecci/Code/Macro/src/load_inputs/file_io/csv.jl:8\n",
      "┌ Info: Loading CSV data from one_zone/assets/availability.csv\n",
      "└ @ Macro /Users/fpecci/Code/Macro/src/load_inputs/file_io/csv.jl:14\n"
     ]
    },
    {
     "name": "stdout",
     "output_type": "stream",
     "text": [
      "system.settings.Scaling = true\n"
     ]
    },
    {
     "name": "stderr",
     "output_type": "stream",
     "text": [
      "┌ Info: Scaling system data to GWh | ktons | M$\n",
      "└ @ Macro /Users/fpecci/Code/Macro/src/model/scaling.jl:19\n"
     ]
    }
   ],
   "source": [
    "system = Macro.load_system(inputs_path);"
   ]
  },
  {
   "cell_type": "code",
   "execution_count": 5,
   "metadata": {},
   "outputs": [
    {
     "name": "stderr",
     "output_type": "stream",
     "text": [
      "┌ Info: Starting model generation\n",
      "└ @ Macro /Users/fpecci/Code/Macro/src/generate_model.jl:3\n",
      "┌ Info: Adding linking variables\n",
      "└ @ Macro /Users/fpecci/Code/Macro/src/generate_model.jl:15\n",
      "┌ Info: Defining available capacity\n",
      "└ @ Macro /Users/fpecci/Code/Macro/src/generate_model.jl:18\n",
      "┌ Info: Generating planning model\n",
      "└ @ Macro /Users/fpecci/Code/Macro/src/generate_model.jl:21\n",
      "┌ Info: Generating operational model\n",
      "└ @ Macro /Users/fpecci/Code/Macro/src/generate_model.jl:24\n",
      "┌ Info: Model generation complete, it took 4.831251859664917 seconds\n",
      "└ @ Macro /Users/fpecci/Code/Macro/src/generate_model.jl:29\n"
     ]
    },
    {
     "data": {
      "text/plain": [
       "A JuMP Model\n",
       "├ solver: none\n",
       "├ objective_sense: MIN_SENSE\n",
       "│ └ objective_function_type: JuMP.AffExpr\n",
       "├ num_variables: 105133\n",
       "├ num_constraints: 297861\n",
       "│ ├ JuMP.AffExpr in MOI.EqualTo{Float64}: 43801\n",
       "│ ├ JuMP.AffExpr in MOI.GreaterThan{Float64}: 26281\n",
       "│ ├ JuMP.AffExpr in MOI.LessThan{Float64}: 122647\n",
       "│ ├ JuMP.VariableRef in MOI.EqualTo{Float64}: 6\n",
       "│ └ JuMP.VariableRef in MOI.GreaterThan{Float64}: 105126\n",
       "└ Names registered in the model\n",
       "  └ :eFixedCost, :eVariableCost, :vREF"
      ]
     },
     "metadata": {},
     "output_type": "display_data"
    }
   ],
   "source": [
    "model = Macro.generate_model(system)"
   ]
  },
  {
   "cell_type": "code",
   "execution_count": 6,
   "metadata": {},
   "outputs": [],
   "source": [
    "Macro.set_optimizer(model, HiGHS.Optimizer);"
   ]
  },
  {
   "cell_type": "code",
   "execution_count": 7,
   "metadata": {},
   "outputs": [
    {
     "name": "stdout",
     "output_type": "stream",
     "text": [
      "Running HiGHS 1.8.1 (git hash: 4a7f24ac6): Copyright (c) 2024 HiGHS under MIT licence terms\n",
      "WARNING: LP matrix packed vector contains 2 |values| in [6.67e-11, 6.67e-11] less than or equal to 1e-09: ignored\n",
      "WARNING: LP matrix packed vector contains 2 |values| in [8.75e-10, 8.75e-10] less than or equal to 1e-09: ignored\n",
      "Coefficient ranges:\n",
      "  Matrix [1e-09, 2e+02]\n",
      "  Cost   [1e-04, 1e+01]\n",
      "  Bound  [1e+00, 1e+00]\n",
      "  RHS    [3e+01, 2e+02]\n",
      "Presolving model\n",
      "162464 rows, 92387 cols, 548710 nonzeros  0s\n",
      "148836 rows, 78759 cols, 526038 nonzeros  0s\n",
      "Presolve : Reductions: rows 148836(-43893); columns 78759(-26374); elements 526038(-158062)\n",
      "Solving the presolved LP\n",
      "Using EKK dual simplex solver - serial\n",
      "  Iteration        Objective     Infeasibilities num(sum)\n",
      "          0     0.0000000000e+00 Ph1: 0(0) 0s\n",
      "      21055     8.7484977714e+04 Pr: 14543(450843); Du: 0(1.07832e-05) 5s\n",
      "      36262     9.5004939521e+04 Pr: 0(0); Du: 0(1.48822e-13) 7s\n",
      "Solving the original LP from the solution after postsolve\n",
      "Model status        : Optimal\n",
      "Simplex   iterations: 36262\n",
      "Objective value     :  9.5004939521e+04\n",
      "Relative P-D gap    :  4.7023217926e-14\n",
      "HiGHS run time      :          7.27\n"
     ]
    }
   ],
   "source": [
    "Macro.optimize!(model)"
   ]
  },
  {
   "cell_type": "code",
   "execution_count": 8,
   "metadata": {},
   "outputs": [
    {
     "data": {
      "text/html": [
       "<div><div style = \"float: left;\"><span>4×5 DataFrame</span></div><div style = \"clear: both;\"></div></div><div class = \"data-frame\" style = \"overflow-x: scroll;\"><table class = \"data-frame\" style = \"margin-bottom: 6px;\"><thead><tr class = \"header\"><th class = \"rowNumber\" style = \"font-weight: bold; text-align: right;\">Row</th><th style = \"text-align: left;\">asset</th><th style = \"text-align: left;\">type</th><th style = \"text-align: left;\">capacity</th><th style = \"text-align: left;\">additions</th><th style = \"text-align: left;\">retirements</th></tr><tr class = \"subheader headerLastRow\"><th class = \"rowNumber\" style = \"font-weight: bold; text-align: right;\"></th><th title = \"Symbol\" style = \"text-align: left;\">Symbol</th><th title = \"Symbol\" style = \"text-align: left;\">Symbol</th><th title = \"Float64\" style = \"text-align: left;\">Float64</th><th title = \"Float64\" style = \"text-align: left;\">Float64</th><th title = \"Float64\" style = \"text-align: left;\">Float64</th></tr></thead><tbody><tr><td class = \"rowNumber\" style = \"font-weight: bold; text-align: right;\">1</td><td style = \"text-align: left;\">battery_SE</td><td style = \"text-align: left;\">Battery</td><td style = \"text-align: right;\">1.75075e5</td><td style = \"text-align: right;\">1.75075e5</td><td style = \"text-align: right;\">0.0</td></tr><tr><td class = \"rowNumber\" style = \"font-weight: bold; text-align: right;\">2</td><td style = \"text-align: left;\">SE_natural_gas_fired_combined_cycle_1</td><td style = \"text-align: left;\">ThermalPower{NaturalGas}</td><td style = \"text-align: right;\">26218.7</td><td style = \"text-align: right;\">0.0</td><td style = \"text-align: right;\">0.0</td></tr><tr><td class = \"rowNumber\" style = \"font-weight: bold; text-align: right;\">3</td><td style = \"text-align: left;\">SE_utilitypv_class1_moderate_70_0_2_1</td><td style = \"text-align: left;\">VRE</td><td style = \"text-align: right;\">5.37868e5</td><td style = \"text-align: right;\">5.37868e5</td><td style = \"text-align: right;\">0.0</td></tr><tr><td class = \"rowNumber\" style = \"font-weight: bold; text-align: right;\">4</td><td style = \"text-align: left;\">SE_landbasedwind_class4_moderate_70_1</td><td style = \"text-align: left;\">VRE</td><td style = \"text-align: right;\">2.25881e5</td><td style = \"text-align: right;\">2.25881e5</td><td style = \"text-align: right;\">0.0</td></tr></tbody></table></div>"
      ],
      "text/latex": [
       "\\begin{tabular}{r|ccccc}\n",
       "\t& asset & type & capacity & additions & \\\\\n",
       "\t\\hline\n",
       "\t& Symbol & Symbol & Float64 & Float64 & \\\\\n",
       "\t\\hline\n",
       "\t1 & battery\\_SE & Battery & 1.75075e5 & 1.75075e5 & $\\dots$ \\\\\n",
       "\t2 & SE\\_natural\\_gas\\_fired\\_combined\\_cycle\\_1 & ThermalPower\\{NaturalGas\\} & 26218.7 & 0.0 & $\\dots$ \\\\\n",
       "\t3 & SE\\_utilitypv\\_class1\\_moderate\\_70\\_0\\_2\\_1 & VRE & 5.37868e5 & 5.37868e5 & $\\dots$ \\\\\n",
       "\t4 & SE\\_landbasedwind\\_class4\\_moderate\\_70\\_1 & VRE & 2.25881e5 & 2.25881e5 & $\\dots$ \\\\\n",
       "\\end{tabular}\n"
      ],
      "text/plain": [
       "\u001b[1m4×5 DataFrame\u001b[0m\n",
       "\u001b[1m Row \u001b[0m│\u001b[1m asset                             \u001b[0m\u001b[1m type                     \u001b[0m\u001b[1m capacity  \u001b[0m ⋯\n",
       "     │\u001b[90m Symbol                            \u001b[0m\u001b[90m Symbol                   \u001b[0m\u001b[90m Float64   \u001b[0m ⋯\n",
       "─────┼──────────────────────────────────────────────────────────────────────────\n",
       "   1 │ battery_SE                         Battery                       1.7507 ⋯\n",
       "   2 │ SE_natural_gas_fired_combined_cy…  ThermalPower{NaturalGas}  26218.7\n",
       "   3 │ SE_utilitypv_class1_moderate_70_…  VRE                           5.3786\n",
       "   4 │ SE_landbasedwind_class4_moderate…  VRE                           2.2588\n",
       "\u001b[36m                                                               3 columns omitted\u001b[0m"
      ]
     },
     "metadata": {},
     "output_type": "display_data"
    }
   ],
   "source": [
    "capacity_results = Macro.get_optimal_asset_capacity(system)"
   ]
  },
  {
   "cell_type": "markdown",
   "metadata": {},
   "source": []
  }
 ],
 "metadata": {
  "kernelspec": {
   "display_name": "Julia 1.11.1",
   "language": "julia",
   "name": "julia-1.11"
  },
  "language_info": {
   "file_extension": ".jl",
   "mimetype": "application/julia",
   "name": "julia",
   "version": "1.11.1"
  }
 },
 "nbformat": 4,
 "nbformat_minor": 2
}
