{
 "cells": [
  {
   "cell_type": "markdown",
   "metadata": {},
   "source": [
    "This tutorial shows the potential of using CO2 capture resources in Macro such as Natural Gas Power CCS, SMR H2 CCS, and direct air capture (DAC). Natural Gas Power CCS and SMR H2 CCS works by specifying a CO2 capture rate (for example 0.9) of the total CO2 emitted by natural gas used in producing power and H2 which effectively reduces the total emissions by 90%. On the other hand, DAC leads to a true removal of CO2 from the atmosphere and not just a reduction of emissions. There are a total of 3 CO2 node types: 1) Captured CO2 sink node, where its input is for captured CO2 from Natural Gas Power CCS and SMR H2 CCS and atmospheric CO2 from DAC, 2) Atmospheric CO2 souce node to provide DAC with atmospheric CO2, 3) Emission CO2 sink node to account for emission by fossil sources. A system CO2 cap will now have to consider not only the CO2 emissions from the power and H2 sectors, but also the removal of atmospheric CO2 by DAC."
   ]
  },
  {
   "cell_type": "code",
   "execution_count": 1,
   "metadata": {},
   "outputs": [
    {
     "name": "stderr",
     "output_type": "stream",
     "text": [
      "\u001b[32m\u001b[1m  Activating\u001b[22m\u001b[39m environment at `~/Documents/GitHub/Macro/tutorials/Project.toml`\n"
     ]
    }
   ],
   "source": [
    "using Pkg\n",
    "Pkg.activate(\".\")"
   ]
  },
  {
   "cell_type": "code",
   "execution_count": 2,
   "metadata": {},
   "outputs": [],
   "source": [
    "using Macro,CSV,DataFrames"
   ]
  },
  {
   "cell_type": "markdown",
   "metadata": {},
   "source": [
    "Start MACRO model generation (units: MWh for energy, $ for costs)"
   ]
  },
  {
   "cell_type": "code",
   "execution_count": 3,
   "metadata": {},
   "outputs": [],
   "source": [
    "T = 8760;\n",
    "macro_settings = (Commodities = Dict(Electricity=>Dict(:HoursPerTimeStep=>1,:HoursPerSubperiod=>T),\n",
    "                                    Hydrogen=>Dict(:HoursPerTimeStep=>1,:HoursPerSubperiod=>T),\n",
    "                                    NaturalGas=>Dict(:HoursPerTimeStep=>1,:HoursPerSubperiod=>T),\n",
    "                                    CO2=>Dict(:HoursPerTimeStep=>1,:HoursPerSubperiod=>T),\n",
    "                                    CO2_Captured=>Dict(:HoursPerTimeStep=>1,:HoursPerSubperiod=>T),\n",
    "                                    CO2_Atmosphere=>Dict(:HoursPerTimeStep=>1,:HoursPerSubperiod=>T)),\n",
    "                PeriodLength = T);"
   ]
  },
  {
   "cell_type": "code",
   "execution_count": 4,
   "metadata": {},
   "outputs": [
    {
     "data": {
      "text/plain": [
       "(Commodities = Dict{DataType, Dict{Symbol, Int64}}(Electricity => Dict(:HoursPerSubperiod => 8760, :HoursPerTimeStep => 1), Hydrogen => Dict(:HoursPerSubperiod => 8760, :HoursPerTimeStep => 1), CO2 => Dict(:HoursPerSubperiod => 8760, :HoursPerTimeStep => 1), CO2_Captured => Dict(:HoursPerSubperiod => 8760, :HoursPerTimeStep => 1), NaturalGas => Dict(:HoursPerSubperiod => 8760, :HoursPerTimeStep => 1), CO2_Atmosphere => Dict(:HoursPerSubperiod => 8760, :HoursPerTimeStep => 1)), PeriodLength = 8760)"
      ]
     },
     "execution_count": 4,
     "metadata": {},
     "output_type": "execute_result"
    }
   ],
   "source": [
    "macro_settings"
   ]
  },
  {
   "cell_type": "code",
   "execution_count": 5,
   "metadata": {},
   "outputs": [],
   "source": [
    "\n",
    "H2_MWh = 33.33 # MWh per tonne of H2\n",
    "NG_MWh = 0.29307107 # MWh per MMBTU of NG\n",
    "\n",
    "df = CSV.read(\"time_series_data.csv\",DataFrame)\n",
    "\n",
    "electricity_demand = df[1:T,:Electricity_Demand_MW]; # MWh\n",
    "solar_capacity_factor = df[1:T,:Solar_Capacity_Factor]; # factor between 0 and 1\n",
    "ng_fuel_price = df[1:T,:NG_Price]/NG_MWh; # $/MWh of natural gas\n",
    "h2_demand = H2_MWh*df[1:T,:H2_Demand_tonne] # MWh of hydrogen\n",
    "\n",
    "solar_inv_cost = 85300; # $/MW\n",
    "solar_fom_cost = 18760.0; # $/MW\n",
    "\n",
    "battery_inv_cost = 19584.0; #$/MW\n",
    "battery_fom_cost = 4895; # $/MW\n",
    "battery_vom_cost = 0.15; #$/MW\n",
    "battery_inv_cost_storage = 22494.0; #$/MWh\n",
    "battery_fom_cost_storage = 5622; #$/MWh\n",
    "battery_vom_cost_storage = 0.15; #$/MWh\n",
    "battery_eff_up = 0.92;\n",
    "battery_eff_down = 0.92;\n",
    "\n",
    "ngcc_inv_cost = 65400;# $/MW\n",
    "ngcc_fom_cost = 10287.0;# $/MW\n",
    "ngcc_vom_cost = 3.55; #$/MW\n",
    "ngcc_capsize = 250.0;\n",
    "ngcc_heatrate = 7.43*NG_MWh; # MWh of natural gas / MWh of electricity\n",
    "ngcc_fuel_CO2 = 0.05306/NG_MWh; # Tons of CO2 / MWh of natural gas\n",
    "\n",
    "ngcc_ccs_inv_cost = 66400;# $/MW\n",
    "ngcc_ccs_fom_cost = 12287.0;# $/MW\n",
    "ngcc_ccs_vom_cost = 3.65; #$/MW\n",
    "ngcc_ccs_capsize = 250.0;\n",
    "ngcc_ccs_heatrate = 7.43*NG_MWh; # MWh of natural gas / MWh of electricity\n",
    "ngcc_ccs_fuel_CO2 = 0.05306/NG_MWh; # Tons of CO2 / MWh of natural gas\n",
    "ngcc_ccs_CO2_captured_rate = 0.9; #Tons of CO2 captured/Tons of CO2 produced by fuel\n",
    "\n",
    "electric_dac_inv_cost = 9390;# $/Tonnes of CO2 captured/h\n",
    "electric_dac_fom_cost = 7470;# $/Tonnes of CO2 captured/h\n",
    "electric_dac_vom_cost = 22; #$/Tonnes of CO2 captured\n",
    "electric_dac_power_input = 4.38; #MWh/Tonnes of CO2 captured\n",
    "electric_dac_capsize = 20;# Tonnes of CO2 captured/h\n",
    "\n",
    "electrolyzer_capsize = 2*H2_MWh # MWh of H2\n",
    "electrolyzer_efficiency = 1/(45/H2_MWh) # MWh of H2 / MWh of electricity\n",
    "electrolyzer_inv_cost = 2033333/H2_MWh # $/MW of H2\n",
    "electrolyzer_fom_cost = 30500/H2_MWh # $/MW of H2\n",
    "electrolyzer_vom_cost = 0.0;\n",
    "\n",
    "smr_inv_cost = 1033333/H2_MWh;# $/MW of H2\n",
    "smr_fom_cost = 20500/H2_MWh;# $/MW of H2\n",
    "smr_vom_cost = 0.0; #$/MW of H2\n",
    "smr_capsize = 20*H2_MWh;\n",
    "smr_heatrate = 7.43*NG_MWh; # MWh of natural gas / MWh of H2\n",
    "smr_fuel_CO2 = 0.05306/NG_MWh; # Tons of CO2 / MWh of natural gas\n",
    "\n",
    "smr_ccs_inv_cost = 1133333/H2_MWh;# $/MW of H2\n",
    "smr_ccs_fom_cost = 21500/H2_MWh;# $/MW of H2\n",
    "smr_ccs_vom_cost = 0.0; #$/MW of H2\n",
    "smr_ccs_capsize = 20*H2_MWh;\n",
    "smr_ccs_heatrate = 7.43*NG_MWh; # MWh of natural gas / MWh of H2\n",
    "smr_ccs_fuel_CO2 = 0.05306/NG_MWh; # Tons of CO2 / MWh of natural gas\n",
    "smr_ccs_CO2_captured_rate = 0.9; #Tons of CO2 captured/Tons of CO2 produced by fuel\n"
   ]
  },
  {
   "cell_type": "code",
   "execution_count": 6,
   "metadata": {},
   "outputs": [
    {
     "data": {
      "text/plain": [
       "subperiods (generic function with 1 method)"
      ]
     },
     "execution_count": 6,
     "metadata": {},
     "output_type": "execute_result"
    }
   ],
   "source": [
    "### For now, we use the same temporal resolution and subperiods for every commodity, but MACRO will allow to use different temporal resolution for different commodities\n",
    "\n",
    "hours_per_timestep(c) = macro_settings.Commodities[c][:HoursPerTimeStep];\n",
    "hours_per_subperiod(c) = macro_settings.Commodities[c][:HoursPerSubperiod]\n",
    "timesteps(c)= 1:hours_per_timestep(c):macro_settings.PeriodLength\n",
    "\n",
    "subperiods(c) = collect(Iterators.partition(timesteps(c), Int(hours_per_subperiod(c) / hours_per_timestep(c))),)"
   ]
  },
  {
   "cell_type": "markdown",
   "metadata": {},
   "source": [
    "Let's start from creating an electricity node:"
   ]
  },
  {
   "cell_type": "code",
   "execution_count": 7,
   "metadata": {},
   "outputs": [
    {
     "data": {
      "text/plain": [
       "Node{Electricity}(:E_node, [7850.0, 7424.0, 7107.0, 6947.0, 6922.0, 7045.0, 7307.0, 7544.0, 7946.0, 8340.0  …  10438.0, 10469.0, 11228.0, 11908.0, 11562.0, 9923.0, 9461.0, 9018.0, 8551.0, 8089.0], 1:1:8760, StepRange{Int64, Int64}[1:1:8760], [0.0], [50000.0], Dict{Any, Any}(), Dict{Any, Any}(), Macro.AbstractTypeConstraint[Macro.DemandBalanceConstraint(missing, missing, missing), Macro.MaxNonServedDemandConstraint(missing, missing, missing)])"
      ]
     },
     "execution_count": 7,
     "metadata": {},
     "output_type": "execute_result"
    }
   ],
   "source": [
    "e_node = Node{Electricity}(;\n",
    "    id = Symbol(\"E_node\"),\n",
    "    demand =  electricity_demand,\n",
    "    timesteps = timesteps(Electricity),\n",
    "    subperiods = subperiods(Electricity),\n",
    "    max_nsd = [0.0],\n",
    "    price_nsd = [50000],\n",
    "    constraints = [Macro.DemandBalanceConstraint(),Macro.MaxNonServedDemandConstraint()]\n",
    ")"
   ]
  },
  {
   "cell_type": "markdown",
   "metadata": {},
   "source": [
    "We assign a solar PV generator to this electricity node:"
   ]
  },
  {
   "cell_type": "code",
   "execution_count": 8,
   "metadata": {},
   "outputs": [
    {
     "data": {
      "text/plain": [
       "Resource{Electricity}(Node{Electricity}(:E_node, [7850.0, 7424.0, 7107.0, 6947.0, 6922.0, 7045.0, 7307.0, 7544.0, 7946.0, 8340.0  …  10438.0, 10469.0, 11228.0, 11908.0, 11562.0, 9923.0, 9461.0, 9018.0, 8551.0, 8089.0], 1:1:8760, StepRange{Int64, Int64}[1:1:8760], [0.0], [50000.0], Dict{Any, Any}(), Dict{Any, Any}(), Macro.AbstractTypeConstraint[Macro.DemandBalanceConstraint(missing, missing, missing), Macro.MaxNonServedDemandConstraint(missing, missing, missing)]), :Solar_PV, [0.0, 0.0, 0.0, 0.0, 0.0, 0.0, 0.0, 0.0, 0.1779, 0.429  …  0.3834, 0.2594, 0.078, 0.0, 0.0, 0.0, 0.0, 0.0, 0.0, 0.0], 1.0, Float64[], 1:1:8760, StepRange{Int64, Int64}[1:1:8760], 0.0, Inf, 0.0, true, false, 85300.0, 18760.0, 0.0, Dict{Symbol, Any}(), Dict{Symbol, Any}(), Macro.AbstractTypeConstraint[CapacityConstraint(missing, missing, missing)])"
      ]
     },
     "execution_count": 8,
     "metadata": {},
     "output_type": "execute_result"
    }
   ],
   "source": [
    "solar_pv = Resource{Electricity}(;\n",
    "    id = :Solar_PV,\n",
    "    node = e_node,\n",
    "    timesteps = timesteps(Electricity),\n",
    "    subperiods = subperiods(Electricity),\n",
    "    capacity_factor = solar_capacity_factor,\n",
    "    can_expand = true, \n",
    "    can_retire = false,\n",
    "    existing_capacity = 0.0,\n",
    "    investment_cost = solar_inv_cost,\n",
    "    fixed_om_cost = solar_fom_cost,\n",
    "    constraints = [Macro.CapacityConstraint()]\n",
    ")"
   ]
  },
  {
   "cell_type": "markdown",
   "metadata": {},
   "source": [
    "We can also assigne a battery storage to the node:"
   ]
  },
  {
   "cell_type": "code",
   "execution_count": 9,
   "metadata": {},
   "outputs": [
    {
     "data": {
      "text/plain": [
       "SymmetricStorage{Electricity}(Node{Electricity}(:E_node, [7850.0, 7424.0, 7107.0, 6947.0, 6922.0, 7045.0, 7307.0, 7544.0, 7946.0, 8340.0  …  10438.0, 10469.0, 11228.0, 11908.0, 11562.0, 9923.0, 9461.0, 9018.0, 8551.0, 8089.0], 1:1:8760, StepRange{Int64, Int64}[1:1:8760], [0.0], [50000.0], Dict{Any, Any}(), Dict{Any, Any}(), Macro.AbstractTypeConstraint[Macro.DemandBalanceConstraint(missing, missing, missing), Macro.MaxNonServedDemandConstraint(missing, missing, missing)]), :battery, 1:1:8760, StepRange{Int64, Int64}[1:1:8760], [1.0, 1.0, 1.0, 1.0, 1.0, 1.0, 1.0, 1.0, 1.0, 1.0  …  1.0, 1.0, 1.0, 1.0, 1.0, 1.0, 1.0, 1.0, 1.0, 1.0], 0.0, Inf, 0.0, Inf, 0.0, 0.0, true, false, 19584.0, 22494.0, 0.0, 4895.0, 5622.0, 0.0, 0.15, 0.15, 0.0, 0.92, 0.92, 0.0, 1.0, 10.0, 0.0, Dict{Any, Any}(), Dict{Any, Any}(), Macro.AbstractTypeConstraint[CapacityConstraint(missing, missing, missing), Macro.StorageCapacityConstraint(missing, missing, missing)])"
      ]
     },
     "execution_count": 9,
     "metadata": {},
     "output_type": "execute_result"
    }
   ],
   "source": [
    "battery = SymmetricStorage{Electricity}(;\n",
    "    id = :battery,\n",
    "    node = e_node,\n",
    "    timesteps = timesteps(Electricity),\n",
    "    subperiods = subperiods(Electricity),\n",
    "    can_expand = true,\n",
    "    can_retire = false,\n",
    "    existing_capacity = 0.0,\n",
    "    investment_cost = battery_inv_cost,\n",
    "    investment_cost_storage = battery_inv_cost_storage,\n",
    "    fixed_om_cost = battery_fom_cost,\n",
    "    fixed_om_cost_storage = battery_fom_cost_storage,\n",
    "    variable_om_cost = battery_vom_cost,\n",
    "    variable_om_cost_storage = battery_vom_cost_storage,\n",
    "    efficiency_injection = battery_eff_down,\n",
    "    efficiency_withdrawal = battery_eff_up,\n",
    "    constraints = [Macro.CapacityConstraint(),Macro.StorageCapacityConstraint()]\n",
    ")"
   ]
  },
  {
   "cell_type": "markdown",
   "metadata": {},
   "source": [
    "We also consider a hydrogen demand node:"
   ]
  },
  {
   "cell_type": "code",
   "execution_count": 10,
   "metadata": {},
   "outputs": [
    {
     "data": {
      "text/plain": [
       "Node{Hydrogen}(:H2_node, [53.9946, 40.6626, 58.3275, 133.32, 274.6392, 446.95529999999997, 559.6107, 641.2692, 674.5991999999999, 714.2619  …  901.9097999999999, 864.5802, 820.2512999999999, 725.2608, 603.9396, 460.2873, 349.965, 243.9756, 150.9849, 89.3244], 1:1:8760, StepRange{Int64, Int64}[1:1:8760], [0.0], [0.0], Dict{Any, Any}(), Dict{Any, Any}(), Macro.AbstractTypeConstraint[Macro.DemandBalanceConstraint(missing, missing, missing), Macro.MaxNonServedDemandConstraint(missing, missing, missing)])"
      ]
     },
     "execution_count": 10,
     "metadata": {},
     "output_type": "execute_result"
    }
   ],
   "source": [
    "h2_node = Node{Hydrogen}(;\n",
    "    id = Symbol(\"H2_node\"),\n",
    "    demand =  h2_demand,\n",
    "    timesteps = timesteps(Hydrogen),\n",
    "    subperiods = subperiods(Hydrogen),\n",
    "    max_nsd = [0.0],\n",
    "    price_nsd = [0.0],\n",
    "    constraints = [Macro.DemandBalanceConstraint(),Macro.MaxNonServedDemandConstraint()]\n",
    ")"
   ]
  },
  {
   "cell_type": "markdown",
   "metadata": {},
   "source": [
    "We model an exogenous inflow of natural gas into the system using by introducing a natural gas source node (with zero demand):"
   ]
  },
  {
   "cell_type": "code",
   "execution_count": 11,
   "metadata": {},
   "outputs": [
    {
     "data": {
      "text/plain": [
       "SourceNode{NaturalGas}(:NG_node, 1:1:8760, StepRange{Int64, Int64}[1:1:8760], [18.01610783350264, 18.01610783350264, 18.01610783350264, 18.01610783350264, 18.01610783350264, 18.01610783350264, 18.01610783350264, 18.01610783350264, 18.01610783350264, 18.01610783350264  …  14.603966198369564, 14.603966198369564, 14.603966198369564, 14.603966198369564, 14.603966198369564, 14.603966198369564, 14.603966198369564, 14.603966198369564, 14.603966198369564, 14.603966198369564], Dict{Any, Any}(), Dict{Any, Any}(), Macro.AbstractTypeConstraint[Macro.DemandBalanceConstraint(missing, missing, missing)])"
      ]
     },
     "execution_count": 11,
     "metadata": {},
     "output_type": "execute_result"
    }
   ],
   "source": [
    "ng_node = SourceNode{NaturalGas}(;\n",
    "    id = Symbol(\"NG_node\"),\n",
    "    timesteps = timesteps(NaturalGas),\n",
    "    subperiods = subperiods(NaturalGas),\n",
    "    price = ng_fuel_price,\n",
    "    constraints = [Macro.DemandBalanceConstraint()]\n",
    ")"
   ]
  },
  {
   "cell_type": "markdown",
   "metadata": {},
   "source": [
    "We also define a CO2 emission sink node:"
   ]
  },
  {
   "cell_type": "code",
   "execution_count": 12,
   "metadata": {},
   "outputs": [
    {
     "data": {
      "text/plain": [
       "SinkNode{CO2}(:CO2_node, 1:1:8760, StepRange{Int64, Int64}[1:1:8760], Float64[], Dict{Any, Any}(), Dict{Any, Any}(), Macro.AbstractTypeConstraint[Macro.DemandBalanceConstraint(missing, missing, missing)])"
      ]
     },
     "execution_count": 12,
     "metadata": {},
     "output_type": "execute_result"
    }
   ],
   "source": [
    "co2_node = SinkNode{CO2}(;\n",
    "id = Symbol(\"CO2_node\"),\n",
    "timesteps = timesteps(CO2),\n",
    "subperiods = subperiods(CO2),\n",
    "constraints = [Macro.DemandBalanceConstraint()]\n",
    "#### Note that if we are modeling a CO2 cap, we could add such a constraint to this sink\n",
    ")\n"
   ]
  },
  {
   "cell_type": "markdown",
   "metadata": {},
   "source": [
    "We define an atmospheric CO2 source node to provide DAC with CO2 from the atmosphere to capture:"
   ]
  },
  {
   "cell_type": "code",
   "execution_count": 13,
   "metadata": {},
   "outputs": [
    {
     "data": {
      "text/plain": [
       "SourceNode{CO2_Atmosphere}(:CO2_Atmosphere_node, 1:1:8760, StepRange{Int64, Int64}[1:1:8760], Float64[], Dict{Any, Any}(), Dict{Any, Any}(), Macro.AbstractTypeConstraint[Macro.DemandBalanceConstraint(missing, missing, missing)])"
      ]
     },
     "execution_count": 13,
     "metadata": {},
     "output_type": "execute_result"
    }
   ],
   "source": [
    "co2_atmosphere_node = SourceNode{CO2_Atmosphere}(;\n",
    "    id = Symbol(\"CO2_Atmosphere_node\"),\n",
    "    timesteps = timesteps(CO2_Atmosphere),\n",
    "    subperiods = subperiods(CO2_Atmosphere),\n",
    "    constraints = [Macro.DemandBalanceConstraint()]\n",
    ")"
   ]
  },
  {
   "cell_type": "markdown",
   "metadata": {},
   "source": [
    "We define a captured CO2 sink node to account for the inventory of captured CO2 (input from CO2 capture, output to SNG or potential storage):"
   ]
  },
  {
   "cell_type": "code",
   "execution_count": 14,
   "metadata": {},
   "outputs": [
    {
     "data": {
      "text/plain": [
       "SinkNode{CO2_Captured}(:CO2_Captured_node, 1:1:8760, StepRange{Int64, Int64}[1:1:8760], Float64[], Dict{Any, Any}(), Dict{Any, Any}(), Macro.AbstractTypeConstraint[Macro.DemandBalanceConstraint(missing, missing, missing)])"
      ]
     },
     "execution_count": 14,
     "metadata": {},
     "output_type": "execute_result"
    }
   ],
   "source": [
    "co2_captured_node = SinkNode{CO2_Captured}(;\n",
    "id = Symbol(\"CO2_Captured_node\"),\n",
    "timesteps = timesteps(CO2_Captured),\n",
    "subperiods = subperiods(CO2_Captured),\n",
    "constraints = [Macro.DemandBalanceConstraint()]\n",
    ")\n"
   ]
  },
  {
   "cell_type": "markdown",
   "metadata": {},
   "source": [
    "We are now ready to define a natural gas plant! Note that we require two stoichiometry balances:\n",
    "\n",
    "Heat_Rate $\\times$ Electricity = NaturalGas\n",
    "\n",
    "Fuel_CO2 $\\times$ NaturalGas = CO2\n",
    "\n",
    "This transformation has 3 edges: each edge carries a specific commodity flow"
   ]
  },
  {
   "cell_type": "code",
   "execution_count": 15,
   "metadata": {},
   "outputs": [
    {
     "data": {
      "text/plain": [
       "3-element Vector{TEdge}:\n",
       " TEdge{Electricity}(:E, Node{Electricity}(:E_node, [7850.0, 7424.0, 7107.0, 6947.0, 6922.0, 7045.0, 7307.0, 7544.0, 7946.0, 8340.0  …  10438.0, 10469.0, 11228.0, 11908.0, 11562.0, 9923.0, 9461.0, 9018.0, 8551.0, 8089.0], 1:1:8760, StepRange{Int64, Int64}[1:1:8760], [0.0], [50000.0], Dict{Any, Any}(), Dict{Any, Any}(), Macro.AbstractTypeConstraint[Macro.DemandBalanceConstraint(missing, missing, missing), Macro.MaxNonServedDemandConstraint(missing, missing, missing)]), Transformation{NaturalGasPower}(:NGCC, 1:1:8760, 2, TEdge[#= circular reference @-3 =#], Dict{Any, Any}(), Macro.AbstractTypeConstraint[Macro.StoichiometryBalanceConstraint(missing, missing, missing)]), :output, true, false, true, 250.0, 1:1:8760, StepRange{Int64, Int64}[1:1:8760], [2.1775180500999998, 0.0], 0.0, Inf, 0.0, 65400.0, 10287.0, 3.55, 0.0, false, 0.0, 0.0, 0, 0, 0.0, Dict{Any, Any}(), Dict{Any, Any}(), Macro.AbstractTypeConstraint[CapacityConstraint(missing, missing, missing)])\n",
       " TEdge{NaturalGas}(:NG, SourceNode{NaturalGas}(:NG_node, 1:1:8760, StepRange{Int64, Int64}[1:1:8760], [18.01610783350264, 18.01610783350264, 18.01610783350264, 18.01610783350264, 18.01610783350264, 18.01610783350264, 18.01610783350264, 18.01610783350264, 18.01610783350264, 18.01610783350264  …  14.603966198369564, 14.603966198369564, 14.603966198369564, 14.603966198369564, 14.603966198369564, 14.603966198369564, 14.603966198369564, 14.603966198369564, 14.603966198369564, 14.603966198369564], Dict{Any, Any}(), Dict{Any, Any}(), Macro.AbstractTypeConstraint[Macro.DemandBalanceConstraint(missing, missing, missing)]), Transformation{NaturalGasPower}(:NGCC, 1:1:8760, 2, TEdge[#= circular reference @-3 =#], Dict{Any, Any}(), Macro.AbstractTypeConstraint[Macro.StoichiometryBalanceConstraint(missing, missing, missing)]), :input, false, false, false, 1.0, 1:1:8760, StepRange{Int64, Int64}[1:1:8760], [1.0, 0.181048235160161], 0.0, Inf, 0.0, 0.0, 0.0, 0.0, 0.0, false, 0.0, 0.0, 0, 0, 0.0, Dict{Any, Any}(), Dict{Any, Any}(), Macro.AbstractTypeConstraint[])\n",
       " TEdge{CO2}(:CO2, SinkNode{CO2}(:CO2_node, 1:1:8760, StepRange{Int64, Int64}[1:1:8760], Float64[], Dict{Any, Any}(), Dict{Any, Any}(), Macro.AbstractTypeConstraint[Macro.DemandBalanceConstraint(missing, missing, missing)]), Transformation{NaturalGasPower}(:NGCC, 1:1:8760, 2, TEdge[#= circular reference @-3 =#], Dict{Any, Any}(), Macro.AbstractTypeConstraint[Macro.StoichiometryBalanceConstraint(missing, missing, missing)]), :output, false, false, false, 1.0, 1:1:8760, StepRange{Int64, Int64}[1:1:8760], [0.0, 1.0], 0.0, Inf, 0.0, 0.0, 0.0, 0.0, 0.0, false, 0.0, 0.0, 0, 0, 0.0, Dict{Any, Any}(), Dict{Any, Any}(), Macro.AbstractTypeConstraint[])"
      ]
     },
     "execution_count": 15,
     "metadata": {},
     "output_type": "execute_result"
    }
   ],
   "source": [
    "ngcc = Transformation{NaturalGasPower}(;\n",
    "id = :NGCC,\n",
    "timesteps = timesteps(Electricity),\n",
    "number_of_stoichiometry_balances = 2,\n",
    "constraints = [Macro.StoichiometryBalanceConstraint()]\n",
    ")\n",
    "\n",
    "push!(ngcc.TEdges,TEdge{Electricity}(;\n",
    "id = :E,\n",
    "node = e_node,\n",
    "transformation = ngcc,\n",
    "direction = :output,\n",
    "has_planning_variables = true,\n",
    "can_expand = true,\n",
    "can_retire = false,\n",
    "capacity_size = ngcc_capsize,\n",
    "timesteps = timesteps(Electricity),\n",
    "subperiods = subperiods(Electricity),\n",
    "st_coeff = [ngcc_heatrate,0.0],\n",
    "existing_capacity = 0.0,\n",
    "investment_cost = ngcc_inv_cost,\n",
    "fixed_om_cost = ngcc_fom_cost,\n",
    "variable_om_cost = ngcc_vom_cost,\n",
    "constraints = [CapacityConstraint()]\n",
    "))\n",
    "\n",
    "push!(ngcc.TEdges,TEdge{NaturalGas}(;\n",
    "id =  :NG,\n",
    "node = ng_node,\n",
    "transformation = ngcc,\n",
    "direction = :input,\n",
    "has_planning_variables = false,\n",
    "timesteps = timesteps(NaturalGas),\n",
    "subperiods = subperiods(NaturalGas),\n",
    "st_coeff = [1.0,ngcc_fuel_CO2]\n",
    "))\n",
    "\n",
    "push!(ngcc.TEdges,TEdge{CO2}(;\n",
    "    id = :CO2,\n",
    "    node = co2_node,\n",
    "    transformation = ngcc,\n",
    "    direction = :output,\n",
    "    has_planning_variables = false,\n",
    "    timesteps = timesteps(CO2),\n",
    "    subperiods = subperiods(CO2),\n",
    "    st_coeff = [0.0,1.0]\n",
    "))"
   ]
  },
  {
   "cell_type": "markdown",
   "metadata": {},
   "source": [
    "We are now ready to define a natural gas plant with CCS! Note that we require three stoichiometry balances:\n",
    "\n",
    "Heat_Rate $\\times$ Electricity = NaturalGas\n",
    "\n",
    "Fuel_CO2 $\\times$ NaturalGas $\\times$ (1-CCS rate) = CO2\n",
    "\n",
    "Fuel_CO2 $\\times$ NaturalGas $\\times$ CCS rate = CO2_Captured\n",
    "\n",
    "This transformation has 4 edges: each edge carries a specific commodity flow"
   ]
  },
  {
   "cell_type": "code",
   "execution_count": 16,
   "metadata": {},
   "outputs": [
    {
     "data": {
      "text/plain": [
       "4-element Vector{TEdge}:\n",
       " TEdge{Electricity}(:E, Node{Electricity}(:E_node, [7850.0, 7424.0, 7107.0, 6947.0, 6922.0, 7045.0, 7307.0, 7544.0, 7946.0, 8340.0  …  10438.0, 10469.0, 11228.0, 11908.0, 11562.0, 9923.0, 9461.0, 9018.0, 8551.0, 8089.0], 1:1:8760, StepRange{Int64, Int64}[1:1:8760], [0.0], [50000.0], Dict{Any, Any}(), Dict{Any, Any}(), Macro.AbstractTypeConstraint[Macro.DemandBalanceConstraint(missing, missing, missing), Macro.MaxNonServedDemandConstraint(missing, missing, missing)]), Transformation{NaturalGasPowerCCS}(:NGCC_CCS, 1:1:8760, 3, TEdge[#= circular reference @-3 =#], Dict{Any, Any}(), Macro.AbstractTypeConstraint[Macro.StoichiometryBalanceConstraint(missing, missing, missing)]), :output, true, false, true, 250.0, 1:1:8760, StepRange{Int64, Int64}[1:1:8760], [2.1775180500999998, 0.0, 0.0], 0.0, Inf, 0.0, 66400.0, 12287.0, 3.65, 0.0, false, 0.0, 0.0, 0, 0, 0.0, Dict{Any, Any}(), Dict{Any, Any}(), Macro.AbstractTypeConstraint[CapacityConstraint(missing, missing, missing)])\n",
       " TEdge{NaturalGas}(:NG, SourceNode{NaturalGas}(:NG_node, 1:1:8760, StepRange{Int64, Int64}[1:1:8760], [18.01610783350264, 18.01610783350264, 18.01610783350264, 18.01610783350264, 18.01610783350264, 18.01610783350264, 18.01610783350264, 18.01610783350264, 18.01610783350264, 18.01610783350264  …  14.603966198369564, 14.603966198369564, 14.603966198369564, 14.603966198369564, 14.603966198369564, 14.603966198369564, 14.603966198369564, 14.603966198369564, 14.603966198369564, 14.603966198369564], Dict{Any, Any}(), Dict{Any, Any}(), Macro.AbstractTypeConstraint[Macro.DemandBalanceConstraint(missing, missing, missing)]), Transformation{NaturalGasPowerCCS}(:NGCC_CCS, 1:1:8760, 3, TEdge[#= circular reference @-3 =#], Dict{Any, Any}(), Macro.AbstractTypeConstraint[Macro.StoichiometryBalanceConstraint(missing, missing, missing)]), :input, false, false, false, 1.0, 1:1:8760, StepRange{Int64, Int64}[1:1:8760], [1.0, 0.018104823516016097, 0.16294341164414491], 0.0, Inf, 0.0, 0.0, 0.0, 0.0, 0.0, false, 0.0, 0.0, 0, 0, 0.0, Dict{Any, Any}(), Dict{Any, Any}(), Macro.AbstractTypeConstraint[])\n",
       " TEdge{CO2}(:CO2, SinkNode{CO2}(:CO2_node, 1:1:8760, StepRange{Int64, Int64}[1:1:8760], Float64[], Dict{Any, Any}(), Dict{Any, Any}(), Macro.AbstractTypeConstraint[Macro.DemandBalanceConstraint(missing, missing, missing)]), Transformation{NaturalGasPowerCCS}(:NGCC_CCS, 1:1:8760, 3, TEdge[#= circular reference @-3 =#], Dict{Any, Any}(), Macro.AbstractTypeConstraint[Macro.StoichiometryBalanceConstraint(missing, missing, missing)]), :output, false, false, false, 1.0, 1:1:8760, StepRange{Int64, Int64}[1:1:8760], [0.0, 1.0, 0.0], 0.0, Inf, 0.0, 0.0, 0.0, 0.0, 0.0, false, 0.0, 0.0, 0, 0, 0.0, Dict{Any, Any}(), Dict{Any, Any}(), Macro.AbstractTypeConstraint[])\n",
       " TEdge{CO2_Captured}(:CO2_Captured, SinkNode{CO2_Captured}(:CO2_Captured_node, 1:1:8760, StepRange{Int64, Int64}[1:1:8760], Float64[], Dict{Any, Any}(), Dict{Any, Any}(), Macro.AbstractTypeConstraint[Macro.DemandBalanceConstraint(missing, missing, missing)]), Transformation{NaturalGasPowerCCS}(:NGCC_CCS, 1:1:8760, 3, TEdge[#= circular reference @-3 =#], Dict{Any, Any}(), Macro.AbstractTypeConstraint[Macro.StoichiometryBalanceConstraint(missing, missing, missing)]), :output, false, false, false, 1.0, 1:1:8760, StepRange{Int64, Int64}[1:1:8760], [0.0, 0.0, 1.0], 0.0, Inf, 0.0, 0.0, 0.0, 0.0, 0.0, false, 0.0, 0.0, 0, 0, 0.0, Dict{Any, Any}(), Dict{Any, Any}(), Macro.AbstractTypeConstraint[])"
      ]
     },
     "execution_count": 16,
     "metadata": {},
     "output_type": "execute_result"
    }
   ],
   "source": [
    "ngcc_ccs = Transformation{NaturalGasPowerCCS}(;\n",
    "id = :NGCC_CCS,\n",
    "timesteps = timesteps(Electricity),\n",
    "number_of_stoichiometry_balances = 3,\n",
    "constraints = [Macro.StoichiometryBalanceConstraint()]\n",
    ")\n",
    "\n",
    "push!(ngcc_ccs.TEdges,TEdge{Electricity}(;\n",
    "id = :E,\n",
    "node = e_node,\n",
    "transformation = ngcc_ccs,\n",
    "direction = :output,\n",
    "has_planning_variables = true,\n",
    "can_expand = true,\n",
    "can_retire = false,\n",
    "capacity_size = ngcc_ccs_capsize,\n",
    "timesteps = timesteps(Electricity),\n",
    "subperiods = subperiods(Electricity),\n",
    "st_coeff = [ngcc_ccs_heatrate,0.0,0.0],\n",
    "existing_capacity = 0.0,\n",
    "investment_cost = ngcc_ccs_inv_cost,\n",
    "fixed_om_cost = ngcc_ccs_fom_cost,\n",
    "variable_om_cost = ngcc_ccs_vom_cost,\n",
    "constraints = [CapacityConstraint()]\n",
    "))\n",
    "\n",
    "push!(ngcc_ccs.TEdges,TEdge{NaturalGas}(;\n",
    "id =  :NG,\n",
    "node = ng_node,\n",
    "transformation = ngcc_ccs,\n",
    "direction = :input,\n",
    "has_planning_variables = false,\n",
    "timesteps = timesteps(NaturalGas),\n",
    "subperiods = subperiods(NaturalGas),\n",
    "st_coeff = [1.0,ngcc_ccs_fuel_CO2*(1-ngcc_ccs_CO2_captured_rate),ngcc_ccs_fuel_CO2*ngcc_ccs_CO2_captured_rate]\n",
    "))\n",
    "\n",
    "push!(ngcc_ccs.TEdges,TEdge{CO2}(;\n",
    "    id = :CO2,\n",
    "    node = co2_node,\n",
    "    transformation = ngcc_ccs,\n",
    "    direction = :output,\n",
    "    has_planning_variables = false,\n",
    "    timesteps = timesteps(CO2),\n",
    "    subperiods = subperiods(CO2),\n",
    "    st_coeff = [0.0,1.0,0.0]\n",
    "))\n",
    "\n",
    "push!(ngcc_ccs.TEdges,TEdge{CO2_Captured}(;\n",
    "    id = :CO2_Captured,\n",
    "    node = co2_captured_node,\n",
    "    transformation = ngcc_ccs,\n",
    "    direction = :output,\n",
    "    has_planning_variables = false,\n",
    "    timesteps = timesteps(CO2),\n",
    "    subperiods = subperiods(CO2),\n",
    "    st_coeff = [0.0,0.0,1.0]\n",
    "))"
   ]
  },
  {
   "cell_type": "markdown",
   "metadata": {},
   "source": [
    "We can also create an electrolyzer, which is defined by a single stoichiometry balance: electrolyzer_efficiency $\\times$ Electricity = H2"
   ]
  },
  {
   "cell_type": "code",
   "execution_count": 17,
   "metadata": {},
   "outputs": [
    {
     "data": {
      "text/plain": [
       "2-element Vector{TEdge}:\n",
       " TEdge{Hydrogen}(:H2, Node{Hydrogen}(:H2_node, [53.9946, 40.6626, 58.3275, 133.32, 274.6392, 446.95529999999997, 559.6107, 641.2692, 674.5991999999999, 714.2619  …  901.9097999999999, 864.5802, 820.2512999999999, 725.2608, 603.9396, 460.2873, 349.965, 243.9756, 150.9849, 89.3244], 1:1:8760, StepRange{Int64, Int64}[1:1:8760], [0.0], [0.0], Dict{Any, Any}(), Dict{Any, Any}(), Macro.AbstractTypeConstraint[Macro.DemandBalanceConstraint(missing, missing, missing), Macro.MaxNonServedDemandConstraint(missing, missing, missing)]), Transformation{Electrolyzer}(:Electrolyzer, 1:1:8760, 1, TEdge[#= circular reference @-3 =#], Dict{Any, Any}(), Macro.AbstractTypeConstraint[Macro.StoichiometryBalanceConstraint(missing, missing, missing)]), :output, true, false, true, 66.66, 1:1:8760, StepRange{Int64, Int64}[1:1:8760], [1.0], 0.0, Inf, 0.0, 61006.090609060906, 915.0915091509152, 0.0, 0.0, false, 0.0, 0.0, 0, 0, 0.0, Dict{Any, Any}(), Dict{Any, Any}(), Macro.AbstractTypeConstraint[CapacityConstraint(missing, missing, missing)])\n",
       " TEdge{Electricity}(:E, Node{Electricity}(:E_node, [7850.0, 7424.0, 7107.0, 6947.0, 6922.0, 7045.0, 7307.0, 7544.0, 7946.0, 8340.0  …  10438.0, 10469.0, 11228.0, 11908.0, 11562.0, 9923.0, 9461.0, 9018.0, 8551.0, 8089.0], 1:1:8760, StepRange{Int64, Int64}[1:1:8760], [0.0], [50000.0], Dict{Any, Any}(), Dict{Any, Any}(), Macro.AbstractTypeConstraint[Macro.DemandBalanceConstraint(missing, missing, missing), Macro.MaxNonServedDemandConstraint(missing, missing, missing)]), Transformation{Electrolyzer}(:Electrolyzer, 1:1:8760, 1, TEdge[#= circular reference @-3 =#], Dict{Any, Any}(), Macro.AbstractTypeConstraint[Macro.StoichiometryBalanceConstraint(missing, missing, missing)]), :input, false, false, false, 1.0, 1:1:8760, StepRange{Int64, Int64}[1:1:8760], [0.7406666666666667], 0.0, Inf, 0.0, 0.0, 0.0, 0.0, 0.0, false, 0.0, 0.0, 0, 0, 0.0, Dict{Any, Any}(), Dict{Any, Any}(), Macro.AbstractTypeConstraint[])"
      ]
     },
     "execution_count": 17,
     "metadata": {},
     "output_type": "execute_result"
    }
   ],
   "source": [
    "electrolyzer = Transformation{Electrolyzer}(;\n",
    "                id = :Electrolyzer,\n",
    "                timesteps = timesteps(Electricity),\n",
    "                number_of_stoichiometry_balances = 1,\n",
    "                constraints = [Macro.StoichiometryBalanceConstraint()]\n",
    "                )\n",
    "\n",
    "push!(electrolyzer.TEdges,TEdge{Hydrogen}(;\n",
    "    id = :H2,\n",
    "    node = h2_node,\n",
    "    transformation = electrolyzer,\n",
    "    direction = :output,\n",
    "    has_planning_variables = true,\n",
    "    can_expand = true,\n",
    "    can_retire = false,\n",
    "    capacity_size = electrolyzer_capsize,\n",
    "    timesteps = timesteps(Hydrogen),\n",
    "    subperiods = subperiods(Hydrogen),\n",
    "    st_coeff = [1.0],\n",
    "    existing_capacity = 0.0,\n",
    "    investment_cost = electrolyzer_inv_cost,\n",
    "    fixed_om_cost = electrolyzer_fom_cost,\n",
    "    variable_om_cost = electrolyzer_vom_cost,\n",
    "    constraints = [CapacityConstraint()]\n",
    "))\n",
    "\n",
    "push!(electrolyzer.TEdges,TEdge{Electricity}(;\n",
    "    id = :E,\n",
    "    node = e_node,\n",
    "    transformation = electrolyzer,\n",
    "    direction = :input,\n",
    "    has_planning_variables = false,\n",
    "    timesteps = timesteps(Electricity),\n",
    "    subperiods = subperiods(Electricity),\n",
    "    st_coeff = [electrolyzer_efficiency]\n",
    "))"
   ]
  },
  {
   "cell_type": "markdown",
   "metadata": {},
   "source": [
    "We are now ready to define a natural gas hydrogen plant or SMR similar to a natural gas power plant"
   ]
  },
  {
   "cell_type": "code",
   "execution_count": 18,
   "metadata": {},
   "outputs": [
    {
     "data": {
      "text/plain": [
       "3-element Vector{TEdge}:\n",
       " TEdge{Hydrogen}(:H2, Node{Hydrogen}(:H2_node, [53.9946, 40.6626, 58.3275, 133.32, 274.6392, 446.95529999999997, 559.6107, 641.2692, 674.5991999999999, 714.2619  …  901.9097999999999, 864.5802, 820.2512999999999, 725.2608, 603.9396, 460.2873, 349.965, 243.9756, 150.9849, 89.3244], 1:1:8760, StepRange{Int64, Int64}[1:1:8760], [0.0], [0.0], Dict{Any, Any}(), Dict{Any, Any}(), Macro.AbstractTypeConstraint[Macro.DemandBalanceConstraint(missing, missing, missing), Macro.MaxNonServedDemandConstraint(missing, missing, missing)]), Transformation{NaturalGasHydrogen}(:SMR, 1:1:8760, 2, TEdge[#= circular reference @-3 =#], Dict{Any, Any}(), Macro.AbstractTypeConstraint[Macro.StoichiometryBalanceConstraint(missing, missing, missing)]), :output, true, false, true, 666.5999999999999, 1:1:8760, StepRange{Int64, Int64}[1:1:8760], [2.1775180500999998, 0.0], 0.0, Inf, 0.0, 31003.090309030904, 615.0615061506151, 0.0, 0.0, false, 0.0, 0.0, 0, 0, 0.0, Dict{Any, Any}(), Dict{Any, Any}(), Macro.AbstractTypeConstraint[CapacityConstraint(missing, missing, missing)])\n",
       " TEdge{NaturalGas}(:NG, SourceNode{NaturalGas}(:NG_node, 1:1:8760, StepRange{Int64, Int64}[1:1:8760], [18.01610783350264, 18.01610783350264, 18.01610783350264, 18.01610783350264, 18.01610783350264, 18.01610783350264, 18.01610783350264, 18.01610783350264, 18.01610783350264, 18.01610783350264  …  14.603966198369564, 14.603966198369564, 14.603966198369564, 14.603966198369564, 14.603966198369564, 14.603966198369564, 14.603966198369564, 14.603966198369564, 14.603966198369564, 14.603966198369564], Dict{Any, Any}(), Dict{Any, Any}(), Macro.AbstractTypeConstraint[Macro.DemandBalanceConstraint(missing, missing, missing)]), Transformation{NaturalGasHydrogen}(:SMR, 1:1:8760, 2, TEdge[#= circular reference @-3 =#], Dict{Any, Any}(), Macro.AbstractTypeConstraint[Macro.StoichiometryBalanceConstraint(missing, missing, missing)]), :input, false, false, false, 1.0, 1:1:8760, StepRange{Int64, Int64}[1:1:8760], [1.0, 0.181048235160161], 0.0, Inf, 0.0, 0.0, 0.0, 0.0, 0.0, false, 0.0, 0.0, 0, 0, 0.0, Dict{Any, Any}(), Dict{Any, Any}(), Macro.AbstractTypeConstraint[])\n",
       " TEdge{CO2}(:CO2, SinkNode{CO2}(:CO2_node, 1:1:8760, StepRange{Int64, Int64}[1:1:8760], Float64[], Dict{Any, Any}(), Dict{Any, Any}(), Macro.AbstractTypeConstraint[Macro.DemandBalanceConstraint(missing, missing, missing)]), Transformation{NaturalGasHydrogen}(:SMR, 1:1:8760, 2, TEdge[#= circular reference @-3 =#], Dict{Any, Any}(), Macro.AbstractTypeConstraint[Macro.StoichiometryBalanceConstraint(missing, missing, missing)]), :output, false, false, false, 1.0, 1:1:8760, StepRange{Int64, Int64}[1:1:8760], [0.0, 1.0], 0.0, Inf, 0.0, 0.0, 0.0, 0.0, 0.0, false, 0.0, 0.0, 0, 0, 0.0, Dict{Any, Any}(), Dict{Any, Any}(), Macro.AbstractTypeConstraint[])"
      ]
     },
     "execution_count": 18,
     "metadata": {},
     "output_type": "execute_result"
    }
   ],
   "source": [
    "smr = Transformation{NaturalGasHydrogen}(;\n",
    "                id = :SMR,\n",
    "                timesteps = timesteps(Hydrogen),\n",
    "                number_of_stoichiometry_balances = 2,\n",
    "                constraints = [Macro.StoichiometryBalanceConstraint()]\n",
    "                )\n",
    "\n",
    "push!(smr.TEdges,TEdge{Hydrogen}(;\n",
    "    id = :H2,\n",
    "    node = h2_node,\n",
    "    transformation = smr,\n",
    "    direction = :output,\n",
    "    has_planning_variables = true,\n",
    "    can_expand = true,\n",
    "    can_retire = false,\n",
    "    capacity_size = smr_capsize,\n",
    "    timesteps = timesteps(Hydrogen),\n",
    "    subperiods = subperiods(Hydrogen),\n",
    "    st_coeff = [smr_heatrate,0.0],\n",
    "    existing_capacity = 0.0,\n",
    "    investment_cost = smr_inv_cost,\n",
    "    fixed_om_cost = smr_fom_cost,\n",
    "    variable_om_cost = smr_vom_cost,\n",
    "    constraints = [CapacityConstraint()]\n",
    "))\n",
    "\n",
    "push!(smr.TEdges,TEdge{NaturalGas}(;\n",
    "id =  :NG,\n",
    "node = ng_node,\n",
    "transformation = smr,\n",
    "direction = :input,\n",
    "has_planning_variables = false,\n",
    "timesteps = timesteps(NaturalGas),\n",
    "subperiods = subperiods(NaturalGas),\n",
    "st_coeff = [1.0,smr_fuel_CO2]\n",
    "))\n",
    "\n",
    "push!(smr.TEdges,TEdge{CO2}(;\n",
    "    id = :CO2,\n",
    "    node = co2_node,\n",
    "    transformation = smr,\n",
    "    direction = :output,\n",
    "    has_planning_variables = false,\n",
    "    timesteps = timesteps(CO2),\n",
    "    subperiods = subperiods(CO2),\n",
    "    st_coeff = [0.0,1.0]\n",
    "))"
   ]
  },
  {
   "cell_type": "markdown",
   "metadata": {},
   "source": [
    "Now, let's add a SMR hydrogen plant with CCS, similar to a natural gas power plant with CCS"
   ]
  },
  {
   "cell_type": "code",
   "execution_count": 19,
   "metadata": {},
   "outputs": [
    {
     "data": {
      "text/plain": [
       "4-element Vector{TEdge}:\n",
       " TEdge{Hydrogen}(:H2, Node{Hydrogen}(:H2_node, [53.9946, 40.6626, 58.3275, 133.32, 274.6392, 446.95529999999997, 559.6107, 641.2692, 674.5991999999999, 714.2619  …  901.9097999999999, 864.5802, 820.2512999999999, 725.2608, 603.9396, 460.2873, 349.965, 243.9756, 150.9849, 89.3244], 1:1:8760, StepRange{Int64, Int64}[1:1:8760], [0.0], [0.0], Dict{Any, Any}(), Dict{Any, Any}(), Macro.AbstractTypeConstraint[Macro.DemandBalanceConstraint(missing, missing, missing), Macro.MaxNonServedDemandConstraint(missing, missing, missing)]), Transformation{NaturalGasHydrogenCCS}(:SMR_CCS, 1:1:8760, 3, TEdge[#= circular reference @-3 =#], Dict{Any, Any}(), Macro.AbstractTypeConstraint[Macro.StoichiometryBalanceConstraint(missing, missing, missing)]), :output, true, false, true, 666.5999999999999, 1:1:8760, StepRange{Int64, Int64}[1:1:8760], [2.1775180500999998, 0.0, 0.0], 0.0, Inf, 0.0, 34003.390339033904, 645.0645064506451, 0.0, 0.0, false, 0.0, 0.0, 0, 0, 0.0, Dict{Any, Any}(), Dict{Any, Any}(), Macro.AbstractTypeConstraint[CapacityConstraint(missing, missing, missing)])\n",
       " TEdge{NaturalGas}(:NG, SourceNode{NaturalGas}(:NG_node, 1:1:8760, StepRange{Int64, Int64}[1:1:8760], [18.01610783350264, 18.01610783350264, 18.01610783350264, 18.01610783350264, 18.01610783350264, 18.01610783350264, 18.01610783350264, 18.01610783350264, 18.01610783350264, 18.01610783350264  …  14.603966198369564, 14.603966198369564, 14.603966198369564, 14.603966198369564, 14.603966198369564, 14.603966198369564, 14.603966198369564, 14.603966198369564, 14.603966198369564, 14.603966198369564], Dict{Any, Any}(), Dict{Any, Any}(), Macro.AbstractTypeConstraint[Macro.DemandBalanceConstraint(missing, missing, missing)]), Transformation{NaturalGasHydrogenCCS}(:SMR_CCS, 1:1:8760, 3, TEdge[#= circular reference @-3 =#], Dict{Any, Any}(), Macro.AbstractTypeConstraint[Macro.StoichiometryBalanceConstraint(missing, missing, missing)]), :input, false, false, false, 1.0, 1:1:8760, StepRange{Int64, Int64}[1:1:8760], [1.0, 0.018104823516016097, 0.16294341164414491], 0.0, Inf, 0.0, 0.0, 0.0, 0.0, 0.0, false, 0.0, 0.0, 0, 0, 0.0, Dict{Any, Any}(), Dict{Any, Any}(), Macro.AbstractTypeConstraint[])\n",
       " TEdge{CO2}(:CO2, SinkNode{CO2}(:CO2_node, 1:1:8760, StepRange{Int64, Int64}[1:1:8760], Float64[], Dict{Any, Any}(), Dict{Any, Any}(), Macro.AbstractTypeConstraint[Macro.DemandBalanceConstraint(missing, missing, missing)]), Transformation{NaturalGasHydrogenCCS}(:SMR_CCS, 1:1:8760, 3, TEdge[#= circular reference @-3 =#], Dict{Any, Any}(), Macro.AbstractTypeConstraint[Macro.StoichiometryBalanceConstraint(missing, missing, missing)]), :output, false, false, false, 1.0, 1:1:8760, StepRange{Int64, Int64}[1:1:8760], [0.0, 1.0, 0.0], 0.0, Inf, 0.0, 0.0, 0.0, 0.0, 0.0, false, 0.0, 0.0, 0, 0, 0.0, Dict{Any, Any}(), Dict{Any, Any}(), Macro.AbstractTypeConstraint[])\n",
       " TEdge{CO2_Captured}(:CO2_Captured, SinkNode{CO2_Captured}(:CO2_Captured_node, 1:1:8760, StepRange{Int64, Int64}[1:1:8760], Float64[], Dict{Any, Any}(), Dict{Any, Any}(), Macro.AbstractTypeConstraint[Macro.DemandBalanceConstraint(missing, missing, missing)]), Transformation{NaturalGasHydrogenCCS}(:SMR_CCS, 1:1:8760, 3, TEdge[#= circular reference @-3 =#], Dict{Any, Any}(), Macro.AbstractTypeConstraint[Macro.StoichiometryBalanceConstraint(missing, missing, missing)]), :output, false, false, false, 1.0, 1:1:8760, StepRange{Int64, Int64}[1:1:8760], [0.0, 0.0, 1.0], 0.0, Inf, 0.0, 0.0, 0.0, 0.0, 0.0, false, 0.0, 0.0, 0, 0, 0.0, Dict{Any, Any}(), Dict{Any, Any}(), Macro.AbstractTypeConstraint[])"
      ]
     },
     "execution_count": 19,
     "metadata": {},
     "output_type": "execute_result"
    }
   ],
   "source": [
    "smr_ccs = Transformation{NaturalGasHydrogenCCS}(;\n",
    "                id = :SMR_CCS,\n",
    "                timesteps = timesteps(Hydrogen),\n",
    "                number_of_stoichiometry_balances = 3,\n",
    "                constraints = [Macro.StoichiometryBalanceConstraint()]\n",
    "                )\n",
    "\n",
    "push!(smr_ccs.TEdges,TEdge{Hydrogen}(;\n",
    "    id = :H2,\n",
    "    node = h2_node,\n",
    "    transformation = smr_ccs,\n",
    "    direction = :output,\n",
    "    has_planning_variables = true,\n",
    "    can_expand = true,\n",
    "    can_retire = false,\n",
    "    capacity_size = smr_ccs_capsize,\n",
    "    timesteps = timesteps(Hydrogen),\n",
    "    subperiods = subperiods(Hydrogen),\n",
    "    st_coeff = [smr_ccs_heatrate,0.0,0.0],\n",
    "    existing_capacity = 0.0,\n",
    "    investment_cost = smr_ccs_inv_cost,\n",
    "    fixed_om_cost = smr_ccs_fom_cost,\n",
    "    variable_om_cost = smr_ccs_vom_cost,\n",
    "    constraints = [CapacityConstraint()]\n",
    "))\n",
    "\n",
    "push!(smr_ccs.TEdges,TEdge{NaturalGas}(;\n",
    "id =  :NG,\n",
    "node = ng_node,\n",
    "transformation = smr_ccs,\n",
    "direction = :input,\n",
    "has_planning_variables = false,\n",
    "timesteps = timesteps(NaturalGas),\n",
    "subperiods = subperiods(NaturalGas),\n",
    "st_coeff = [1.0,smr_ccs_fuel_CO2*(1-smr_ccs_CO2_captured_rate),smr_ccs_fuel_CO2*smr_ccs_CO2_captured_rate]\n",
    "))\n",
    "\n",
    "push!(smr_ccs.TEdges,TEdge{CO2}(;\n",
    "    id = :CO2,\n",
    "    node = co2_node,\n",
    "    transformation = smr_ccs,\n",
    "    direction = :output,\n",
    "    has_planning_variables = false,\n",
    "    timesteps = timesteps(CO2),\n",
    "    subperiods = subperiods(CO2),\n",
    "    st_coeff = [0.0,1.0,0.0]\n",
    "))\n",
    "\n",
    "push!(smr_ccs.TEdges,TEdge{CO2_Captured}(;\n",
    "    id = :CO2_Captured,\n",
    "    node = co2_captured_node,\n",
    "    transformation = smr_ccs,\n",
    "    direction = :output,\n",
    "    has_planning_variables = false,\n",
    "    timesteps = timesteps(CO2),\n",
    "    subperiods = subperiods(CO2),\n",
    "    st_coeff = [0.0,0.0,1.0]\n",
    "))"
   ]
  },
  {
   "cell_type": "markdown",
   "metadata": {},
   "source": [
    "Let's add a direct air capture unit consuming electricity and capturing CO2 from the atmosphere into the captured CO2 inventory"
   ]
  },
  {
   "cell_type": "code",
   "execution_count": 20,
   "metadata": {},
   "outputs": [
    {
     "data": {
      "text/plain": [
       "3-element Vector{TEdge}:\n",
       " TEdge{CO2_Captured}(:CO2_Captured, SinkNode{CO2_Captured}(:CO2_Captured_node, 1:1:8760, StepRange{Int64, Int64}[1:1:8760], Float64[], Dict{Any, Any}(), Dict{Any, Any}(), Macro.AbstractTypeConstraint[Macro.DemandBalanceConstraint(missing, missing, missing)]), Transformation{DACElectric}(:Electric_DAC, 1:1:8760, 2, TEdge[#= circular reference @-3 =#], Dict{Any, Any}(), Macro.AbstractTypeConstraint[Macro.StoichiometryBalanceConstraint(missing, missing, missing)]), :output, true, false, true, 20.0, 1:1:8760, StepRange{Int64, Int64}[1:1:8760], [1.0, 4.38], 0.0, Inf, 0.0, 9390.0, 7470.0, 22.0, 0.0, false, 0.0, 0.0, 0, 0, 0.0, Dict{Any, Any}(), Dict{Any, Any}(), Macro.AbstractTypeConstraint[CapacityConstraint(missing, missing, missing)])\n",
       " TEdge{CO2_Atmosphere}(:CO2_Atmosphere, SourceNode{CO2_Atmosphere}(:CO2_Atmosphere_node, 1:1:8760, StepRange{Int64, Int64}[1:1:8760], Float64[], Dict{Any, Any}(), Dict{Any, Any}(), Macro.AbstractTypeConstraint[Macro.DemandBalanceConstraint(missing, missing, missing)]), Transformation{DACElectric}(:Electric_DAC, 1:1:8760, 2, TEdge[#= circular reference @-3 =#], Dict{Any, Any}(), Macro.AbstractTypeConstraint[Macro.StoichiometryBalanceConstraint(missing, missing, missing)]), :input, false, false, false, 1.0, 1:1:8760, StepRange{Int64, Int64}[1:1:8760], [1.0, 0.0], 0.0, Inf, 0.0, 0.0, 0.0, 0.0, 0.0, false, 0.0, 0.0, 0, 0, 0.0, Dict{Any, Any}(), Dict{Any, Any}(), Macro.AbstractTypeConstraint[])\n",
       " TEdge{Electricity}(:E, Node{Electricity}(:E_node, [7850.0, 7424.0, 7107.0, 6947.0, 6922.0, 7045.0, 7307.0, 7544.0, 7946.0, 8340.0  …  10438.0, 10469.0, 11228.0, 11908.0, 11562.0, 9923.0, 9461.0, 9018.0, 8551.0, 8089.0], 1:1:8760, StepRange{Int64, Int64}[1:1:8760], [0.0], [50000.0], Dict{Any, Any}(), Dict{Any, Any}(), Macro.AbstractTypeConstraint[Macro.DemandBalanceConstraint(missing, missing, missing), Macro.MaxNonServedDemandConstraint(missing, missing, missing)]), Transformation{DACElectric}(:Electric_DAC, 1:1:8760, 2, TEdge[#= circular reference @-3 =#], Dict{Any, Any}(), Macro.AbstractTypeConstraint[Macro.StoichiometryBalanceConstraint(missing, missing, missing)]), :input, false, false, false, 1.0, 1:1:8760, StepRange{Int64, Int64}[1:1:8760], [0.0, 1.0], 0.0, Inf, 0.0, 0.0, 0.0, 0.0, 0.0, false, 0.0, 0.0, 0, 0, 0.0, Dict{Any, Any}(), Dict{Any, Any}(), Macro.AbstractTypeConstraint[])"
      ]
     },
     "execution_count": 20,
     "metadata": {},
     "output_type": "execute_result"
    }
   ],
   "source": [
    "electric_dac = Transformation{DACElectric}(;\n",
    "                id = :Electric_DAC,\n",
    "                timesteps = timesteps(CO2_Captured),\n",
    "                number_of_stoichiometry_balances = 2,\n",
    "                constraints = [Macro.StoichiometryBalanceConstraint()]\n",
    "                )\n",
    "\n",
    "push!(electric_dac.TEdges,TEdge{CO2_Captured}(;\n",
    "    id = :CO2_Captured,\n",
    "    node = co2_captured_node,\n",
    "    transformation = electric_dac,\n",
    "    direction = :output,\n",
    "    has_planning_variables = true,\n",
    "    can_expand = true,\n",
    "    can_retire = false,\n",
    "    capacity_size = electric_dac_capsize,\n",
    "    timesteps = timesteps(CO2_Captured),\n",
    "    subperiods = subperiods(CO2_Captured),\n",
    "    st_coeff = [1.0,electric_dac_power_input],\n",
    "    existing_capacity = 0.0,\n",
    "    investment_cost = electric_dac_inv_cost,\n",
    "    fixed_om_cost = electric_dac_fom_cost,\n",
    "    variable_om_cost = electric_dac_vom_cost,\n",
    "    constraints = [CapacityConstraint()]\n",
    "))\n",
    "\n",
    "push!(electric_dac.TEdges,TEdge{CO2_Atmosphere}(;\n",
    "    id = :CO2_Atmosphere,\n",
    "    node = co2_atmosphere_node,\n",
    "    transformation = electric_dac,\n",
    "    direction = :input,\n",
    "    has_planning_variables = false,\n",
    "    timesteps = timesteps(CO2_Atmosphere),\n",
    "    subperiods = subperiods(CO2_Atmosphere),\n",
    "    st_coeff = [1.0,0.0]\n",
    "))\n",
    "\n",
    "push!(electric_dac.TEdges,TEdge{Electricity}(;\n",
    "    id = :E,\n",
    "    node = e_node,\n",
    "    transformation = electric_dac,\n",
    "    direction = :input,\n",
    "    has_planning_variables = false,\n",
    "    timesteps = timesteps(Electricity),\n",
    "    subperiods = subperiods(Electricity),\n",
    "    st_coeff = [0.0,1.0]\n",
    "))"
   ]
  },
  {
   "cell_type": "markdown",
   "metadata": {},
   "source": [
    "Now that we have implemented different technologies, we can create the JuMP model."
   ]
  },
  {
   "cell_type": "code",
   "execution_count": 21,
   "metadata": {},
   "outputs": [],
   "source": [
    "components = [solar_pv; battery; ngcc; ngcc_ccs; electrolyzer; smr; smr_ccs; electric_dac];\n",
    "nodes = [e_node; h2_node; ng_node; co2_node; co2_captured_node; co2_atmosphere_node];\n",
    "system = [nodes;components];"
   ]
  },
  {
   "cell_type": "code",
   "execution_count": 22,
   "metadata": {},
   "outputs": [],
   "source": [
    "model = Macro.JuMP.Model();\n",
    "Macro.@variable(model,vREF==1) ## Variable used to initialize empty expressions\n",
    "Macro.@expression(model, eFixedCost, 0 * model[:vREF]);\n",
    "Macro.@expression(model, eVariableCost, 0 * model[:vREF]);"
   ]
  },
  {
   "cell_type": "code",
   "execution_count": 23,
   "metadata": {},
   "outputs": [],
   "source": [
    "add_planning_variables!.(components,model);"
   ]
  },
  {
   "cell_type": "code",
   "execution_count": 24,
   "metadata": {},
   "outputs": [],
   "source": [
    "add_operation_variables!.(system, model);"
   ]
  },
  {
   "cell_type": "code",
   "execution_count": 25,
   "metadata": {},
   "outputs": [],
   "source": [
    "add_all_model_constraints!.(system, model);"
   ]
  },
  {
   "cell_type": "code",
   "execution_count": 26,
   "metadata": {},
   "outputs": [],
   "source": [
    "Macro.@objective(model, Min, model[:eFixedCost] + model[:eVariableCost]);\n"
   ]
  },
  {
   "cell_type": "code",
   "execution_count": 27,
   "metadata": {},
   "outputs": [
    {
     "name": "stdout",
     "output_type": "stream",
     "text": [
      "2.1775180500999998 vFLOW_Electricity_E[5] - vFLOW_NaturalGas_NG[5] = 0\n"
     ]
    }
   ],
   "source": [
    "println(ngcc.constraints[1].constraint_ref[1,5])"
   ]
  },
  {
   "cell_type": "code",
   "execution_count": 28,
   "metadata": {},
   "outputs": [
    {
     "name": "stdout",
     "output_type": "stream",
     "text": [
      "-0.181048235160161 vFLOW_NaturalGas_NG[5] + vFLOW_CO2_CO2[5] = 0\n"
     ]
    }
   ],
   "source": [
    "println(ngcc.constraints[1].constraint_ref[2,5])"
   ]
  },
  {
   "cell_type": "code",
   "execution_count": 29,
   "metadata": {},
   "outputs": [
    {
     "name": "stdout",
     "output_type": "stream",
     "text": [
      "2.1775180500999998 vFLOW_Electricity_E[5] - vFLOW_NaturalGas_NG[5] = 0\n"
     ]
    }
   ],
   "source": [
    "println(ngcc_ccs.constraints[1].constraint_ref[1,5])"
   ]
  },
  {
   "cell_type": "code",
   "execution_count": 30,
   "metadata": {},
   "outputs": [
    {
     "name": "stdout",
     "output_type": "stream",
     "text": [
      "-0.018104823516016097 vFLOW_NaturalGas_NG[5] + vFLOW_CO2_CO2[5] = 0\n"
     ]
    }
   ],
   "source": [
    "println(ngcc_ccs.constraints[1].constraint_ref[2,5])"
   ]
  },
  {
   "cell_type": "code",
   "execution_count": 31,
   "metadata": {},
   "outputs": [
    {
     "name": "stdout",
     "output_type": "stream",
     "text": [
      "-0.16294341164414491 vFLOW_NaturalGas_NG[5] + vFLOW_CO2_Captured_CO2_Captured[5] = 0\n"
     ]
    }
   ],
   "source": [
    "println(ngcc_ccs.constraints[1].constraint_ref[3,5])"
   ]
  },
  {
   "cell_type": "code",
   "execution_count": 32,
   "metadata": {},
   "outputs": [
    {
     "name": "stdout",
     "output_type": "stream",
     "text": [
      "vFLOW_Hydrogen_H2[5] - 0.7406666666666667 vFLOW_Electricity_E[5] = 0\n"
     ]
    }
   ],
   "source": [
    "println(electrolyzer.constraints[1].constraint_ref[1,5])"
   ]
  },
  {
   "cell_type": "code",
   "execution_count": 33,
   "metadata": {},
   "outputs": [
    {
     "name": "stdout",
     "output_type": "stream",
     "text": [
      "2.1775180500999998 vFLOW_Hydrogen_H2[5] - vFLOW_NaturalGas_NG[5] = 0\n"
     ]
    }
   ],
   "source": [
    "println(smr.constraints[1].constraint_ref[1,5])"
   ]
  },
  {
   "cell_type": "code",
   "execution_count": 34,
   "metadata": {},
   "outputs": [
    {
     "name": "stdout",
     "output_type": "stream",
     "text": [
      "-0.181048235160161 vFLOW_NaturalGas_NG[5] + vFLOW_CO2_CO2[5] = 0\n"
     ]
    }
   ],
   "source": [
    "println(smr.constraints[1].constraint_ref[2,5])"
   ]
  },
  {
   "cell_type": "code",
   "execution_count": 35,
   "metadata": {},
   "outputs": [
    {
     "name": "stdout",
     "output_type": "stream",
     "text": [
      "2.1775180500999998 vFLOW_Hydrogen_H2[5] - vFLOW_NaturalGas_NG[5] = 0\n"
     ]
    }
   ],
   "source": [
    "println(smr_ccs.constraints[1].constraint_ref[1,5])"
   ]
  },
  {
   "cell_type": "code",
   "execution_count": 36,
   "metadata": {},
   "outputs": [
    {
     "name": "stdout",
     "output_type": "stream",
     "text": [
      "-0.018104823516016097 vFLOW_NaturalGas_NG[5] + vFLOW_CO2_CO2[5] = 0\n"
     ]
    }
   ],
   "source": [
    "println(smr_ccs.constraints[1].constraint_ref[2,5])"
   ]
  },
  {
   "cell_type": "code",
   "execution_count": 37,
   "metadata": {},
   "outputs": [
    {
     "name": "stdout",
     "output_type": "stream",
     "text": [
      "-0.16294341164414491 vFLOW_NaturalGas_NG[5] + vFLOW_CO2_Captured_CO2_Captured[5] = 0\n"
     ]
    }
   ],
   "source": [
    "println(smr_ccs.constraints[1].constraint_ref[3,5])"
   ]
  },
  {
   "cell_type": "code",
   "execution_count": 38,
   "metadata": {},
   "outputs": [
    {
     "name": "stdout",
     "output_type": "stream",
     "text": [
      "vFLOW_CO2_Captured_CO2_Captured[5] - vFLOW_CO2_Atmosphere_CO2_Atmosphere[5] = 0\n"
     ]
    }
   ],
   "source": [
    "println(electric_dac.constraints[1].constraint_ref[1,5])"
   ]
  },
  {
   "cell_type": "code",
   "execution_count": 39,
   "metadata": {},
   "outputs": [
    {
     "name": "stdout",
     "output_type": "stream",
     "text": [
      "4.38 vFLOW_CO2_Captured_CO2_Captured[5] - vFLOW_Electricity_E[5] = 0\n"
     ]
    }
   ],
   "source": [
    "println(electric_dac.constraints[1].constraint_ref[2,5])"
   ]
  },
  {
   "cell_type": "code",
   "execution_count": 40,
   "metadata": {},
   "outputs": [],
   "source": [
    "using HiGHS"
   ]
  },
  {
   "cell_type": "code",
   "execution_count": 41,
   "metadata": {},
   "outputs": [],
   "source": [
    "Macro.set_optimizer(model,HiGHS.Optimizer)"
   ]
  },
  {
   "cell_type": "code",
   "execution_count": 42,
   "metadata": {},
   "outputs": [
    {
     "name": "stdout",
     "output_type": "stream",
     "text": [
      "Running HiGHS 1.6.0: Copyright (c) 2023 HiGHS under MIT licence terms\n",
      "Presolving model\n",
      "100591 rows, 83080 cols, 266733 nonzeros\n",
      "100591 rows, 83080 cols, 266733 nonzeros\n",
      "Presolve : Reductions: rows 100591(-170980); columns 83080(-170988); elements 266733(-412047)\n",
      "Solving the presolved LP\n",
      "Using EKK dual simplex solver - serial\n",
      "  Iteration        Objective     Infeasibilities num(sum)\n",
      "          0     0.0000000000e+00 Pr: 17520(3.53286e+07) 0s\n",
      "      57163     3.5072693726e+09 Pr: 0(0); Du: 0(7.60836e-13) 2s\n",
      "Solving the original LP from the solution after postsolve\n",
      "Model   status      : Optimal\n",
      "Simplex   iterations: 57163\n",
      "Objective value     :  3.5072693726e+09\n",
      "HiGHS run time      :          2.17\n"
     ]
    }
   ],
   "source": [
    "Macro.optimize!(model)"
   ]
  },
  {
   "cell_type": "markdown",
   "metadata": {},
   "source": [
    "The installed electrolyzer capacity is:"
   ]
  },
  {
   "cell_type": "code",
   "execution_count": 43,
   "metadata": {},
   "outputs": [
    {
     "data": {
      "text/plain": [
       "0.0"
      ]
     },
     "execution_count": 43,
     "metadata": {},
     "output_type": "execute_result"
    }
   ],
   "source": [
    "Macro.value(Macro.capacity(electrolyzer.TEdges[1]))"
   ]
  },
  {
   "cell_type": "markdown",
   "metadata": {},
   "source": [
    "The installed SMR capacity is"
   ]
  },
  {
   "cell_type": "code",
   "execution_count": 44,
   "metadata": {},
   "outputs": [
    {
     "data": {
      "text/plain": [
       "1039.5627"
      ]
     },
     "execution_count": 44,
     "metadata": {},
     "output_type": "execute_result"
    }
   ],
   "source": [
    "Macro.value(Macro.capacity(smr.TEdges[1]))"
   ]
  },
  {
   "cell_type": "markdown",
   "metadata": {},
   "source": [
    "The installed SMR CCS capacity is"
   ]
  },
  {
   "cell_type": "code",
   "execution_count": 45,
   "metadata": {},
   "outputs": [
    {
     "data": {
      "text/plain": [
       "0.0"
      ]
     },
     "execution_count": 45,
     "metadata": {},
     "output_type": "execute_result"
    }
   ],
   "source": [
    "Macro.value(Macro.capacity(smr_ccs.TEdges[1]))"
   ]
  },
  {
   "cell_type": "markdown",
   "metadata": {},
   "source": [
    "The installed solar capacity in MW is:"
   ]
  },
  {
   "cell_type": "code",
   "execution_count": 46,
   "metadata": {},
   "outputs": [
    {
     "data": {
      "text/plain": [
       "0.0"
      ]
     },
     "execution_count": 46,
     "metadata": {},
     "output_type": "execute_result"
    }
   ],
   "source": [
    "Macro.value(Macro.capacity(solar_pv))"
   ]
  },
  {
   "cell_type": "markdown",
   "metadata": {},
   "source": [
    "The installed battery capacity in MW is:"
   ]
  },
  {
   "cell_type": "code",
   "execution_count": 47,
   "metadata": {},
   "outputs": [
    {
     "data": {
      "text/plain": [
       "100.0"
      ]
     },
     "execution_count": 47,
     "metadata": {},
     "output_type": "execute_result"
    }
   ],
   "source": [
    "Macro.value(Macro.capacity(battery))"
   ]
  },
  {
   "cell_type": "markdown",
   "metadata": {},
   "source": [
    "The installed NGCC capacity in MW is:"
   ]
  },
  {
   "cell_type": "code",
   "execution_count": 48,
   "metadata": {},
   "outputs": [
    {
     "data": {
      "text/plain": [
       "16617.0"
      ]
     },
     "execution_count": 48,
     "metadata": {},
     "output_type": "execute_result"
    }
   ],
   "source": [
    "Macro.value(Macro.capacity(ngcc.TEdges[1]))"
   ]
  },
  {
   "cell_type": "markdown",
   "metadata": {},
   "source": [
    "The installed NGCC CCS capacity in MW is:"
   ]
  },
  {
   "cell_type": "code",
   "execution_count": 49,
   "metadata": {},
   "outputs": [
    {
     "data": {
      "text/plain": [
       "0.0"
      ]
     },
     "execution_count": 49,
     "metadata": {},
     "output_type": "execute_result"
    }
   ],
   "source": [
    "Macro.value(Macro.capacity(ngcc_ccs.TEdges[1]))"
   ]
  },
  {
   "cell_type": "markdown",
   "metadata": {},
   "source": [
    "The installed Electric DAC capacity in Tons CO2/h is:"
   ]
  },
  {
   "cell_type": "code",
   "execution_count": 50,
   "metadata": {},
   "outputs": [
    {
     "data": {
      "text/plain": [
       "0.0"
      ]
     },
     "execution_count": 50,
     "metadata": {},
     "output_type": "execute_result"
    }
   ],
   "source": [
    "Macro.value(Macro.capacity(electric_dac.TEdges[1]))"
   ]
  },
  {
   "cell_type": "markdown",
   "metadata": {},
   "source": [
    "The resulting CO2 emissions from fossil fuel power and H2 production in tonnes are:"
   ]
  },
  {
   "cell_type": "code",
   "execution_count": 51,
   "metadata": {},
   "outputs": [
    {
     "data": {
      "text/plain": [
       "3.429744069856643e7"
      ]
     },
     "execution_count": 51,
     "metadata": {},
     "output_type": "execute_result"
    }
   ],
   "source": [
    "base_emissions  = Macro.value(sum(Macro.outflow(co2_node)[t] for t in timesteps(CO2)))"
   ]
  },
  {
   "cell_type": "markdown",
   "metadata": {},
   "source": [
    "The resulting CO2 removed from the atmosphere by DAC in tonnes are:"
   ]
  },
  {
   "cell_type": "code",
   "execution_count": 52,
   "metadata": {},
   "outputs": [
    {
     "data": {
      "text/plain": [
       "0.0"
      ]
     },
     "execution_count": 52,
     "metadata": {},
     "output_type": "execute_result"
    }
   ],
   "source": [
    "atm_CO2_captured  = Macro.value(sum(Macro.inflow(co2_atmosphere_node)[t] for t in timesteps(CO2)))"
   ]
  },
  {
   "cell_type": "markdown",
   "metadata": {},
   "source": [
    "The net CO2 emissions (CO2 emissions - CO2 removed from the atmosphere by DAC) in tonnes are:"
   ]
  },
  {
   "cell_type": "code",
   "execution_count": 53,
   "metadata": {},
   "outputs": [
    {
     "data": {
      "text/plain": [
       "3.429744069856643e7"
      ]
     },
     "execution_count": 53,
     "metadata": {},
     "output_type": "execute_result"
    }
   ],
   "source": [
    "net_emissions = Macro.value(sum(Macro.outflow(co2_node)[t] for t in timesteps(CO2))) - Macro.value(sum(Macro.inflow(co2_atmosphere_node)[t] for t in timesteps(CO2)))"
   ]
  },
  {
   "cell_type": "markdown",
   "metadata": {},
   "source": [
    "The resulting captured CO2 (DAC + Power CCS + H2 CCS) in tonnes that can be transported to storage are:"
   ]
  },
  {
   "cell_type": "code",
   "execution_count": 54,
   "metadata": {},
   "outputs": [
    {
     "data": {
      "text/plain": [
       "0.0"
      ]
     },
     "execution_count": 54,
     "metadata": {},
     "output_type": "execute_result"
    }
   ],
   "source": [
    "base_CO2_captured  = Macro.value(sum(Macro.outflow(co2_captured_node)[t] for t in timesteps(CO2_Captured)))"
   ]
  },
  {
   "cell_type": "markdown",
   "metadata": {},
   "source": [
    "However, if we add a net-zero CO2 cap accounting for both positive emissions from Natural gas power and H2, and negative emissions from DAC:"
   ]
  },
  {
   "cell_type": "code",
   "execution_count": 55,
   "metadata": {},
   "outputs": [],
   "source": [
    "Macro.@constraint(model,CO2Cap,sum(Macro.outflow(co2_node)[t] - Macro.inflow(co2_atmosphere_node)[t] for t in timesteps(CO2)) <= 0);"
   ]
  },
  {
   "cell_type": "code",
   "execution_count": 56,
   "metadata": {},
   "outputs": [
    {
     "name": "stdout",
     "output_type": "stream",
     "text": [
      "Solving LP without presolve or with basis\n",
      "Using EKK dual simplex solver - serial\n",
      "  Iteration        Objective     Infeasibilities num(sum)\n",
      "          0     3.5073967507e+09 Pr: 1(3.42974e+07); Du: 0(8.39553e-08) 0s\n",
      "       1297     3.5073967560e+09 Pr: 1032(3.40712e+08); Du: 0(0.000149549) 6s\n",
      "       2594     3.5073967560e+09 Pr: 2002(3.39131e+08); Du: 0(8.60771e-05) 12s\n",
      "       3961     3.5073967560e+09 Pr: 3134(3.37138e+08); Du: 0(1.81797e-05) 18s\n",
      "       5263     3.5164305682e+09 Pr: 5089(3.5438e+08); Du: 0(1.07196e-07) 24s\n",
      "       6328     3.5164328404e+09 Pr: 5218(3.51497e+08); Du: 0(2.10503e-07) 30s\n",
      "       7394     3.5164344243e+09 Pr: 5369(3.48103e+08); Du: 0(3.48863e-07) 35s\n",
      "       8462     3.5164358128e+09 Pr: 5610(3.85044e+08); Du: 0(4.05769e-07) 40s\n",
      "       9526     3.5164370930e+09 Pr: 5936(3.01761e+08); Du: 0(6.91768e-07) 46s\n",
      "      10595     3.5164384127e+09 Pr: 6287(2.93505e+08); Du: 0(6.23778e-07) 51s\n",
      "      11666     3.5164400540e+09 Pr: 6707(2.84358e+08); Du: 0(9.41872e-07) 57s\n",
      "      12740     3.5164431188e+09 Pr: 7254(2.742e+08); Du: 0(1.08463e-06) 62s\n",
      "      13803     3.5179853029e+09 Pr: 11622(2.62334e+10); Du: 0(1.353e-06) 67s\n",
      "      15111     3.5188957770e+09 Pr: 14555(1.56323e+09); Du: 0(1.81092e-06) 74s\n",
      "      16431     3.5189270713e+09 Pr: 20855(1.79935e+09); Du: 0(1.40844e-06) 80s\n",
      "      17556     3.5248000706e+09 Pr: 23877(1.78498e+10); Du: 0(2.49084e-06) 86s\n",
      "      18581     3.5272251392e+09 Pr: 25017(1.49181e+09); Du: 0(2.9933e-06) 91s\n",
      "      19737     3.5272745559e+09 Pr: 26329(2.35133e+09); Du: 0(2.88346e-06) 97s\n",
      "      20711     3.5465853156e+09 Pr: 42768(7.36877e+08); Du: 0(2.79359e-06) 102s\n",
      "      21598     3.5506469379e+09 Pr: 31694(2.00877e+08); Du: 0(2.79359e-06) 108s\n",
      "      22631     3.5513155458e+09 Pr: 31072(1.99796e+08); Du: 0(2.66626e-06) 115s\n",
      "      23367     3.5517627683e+09 Pr: 62532(1.13961e+09); Du: 0(2.63074e-06) 121s\n",
      "      24439     3.5521510696e+09 Pr: 41336(1.75968e+08); Du: 0(2.23818e-06) 128s\n",
      "      25383     3.5529114224e+09 Pr: 41368(1.62888e+08); Du: 0(1.80058e-06) 134s\n",
      "      26374     3.5537038858e+09 Pr: 27992(1.64332e+08); Du: 0(1.48655e-06) 141s\n",
      "      27411     3.5543344371e+09 Pr: 27156(1.62103e+08); Du: 0(1.55263e-06) 148s\n",
      "      28345     3.5552783787e+09 Pr: 40421(1.15742e+08); Du: 0(1.39294e-06) 155s\n",
      "      29492     3.5564180173e+09 Pr: 39531(1.07087e+08); Du: 0(1.15334e-06) 163s\n",
      "      30480     3.5572487824e+09 Pr: 26229(1.5312e+08); Du: 0(8.9523e-07) 169s\n",
      "      31559     3.5588755131e+09 Pr: 37638(1.1291e+08); Du: 0(6.15397e-07) 176s\n",
      "      32510     3.5607225696e+09 Pr: 25906(1.8457e+08); Du: 0(6.03013e-07) 183s\n",
      "      33423     3.5619279815e+09 Pr: 23016(1.61599e+09); Du: 0(7.34593e-07) 188s\n",
      "      34488     3.5620852277e+09 Pr: 26319(5.69358e+08); Du: 0(6.67103e-07) 194s\n",
      "      35538     3.5647042811e+09 Pr: 28168(2.08376e+08); Du: 0(5.61299e-07) 201s\n",
      "      36517     3.5689553086e+09 Pr: 37345(2.11283e+08); Du: 0(5.10167e-07) 207s\n",
      "      37338     3.5731296831e+09 Pr: 36680(2.35967e+08); Du: 0(4.57524e-07) 213s\n",
      "      38262     3.5776094904e+09 Pr: 36829(3.70151e+08); Du: 0(3.6354e-07) 218s\n",
      "      39102     3.5840156971e+09 Pr: 44359(3.97342e+08); Du: 0(3.16786e-07) 223s\n",
      "      40731     3.6153265959e+09 Pr: 46126(8.35561e+08) 232s\n",
      "      41796     3.6221228675e+09 Pr: 31991(4.52456e+08); Du: 0(8.47209e-08) 237s\n",
      "      42949     3.6328067341e+09 Pr: 39745(1.11415e+09) 243s\n",
      "      43910     3.6561602474e+09 Pr: 24129(4.18929e+08); Du: 0(1.64899e-08) 249s\n",
      "      44971     3.7537478008e+09 Pr: 26242(1.88189e+08); Du: 0(5.147e-08) 254s\n",
      "      46213     3.7910879558e+09 Pr: 26976(1.38935e+08); Du: 0(5.147e-08) 261s\n",
      "      47379     3.8059021136e+09 Pr: 26371(1.40091e+08); Du: 0(5.14699e-08) 268s\n",
      "      48675     3.8274810856e+09 Pr: 54673(1.6272e+09); Du: 0(5.147e-08) 274s\n",
      "      49835     3.8356266605e+09 Pr: 38464(1.27973e+08); Du: 0(5.147e-08) 280s\n",
      "      51073     3.8356729453e+09 Pr: 39964(1.35445e+08); Du: 0(5.147e-08) 286s\n",
      "      52466     3.8507134317e+09 Pr: 37497(7.96688e+08); Du: 0(5.147e-08) 292s\n",
      "      53719     3.8691535429e+09 Pr: 38643(2.34374e+08); Du: 0(5.147e-08) 298s\n",
      "      55066     3.8990939788e+09 Pr: 36644(2.29023e+08); Du: 0(5.147e-08) 303s\n",
      "      56932     3.9387962666e+09 Pr: 34745(3.26287e+08) 309s\n",
      "      59099     3.9674169936e+09 Pr: 32181(1.89666e+08) 316s\n",
      "      60888     3.9791121047e+09 Pr: 12815(2.8188e+07) 323s\n",
      "      62555     3.9841899160e+09 Pr: 9654(2.02115e+07) 330s\n",
      "      64301     3.9976695163e+09 Pr: 27719(3.30849e+08) 336s\n",
      "      65956     4.0142163824e+09 Pr: 14983(1.77839e+07) 341s\n",
      "      69901     4.0182841669e+09 Pr: 1577(265095); Du: 0(3.70259e-14) 348s\n",
      "      71181     4.0187276360e+09 Pr: 0(0); Du: 0(8.7205e-08) 350s\n",
      "Model   status      : Optimal\n",
      "Simplex   iterations: 71181\n",
      "Objective value     :  4.0187276360e+09\n",
      "HiGHS run time      :        350.58\n"
     ]
    }
   ],
   "source": [
    "Macro.optimize!(model)"
   ]
  },
  {
   "cell_type": "markdown",
   "metadata": {},
   "source": [
    "Now, the electrolyzer capacity is:"
   ]
  },
  {
   "cell_type": "code",
   "execution_count": 57,
   "metadata": {},
   "outputs": [
    {
     "data": {
      "text/plain": [
       "0.0"
      ]
     },
     "execution_count": 57,
     "metadata": {},
     "output_type": "execute_result"
    }
   ],
   "source": [
    "Macro.value(Macro.capacity(electrolyzer.TEdges[1]))"
   ]
  },
  {
   "cell_type": "markdown",
   "metadata": {},
   "source": [
    "The SMR capacity is:"
   ]
  },
  {
   "cell_type": "code",
   "execution_count": 58,
   "metadata": {},
   "outputs": [
    {
     "data": {
      "text/plain": [
       "26.330700000000093"
      ]
     },
     "execution_count": 58,
     "metadata": {},
     "output_type": "execute_result"
    }
   ],
   "source": [
    "Macro.value(Macro.capacity(smr.TEdges[1]))"
   ]
  },
  {
   "cell_type": "markdown",
   "metadata": {},
   "source": [
    "The SMR CCS capacity is:"
   ]
  },
  {
   "cell_type": "code",
   "execution_count": 59,
   "metadata": {},
   "outputs": [
    {
     "data": {
      "text/plain": [
       "1013.2319999999999"
      ]
     },
     "execution_count": 59,
     "metadata": {},
     "output_type": "execute_result"
    }
   ],
   "source": [
    "Macro.value(Macro.capacity(smr_ccs.TEdges[1]))"
   ]
  },
  {
   "cell_type": "markdown",
   "metadata": {},
   "source": [
    "Now the solar capacity is:"
   ]
  },
  {
   "cell_type": "code",
   "execution_count": 60,
   "metadata": {},
   "outputs": [
    {
     "data": {
      "text/plain": [
       "0.0"
      ]
     },
     "execution_count": 60,
     "metadata": {},
     "output_type": "execute_result"
    }
   ],
   "source": [
    "Macro.value(Macro.capacity(solar_pv))"
   ]
  },
  {
   "cell_type": "markdown",
   "metadata": {},
   "source": [
    "The installed battery capacity is:"
   ]
  },
  {
   "cell_type": "code",
   "execution_count": 61,
   "metadata": {},
   "outputs": [
    {
     "data": {
      "text/plain": [
       "138.0"
      ]
     },
     "execution_count": 61,
     "metadata": {},
     "output_type": "execute_result"
    }
   ],
   "source": [
    "Macro.value(Macro.capacity(battery))"
   ]
  },
  {
   "cell_type": "markdown",
   "metadata": {},
   "source": [
    "The installed NG capacity is:"
   ]
  },
  {
   "cell_type": "code",
   "execution_count": 62,
   "metadata": {},
   "outputs": [
    {
     "data": {
      "text/plain": [
       "877.9999999996264"
      ]
     },
     "execution_count": 62,
     "metadata": {},
     "output_type": "execute_result"
    }
   ],
   "source": [
    "Macro.value(Macro.capacity(ngcc.TEdges[1]))"
   ]
  },
  {
   "cell_type": "markdown",
   "metadata": {},
   "source": [
    "The installed NG CCS capacity is:"
   ]
  },
  {
   "cell_type": "code",
   "execution_count": 63,
   "metadata": {},
   "outputs": [
    {
     "data": {
      "text/plain": [
       "15701.000000000373"
      ]
     },
     "execution_count": 63,
     "metadata": {},
     "output_type": "execute_result"
    }
   ],
   "source": [
    "Macro.value(Macro.capacity(ngcc_ccs.TEdges[1]))"
   ]
  },
  {
   "cell_type": "markdown",
   "metadata": {},
   "source": [
    "The installed Electric DAC capacity is:"
   ]
  },
  {
   "cell_type": "code",
   "execution_count": 64,
   "metadata": {},
   "outputs": [
    {
     "data": {
      "text/plain": [
       "1323.4018264841054"
      ]
     },
     "execution_count": 64,
     "metadata": {},
     "output_type": "execute_result"
    }
   ],
   "source": [
    "Macro.value(Macro.capacity(electric_dac.TEdges[1]))"
   ]
  },
  {
   "cell_type": "markdown",
   "metadata": {},
   "source": [
    "The resulting CO2 emissions from fossil fuel power and H2 production in tonnes are:"
   ]
  },
  {
   "cell_type": "code",
   "execution_count": 65,
   "metadata": {},
   "outputs": [
    {
     "data": {
      "text/plain": [
       "4.15240472296013e6"
      ]
     },
     "execution_count": 65,
     "metadata": {},
     "output_type": "execute_result"
    }
   ],
   "source": [
    "Macro.value(sum(Macro.outflow(co2_node)[t] for t in timesteps(CO2)))"
   ]
  },
  {
   "cell_type": "markdown",
   "metadata": {},
   "source": [
    "The resulting CO2 removed from the atmosphere by DAC in tonnes are:"
   ]
  },
  {
   "cell_type": "code",
   "execution_count": 66,
   "metadata": {},
   "outputs": [
    {
     "data": {
      "text/plain": [
       "4.1524047229603715e6"
      ]
     },
     "execution_count": 66,
     "metadata": {},
     "output_type": "execute_result"
    }
   ],
   "source": [
    "atm_CO2_captured  = Macro.value(sum(Macro.inflow(co2_atmosphere_node)[t] for t in timesteps(CO2)))"
   ]
  },
  {
   "cell_type": "markdown",
   "metadata": {},
   "source": [
    "The net CO2 emissions (CO2 emissions - CO2 removed from the atmosphere by DAC) in tonnes are:"
   ]
  },
  {
   "cell_type": "code",
   "execution_count": 67,
   "metadata": {},
   "outputs": [
    {
     "data": {
      "text/plain": [
       "-2.416782081127167e-7"
      ]
     },
     "execution_count": 67,
     "metadata": {},
     "output_type": "execute_result"
    }
   ],
   "source": [
    "net_emissions = Macro.value(sum(Macro.outflow(co2_node)[t] for t in timesteps(CO2))) - Macro.value(sum(Macro.inflow(co2_atmosphere_node)[t] for t in timesteps(CO2)))"
   ]
  },
  {
   "cell_type": "markdown",
   "metadata": {},
   "source": [
    "The resulting captured CO2 (DAC + Power CCS + H2 CCS) in tonnes that can be transported to storage are:"
   ]
  },
  {
   "cell_type": "code",
   "execution_count": 68,
   "metadata": {},
   "outputs": [
    {
     "data": {
      "text/plain": [
       "4.146761719728147e7"
      ]
     },
     "execution_count": 68,
     "metadata": {},
     "output_type": "execute_result"
    }
   ],
   "source": [
    "Macro.value(sum(Macro.outflow(co2_captured_node)[t] for t in timesteps(CO2_Captured)))"
   ]
  },
  {
   "cell_type": "markdown",
   "metadata": {},
   "source": [
    "We see that in a net-zero emission case with negative emissions from DAC, a combination of Natural Gas Power CCS and SMR H2 CCS with DAC is deployed."
   ]
  }
 ],
 "metadata": {
  "kernelspec": {
   "display_name": "Julia 1.6.7",
   "language": "julia",
   "name": "julia-1.6"
  },
  "language_info": {
   "file_extension": ".jl",
   "mimetype": "application/julia",
   "name": "julia",
   "version": "1.6.7"
  }
 },
 "nbformat": 4,
 "nbformat_minor": 4
}
