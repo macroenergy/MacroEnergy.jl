{
 "cells": [
  {
   "cell_type": "markdown",
   "metadata": {},
   "source": [
    "This tutorial shows the potential of using CO2 capture resources in Macro such as Natural Gas Power CCS, SMR H2 CCS, and direct air capture (DAC). Natural Gas Power CCS and SMR H2 CCS works by specifying a CO2 capture rate (for example 0.9) of the total CO2 emitted by natural gas used in producing power and H2 which effectively reduces the total emissions by 90%. On the other hand, DAC leads to a true removal of CO2 from the atmosphere and not just a reduction of emissions. "
   ]
  },
  {
   "cell_type": "code",
   "execution_count": 181,
   "metadata": {},
   "outputs": [
    {
     "name": "stderr",
     "output_type": "stream",
     "text": [
      "\u001b[32m\u001b[1m  Activating\u001b[22m\u001b[39m project at `c:\\Users\\pecci\\Code\\MACRO-dev\\tutorials`\n"
     ]
    }
   ],
   "source": [
    "using Pkg\n",
    "Pkg.activate(\".\")"
   ]
  },
  {
   "cell_type": "code",
   "execution_count": 182,
   "metadata": {},
   "outputs": [],
   "source": [
    "using Macro,CSV,DataFrames"
   ]
  },
  {
   "cell_type": "markdown",
   "metadata": {},
   "source": [
    "Start MACRO model generation (units: MWh for energy, $ for costs)"
   ]
  },
  {
   "cell_type": "code",
   "execution_count": 183,
   "metadata": {},
   "outputs": [],
   "source": [
    "T = 10*24;# 8760;\n",
    "macro_settings = (Commodities = Dict(Electricity=>Dict(:HoursPerTimeStep=>1,:HoursPerSubperiod=>T),\n",
    "                                    Hydrogen=>Dict(:HoursPerTimeStep=>1,:HoursPerSubperiod=>T),\n",
    "                                    NaturalGas=>Dict(:HoursPerTimeStep=>1,:HoursPerSubperiod=>T),\n",
    "                                    CO2=>Dict(:HoursPerTimeStep=>1,:HoursPerSubperiod=>T)),\n",
    "                PeriodLength = T);"
   ]
  },
  {
   "cell_type": "code",
   "execution_count": 184,
   "metadata": {},
   "outputs": [
    {
     "data": {
      "text/plain": [
       "(Commodities = Dict{DataType, Dict{Symbol, Int64}}(Electricity => Dict(:HoursPerSubperiod => 240, :HoursPerTimeStep => 1), NaturalGas => Dict(:HoursPerSubperiod => 240, :HoursPerTimeStep => 1), CO2 => Dict(:HoursPerSubperiod => 240, :HoursPerTimeStep => 1), Hydrogen => Dict(:HoursPerSubperiod => 240, :HoursPerTimeStep => 1)), PeriodLength = 240)"
      ]
     },
     "metadata": {},
     "output_type": "display_data"
    }
   ],
   "source": [
    "macro_settings"
   ]
  },
  {
   "cell_type": "code",
   "execution_count": 185,
   "metadata": {},
   "outputs": [],
   "source": [
    "\n",
    "H2_MWh = 33.33 # MWh per tonne of H2\n",
    "NG_MWh = 0.29307107 # MWh per MMBTU of NG\n",
    "\n",
    "df = CSV.read(\"time_series_data.csv\",DataFrame)\n",
    "\n",
    "electricity_demand = df[1:T,:Electricity_Demand_MW]; # MWh\n",
    "solar_capacity_factor = df[1:T,:Solar_Capacity_Factor]; # factor between 0 and 1\n",
    "ng_fuel_price = df[1:T,:NG_Price]/NG_MWh; # $/MWh of natural gas\n",
    "h2_demand = H2_MWh*df[1:T,:H2_Demand_tonne] # MWh of hydrogen\n",
    "\n",
    "solar_inv_cost = 85300; # $/MW\n",
    "solar_fom_cost = 18760.0; # $/MW\n",
    "\n",
    "battery_inv_cost = 19584.0; #$/MW\n",
    "battery_fom_cost = 4895; # $/MW\n",
    "battery_vom_cost = 0.15; #$/MW\n",
    "battery_inv_cost_storage = 22494.0; #$/MWh\n",
    "battery_fom_cost_storage = 5622; #$/MWh\n",
    "battery_vom_cost_storage = 0.15; #$/MWh\n",
    "battery_eff_up = 0.92;\n",
    "battery_eff_down = 0.92;\n",
    "\n",
    "ngcc_inv_cost = 65400;# $/MW\n",
    "ngcc_fom_cost = 10287.0;# $/MW\n",
    "ngcc_vom_cost = 3.55; #$/MW\n",
    "ngcc_capsize = 250.0;\n",
    "ngcc_heatrate = 7.43*NG_MWh; # MWh of natural gas / MWh of electricity\n",
    "ngcc_fuel_CO2 = 0.05306/NG_MWh; # Tons of CO2 / MWh of natural gas\n",
    "\n",
    "ngcc_ccs_inv_cost = 66400;# $/MW\n",
    "ngcc_ccs_fom_cost = 12287.0;# $/MW\n",
    "ngcc_ccs_vom_cost = 3.65; #$/MW\n",
    "ngcc_ccs_capsize = 250.0;\n",
    "ngcc_ccs_heatrate = 7.43*NG_MWh; # MWh of natural gas / MWh of electricity\n",
    "ngcc_ccs_fuel_CO2 = 0.05306/NG_MWh; # Tons of CO2 / MWh of natural gas\n",
    "ngcc_ccs_CO2_captured_rate = 0.9; #Tons of CO2 captured/Tons of CO2 produced by fuel\n",
    "\n",
    "electric_dac_inv_cost = 9390;# $/Tonnes of CO2 captured/h\n",
    "electric_dac_fom_cost = 7470;# $/Tonnes of CO2 captured/h\n",
    "electric_dac_vom_cost = 22; #$/Tonnes of CO2 captured\n",
    "electric_dac_power_input = 4.38; #MWh/Tonnes of CO2 captured\n",
    "electric_dac_capsize = 20;# Tonnes of CO2 captured/h\n",
    "\n",
    "electrolyzer_capsize = 2*H2_MWh # MWh of H2\n",
    "electrolyzer_efficiency = 1/(45/H2_MWh) # MWh of H2 / MWh of electricity\n",
    "electrolyzer_inv_cost = 2033333/H2_MWh # $/MW of H2\n",
    "electrolyzer_fom_cost = 30500/H2_MWh # $/MW of H2\n",
    "electrolyzer_vom_cost = 0.0;\n",
    "\n",
    "smr_inv_cost = 1033333/H2_MWh;# $/MW of H2\n",
    "smr_fom_cost = 20500/H2_MWh;# $/MW of H2\n",
    "smr_vom_cost = 0.0; #$/MW of H2\n",
    "smr_capsize = 20*H2_MWh;\n",
    "smr_heatrate = 7.43*NG_MWh; # MWh of natural gas / MWh of H2\n",
    "smr_fuel_CO2 = 0.05306/NG_MWh; # Tons of CO2 / MWh of natural gas\n",
    "\n",
    "smr_ccs_inv_cost = 1133333/H2_MWh;# $/MW of H2\n",
    "smr_ccs_fom_cost = 21500/H2_MWh;# $/MW of H2\n",
    "smr_ccs_vom_cost = 0.0; #$/MW of H2\n",
    "smr_ccs_capsize = 20*H2_MWh;\n",
    "smr_ccs_heatrate = 7.43*NG_MWh; # MWh of natural gas / MWh of H2\n",
    "smr_ccs_fuel_CO2 = 0.05306/NG_MWh; # Tons of CO2 / MWh of natural gas\n",
    "smr_ccs_CO2_captured_rate = 0.9; #Tons of CO2 captured/Tons of CO2 produced by fuel\n"
   ]
  },
  {
   "cell_type": "code",
   "execution_count": 186,
   "metadata": {},
   "outputs": [
    {
     "data": {
      "text/plain": [
       "subperiods (generic function with 1 method)"
      ]
     },
     "metadata": {},
     "output_type": "display_data"
    }
   ],
   "source": [
    "### For now, we use the same temporal resolution and subperiods for every commodity, but MACRO will allow to use different temporal resolution for different commodities\n",
    "\n",
    "hours_per_timestep(c) = macro_settings.Commodities[c][:HoursPerTimeStep];\n",
    "hours_per_subperiod(c) = macro_settings.Commodities[c][:HoursPerSubperiod]\n",
    "timesteps(c)= 1:hours_per_timestep(c):macro_settings.PeriodLength\n",
    "\n",
    "subperiods(c) = collect(Iterators.partition(timesteps(c), Int(hours_per_subperiod(c) / hours_per_timestep(c))),)"
   ]
  },
  {
   "cell_type": "markdown",
   "metadata": {},
   "source": [
    "Let's start from creating an electricity node:"
   ]
  },
  {
   "cell_type": "code",
   "execution_count": 187,
   "metadata": {},
   "outputs": [
    {
     "data": {
      "text/plain": [
       "Node{Electricity}(:E_node, [7850.0, 7424.0, 7107.0, 6947.0, 6922.0, 7045.0, 7307.0, 7544.0, 7946.0, 8340.0  …  10262.0, 10332.0, 11008.0, 11778.0, 11691.0, 11401.0, 10973.0, 10250.0, 9297.0, 8468.0], 1:1:240, StepRange{Int64, Int64}[1:1:240], [0.0], [0.0], Dict{Any, Any}(), Dict{Any, Any}(), Dict{DataType, Float64}(), Dict{DataType, Float64}(), Macro.AbstractTypeConstraint[Macro.DemandBalanceConstraint(missing, missing, missing), Macro.MaxNonServedDemandConstraint(missing, missing, missing)])"
      ]
     },
     "metadata": {},
     "output_type": "display_data"
    }
   ],
   "source": [
    "e_node = Node{Electricity}(;\n",
    "    id = Symbol(\"E_node\"),\n",
    "    demand =  electricity_demand,\n",
    "    timesteps = timesteps(Electricity),\n",
    "    subperiods = subperiods(Electricity),\n",
    "    max_nsd = [0.0],\n",
    "    price_nsd = [0.0],\n",
    "    constraints = [Macro.DemandBalanceConstraint(),Macro.MaxNonServedDemandConstraint()]\n",
    ")"
   ]
  },
  {
   "cell_type": "markdown",
   "metadata": {},
   "source": [
    "We assign a solar PV generator to this electricity node:"
   ]
  },
  {
   "cell_type": "code",
   "execution_count": 188,
   "metadata": {},
   "outputs": [
    {
     "data": {
      "text/plain": [
       "TEdge{Electricity}(:E, Node{Electricity}(:E_node, [7850.0, 7424.0, 7107.0, 6947.0, 6922.0, 7045.0, 7307.0, 7544.0, 7946.0, 8340.0  …  10262.0, 10332.0, 11008.0, 11778.0, 11691.0, 11401.0, 10973.0, 10250.0, 9297.0, 8468.0], 1:1:240, StepRange{Int64, Int64}[1:1:240], [0.0], [0.0], Dict{Any, Any}(), Dict{Any, Any}(), Dict{DataType, Float64}(), Dict{DataType, Float64}(), Macro.AbstractTypeConstraint[Macro.DemandBalanceConstraint(missing, missing, missing), Macro.MaxNonServedDemandConstraint(missing, missing, missing)]), Transformation{Electricity}(:SolarPV, 1:1:240, StepRange{Int64, Int64}[1:1:240], Symbol[], Dict{Symbol, TEdge}(:E => TEdge{Electricity}(#= circular reference @-3 =#)), Dict{Any, Any}(), Dict{Any, Any}(), Dict{Any, Any}(), Macro.AbstractTypeConstraint[], 0.0, Inf, 0.0, false, false, 0.0, 0.0, 0.0, 0.0, 0.0, 0.0, :.), :output, true, false, true, 1.0, [0.0, 0.0, 0.0, 0.0, 0.0, 0.0, 0.0, 0.0, 0.1779, 0.429  …  0.5176, 0.3503, 0.1105, 0.0, 0.0, 0.0, 0.0, 0.0, 0.0, 0.0], 1:1:240, StepRange{Int64, Int64}[1:1:240], Dict{Symbol, Float64}(), 0.0, Inf, 0.0, 85300.0, 18760.0, 0.0, Float64[], 0.0, false, 1.0, 1.0, 0, 0, 0.0, Dict{Any, Any}(), Dict{Any, Any}(), Macro.AbstractTypeConstraint[Macro.CapacityConstraint(missing, missing, missing)])"
      ]
     },
     "metadata": {},
     "output_type": "display_data"
    }
   ],
   "source": [
    "solar_pv = Transformation{Electricity}(;\n",
    "    id = :SolarPV,\n",
    "    timesteps = timesteps(Electricity),\n",
    "    subperiods = subperiods(Electricity),\n",
    "    #### Note that this transformation does not have a stoichiometry balance because the sunshine is exogenous :-)\n",
    ")\n",
    "solar_pv.TEdges[:E] = TEdge{Electricity}(;\n",
    "id = :E,\n",
    "node = e_node,\n",
    "transformation = solar_pv,\n",
    "timesteps = timesteps(Electricity),\n",
    "subperiods = subperiods(Electricity),\n",
    "direction = :output,\n",
    "has_planning_variables = true,\n",
    "can_expand = true,\n",
    "can_retire = false,\n",
    "existing_capacity = 0.0,\n",
    "capacity_factor = solar_capacity_factor,\n",
    "investment_cost = solar_inv_cost,\n",
    "fixed_om_cost = solar_fom_cost,\n",
    "constraints = [Macro.CapacityConstraint()]\n",
    ")"
   ]
  },
  {
   "cell_type": "markdown",
   "metadata": {},
   "source": [
    "We can also assigne a battery storage to the node:"
   ]
  },
  {
   "cell_type": "code",
   "execution_count": 189,
   "metadata": {},
   "outputs": [
    {
     "data": {
      "text/plain": [
       "TEdge{Electricity}(:charge, Node{Electricity}(:E_node, [7850.0, 7424.0, 7107.0, 6947.0, 6922.0, 7045.0, 7307.0, 7544.0, 7946.0, 8340.0  …  10262.0, 10332.0, 11008.0, 11778.0, 11691.0, 11401.0, 10973.0, 10250.0, 9297.0, 8468.0], 1:1:240, StepRange{Int64, Int64}[1:1:240], [0.0], [0.0], Dict{Any, Any}(), Dict{Any, Any}(), Dict{DataType, Float64}(), Dict{DataType, Float64}(), Macro.AbstractTypeConstraint[Macro.DemandBalanceConstraint(missing, missing, missing), Macro.MaxNonServedDemandConstraint(missing, missing, missing)]), Transformation{Storage}(:battery, 1:1:240, StepRange{Int64, Int64}[1:1:240], [:storage], Dict{Symbol, TEdge}(:charge => TEdge{Electricity}(#= circular reference @-3 =#), :discharge => TEdge{Electricity}(:discharge, Node{Electricity}(:E_node, [7850.0, 7424.0, 7107.0, 6947.0, 6922.0, 7045.0, 7307.0, 7544.0, 7946.0, 8340.0  …  10262.0, 10332.0, 11008.0, 11778.0, 11691.0, 11401.0, 10973.0, 10250.0, 9297.0, 8468.0], 1:1:240, StepRange{Int64, Int64}[1:1:240], [0.0], [0.0], Dict{Any, Any}(), Dict{Any, Any}(), Dict{DataType, Float64}(), Dict{DataType, Float64}(), Macro.AbstractTypeConstraint[Macro.DemandBalanceConstraint(missing, missing, missing), Macro.MaxNonServedDemandConstraint(missing, missing, missing)]), Transformation{Storage}(#= circular reference @-3 =#), :output, true, false, true, 1.0, Float64[], 1:1:240, StepRange{Int64, Int64}[1:1:240], Dict(:storage => 1.0869565217391304), 0.0, Inf, 0.0, 19584.0, 4895.0, 0.15, Float64[], 0.0, false, 1.0, 1.0, 0, 0, 0.0, Dict{Any, Any}(), Dict{Any, Any}(), Macro.AbstractTypeConstraint[Macro.CapacityConstraint(missing, missing, missing)])), Dict{Any, Any}(), Dict{Any, Any}(), Dict{Any, Any}(), Macro.AbstractTypeConstraint[Macro.StorageCapacityConstraint(missing, missing, missing), Macro.StoichiometryBalanceConstraint(missing, missing, missing)], 0.0, Inf, 0.0, true, false, 22494.0, 5622.0, 0.0, 1.0, 10.0, 0.0, :discharge), :input, false, false, false, 1.0, Float64[], 1:1:240, StepRange{Int64, Int64}[1:1:240], Dict(:storage => 0.92), 0.0, Inf, 0.0, 0.0, 0.0, 0.0, Float64[], 0.0, false, 1.0, 1.0, 0, 0, 0.0, Dict{Any, Any}(), Dict{Any, Any}(), Macro.AbstractTypeConstraint[])"
      ]
     },
     "metadata": {},
     "output_type": "display_data"
    }
   ],
   "source": [
    "battery = Transformation{Storage}(;\n",
    "id = :battery,\n",
    "stoichiometry_balance_names = [:storage],\n",
    "timesteps = timesteps(Electricity),\n",
    "subperiods = subperiods(Electricity),\n",
    "can_expand = true,\n",
    "can_retire = false,\n",
    "existing_capacity_storage = 0.0,\n",
    "investment_cost_storage = battery_inv_cost_storage,\n",
    "fixed_om_cost_storage = battery_fom_cost_storage,\n",
    "min_duration = 1,\n",
    "max_duration = 10,\n",
    "constraints = [Macro.StorageCapacityConstraint(),Macro.StoichiometryBalanceConstraint()],\n",
    "discharge_capacity_edge = :discharge\n",
    ")\n",
    "\n",
    "battery.TEdges[:discharge] = TEdge{Electricity}(;\n",
    "id = :discharge,\n",
    "timesteps = timesteps(Electricity),\n",
    "subperiods = subperiods(Electricity),\n",
    "node = e_node,\n",
    "transformation = battery,\n",
    "direction = :output,\n",
    "has_planning_variables = true,\n",
    "can_expand = true,\n",
    "can_retire = false,\n",
    "existing_capacity = 0.0,\n",
    "investment_cost = battery_inv_cost,\n",
    "fixed_om_cost = battery_fom_cost,\n",
    "variable_om_cost = battery_vom_cost,\n",
    "st_coeff = Dict(:storage=>1/battery_eff_down),\n",
    "constraints = [Macro.CapacityConstraint()]\n",
    ")\n",
    "\n",
    "battery.TEdges[:charge] = TEdge{Electricity}(;\n",
    "id = :charge,\n",
    "timesteps = timesteps(Electricity),\n",
    "subperiods = subperiods(Electricity),\n",
    "node = e_node,\n",
    "transformation = battery,\n",
    "direction = :input,\n",
    "has_planning_variables = false,\n",
    "st_coeff = Dict(:storage=>battery_eff_up)\n",
    ")\n"
   ]
  },
  {
   "cell_type": "markdown",
   "metadata": {},
   "source": [
    "We also consider a hydrogen demand node:"
   ]
  },
  {
   "cell_type": "code",
   "execution_count": 190,
   "metadata": {},
   "outputs": [
    {
     "data": {
      "text/plain": [
       "Node{Hydrogen}(:H2_node, [53.9946, 40.6626, 58.3275, 133.32, 274.6392, 446.95529999999997, 559.6107, 641.2692, 674.5991999999999, 714.2619  …  820.5846, 871.2461999999999, 846.9153, 796.2537, 655.9344, 481.6184999999999, 348.6318, 262.3071, 155.65109999999999, 87.9912], 1:1:240, StepRange{Int64, Int64}[1:1:240], [0.0], [0.0], Dict{Any, Any}(), Dict{Any, Any}(), Dict{DataType, Float64}(), Dict{DataType, Float64}(), Macro.AbstractTypeConstraint[Macro.DemandBalanceConstraint(missing, missing, missing)])"
      ]
     },
     "metadata": {},
     "output_type": "display_data"
    }
   ],
   "source": [
    "h2_node = Node{Hydrogen}(;\n",
    "    id = Symbol(\"H2_node\"),\n",
    "    demand =  h2_demand,\n",
    "    timesteps = timesteps(Hydrogen),\n",
    "    subperiods = subperiods(Hydrogen),\n",
    "    max_nsd = [0.0],\n",
    "    price_nsd = [0.0],\n",
    "    constraints = [Macro.DemandBalanceConstraint()]\n",
    ")"
   ]
  },
  {
   "cell_type": "markdown",
   "metadata": {},
   "source": [
    "We model an exogenous inflow of natural gas into the system using by introducing a natural gas source node (with zero demand):"
   ]
  },
  {
   "cell_type": "code",
   "execution_count": 191,
   "metadata": {},
   "outputs": [
    {
     "data": {
      "text/plain": [
       "TEdge{NaturalGas}(:ng_source, Node{NaturalGas}(:NG_node, [0.0, 0.0, 0.0, 0.0, 0.0, 0.0, 0.0, 0.0, 0.0, 0.0  …  0.0, 0.0, 0.0, 0.0, 0.0, 0.0, 0.0, 0.0, 0.0, 0.0], 1:1:240, StepRange{Int64, Int64}[1:1:240], [0.0], [0.0], Dict{Any, Any}(), Dict{Any, Any}(), Dict{DataType, Float64}(), Dict{DataType, Float64}(), Macro.AbstractTypeConstraint[Macro.DemandBalanceConstraint(missing, missing, missing)]), Transformation{NaturalGas}(:NGImport, 1:1:240, StepRange{Int64, Int64}[1:1:240], Symbol[], Dict{Symbol, TEdge}(:ng_source => TEdge{NaturalGas}(#= circular reference @-3 =#)), Dict{Any, Any}(), Dict{Any, Any}(), Dict{Any, Any}(), Macro.AbstractTypeConstraint[], 0.0, Inf, 0.0, false, false, 0.0, 0.0, 0.0, 0.0, 0.0, 0.0, :.), :output, false, false, false, 1.0, Float64[], 1:1:240, StepRange{Int64, Int64}[1:1:240], Dict{Symbol, Float64}(), 0.0, Inf, 0.0, 0.0, 0.0, 0.0, [18.01610783350264, 18.01610783350264, 18.01610783350264, 18.01610783350264, 18.01610783350264, 18.01610783350264, 18.01610783350264, 18.01610783350264, 18.01610783350264, 18.01610783350264  …  18.01610783350264, 18.01610783350264, 18.01610783350264, 18.01610783350264, 18.01610783350264, 18.01610783350264, 18.01610783350264, 18.01610783350264, 18.01610783350264, 18.01610783350264], 0.0, false, 1.0, 1.0, 0, 0, 0.0, Dict{Any, Any}(), Dict{Any, Any}(), Macro.AbstractTypeConstraint[])"
      ]
     },
     "metadata": {},
     "output_type": "display_data"
    }
   ],
   "source": [
    "ng_node = Node{NaturalGas}(;\n",
    "    id = Symbol(\"NG_node\"),\n",
    "    timesteps = timesteps(NaturalGas),\n",
    "    subperiods = subperiods(NaturalGas),\n",
    "    demand = zeros(length(timesteps(NaturalGas))),\n",
    "    max_nsd = [0.0],\n",
    "    price_nsd = [0.0],\n",
    "    constraints = [Macro.DemandBalanceConstraint()]\n",
    ")\n",
    "\n",
    "NGImport = Transformation{NaturalGas}(;\n",
    "id = :NGImport,\n",
    "timesteps = timesteps(NaturalGas),\n",
    "subperiods = subperiods(NaturalGas),\n",
    "#### Note that this transformation does not have a stoichiometry balance because we are modeling exogenous inflow of NG\n",
    ")\n",
    "\n",
    "NGImport.TEdges[:ng_source] = TEdge{NaturalGas}(;\n",
    "id = :ng_source,\n",
    "node = ng_node,\n",
    "transformation = NGImport,\n",
    "direction = :output,\n",
    "timesteps = timesteps(NaturalGas),\n",
    "subperiods = subperiods(NaturalGas),\n",
    "has_planning_variables = false,\n",
    "price = ng_fuel_price,\n",
    ")"
   ]
  },
  {
   "cell_type": "markdown",
   "metadata": {},
   "source": [
    "We also define a CO2 node:"
   ]
  },
  {
   "cell_type": "code",
   "execution_count": 192,
   "metadata": {},
   "outputs": [
    {
     "data": {
      "text/plain": [
       "Node{CO2}(:CO2_node, [0.0, 0.0, 0.0, 0.0, 0.0, 0.0, 0.0, 0.0, 0.0, 0.0  …  0.0, 0.0, 0.0, 0.0, 0.0, 0.0, 0.0, 0.0, 0.0, 0.0], 1:1:240, StepRange{Int64, Int64}[1:1:240], [0.0], [0.0], Dict{Any, Any}(), Dict{Any, Any}(), Dict{DataType, Float64}(), Dict{DataType, Float64}(), Macro.AbstractTypeConstraint[])"
      ]
     },
     "metadata": {},
     "output_type": "display_data"
    }
   ],
   "source": [
    "co2_node = Node{CO2}(;\n",
    "id = Symbol(\"CO2_node\"),\n",
    "timesteps = timesteps(CO2),\n",
    "subperiods = subperiods(CO2),\n",
    "demand = zeros(length(timesteps(CO2))),\n",
    "max_nsd = [0.0],\n",
    "price_nsd = [0.0],\n",
    ")"
   ]
  },
  {
   "cell_type": "markdown",
   "metadata": {},
   "source": [
    "We define a captured CO2 node to account for the inventory of captured CO2 (output from CO2 capture, input to SNG or potential storage):"
   ]
  },
  {
   "cell_type": "code",
   "execution_count": 193,
   "metadata": {},
   "outputs": [
    {
     "data": {
      "text/plain": [
       "TEdge{CO2Captured}(:co2_sink_flow, Node{CO2Captured}(:CO2_captured_node, [0.0, 0.0, 0.0, 0.0, 0.0, 0.0, 0.0, 0.0, 0.0, 0.0  …  0.0, 0.0, 0.0, 0.0, 0.0, 0.0, 0.0, 0.0, 0.0, 0.0], 1:1:240, StepRange{Int64, Int64}[1:1:240], [0.0], [0.0], Dict{Any, Any}(), Dict{Any, Any}(), Dict{DataType, Float64}(), Dict{DataType, Float64}(), Macro.AbstractTypeConstraint[Macro.DemandBalanceConstraint(missing, missing, missing)]), Transformation{CO2Captured}(:co2_captured_sink, 1:1:240, StepRange{Int64, Int64}[1:1:240], Symbol[], Dict{Symbol, TEdge}(:co2_captured_flow => TEdge{CO2Captured}(#= circular reference @-3 =#)), Dict{Any, Any}(), Dict{Any, Any}(), Dict{Any, Any}(), Macro.AbstractTypeConstraint[], 0.0, Inf, 0.0, false, false, 0.0, 0.0, 0.0, 0.0, 0.0, 0.0, :.), :input, false, false, false, 1.0, Float64[], 1:1:240, StepRange{Int64, Int64}[1:1:240], Dict{Symbol, Float64}(), 0.0, Inf, 0.0, 0.0, 0.0, 0.0, Float64[], 0.0, false, 1.0, 1.0, 0, 0, 0.0, Dict{Any, Any}(), Dict{Any, Any}(), Macro.AbstractTypeConstraint[])"
      ]
     },
     "metadata": {},
     "output_type": "display_data"
    }
   ],
   "source": [
    "co2_captured_node = Node{CO2Captured}(;\n",
    "id = Symbol(\"CO2_captured_node\"),\n",
    "timesteps = timesteps(CO2),\n",
    "subperiods = subperiods(CO2),\n",
    "demand = zeros(length(timesteps(CO2))),\n",
    "max_nsd = [0.0],\n",
    "price_nsd = [0.0],\n",
    "constraints = [Macro.DemandBalanceConstraint()]\n",
    ")\n",
    "\n",
    "co2_captured_sink = Transformation{CO2Captured}(;\n",
    "id = :co2_captured_sink,\n",
    "timesteps = timesteps(CO2),\n",
    "subperiods = subperiods(CO2),\n",
    "#### Note that this transformation does not have a stoichiometry balance because we are modeling just a sink\n",
    ")\n",
    "\n",
    "co2_captured_sink.TEdges[:co2_captured_flow] = TEdge{CO2Captured}(;\n",
    "id = :co2_sink_flow,\n",
    "node = co2_captured_node,\n",
    "transformation = co2_captured_sink,\n",
    "direction = :input,\n",
    "timesteps = timesteps(CO2),\n",
    "subperiods = subperiods(CO2),\n",
    "has_planning_variables = false,\n",
    ")"
   ]
  },
  {
   "cell_type": "markdown",
   "metadata": {},
   "source": [
    "We are now ready to define a natural gas plant! Note that we require two stoichiometry balances:\n",
    "\n",
    "Heat_Rate $\\times$ Electricity = NaturalGas\n",
    "\n",
    "Fuel_CO2 $\\times$ NaturalGas = CO2\n",
    "\n",
    "This transformation has 3 edges: each edge carries a specific commodity flow"
   ]
  },
  {
   "cell_type": "code",
   "execution_count": 194,
   "metadata": {},
   "outputs": [
    {
     "data": {
      "text/plain": [
       "TEdge{CO2}(:CO2, Node{CO2}(:CO2_node, [0.0, 0.0, 0.0, 0.0, 0.0, 0.0, 0.0, 0.0, 0.0, 0.0  …  0.0, 0.0, 0.0, 0.0, 0.0, 0.0, 0.0, 0.0, 0.0, 0.0], 1:1:240, StepRange{Int64, Int64}[1:1:240], [0.0], [0.0], Dict{Any, Any}(), Dict{Any, Any}(), Dict{DataType, Float64}(), Dict{DataType, Float64}(), Macro.AbstractTypeConstraint[]), Transformation{NaturalGasPower}(:NGCC, 1:1:240, StepRange{Int64, Int64}[], [:energy, :emissions], Dict{Symbol, TEdge}(:NG => TEdge{NaturalGas}(:NG, Node{NaturalGas}(:NG_node, [0.0, 0.0, 0.0, 0.0, 0.0, 0.0, 0.0, 0.0, 0.0, 0.0  …  0.0, 0.0, 0.0, 0.0, 0.0, 0.0, 0.0, 0.0, 0.0, 0.0], 1:1:240, StepRange{Int64, Int64}[1:1:240], [0.0], [0.0], Dict{Any, Any}(), Dict{Any, Any}(), Dict{DataType, Float64}(), Dict{DataType, Float64}(), Macro.AbstractTypeConstraint[Macro.DemandBalanceConstraint(missing, missing, missing)]), Transformation{NaturalGasPower}(#= circular reference @-3 =#), :input, false, false, false, 1.0, Float64[], 1:1:240, StepRange{Int64, Int64}[1:1:240], Dict(:emissions => 0.181048235160161, :energy => 1.0), 0.0, Inf, 0.0, 0.0, 0.0, 0.0, Float64[], 0.0, false, 1.0, 1.0, 0, 0, 0.0, Dict{Any, Any}(), Dict{Any, Any}(), Macro.AbstractTypeConstraint[]), :CO2 => TEdge{CO2}(#= circular reference @-3 =#), :E => TEdge{Electricity}(:E, Node{Electricity}(:E_node, [7850.0, 7424.0, 7107.0, 6947.0, 6922.0, 7045.0, 7307.0, 7544.0, 7946.0, 8340.0  …  10262.0, 10332.0, 11008.0, 11778.0, 11691.0, 11401.0, 10973.0, 10250.0, 9297.0, 8468.0], 1:1:240, StepRange{Int64, Int64}[1:1:240], [0.0], [0.0], Dict{Any, Any}(), Dict{Any, Any}(), Dict{DataType, Float64}(), Dict{DataType, Float64}(), Macro.AbstractTypeConstraint[Macro.DemandBalanceConstraint(missing, missing, missing), Macro.MaxNonServedDemandConstraint(missing, missing, missing)]), Transformation{NaturalGasPower}(#= circular reference @-3 =#), :output, true, false, true, 250.0, Float64[], 1:1:240, StepRange{Int64, Int64}[1:1:240], Dict(:emissions => 0.0, :energy => 2.1775180500999998), 0.0, Inf, 0.0, 65400.0, 10287.0, 3.55, Float64[], 0.0, false, 1.0, 1.0, 0, 0, 0.0, Dict{Any, Any}(), Dict{Any, Any}(), Macro.AbstractTypeConstraint[Macro.CapacityConstraint(missing, missing, missing)])), Dict{Any, Any}(), Dict{Any, Any}(), Dict{Any, Any}(), Macro.AbstractTypeConstraint[Macro.StoichiometryBalanceConstraint(missing, missing, missing)], 0.0, Inf, 0.0, false, false, 0.0, 0.0, 0.0, 0.0, 0.0, 0.0, :.), :output, false, false, false, 1.0, Float64[], 1:1:240, StepRange{Int64, Int64}[1:1:240], Dict(:emissions => 1.0, :energy => 0.0), 0.0, Inf, 0.0, 0.0, 0.0, 0.0, Float64[], 0.0, false, 1.0, 1.0, 0, 0, 0.0, Dict{Any, Any}(), Dict{Any, Any}(), Macro.AbstractTypeConstraint[])"
      ]
     },
     "metadata": {},
     "output_type": "display_data"
    }
   ],
   "source": [
    "ngcc = Transformation{NaturalGasPower}(;\n",
    "id = :NGCC,\n",
    "timesteps = timesteps(Electricity),\n",
    "stoichiometry_balance_names = [:energy,:emissions],\n",
    "constraints = [Macro.StoichiometryBalanceConstraint()]\n",
    ")\n",
    "\n",
    "ngcc.TEdges[:E] = TEdge{Electricity}(;\n",
    "id = :E,\n",
    "node = e_node,\n",
    "transformation = ngcc,\n",
    "direction = :output,\n",
    "has_planning_variables = true,\n",
    "can_expand = true,\n",
    "can_retire = false,\n",
    "capacity_size = ngcc_capsize,\n",
    "timesteps = timesteps(Electricity),\n",
    "subperiods = subperiods(Electricity),\n",
    "st_coeff = Dict(:energy=>ngcc_heatrate,:emissions=>0.0),\n",
    "existing_capacity = 0.0,\n",
    "investment_cost = ngcc_inv_cost,\n",
    "fixed_om_cost = ngcc_fom_cost,\n",
    "variable_om_cost = ngcc_vom_cost,\n",
    "constraints = [Macro.CapacityConstraint()]\n",
    ")\n",
    "\n",
    "ngcc.TEdges[:NG] = TEdge{NaturalGas}(;\n",
    "id =  :NG,\n",
    "node = ng_node,\n",
    "transformation = ngcc,\n",
    "direction = :input,\n",
    "has_planning_variables = false,\n",
    "timesteps = timesteps(NaturalGas),\n",
    "subperiods = subperiods(NaturalGas),\n",
    "st_coeff = Dict(:energy=>1.0,:emissions=>ngcc_fuel_CO2)\n",
    ")\n",
    "\n",
    "ngcc.TEdges[:CO2] = TEdge{CO2}(;\n",
    "    id = :CO2,\n",
    "    node = co2_node,\n",
    "    transformation = ngcc,\n",
    "    direction = :output,\n",
    "    has_planning_variables = false,\n",
    "    timesteps = timesteps(CO2),\n",
    "    subperiods = subperiods(CO2),\n",
    "    st_coeff = Dict(:energy=>0.0,:emissions=>1.0)\n",
    ")"
   ]
  },
  {
   "cell_type": "markdown",
   "metadata": {},
   "source": [
    "We are now ready to define a natural gas plant with CCS! Note that we require three stoichiometry balances:\n",
    "\n",
    "Heat_Rate $\\times$ Electricity = NaturalGas\n",
    "\n",
    "Fuel_CO2 $\\times$ NaturalGas $\\times$ (1-CCS rate) = CO2\n",
    "\n",
    "Fuel_CO2 $\\times$ NaturalGas $\\times$ CCS rate = CO2_Captured\n",
    "\n",
    "This transformation has 4 edges: each edge carries a specific commodity flow"
   ]
  },
  {
   "cell_type": "code",
   "execution_count": 195,
   "metadata": {},
   "outputs": [
    {
     "data": {
      "text/plain": [
       "TEdge{CO2Captured}(:CO2_Captured, Node{CO2Captured}(:CO2_captured_node, [0.0, 0.0, 0.0, 0.0, 0.0, 0.0, 0.0, 0.0, 0.0, 0.0  …  0.0, 0.0, 0.0, 0.0, 0.0, 0.0, 0.0, 0.0, 0.0, 0.0], 1:1:240, StepRange{Int64, Int64}[1:1:240], [0.0], [0.0], Dict{Any, Any}(), Dict{Any, Any}(), Dict{DataType, Float64}(), Dict{DataType, Float64}(), Macro.AbstractTypeConstraint[Macro.DemandBalanceConstraint(missing, missing, missing)]), Transformation{NaturalGasPowerCCS}(:NGCC_CCS, 1:1:240, StepRange{Int64, Int64}[], [:energy, :emissions, :captured_emissions], Dict{Symbol, TEdge}(:CO2_Captured => TEdge{CO2Captured}(#= circular reference @-3 =#), :NG => TEdge{NaturalGas}(:NG, Node{NaturalGas}(:NG_node, [0.0, 0.0, 0.0, 0.0, 0.0, 0.0, 0.0, 0.0, 0.0, 0.0  …  0.0, 0.0, 0.0, 0.0, 0.0, 0.0, 0.0, 0.0, 0.0, 0.0], 1:1:240, StepRange{Int64, Int64}[1:1:240], [0.0], [0.0], Dict{Any, Any}(), Dict{Any, Any}(), Dict{DataType, Float64}(), Dict{DataType, Float64}(), Macro.AbstractTypeConstraint[Macro.DemandBalanceConstraint(missing, missing, missing)]), Transformation{NaturalGasPowerCCS}(#= circular reference @-3 =#), :input, false, false, false, 1.0, Float64[], 1:1:240, StepRange{Int64, Int64}[1:1:240], Dict(:emissions => 0.018104823516016097, :energy => 1.0, :captured_emissions => 0.16294341164414491), 0.0, Inf, 0.0, 0.0, 0.0, 0.0, Float64[], 0.0, false, 1.0, 1.0, 0, 0, 0.0, Dict{Any, Any}(), Dict{Any, Any}(), Macro.AbstractTypeConstraint[]), :CO2 => TEdge{CO2}(:CO2, Node{CO2}(:CO2_node, [0.0, 0.0, 0.0, 0.0, 0.0, 0.0, 0.0, 0.0, 0.0, 0.0  …  0.0, 0.0, 0.0, 0.0, 0.0, 0.0, 0.0, 0.0, 0.0, 0.0], 1:1:240, StepRange{Int64, Int64}[1:1:240], [0.0], [0.0], Dict{Any, Any}(), Dict{Any, Any}(), Dict{DataType, Float64}(), Dict{DataType, Float64}(), Macro.AbstractTypeConstraint[]), Transformation{NaturalGasPowerCCS}(#= circular reference @-3 =#), :output, false, false, false, 1.0, Float64[], 1:1:240, StepRange{Int64, Int64}[1:1:240], Dict(:emissions => 1.0, :energy => 0.0, :captured_emissions => 0.0), 0.0, Inf, 0.0, 0.0, 0.0, 0.0, Float64[], 0.0, false, 1.0, 1.0, 0, 0, 0.0, Dict{Any, Any}(), Dict{Any, Any}(), Macro.AbstractTypeConstraint[]), :E => TEdge{Electricity}(:E, Node{Electricity}(:E_node, [7850.0, 7424.0, 7107.0, 6947.0, 6922.0, 7045.0, 7307.0, 7544.0, 7946.0, 8340.0  …  10262.0, 10332.0, 11008.0, 11778.0, 11691.0, 11401.0, 10973.0, 10250.0, 9297.0, 8468.0], 1:1:240, StepRange{Int64, Int64}[1:1:240], [0.0], [0.0], Dict{Any, Any}(), Dict{Any, Any}(), Dict{DataType, Float64}(), Dict{DataType, Float64}(), Macro.AbstractTypeConstraint[Macro.DemandBalanceConstraint(missing, missing, missing), Macro.MaxNonServedDemandConstraint(missing, missing, missing)]), Transformation{NaturalGasPowerCCS}(#= circular reference @-3 =#), :output, true, false, true, 250.0, Float64[], 1:1:240, StepRange{Int64, Int64}[1:1:240], Dict(:emissions => 0.0, :energy => 2.1775180500999998, :captured_emissions => 0.0), 0.0, Inf, 0.0, 66400.0, 12287.0, 3.65, Float64[], 0.0, false, 1.0, 1.0, 0, 0, 0.0, Dict{Any, Any}(), Dict{Any, Any}(), Macro.AbstractTypeConstraint[Macro.CapacityConstraint(missing, missing, missing)])), Dict{Any, Any}(), Dict{Any, Any}(), Dict{Any, Any}(), Macro.AbstractTypeConstraint[Macro.StoichiometryBalanceConstraint(missing, missing, missing)], 0.0, Inf, 0.0, false, false, 0.0, 0.0, 0.0, 0.0, 0.0, 0.0, :.), :output, false, false, false, 1.0, Float64[], 1:1:240, StepRange{Int64, Int64}[1:1:240], Dict(:emissions => 0.0, :energy => 0.0, :captured_emissions => 1.0), 0.0, Inf, 0.0, 0.0, 0.0, 0.0, Float64[], 0.0, false, 1.0, 1.0, 0, 0, 0.0, Dict{Any, Any}(), Dict{Any, Any}(), Macro.AbstractTypeConstraint[])"
      ]
     },
     "metadata": {},
     "output_type": "display_data"
    }
   ],
   "source": [
    "ngcc_ccs = Transformation{NaturalGasPowerCCS}(;\n",
    "id = :NGCC_CCS,\n",
    "timesteps = timesteps(Electricity),\n",
    "stoichiometry_balance_names = [:energy,:emissions,:captured_emissions],\n",
    "constraints = [Macro.StoichiometryBalanceConstraint()]\n",
    ")\n",
    "\n",
    "ngcc_ccs.TEdges[:E] = TEdge{Electricity}(;\n",
    "id = :E,\n",
    "node = e_node,\n",
    "transformation = ngcc_ccs,\n",
    "direction = :output,\n",
    "has_planning_variables = true,\n",
    "can_expand = true,\n",
    "can_retire = false,\n",
    "capacity_size = ngcc_ccs_capsize,\n",
    "timesteps = timesteps(Electricity),\n",
    "subperiods = subperiods(Electricity),\n",
    "st_coeff = Dict(:energy=>ngcc_ccs_heatrate,:emissions=>0.0,:captured_emissions=>0.0),\n",
    "existing_capacity = 0.0,\n",
    "investment_cost = ngcc_ccs_inv_cost,\n",
    "fixed_om_cost = ngcc_ccs_fom_cost,\n",
    "variable_om_cost = ngcc_ccs_vom_cost,\n",
    "constraints = [Macro.CapacityConstraint()]\n",
    ")\n",
    "\n",
    "ngcc_ccs.TEdges[:NG] = TEdge{NaturalGas}(;\n",
    "id =  :NG,\n",
    "node = ng_node,\n",
    "transformation = ngcc_ccs,\n",
    "direction = :input,\n",
    "has_planning_variables = false,\n",
    "timesteps = timesteps(NaturalGas),\n",
    "subperiods = subperiods(NaturalGas),\n",
    "st_coeff = Dict(:energy=>1.0,:emissions=>ngcc_ccs_fuel_CO2*(1-ngcc_ccs_CO2_captured_rate),:captured_emissions=>ngcc_ccs_fuel_CO2*ngcc_ccs_CO2_captured_rate)\n",
    ")\n",
    "\n",
    "ngcc_ccs.TEdges[:CO2] = TEdge{CO2}(;\n",
    "    id = :CO2,\n",
    "    node = co2_node,\n",
    "    transformation = ngcc_ccs,\n",
    "    direction = :output,\n",
    "    has_planning_variables = false,\n",
    "    timesteps = timesteps(CO2),\n",
    "    subperiods = subperiods(CO2),\n",
    "    st_coeff = Dict(:energy=>0.0,:emissions=>1.0,:captured_emissions=>0.0)\n",
    ")\n",
    "\n",
    "ngcc_ccs.TEdges[:CO2_Captured]=TEdge{CO2Captured}(;\n",
    "    id = :CO2_Captured,\n",
    "    node = co2_captured_node,\n",
    "    transformation = ngcc_ccs,\n",
    "    direction = :output,\n",
    "    has_planning_variables = false,\n",
    "    timesteps = timesteps(CO2),\n",
    "    subperiods = subperiods(CO2),\n",
    "    st_coeff = Dict(:energy=>0.0,:emissions=>0.0,:captured_emissions=>1.0)\n",
    ")"
   ]
  },
  {
   "cell_type": "markdown",
   "metadata": {},
   "source": [
    "We can also create an electrolyzer, which is defined by a single stoichiometry balance: electrolyzer_efficiency $\\times$ Electricity = H2"
   ]
  },
  {
   "cell_type": "code",
   "execution_count": 196,
   "metadata": {},
   "outputs": [
    {
     "data": {
      "text/plain": [
       "TEdge{Electricity}(:E, Node{Electricity}(:E_node, [7850.0, 7424.0, 7107.0, 6947.0, 6922.0, 7045.0, 7307.0, 7544.0, 7946.0, 8340.0  …  10262.0, 10332.0, 11008.0, 11778.0, 11691.0, 11401.0, 10973.0, 10250.0, 9297.0, 8468.0], 1:1:240, StepRange{Int64, Int64}[1:1:240], [0.0], [0.0], Dict{Any, Any}(), Dict{Any, Any}(), Dict{DataType, Float64}(), Dict{DataType, Float64}(), Macro.AbstractTypeConstraint[Macro.DemandBalanceConstraint(missing, missing, missing), Macro.MaxNonServedDemandConstraint(missing, missing, missing)]), Transformation{Electrolyzer}(:Electrolyzer, 1:1:240, StepRange{Int64, Int64}[], [:energy], Dict{Symbol, TEdge}(:Electrolyzer_E => TEdge{Electricity}(#= circular reference @-3 =#), :H2 => TEdge{Hydrogen}(:H2, Node{Hydrogen}(:H2_node, [53.9946, 40.6626, 58.3275, 133.32, 274.6392, 446.95529999999997, 559.6107, 641.2692, 674.5991999999999, 714.2619  …  820.5846, 871.2461999999999, 846.9153, 796.2537, 655.9344, 481.6184999999999, 348.6318, 262.3071, 155.65109999999999, 87.9912], 1:1:240, StepRange{Int64, Int64}[1:1:240], [0.0], [0.0], Dict{Any, Any}(), Dict{Any, Any}(), Dict{DataType, Float64}(), Dict{DataType, Float64}(), Macro.AbstractTypeConstraint[Macro.DemandBalanceConstraint(missing, missing, missing)]), Transformation{Electrolyzer}(#= circular reference @-3 =#), :output, true, false, true, 66.66, Float64[], 1:1:240, StepRange{Int64, Int64}[1:1:240], Dict(:energy => 1.0), 0.0, Inf, 0.0, 61006.090609060906, 915.0915091509152, 0.0, Float64[], 0.0, false, 1.0, 1.0, 0, 0, 0.0, Dict{Any, Any}(), Dict{Any, Any}(), Macro.AbstractTypeConstraint[Macro.CapacityConstraint(missing, missing, missing)])), Dict{Any, Any}(), Dict{Any, Any}(), Dict{Any, Any}(), Macro.AbstractTypeConstraint[Macro.StoichiometryBalanceConstraint(missing, missing, missing)], 0.0, Inf, 0.0, false, false, 0.0, 0.0, 0.0, 0.0, 0.0, 0.0, :.), :input, false, false, false, 1.0, Float64[], 1:1:240, StepRange{Int64, Int64}[1:1:240], Dict(:energy => 0.7406666666666667), 0.0, Inf, 0.0, 0.0, 0.0, 0.0, Float64[], 0.0, false, 1.0, 1.0, 0, 0, 0.0, Dict{Any, Any}(), Dict{Any, Any}(), Macro.AbstractTypeConstraint[])"
      ]
     },
     "metadata": {},
     "output_type": "display_data"
    }
   ],
   "source": [
    "electrolyzer = Transformation{Electrolyzer}(;\n",
    "                id = :Electrolyzer,\n",
    "                timesteps = timesteps(Electricity),\n",
    "                stoichiometry_balance_names = [:energy],\n",
    "                constraints = [Macro.StoichiometryBalanceConstraint()]\n",
    "                )\n",
    "\n",
    "electrolyzer.TEdges[:H2] = TEdge{Hydrogen}(;\n",
    "    id = :H2,\n",
    "    node = h2_node,\n",
    "    transformation = electrolyzer,\n",
    "    direction = :output,\n",
    "    has_planning_variables = true,\n",
    "    can_expand = true,\n",
    "    can_retire = false,\n",
    "    capacity_size = electrolyzer_capsize,\n",
    "    timesteps = timesteps(Hydrogen),\n",
    "    subperiods = subperiods(Hydrogen),\n",
    "    st_coeff = Dict(:energy=>1.0),\n",
    "    existing_capacity = 0.0,\n",
    "    investment_cost = electrolyzer_inv_cost,\n",
    "    fixed_om_cost = electrolyzer_fom_cost,\n",
    "    variable_om_cost = electrolyzer_vom_cost,\n",
    "    constraints = [Macro.CapacityConstraint()]\n",
    ")\n",
    "\n",
    "electrolyzer.TEdges[:Electrolyzer_E] = TEdge{Electricity}(;\n",
    "    id = :E,\n",
    "    node = e_node,\n",
    "    transformation = electrolyzer,\n",
    "    direction = :input,\n",
    "    has_planning_variables = false,\n",
    "    timesteps = timesteps(Electricity),\n",
    "    subperiods = subperiods(Electricity),\n",
    "    st_coeff = Dict(:energy=>electrolyzer_efficiency)\n",
    ")"
   ]
  },
  {
   "cell_type": "markdown",
   "metadata": {},
   "source": [
    "We are now ready to define a natural gas hydrogen plant or SMR similar to a natural gas power plant"
   ]
  },
  {
   "cell_type": "code",
   "execution_count": 197,
   "metadata": {},
   "outputs": [
    {
     "data": {
      "text/plain": [
       "TEdge{CO2}(:CO2, Node{CO2}(:CO2_node, [0.0, 0.0, 0.0, 0.0, 0.0, 0.0, 0.0, 0.0, 0.0, 0.0  …  0.0, 0.0, 0.0, 0.0, 0.0, 0.0, 0.0, 0.0, 0.0, 0.0], 1:1:240, StepRange{Int64, Int64}[1:1:240], [0.0], [0.0], Dict{Any, Any}(), Dict{Any, Any}(), Dict{DataType, Float64}(), Dict{DataType, Float64}(), Macro.AbstractTypeConstraint[]), Transformation{NaturalGasHydrogen}(:SMR, 1:1:240, StepRange{Int64, Int64}[], [:energy, :emissions], Dict{Symbol, TEdge}(:NG => TEdge{NaturalGas}(:NG, Node{NaturalGas}(:NG_node, [0.0, 0.0, 0.0, 0.0, 0.0, 0.0, 0.0, 0.0, 0.0, 0.0  …  0.0, 0.0, 0.0, 0.0, 0.0, 0.0, 0.0, 0.0, 0.0, 0.0], 1:1:240, StepRange{Int64, Int64}[1:1:240], [0.0], [0.0], Dict{Any, Any}(), Dict{Any, Any}(), Dict{DataType, Float64}(), Dict{DataType, Float64}(), Macro.AbstractTypeConstraint[Macro.DemandBalanceConstraint(missing, missing, missing)]), Transformation{NaturalGasHydrogen}(#= circular reference @-3 =#), :input, false, false, false, 1.0, Float64[], 1:1:240, StepRange{Int64, Int64}[1:1:240], Dict(:emissions => 0.181048235160161, :energy => 1.0), 0.0, Inf, 0.0, 0.0, 0.0, 0.0, Float64[], 0.0, false, 1.0, 1.0, 0, 0, 0.0, Dict{Any, Any}(), Dict{Any, Any}(), Macro.AbstractTypeConstraint[]), :H2 => TEdge{Hydrogen}(:H2, Node{Hydrogen}(:H2_node, [53.9946, 40.6626, 58.3275, 133.32, 274.6392, 446.95529999999997, 559.6107, 641.2692, 674.5991999999999, 714.2619  …  820.5846, 871.2461999999999, 846.9153, 796.2537, 655.9344, 481.6184999999999, 348.6318, 262.3071, 155.65109999999999, 87.9912], 1:1:240, StepRange{Int64, Int64}[1:1:240], [0.0], [0.0], Dict{Any, Any}(), Dict{Any, Any}(), Dict{DataType, Float64}(), Dict{DataType, Float64}(), Macro.AbstractTypeConstraint[Macro.DemandBalanceConstraint(missing, missing, missing)]), Transformation{NaturalGasHydrogen}(#= circular reference @-3 =#), :output, true, false, true, 666.5999999999999, Float64[], 1:1:240, StepRange{Int64, Int64}[1:1:240], Dict(:emissions => 0.0, :energy => 2.1775180500999998), 0.0, Inf, 0.0, 31003.090309030904, 615.0615061506151, 0.0, Float64[], 0.0, false, 1.0, 1.0, 0, 0, 0.0, Dict{Any, Any}(), Dict{Any, Any}(), Macro.AbstractTypeConstraint[Macro.CapacityConstraint(missing, missing, missing)]), :CO2 => TEdge{CO2}(#= circular reference @-3 =#)), Dict{Any, Any}(), Dict{Any, Any}(), Dict{Any, Any}(), Macro.AbstractTypeConstraint[Macro.StoichiometryBalanceConstraint(missing, missing, missing)], 0.0, Inf, 0.0, false, false, 0.0, 0.0, 0.0, 0.0, 0.0, 0.0, :.), :output, false, false, false, 1.0, Float64[], 1:1:240, StepRange{Int64, Int64}[1:1:240], Dict(:emissions => 1.0, :energy => 0.0), 0.0, Inf, 0.0, 0.0, 0.0, 0.0, Float64[], 0.0, false, 1.0, 1.0, 0, 0, 0.0, Dict{Any, Any}(), Dict{Any, Any}(), Macro.AbstractTypeConstraint[])"
      ]
     },
     "metadata": {},
     "output_type": "display_data"
    }
   ],
   "source": [
    "smr = Transformation{NaturalGasHydrogen}(;\n",
    "                id = :SMR,\n",
    "                timesteps = timesteps(Hydrogen),\n",
    "                stoichiometry_balance_names = [:energy,:emissions],\n",
    "                constraints = [Macro.StoichiometryBalanceConstraint()]\n",
    "                )\n",
    "\n",
    "smr.TEdges[:H2] = TEdge{Hydrogen}(;\n",
    "    id = :H2,\n",
    "    node = h2_node,\n",
    "    transformation = smr,\n",
    "    direction = :output,\n",
    "    has_planning_variables = true,\n",
    "    can_expand = true,\n",
    "    can_retire = false,\n",
    "    capacity_size = smr_capsize,\n",
    "    timesteps = timesteps(Hydrogen),\n",
    "    subperiods = subperiods(Hydrogen),\n",
    "    st_coeff = Dict(:energy=>smr_heatrate,:emissions=>0.0),\n",
    "    existing_capacity = 0.0,\n",
    "    investment_cost = smr_inv_cost,\n",
    "    fixed_om_cost = smr_fom_cost,\n",
    "    variable_om_cost = smr_vom_cost,\n",
    "    constraints = [Macro.CapacityConstraint()]\n",
    ")\n",
    "\n",
    "smr.TEdges[:NG] = TEdge{NaturalGas}(;\n",
    "id =  :NG,\n",
    "node = ng_node,\n",
    "transformation = smr,\n",
    "direction = :input,\n",
    "has_planning_variables = false,\n",
    "timesteps = timesteps(NaturalGas),\n",
    "subperiods = subperiods(NaturalGas),\n",
    "st_coeff = Dict(:energy=>1.0,:emissions=>smr_fuel_CO2)\n",
    ")\n",
    "\n",
    "smr.TEdges[:CO2] = TEdge{CO2}(;\n",
    "    id = :CO2,\n",
    "    node = co2_node,\n",
    "    transformation = smr,\n",
    "    direction = :output,\n",
    "    has_planning_variables = false,\n",
    "    timesteps = timesteps(CO2),\n",
    "    subperiods = subperiods(CO2),\n",
    "    st_coeff = Dict(:energy=>0.0,:emissions=>1.0)\n",
    ")"
   ]
  },
  {
   "cell_type": "markdown",
   "metadata": {},
   "source": [
    "Now, let's add a SMR hydrogen plant with CCS, similar to a natural gas power plant with CCS"
   ]
  },
  {
   "cell_type": "code",
   "execution_count": 198,
   "metadata": {},
   "outputs": [
    {
     "data": {
      "text/plain": [
       "TEdge{CO2Captured}(:CO2_Captured, Node{CO2Captured}(:CO2_captured_node, [0.0, 0.0, 0.0, 0.0, 0.0, 0.0, 0.0, 0.0, 0.0, 0.0  …  0.0, 0.0, 0.0, 0.0, 0.0, 0.0, 0.0, 0.0, 0.0, 0.0], 1:1:240, StepRange{Int64, Int64}[1:1:240], [0.0], [0.0], Dict{Any, Any}(), Dict{Any, Any}(), Dict{DataType, Float64}(), Dict{DataType, Float64}(), Macro.AbstractTypeConstraint[Macro.DemandBalanceConstraint(missing, missing, missing)]), Transformation{NaturalGasHydrogenCCS}(:SMR_CCS, 1:1:240, StepRange{Int64, Int64}[], [:energy, :emissions, :captured_emissions], Dict{Symbol, TEdge}(:CO2_Captured => TEdge{CO2Captured}(#= circular reference @-3 =#), :NG => TEdge{NaturalGas}(:NG, Node{NaturalGas}(:NG_node, [0.0, 0.0, 0.0, 0.0, 0.0, 0.0, 0.0, 0.0, 0.0, 0.0  …  0.0, 0.0, 0.0, 0.0, 0.0, 0.0, 0.0, 0.0, 0.0, 0.0], 1:1:240, StepRange{Int64, Int64}[1:1:240], [0.0], [0.0], Dict{Any, Any}(), Dict{Any, Any}(), Dict{DataType, Float64}(), Dict{DataType, Float64}(), Macro.AbstractTypeConstraint[Macro.DemandBalanceConstraint(missing, missing, missing)]), Transformation{NaturalGasHydrogenCCS}(#= circular reference @-3 =#), :input, false, false, false, 1.0, Float64[], 1:1:240, StepRange{Int64, Int64}[1:1:240], Dict(:emissions => 0.018104823516016097, :energy => 1.0, :captured_emissions => 0.16294341164414491), 0.0, Inf, 0.0, 0.0, 0.0, 0.0, Float64[], 0.0, false, 1.0, 1.0, 0, 0, 0.0, Dict{Any, Any}(), Dict{Any, Any}(), Macro.AbstractTypeConstraint[]), :H2 => TEdge{Hydrogen}(:H2, Node{Hydrogen}(:H2_node, [53.9946, 40.6626, 58.3275, 133.32, 274.6392, 446.95529999999997, 559.6107, 641.2692, 674.5991999999999, 714.2619  …  820.5846, 871.2461999999999, 846.9153, 796.2537, 655.9344, 481.6184999999999, 348.6318, 262.3071, 155.65109999999999, 87.9912], 1:1:240, StepRange{Int64, Int64}[1:1:240], [0.0], [0.0], Dict{Any, Any}(), Dict{Any, Any}(), Dict{DataType, Float64}(), Dict{DataType, Float64}(), Macro.AbstractTypeConstraint[Macro.DemandBalanceConstraint(missing, missing, missing)]), Transformation{NaturalGasHydrogenCCS}(#= circular reference @-3 =#), :output, true, false, true, 666.5999999999999, Float64[], 1:1:240, StepRange{Int64, Int64}[1:1:240], Dict(:emissions => 0.0, :energy => 2.1775180500999998, :captured_emissions => 0.0), 0.0, Inf, 0.0, 34003.390339033904, 645.0645064506451, 0.0, Float64[], 0.0, false, 1.0, 1.0, 0, 0, 0.0, Dict{Any, Any}(), Dict{Any, Any}(), Macro.AbstractTypeConstraint[Macro.CapacityConstraint(missing, missing, missing)]), :CO2 => TEdge{CO2}(:CO2, Node{CO2}(:CO2_node, [0.0, 0.0, 0.0, 0.0, 0.0, 0.0, 0.0, 0.0, 0.0, 0.0  …  0.0, 0.0, 0.0, 0.0, 0.0, 0.0, 0.0, 0.0, 0.0, 0.0], 1:1:240, StepRange{Int64, Int64}[1:1:240], [0.0], [0.0], Dict{Any, Any}(), Dict{Any, Any}(), Dict{DataType, Float64}(), Dict{DataType, Float64}(), Macro.AbstractTypeConstraint[]), Transformation{NaturalGasHydrogenCCS}(#= circular reference @-3 =#), :output, false, false, false, 1.0, Float64[], 1:1:240, StepRange{Int64, Int64}[1:1:240], Dict(:emissions => 1.0, :energy => 0.0, :captured_emissions => 0.0), 0.0, Inf, 0.0, 0.0, 0.0, 0.0, Float64[], 0.0, false, 1.0, 1.0, 0, 0, 0.0, Dict{Any, Any}(), Dict{Any, Any}(), Macro.AbstractTypeConstraint[])), Dict{Any, Any}(), Dict{Any, Any}(), Dict{Any, Any}(), Macro.AbstractTypeConstraint[Macro.StoichiometryBalanceConstraint(missing, missing, missing)], 0.0, Inf, 0.0, false, false, 0.0, 0.0, 0.0, 0.0, 0.0, 0.0, :.), :output, false, false, false, 1.0, Float64[], 1:1:240, StepRange{Int64, Int64}[1:1:240], Dict(:emissions => 0.0, :energy => 0.0, :captured_emissions => 1.0), 0.0, Inf, 0.0, 0.0, 0.0, 0.0, Float64[], 0.0, false, 1.0, 1.0, 0, 0, 0.0, Dict{Any, Any}(), Dict{Any, Any}(), Macro.AbstractTypeConstraint[])"
      ]
     },
     "metadata": {},
     "output_type": "display_data"
    }
   ],
   "source": [
    "smr_ccs = Transformation{NaturalGasHydrogenCCS}(;\n",
    "                id = :SMR_CCS,\n",
    "                timesteps = timesteps(Hydrogen),\n",
    "                stoichiometry_balance_names = [:energy,:emissions,:captured_emissions],\n",
    "                constraints = [Macro.StoichiometryBalanceConstraint()]\n",
    "                )\n",
    "\n",
    "smr_ccs.TEdges[:H2] = TEdge{Hydrogen}(;\n",
    "    id = :H2,\n",
    "    node = h2_node,\n",
    "    transformation = smr_ccs,\n",
    "    direction = :output,\n",
    "    has_planning_variables = true,\n",
    "    can_expand = true,\n",
    "    can_retire = false,\n",
    "    capacity_size = smr_ccs_capsize,\n",
    "    timesteps = timesteps(Hydrogen),\n",
    "    subperiods = subperiods(Hydrogen),\n",
    "    st_coeff = Dict(:energy=>smr_ccs_heatrate,:emissions=>0.0,:captured_emissions=>0.0),\n",
    "    existing_capacity = 0.0,\n",
    "    investment_cost = smr_ccs_inv_cost,\n",
    "    fixed_om_cost = smr_ccs_fom_cost,\n",
    "    variable_om_cost = smr_ccs_vom_cost,\n",
    "    constraints = [Macro.CapacityConstraint()]\n",
    ")\n",
    "\n",
    "smr_ccs.TEdges[:NG] = TEdge{NaturalGas}(;\n",
    "id =  :NG,\n",
    "node = ng_node,\n",
    "transformation = smr_ccs,\n",
    "direction = :input,\n",
    "has_planning_variables = false,\n",
    "timesteps = timesteps(NaturalGas),\n",
    "subperiods = subperiods(NaturalGas),\n",
    "st_coeff = Dict(:energy=>1.0,:emissions=>smr_ccs_fuel_CO2*(1-smr_ccs_CO2_captured_rate),:captured_emissions=>smr_ccs_fuel_CO2*smr_ccs_CO2_captured_rate)\n",
    ")\n",
    "\n",
    "smr_ccs.TEdges[:CO2] = TEdge{CO2}(;\n",
    "    id = :CO2,\n",
    "    node = co2_node,\n",
    "    transformation = smr_ccs,\n",
    "    direction = :output,\n",
    "    has_planning_variables = false,\n",
    "    timesteps = timesteps(CO2),\n",
    "    subperiods = subperiods(CO2),\n",
    "    st_coeff = Dict(:energy=>0.0,:emissions=>1.0,:captured_emissions=>0.0)\n",
    ")\n",
    "\n",
    "smr_ccs.TEdges[:CO2_Captured] = TEdge{CO2Captured}(;\n",
    "    id = :CO2_Captured,\n",
    "    node = co2_captured_node,\n",
    "    transformation = smr_ccs,\n",
    "    direction = :output,\n",
    "    has_planning_variables = false,\n",
    "    timesteps = timesteps(CO2),\n",
    "    subperiods = subperiods(CO2),\n",
    "    st_coeff = Dict(:energy=>0.0,:emissions=>0.0,:captured_emissions=>1.0)\n",
    ")"
   ]
  },
  {
   "cell_type": "markdown",
   "metadata": {},
   "source": [
    "Let's add a direct air capture unit consuming electricity and capturing CO2 from the atmosphere into the captured CO2 inventory"
   ]
  },
  {
   "cell_type": "code",
   "execution_count": 199,
   "metadata": {},
   "outputs": [
    {
     "data": {
      "text/plain": [
       "TEdge{Electricity}(:E, Node{Electricity}(:E_node, [7850.0, 7424.0, 7107.0, 6947.0, 6922.0, 7045.0, 7307.0, 7544.0, 7946.0, 8340.0  …  10262.0, 10332.0, 11008.0, 11778.0, 11691.0, 11401.0, 10973.0, 10250.0, 9297.0, 8468.0], 1:1:240, StepRange{Int64, Int64}[1:1:240], [0.0], [0.0], Dict{Any, Any}(), Dict{Any, Any}(), Dict{DataType, Float64}(), Dict{DataType, Float64}(), Macro.AbstractTypeConstraint[Macro.DemandBalanceConstraint(missing, missing, missing), Macro.MaxNonServedDemandConstraint(missing, missing, missing)]), Transformation{DACElectric}(:Electric_DAC, 1:1:240, StepRange{Int64, Int64}[], [:energy, :captured_co2], Dict{Symbol, TEdge}(:CO2_Captured => TEdge{CO2Captured}(:CO2_Captured, Node{CO2Captured}(:CO2_captured_node, [0.0, 0.0, 0.0, 0.0, 0.0, 0.0, 0.0, 0.0, 0.0, 0.0  …  0.0, 0.0, 0.0, 0.0, 0.0, 0.0, 0.0, 0.0, 0.0, 0.0], 1:1:240, StepRange{Int64, Int64}[1:1:240], [0.0], [0.0], Dict{Any, Any}(), Dict{Any, Any}(), Dict{DataType, Float64}(), Dict{DataType, Float64}(), Macro.AbstractTypeConstraint[Macro.DemandBalanceConstraint(missing, missing, missing)]), Transformation{DACElectric}(#= circular reference @-3 =#), :output, true, false, true, 20.0, Float64[], 1:1:240, StepRange{Int64, Int64}[1:1:240], Dict(:energy => 4.38, :captured_co2 => 1.0), 0.0, Inf, 0.0, 9390.0, 7470.0, 22.0, Float64[], 0.0, false, 1.0, 1.0, 0, 0, 0.0, Dict{Any, Any}(), Dict{Any, Any}(), Macro.AbstractTypeConstraint[Macro.CapacityConstraint(missing, missing, missing)]), :CO2_Input => TEdge{CO2}(:CO2_Input, Node{CO2}(:CO2_node, [0.0, 0.0, 0.0, 0.0, 0.0, 0.0, 0.0, 0.0, 0.0, 0.0  …  0.0, 0.0, 0.0, 0.0, 0.0, 0.0, 0.0, 0.0, 0.0, 0.0], 1:1:240, StepRange{Int64, Int64}[1:1:240], [0.0], [0.0], Dict{Any, Any}(), Dict{Any, Any}(), Dict{DataType, Float64}(), Dict{DataType, Float64}(), Macro.AbstractTypeConstraint[]), Transformation{DACElectric}(#= circular reference @-3 =#), :input, false, false, false, 1.0, Float64[], 1:1:240, StepRange{Int64, Int64}[1:1:240], Dict(:energy => 0.0, :captured_co2 => 1.0), 0.0, Inf, 0.0, 0.0, 0.0, 0.0, Float64[], 0.0, false, 1.0, 1.0, 0, 0, 0.0, Dict{Any, Any}(), Dict{Any, Any}(), Macro.AbstractTypeConstraint[]), :E => TEdge{Electricity}(#= circular reference @-3 =#)), Dict{Any, Any}(), Dict{Any, Any}(), Dict{Any, Any}(), Macro.AbstractTypeConstraint[Macro.StoichiometryBalanceConstraint(missing, missing, missing)], 0.0, Inf, 0.0, false, false, 0.0, 0.0, 0.0, 0.0, 0.0, 0.0, :.), :input, false, false, false, 1.0, Float64[], 1:1:240, StepRange{Int64, Int64}[1:1:240], Dict(:energy => 1.0, :captured_co2 => 0.0), 0.0, Inf, 0.0, 0.0, 0.0, 0.0, Float64[], 0.0, false, 1.0, 1.0, 0, 0, 0.0, Dict{Any, Any}(), Dict{Any, Any}(), Macro.AbstractTypeConstraint[])"
      ]
     },
     "metadata": {},
     "output_type": "display_data"
    }
   ],
   "source": [
    "electric_dac = Transformation{DACElectric}(;\n",
    "                id = :Electric_DAC,\n",
    "                timesteps = timesteps(CO2),\n",
    "                stoichiometry_balance_names  = [:energy,:captured_co2],\n",
    "                constraints = [Macro.StoichiometryBalanceConstraint()]\n",
    "                )\n",
    "\n",
    "electric_dac.TEdges[:CO2_Captured] = TEdge{CO2Captured}(;\n",
    "    id = :CO2_Captured,\n",
    "    node = co2_captured_node,\n",
    "    transformation = electric_dac,\n",
    "    direction = :output,\n",
    "    has_planning_variables = true,\n",
    "    can_expand = true,\n",
    "    can_retire = false,\n",
    "    capacity_size = electric_dac_capsize,\n",
    "    timesteps = timesteps(CO2),\n",
    "    subperiods = subperiods(CO2),\n",
    "    st_coeff = Dict(:energy=>electric_dac_power_input,:captured_co2=>1.0),\n",
    "    existing_capacity = 0.0,\n",
    "    investment_cost = electric_dac_inv_cost,\n",
    "    fixed_om_cost = electric_dac_fom_cost,\n",
    "    variable_om_cost = electric_dac_vom_cost,\n",
    "    constraints = [Macro.CapacityConstraint()]\n",
    ")\n",
    "\n",
    "electric_dac.TEdges[:CO2_Input] = TEdge{CO2}(;\n",
    "    id = :CO2_Input,\n",
    "    node = co2_node,\n",
    "    transformation = electric_dac,\n",
    "    direction = :input,\n",
    "    has_planning_variables = false,\n",
    "    timesteps = timesteps(CO2),\n",
    "    subperiods = subperiods(CO2),\n",
    "    st_coeff = Dict(:energy=>0.0,:captured_co2=>1.0)\n",
    ")\n",
    "\n",
    "electric_dac.TEdges[:E] = TEdge{Electricity}(;\n",
    "    id = :E,\n",
    "    node = e_node,\n",
    "    transformation = electric_dac,\n",
    "    direction = :input,\n",
    "    has_planning_variables = false,\n",
    "    timesteps = timesteps(Electricity),\n",
    "    subperiods = subperiods(Electricity),\n",
    "    st_coeff = Dict(:energy=>1.0,:captured_co2=>0.0)\n",
    ")"
   ]
  },
  {
   "cell_type": "markdown",
   "metadata": {},
   "source": [
    "Now that we have implemented different technologies, we can create the JuMP model."
   ]
  },
  {
   "cell_type": "code",
   "execution_count": 200,
   "metadata": {},
   "outputs": [],
   "source": [
    "nodes = [e_node; h2_node; ng_node; co2_node; co2_captured_node];\n",
    "system = [nodes;solar_pv; battery; ngcc; ngcc_ccs; electrolyzer; smr; smr_ccs; electric_dac;NGImport;co2_captured_sink];"
   ]
  },
  {
   "cell_type": "code",
   "execution_count": 201,
   "metadata": {},
   "outputs": [],
   "source": [
    "model = Macro.JuMP.Model();\n",
    "Macro.@variable(model,vREF==1) ## Variable used to initialize empty expressions\n",
    "Macro.@expression(model, eFixedCost, 0 * model[:vREF]);\n",
    "Macro.@expression(model, eVariableCost, 0 * model[:vREF]);"
   ]
  },
  {
   "cell_type": "code",
   "execution_count": 202,
   "metadata": {},
   "outputs": [],
   "source": [
    "Macro.add_planning_variables!.(system,model);"
   ]
  },
  {
   "cell_type": "code",
   "execution_count": 203,
   "metadata": {},
   "outputs": [],
   "source": [
    "Macro.add_operation_variables!.(system, model);"
   ]
  },
  {
   "cell_type": "code",
   "execution_count": 204,
   "metadata": {},
   "outputs": [
    {
     "name": "stderr",
     "output_type": "stream",
     "text": [
      "┌ Warning: MaxNonServedDemandConstraint required for a node that does not have a non-served demand variable so MACRO will not create this constraint\n",
      "└ @ Macro c:\\Users\\pecci\\Code\\MACRO-dev\\src\\node.jl:92\n"
     ]
    }
   ],
   "source": [
    "Macro.add_all_model_constraints!.(system, model);"
   ]
  },
  {
   "cell_type": "code",
   "execution_count": 205,
   "metadata": {},
   "outputs": [],
   "source": [
    "Macro.@objective(model, Min, model[:eFixedCost] + model[:eVariableCost]);\n"
   ]
  },
  {
   "cell_type": "code",
   "execution_count": 206,
   "metadata": {},
   "outputs": [],
   "source": [
    "using Gurobi"
   ]
  },
  {
   "cell_type": "code",
   "execution_count": 207,
   "metadata": {},
   "outputs": [
    {
     "name": "stdout",
     "output_type": "stream",
     "text": [
      "Set parameter Username\n",
      "Academic license - for non-commercial use only - expires 2025-03-18\n"
     ]
    }
   ],
   "source": [
    "Macro.set_optimizer(model,Gurobi.Optimizer)"
   ]
  },
  {
   "cell_type": "code",
   "execution_count": 208,
   "metadata": {},
   "outputs": [
    {
     "name": "stdout",
     "output_type": "stream",
     "text": [
      "Gurobi Optimizer version 10.0.2 build v10.0.2rc0 (win64)\n",
      "\n",
      "CPU model: Intel(R) Core(TM) i9-9980HK CPU @ 2.40GHz, instruction set [SSE2|AVX|AVX2]\n",
      "Thread count: 8 physical cores, 16 logical processors, using up to 16 threads\n",
      "\n",
      "Optimize a model with 6492 rows, 6028 columns and 15962 nonzeros\n",
      "Model fingerprint: 0x56425319\n",
      "Coefficient statistics:\n",
      "  Matrix range     [2e-02, 7e+02]\n",
      "  Objective range  [1e-01, 2e+07]\n",
      "  Bounds range     [1e+00, 1e+00]\n",
      "  RHS range        [4e+01, 1e+04]\n",
      "Presolve removed 3760 rows and 3769 columns\n",
      "Presolve time: 0.01s\n",
      "Presolved: 2732 rows, 2259 columns, 7234 nonzeros\n",
      "\n",
      "Iteration    Objective       Primal Inf.    Dual Inf.      Time\n",
      "       0    0.0000000e+00   3.400506e+05   0.000000e+00      0s\n",
      "    1516    1.1086626e+09   0.000000e+00   0.000000e+00      0s\n",
      "\n",
      "Solved in 1516 iterations and 0.02 seconds (0.01 work units)\n",
      "Optimal objective  1.108662624e+09\n",
      "\n",
      "User-callback calls 1577, time in user-callback 0.00 sec\n"
     ]
    }
   ],
   "source": [
    "Macro.optimize!(model)"
   ]
  },
  {
   "cell_type": "markdown",
   "metadata": {},
   "source": [
    "The installed electrolyzer capacity is:"
   ]
  },
  {
   "cell_type": "code",
   "execution_count": 209,
   "metadata": {},
   "outputs": [
    {
     "data": {
      "text/plain": [
       "0.0"
      ]
     },
     "metadata": {},
     "output_type": "display_data"
    }
   ],
   "source": [
    "Macro.value(Macro.capacity(electrolyzer.TEdges[:H2]))"
   ]
  },
  {
   "cell_type": "markdown",
   "metadata": {},
   "source": [
    "The installed SMR capacity is"
   ]
  },
  {
   "cell_type": "code",
   "execution_count": 210,
   "metadata": {},
   "outputs": [
    {
     "data": {
      "text/plain": [
       "1039.5627"
      ]
     },
     "metadata": {},
     "output_type": "display_data"
    }
   ],
   "source": [
    "Macro.value(Macro.capacity(smr.TEdges[:H2]))"
   ]
  },
  {
   "cell_type": "markdown",
   "metadata": {},
   "source": [
    "The installed SMR CCS capacity is"
   ]
  },
  {
   "cell_type": "code",
   "execution_count": 211,
   "metadata": {},
   "outputs": [
    {
     "data": {
      "text/plain": [
       "0.0"
      ]
     },
     "metadata": {},
     "output_type": "display_data"
    }
   ],
   "source": [
    "Macro.value(Macro.capacity(smr_ccs.TEdges[:H2]))"
   ]
  },
  {
   "cell_type": "markdown",
   "metadata": {},
   "source": [
    "The installed solar capacity in MW is:"
   ]
  },
  {
   "cell_type": "code",
   "execution_count": 212,
   "metadata": {},
   "outputs": [
    {
     "data": {
      "text/plain": [
       "0.0"
      ]
     },
     "metadata": {},
     "output_type": "display_data"
    }
   ],
   "source": [
    "Macro.value(Macro.capacity(solar_pv.TEdges[:E]))"
   ]
  },
  {
   "cell_type": "markdown",
   "metadata": {},
   "source": [
    "The installed battery capacity in MW is:"
   ]
  },
  {
   "cell_type": "code",
   "execution_count": 213,
   "metadata": {},
   "outputs": [
    {
     "data": {
      "text/plain": [
       "99.0"
      ]
     },
     "metadata": {},
     "output_type": "display_data"
    }
   ],
   "source": [
    "Macro.value(Macro.capacity(battery.TEdges[:discharge]))"
   ]
  },
  {
   "cell_type": "markdown",
   "metadata": {},
   "source": [
    "The installed NGCC capacity in MW is:"
   ]
  },
  {
   "cell_type": "code",
   "execution_count": 214,
   "metadata": {},
   "outputs": [
    {
     "data": {
      "text/plain": [
       "12772.0"
      ]
     },
     "metadata": {},
     "output_type": "display_data"
    }
   ],
   "source": [
    "Macro.value(Macro.capacity(ngcc.TEdges[:E]))"
   ]
  },
  {
   "cell_type": "markdown",
   "metadata": {},
   "source": [
    "The installed NGCC CCS capacity in MW is:"
   ]
  },
  {
   "cell_type": "code",
   "execution_count": 215,
   "metadata": {},
   "outputs": [
    {
     "data": {
      "text/plain": [
       "0.0"
      ]
     },
     "metadata": {},
     "output_type": "display_data"
    }
   ],
   "source": [
    "Macro.value(Macro.capacity(ngcc_ccs.TEdges[:E]))"
   ]
  },
  {
   "cell_type": "markdown",
   "metadata": {},
   "source": [
    "The installed Electric DAC capacity in Tons CO2/h is:"
   ]
  },
  {
   "cell_type": "code",
   "execution_count": 216,
   "metadata": {},
   "outputs": [
    {
     "data": {
      "text/plain": [
       "0.0"
      ]
     },
     "metadata": {},
     "output_type": "display_data"
    }
   ],
   "source": [
    "Macro.value(Macro.capacity(electric_dac.TEdges[:CO2_Captured]))"
   ]
  },
  {
   "cell_type": "markdown",
   "metadata": {},
   "source": [
    "The resulting CO2 emissions from fossil fuel power and H2 production in tonnes are:"
   ]
  },
  {
   "cell_type": "code",
   "execution_count": 217,
   "metadata": {},
   "outputs": [
    {
     "data": {
      "text/plain": [
       "959351.1366111384"
      ]
     },
     "metadata": {},
     "output_type": "display_data"
    }
   ],
   "source": [
    "base_emissions  = sum(Macro.value.(Macro.flow(ngcc.TEdges[:CO2]))) +  sum(Macro.value.(Macro.flow(ngcc_ccs.TEdges[:CO2]))) + sum(Macro.value.(Macro.flow(smr.TEdges[:CO2]))) + sum(Macro.value.(Macro.flow(smr_ccs.TEdges[:CO2])))"
   ]
  },
  {
   "cell_type": "markdown",
   "metadata": {},
   "source": [
    "The resulting CO2 removed from the atmosphere by DAC in tonnes are:"
   ]
  },
  {
   "cell_type": "code",
   "execution_count": 218,
   "metadata": {},
   "outputs": [
    {
     "data": {
      "text/plain": [
       "0.0"
      ]
     },
     "metadata": {},
     "output_type": "display_data"
    }
   ],
   "source": [
    "atm_CO2_captured  = sum(Macro.value.(Macro.flow(electric_dac.TEdges[:CO2_Input])))"
   ]
  },
  {
   "cell_type": "markdown",
   "metadata": {},
   "source": [
    "The net CO2 emissions (CO2 emissions - CO2 removed from the atmosphere by DAC) in tonnes are:"
   ]
  },
  {
   "cell_type": "code",
   "execution_count": 219,
   "metadata": {},
   "outputs": [
    {
     "data": {
      "text/plain": [
       "959351.136611139"
      ]
     },
     "metadata": {},
     "output_type": "display_data"
    }
   ],
   "source": [
    "net_emissions = sum(Macro.value.(Macro.net_balance(co2_node)))"
   ]
  },
  {
   "cell_type": "markdown",
   "metadata": {},
   "source": [
    "The resulting captured CO2 (DAC + Power CCS + H2 CCS) in tonnes that can be transported to storage are:"
   ]
  },
  {
   "cell_type": "code",
   "execution_count": 220,
   "metadata": {},
   "outputs": [
    {
     "data": {
      "text/plain": [
       "0.0"
      ]
     },
     "metadata": {},
     "output_type": "display_data"
    }
   ],
   "source": [
    "base_CO2_captured  = sum(Macro.value.(Macro.flow(ngcc_ccs.TEdges[:CO2_Captured]))) + sum(Macro.value.(Macro.flow(smr_ccs.TEdges[:CO2_Captured]))) + sum(Macro.value.(Macro.flow(electric_dac.TEdges[:CO2_Captured])))"
   ]
  },
  {
   "cell_type": "markdown",
   "metadata": {},
   "source": [
    "However, if we add a net-zero CO2 cap accounting for both positive emissions from Natural gas power and H2, and negative emissions from DAC:"
   ]
  },
  {
   "cell_type": "code",
   "execution_count": 221,
   "metadata": {},
   "outputs": [
    {
     "data": {
      "text/plain": [
       "1-dimensional DenseAxisArray{JuMP.ConstraintRef{JuMP.Model, MathOptInterface.ConstraintIndex{MathOptInterface.ScalarAffineFunction{Float64}, MathOptInterface.LessThan{Float64}}, JuMP.ScalarShape},1,...} with index sets:\n",
       "    Dimension 1, [1]\n",
       "And data, a 1-element Vector{JuMP.ConstraintRef{JuMP.Model, MathOptInterface.ConstraintIndex{MathOptInterface.ScalarAffineFunction{Float64}, MathOptInterface.LessThan{Float64}}, JuMP.ScalarShape}}:\n",
       " vFLOW_NGCC_CO2[1] + vFLOW_NGCC_CO2[2] + vFLOW_NGCC_CO2[3] + vFLOW_NGCC_CO2[4] + vFLOW_NGCC_CO2[5] + vFLOW_NGCC_CO2[6] + vFLOW_NGCC_CO2[7] + vFLOW_NGCC_CO2[8] + vFLOW_NGCC_CO2[9] + vFLOW_NGCC_CO2[10] + vFLOW_NGCC_CO2[11] + vFLOW_NGCC_CO2[12] + vFLOW_NGCC_CO2[13] + vFLOW_NGCC_CO2[14] + vFLOW_NGCC_CO2[15] + vFLOW_NGCC_CO2[16] + vFLOW_NGCC_CO2[17] + vFLOW_NGCC_CO2[18] + vFLOW_NGCC_CO2[19] + vFLOW_NGCC_CO2[20] + vFLOW_NGCC_CO2[21] + vFLOW_NGCC_CO2[22] + vFLOW_NGCC_CO2[23] + vFLOW_NGCC_CO2[24] + vFLOW_NGCC_CO2[25] + vFLOW_NGCC_CO2[26] + vFLOW_NGCC_CO2[27] + vFLOW_NGCC_CO2[28] + vFLOW_NGCC_CO2[29] + vFLOW_NGCC_CO2[30] + [[...1140 terms omitted...]] - vFLOW_Electric_DAC_CO2_Input[211] - vFLOW_Electric_DAC_CO2_Input[212] - vFLOW_Electric_DAC_CO2_Input[213] - vFLOW_Electric_DAC_CO2_Input[214] - vFLOW_Electric_DAC_CO2_Input[215] - vFLOW_Electric_DAC_CO2_Input[216] - vFLOW_Electric_DAC_CO2_Input[217] - vFLOW_Electric_DAC_CO2_Input[218] - vFLOW_Electric_DAC_CO2_Input[219] - vFLOW_Electric_DAC_CO2_Input[220] - vFLOW_Electric_DAC_CO2_Input[221] - vFLOW_Electric_DAC_CO2_Input[222] - vFLOW_Electric_DAC_CO2_Input[223] - vFLOW_Electric_DAC_CO2_Input[224] - vFLOW_Electric_DAC_CO2_Input[225] - vFLOW_Electric_DAC_CO2_Input[226] - vFLOW_Electric_DAC_CO2_Input[227] - vFLOW_Electric_DAC_CO2_Input[228] - vFLOW_Electric_DAC_CO2_Input[229] - vFLOW_Electric_DAC_CO2_Input[230] - vFLOW_Electric_DAC_CO2_Input[231] - vFLOW_Electric_DAC_CO2_Input[232] - vFLOW_Electric_DAC_CO2_Input[233] - vFLOW_Electric_DAC_CO2_Input[234] - vFLOW_Electric_DAC_CO2_Input[235] - vFLOW_Electric_DAC_CO2_Input[236] - vFLOW_Electric_DAC_CO2_Input[237] - vFLOW_Electric_DAC_CO2_Input[238] - vFLOW_Electric_DAC_CO2_Input[239] - vFLOW_Electric_DAC_CO2_Input[240] <= 0"
      ]
     },
     "metadata": {},
     "output_type": "display_data"
    }
   ],
   "source": [
    "merge!(co2_node.rhs_policy,Dict(Macro.CO2CapConstraint=>0.0))\n",
    "append!(co2_node.constraints,[Macro.CO2CapConstraint()])\n",
    "Macro.add_model_constraint!(co2_node.constraints[1],co2_node,model)"
   ]
  },
  {
   "cell_type": "code",
   "execution_count": 222,
   "metadata": {},
   "outputs": [
    {
     "name": "stdout",
     "output_type": "stream",
     "text": [
      "Gurobi Optimizer version 10.0.2 build v10.0.2rc0 (win64)\n",
      "\n",
      "CPU model: Intel(R) Core(TM) i9-9980HK CPU @ 2.40GHz, instruction set [SSE2|AVX|AVX2]\n",
      "Thread count: 8 physical cores, 16 logical processors, using up to 16 threads\n",
      "\n",
      "Optimize a model with 6493 rows, 6028 columns and 17162 nonzeros\n",
      "Coefficient statistics:\n",
      "  Matrix range     [2e-02, 7e+02]\n",
      "  Objective range  [1e-01, 2e+07]\n",
      "  Bounds range     [1e+00, 1e+00]\n",
      "  RHS range        [4e+01, 1e+04]\n",
      "Iteration    Objective       Primal Inf.    Dual Inf.      Time\n",
      "       0    1.1086626e+09   9.593511e+05   0.000000e+00      0s\n",
      "    1755    1.1839163e+09   0.000000e+00   0.000000e+00      0s\n",
      "\n",
      "Solved in 1755 iterations and 0.17 seconds (0.35 work units)\n",
      "Optimal objective  1.183916322e+09\n",
      "\n",
      "User-callback calls 1775, time in user-callback 0.00 sec\n"
     ]
    }
   ],
   "source": [
    "Macro.optimize!(model)"
   ]
  },
  {
   "cell_type": "markdown",
   "metadata": {},
   "source": [
    "Now, the electrolyzer capacity is:"
   ]
  },
  {
   "cell_type": "code",
   "execution_count": 223,
   "metadata": {},
   "outputs": [
    {
     "data": {
      "text/plain": [
       "0.0"
      ]
     },
     "metadata": {},
     "output_type": "display_data"
    }
   ],
   "source": [
    "Macro.value(Macro.capacity(electrolyzer.TEdges[:H2]))"
   ]
  },
  {
   "cell_type": "markdown",
   "metadata": {},
   "source": [
    "The SMR capacity is:"
   ]
  },
  {
   "cell_type": "code",
   "execution_count": 224,
   "metadata": {},
   "outputs": [
    {
     "data": {
      "text/plain": [
       "140.3193"
      ]
     },
     "metadata": {},
     "output_type": "display_data"
    }
   ],
   "source": [
    "Macro.value(Macro.capacity(smr.TEdges[:H2]))"
   ]
  },
  {
   "cell_type": "markdown",
   "metadata": {},
   "source": [
    "The SMR CCS capacity is:"
   ]
  },
  {
   "cell_type": "code",
   "execution_count": 225,
   "metadata": {},
   "outputs": [
    {
     "data": {
      "text/plain": [
       "899.2434"
      ]
     },
     "metadata": {},
     "output_type": "display_data"
    }
   ],
   "source": [
    "Macro.value(Macro.capacity(smr_ccs.TEdges[:H2]))"
   ]
  },
  {
   "cell_type": "markdown",
   "metadata": {},
   "source": [
    "Now the solar capacity is:"
   ]
  },
  {
   "cell_type": "code",
   "execution_count": 226,
   "metadata": {},
   "outputs": [
    {
     "data": {
      "text/plain": [
       "0.0"
      ]
     },
     "metadata": {},
     "output_type": "display_data"
    }
   ],
   "source": [
    "Macro.value(Macro.capacity(solar_pv.TEdges[:E]))"
   ]
  },
  {
   "cell_type": "markdown",
   "metadata": {},
   "source": [
    "The installed battery capacity is:"
   ]
  },
  {
   "cell_type": "code",
   "execution_count": 227,
   "metadata": {},
   "outputs": [
    {
     "data": {
      "text/plain": [
       "99.00000000002925"
      ]
     },
     "metadata": {},
     "output_type": "display_data"
    }
   ],
   "source": [
    "Macro.value(Macro.capacity(battery.TEdges[:discharge]))"
   ]
  },
  {
   "cell_type": "markdown",
   "metadata": {},
   "source": [
    "The installed NG capacity is:"
   ]
  },
  {
   "cell_type": "code",
   "execution_count": 228,
   "metadata": {},
   "outputs": [
    {
     "data": {
      "text/plain": [
       "1.465341015276863"
      ]
     },
     "metadata": {},
     "output_type": "display_data"
    }
   ],
   "source": [
    "Macro.value(Macro.capacity(ngcc.TEdges[:E]))"
   ]
  },
  {
   "cell_type": "markdown",
   "metadata": {},
   "source": [
    "The installed NG CCS capacity is:"
   ]
  },
  {
   "cell_type": "code",
   "execution_count": 229,
   "metadata": {},
   "outputs": [
    {
     "data": {
      "text/plain": [
       "12770.534658984723"
      ]
     },
     "metadata": {},
     "output_type": "display_data"
    }
   ],
   "source": [
    "Macro.value(Macro.capacity(ngcc_ccs.TEdges[:E]))"
   ]
  },
  {
   "cell_type": "markdown",
   "metadata": {},
   "source": [
    "The installed Electric DAC capacity is:"
   ]
  },
  {
   "cell_type": "code",
   "execution_count": 230,
   "metadata": {},
   "outputs": [
    {
     "data": {
      "text/plain": [
       "568.6152189462838"
      ]
     },
     "metadata": {},
     "output_type": "display_data"
    }
   ],
   "source": [
    "Macro.value(Macro.capacity(electric_dac.TEdges[:CO2_Captured]))"
   ]
  },
  {
   "cell_type": "markdown",
   "metadata": {},
   "source": [
    "The resulting CO2 emissions from fossil fuel power and H2 production in tonnes are:"
   ]
  },
  {
   "cell_type": "code",
   "execution_count": 231,
   "metadata": {},
   "outputs": [
    {
     "data": {
      "text/plain": [
       "116260.31434665824"
      ]
     },
     "metadata": {},
     "output_type": "display_data"
    }
   ],
   "source": [
    "sum(Macro.value.(Macro.flow(ngcc.TEdges[:CO2]))) +  sum(Macro.value.(Macro.flow(ngcc_ccs.TEdges[:CO2]))) + sum(Macro.value.(Macro.flow(smr.TEdges[:CO2]))) + sum(Macro.value.(Macro.flow(smr_ccs.TEdges[:CO2])))"
   ]
  },
  {
   "cell_type": "markdown",
   "metadata": {},
   "source": [
    "The resulting CO2 removed from the atmosphere by DAC in tonnes are:"
   ]
  },
  {
   "cell_type": "code",
   "execution_count": 232,
   "metadata": {},
   "outputs": [
    {
     "data": {
      "text/plain": [
       "116260.31434665878"
      ]
     },
     "metadata": {},
     "output_type": "display_data"
    }
   ],
   "source": [
    "dac_CO2_captured  = Macro.value(sum(Macro.flow(electric_dac.TEdges[:CO2_Input])[t] for t in timesteps(CO2)))"
   ]
  },
  {
   "cell_type": "markdown",
   "metadata": {},
   "source": [
    "The net CO2 emissions (CO2 emissions - CO2 removed from the atmosphere by DAC) in tonnes are:"
   ]
  },
  {
   "cell_type": "code",
   "execution_count": 233,
   "metadata": {},
   "outputs": [
    {
     "data": {
      "text/plain": [
       "-2.219735506514553e-10"
      ]
     },
     "metadata": {},
     "output_type": "display_data"
    }
   ],
   "source": [
    "net_emissions = sum(Macro.value.(Macro.net_balance(co2_node)))"
   ]
  },
  {
   "cell_type": "markdown",
   "metadata": {},
   "source": [
    "The resulting captured CO2 (DAC + Power CCS + H2 CCS) in tonnes that can be transported to storage are:"
   ]
  },
  {
   "cell_type": "code",
   "execution_count": 234,
   "metadata": {},
   "outputs": [
    {
     "data": {
      "text/plain": [
       "1.1601566114423336e6"
      ]
     },
     "metadata": {},
     "output_type": "display_data"
    }
   ],
   "source": [
    "Macro.sum(Macro.value.(Macro.flow(co2_captured_sink.TEdges[:co2_captured_flow])))"
   ]
  },
  {
   "cell_type": "markdown",
   "metadata": {},
   "source": [
    "We see that in a net-zero emission case with negative emissions from DAC, a combination of Natural Gas Power CCS and SMR H2 CCS with DAC is deployed."
   ]
  },
  {
   "cell_type": "markdown",
   "metadata": {},
   "source": [
    "Here is the full hourly time series of captured CO2:"
   ]
  },
  {
   "cell_type": "code",
   "execution_count": 235,
   "metadata": {},
   "outputs": [
    {
     "data": {
      "text/plain": [
       "1-dimensional DenseAxisArray{Float64,1,...} with index sets:\n",
       "    Dimension 1, 1:1:240\n",
       "And data, a 240-element Vector{Float64}:\n",
       " 4298.2221779160245\n",
       " 4100.840858944569\n",
       " 3994.633107589647\n",
       " 3964.471407797997\n",
       " 4005.742881378621\n",
       " 4110.524642421363\n",
       " 4243.456956630351\n",
       " 4356.520886437221\n",
       " 4510.981290169821\n",
       " 4664.850115488015\n",
       "    ⋮\n",
       " 5397.013624157439\n",
       " 5237.521180134846\n",
       " 5040.268382447719\n",
       " 5010.344393804504\n",
       " 5014.705028006306\n",
       " 5065.236616726001\n",
       " 5182.1823697603595\n",
       " 4806.203471964039\n",
       " 4488.057582260061"
      ]
     },
     "metadata": {},
     "output_type": "display_data"
    }
   ],
   "source": [
    "Macro.value.(Macro.flow(co2_captured_sink.TEdges[:co2_captured_flow]))"
   ]
  },
  {
   "cell_type": "markdown",
   "metadata": {},
   "source": [
    "The outflow of electricity from ngcc_ccs is:"
   ]
  },
  {
   "cell_type": "code",
   "execution_count": 236,
   "metadata": {},
   "outputs": [
    {
     "data": {
      "text/plain": [
       "1-dimensional DenseAxisArray{Float64,1,...} with index sets:\n",
       "    Dimension 1, 1:1:240\n",
       "And data, a 240-element Vector{Float64}:\n",
       " 10457.500632519728\n",
       "  9914.534658984723\n",
       "  9597.534658984723\n",
       "  9437.534658984723\n",
       "  9412.534658984725\n",
       "  9535.534658984723\n",
       "  9797.534658984723\n",
       " 10034.534658984723\n",
       " 10436.534658984723\n",
       " 10830.534658984725\n",
       "     ⋮\n",
       " 12770.534658984723\n",
       " 12770.534658984723\n",
       " 12770.534658984723\n",
       " 12770.534658984723\n",
       " 12770.534658984723\n",
       " 12770.534658984723\n",
       " 12740.534658984725\n",
       " 11787.534658984723\n",
       " 10958.534658984723"
      ]
     },
     "metadata": {},
     "output_type": "display_data"
    }
   ],
   "source": [
    "Macro.value.(Macro.flow(ngcc_ccs.TEdges[:E]))"
   ]
  },
  {
   "cell_type": "markdown",
   "metadata": {},
   "source": [
    "The inflow of natural gas into ngcc_ccs is:"
   ]
  },
  {
   "cell_type": "code",
   "execution_count": 237,
   "metadata": {},
   "outputs": [
    {
     "data": {
      "text/plain": [
       "1-dimensional DenseAxisArray{Float64,1,...} with index sets:\n",
       "    Dimension 1, 1:1:240\n",
       "And data, a 240-element Vector{Float64}:\n",
       " 22771.396386243872\n",
       " 21589.07817828128\n",
       " 20898.80495639958\n",
       " 20550.40206838358\n",
       " 20495.964117131083\n",
       " 20763.79883729338\n",
       " 21334.308566419582\n",
       " 21850.38034429328\n",
       " 22725.74260043348\n",
       " 23583.684712172882\n",
       "     ⋮\n",
       " 27808.069729366878\n",
       " 27808.069729366878\n",
       " 27808.069729366878\n",
       " 27808.069729366878\n",
       " 27808.069729366878\n",
       " 27808.069729366878\n",
       " 27742.744187863882\n",
       " 25667.56948611858\n",
       " 23862.40702258568"
      ]
     },
     "metadata": {},
     "output_type": "display_data"
    }
   ],
   "source": [
    "Macro.value.(Macro.flow(ngcc_ccs.TEdges[:NG]))"
   ]
  },
  {
   "cell_type": "markdown",
   "metadata": {},
   "source": [
    "The outflow of CO2 (emission) from ngcc_ccs is:"
   ]
  },
  {
   "cell_type": "code",
   "execution_count": 238,
   "metadata": {},
   "outputs": [
    {
     "data": {
      "text/plain": [
       "1-dimensional DenseAxisArray{Float64,1,...} with index sets:\n",
       "    Dimension 1, 1:1:240\n",
       "And data, a 240-element Vector{Float64}:\n",
       " 412.27211278619205\n",
       " 390.86645029125685\n",
       " 378.36917543125685\n",
       " 372.0614026312569\n",
       " 371.0758131312569\n",
       " 375.9249134712569\n",
       " 386.2538914312569\n",
       " 395.5972798912569\n",
       " 411.44555905125685\n",
       " 426.9784495712569\n",
       "   ⋮\n",
       " 503.46019477125685\n",
       " 503.46019477125685\n",
       " 503.46019477125685\n",
       " 503.46019477125685\n",
       " 503.46019477125685\n",
       " 503.46019477125685\n",
       " 502.2774873712568\n",
       " 464.70681563125686\n",
       " 432.02466781125685"
      ]
     },
     "metadata": {},
     "output_type": "display_data"
    }
   ],
   "source": [
    "Macro.value.(Macro.flow(ngcc_ccs.TEdges[:CO2]))"
   ]
  },
  {
   "cell_type": "markdown",
   "metadata": {},
   "source": [
    "The outflow of CO2 (captured) from ngcc_ccs is:"
   ]
  },
  {
   "cell_type": "code",
   "execution_count": 239,
   "metadata": {},
   "outputs": [
    {
     "data": {
      "text/plain": [
       "1-dimensional DenseAxisArray{Float64,1,...} with index sets:\n",
       "    Dimension 1, 1:1:240\n",
       "And data, a 240-element Vector{Float64}:\n",
       " 3710.449015075729\n",
       " 3517.7980526213128\n",
       " 3405.322578881313\n",
       " 3348.552623681313\n",
       " 3339.6823181813133\n",
       " 3383.324221241313\n",
       " 3476.285022881313\n",
       " 3560.375519021313\n",
       " 3703.010031461313\n",
       " 3842.8060461413133\n",
       "    ⋮\n",
       " 4531.141752941313\n",
       " 4531.141752941313\n",
       " 4531.141752941313\n",
       " 4531.141752941313\n",
       " 4531.141752941313\n",
       " 4531.141752941313\n",
       " 4520.497386341313\n",
       " 4182.361340681313\n",
       " 3888.2220103013133"
      ]
     },
     "metadata": {},
     "output_type": "display_data"
    }
   ],
   "source": [
    "Macro.value.(Macro.flow(ngcc_ccs.TEdges[:CO2_Captured]))"
   ]
  },
  {
   "cell_type": "code",
   "execution_count": 240,
   "metadata": {},
   "outputs": [],
   "source": []
  }
 ],
 "metadata": {
  "kernelspec": {
   "display_name": "Julia 1.10.2",
   "language": "julia",
   "name": "julia-1.10"
  },
  "language_info": {
   "file_extension": ".jl",
   "mimetype": "application/julia",
   "name": "julia",
   "version": "1.10.2"
  }
 },
 "nbformat": 4,
 "nbformat_minor": 4
}
