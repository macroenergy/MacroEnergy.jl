{
 "cells": [
  {
   "cell_type": "markdown",
   "metadata": {},
   "source": [
    "# Running Macro"
   ]
  },
  {
   "cell_type": "markdown",
   "metadata": {},
   "source": [
    "In this tutorial, we start from a single zone electricity system with four resource clusters: utility scale solar PV, land-based wind power generation, natural gas combined cycle power plants, and electricity storage. \n",
    "\n",
    "We consider three commodities: electricity, natural gas, and $\\text{CO}_2$. \n",
    "\n",
    "Initially, hydrogen is modeled exogenously, adding a constant electricity demand for hydrogen production to the electricity demand time series. In other words, we assume the existence of an electrolyzer that continuously consumes electricity to meet the hydrogen demand.\n",
    "\n",
    "We model a greenfield scenario with a carbon price of 200$ \\$/ton$, i.e., we allow $\\text{CO}_2$ emissions with a penalty cost.\n",
    "\n",
    "***Note: We use the default units in MACRO: MWh for energy vectors, metric tons for other commodities (e.g., $\\text{CO}_2$) and dollars for costs***"
   ]
  },
  {
   "cell_type": "code",
   "execution_count": null,
   "metadata": {
    "scrolled": true
   },
   "outputs": [],
   "source": [
    "using Pkg; Pkg.add(\"VegaLite\")"
   ]
  },
  {
   "cell_type": "code",
   "execution_count": null,
   "metadata": {},
   "outputs": [],
   "source": [
    "using MacroEnergy\n",
    "using HiGHS\n",
    "using CSV\n",
    "using DataFrames\n",
    "using JSON3\n",
    "using VegaLite"
   ]
  },
  {
   "cell_type": "markdown",
   "metadata": {},
   "source": [
    "We first load the inputs:"
   ]
  },
  {
   "cell_type": "code",
   "execution_count": null,
   "metadata": {},
   "outputs": [],
   "source": [
    "system = MacroEnergy.load_system(\"one_zone_electricity_only\");"
   ]
  },
  {
   "cell_type": "markdown",
   "metadata": {},
   "source": [
    "We are now ready to generate the MACRO capacity expansion model. Because MACRO is designed to be solved by [high performance decomposition algorithms](https://arxiv.org/abs/2403.02559), the model formulation has a specific block structure that can be exploited by these schemes. In the case of 3 operational sub-periods, the block structure looks like this:"
   ]
  },
  {
   "cell_type": "markdown",
   "metadata": {},
   "source": [
    "![model_structure](images/model_structure.png)"
   ]
  },
  {
   "cell_type": "code",
   "execution_count": null,
   "metadata": {},
   "outputs": [],
   "source": [
    "model = MacroEnergy.generate_model(system)"
   ]
  },
  {
   "cell_type": "markdown",
   "metadata": {},
   "source": [
    "Next, we set the optimizer. Note that we are using the open-source LP solver [HiGHS](https://highs.dev/), alternatives include the commercial solvers [Gurobi](https://www.gurobi.com/), [CPLEX](https://www.ibm.com/products/ilog-cplex-optimization-studio), [COPT](https://www.copt.de/)."
   ]
  },
  {
   "cell_type": "code",
   "execution_count": 5,
   "metadata": {},
   "outputs": [],
   "source": [
    "MacroEnergy.set_optimizer(model, HiGHS.Optimizer);"
   ]
  },
  {
   "cell_type": "markdown",
   "metadata": {},
   "source": [
    "Finally, we solve the capacity expansion model:"
   ]
  },
  {
   "cell_type": "code",
   "execution_count": null,
   "metadata": {},
   "outputs": [],
   "source": [
    "MacroEnergy.optimize!(model)"
   ]
  },
  {
   "cell_type": "markdown",
   "metadata": {},
   "source": [
    "To output the results in a csv file, we can use the following functions:"
   ]
  },
  {
   "cell_type": "code",
   "execution_count": null,
   "metadata": {},
   "outputs": [],
   "source": [
    "result_dir = joinpath(@__DIR__, \"results\")\n",
    "mkpath(result_dir)\n",
    "\n",
    "# Capacity results\n",
    "write_capacity_results(joinpath(result_dir, \"capacity.csv\"), system)\n",
    "\n",
    "# Cost results\n",
    "write_costs(joinpath(result_dir, \"costs.csv\"), model)\n",
    "\n",
    "# Flow results\n",
    "write_flow_results(joinpath(result_dir, \"flow.csv\"), system)"
   ]
  },
  {
   "cell_type": "markdown",
   "metadata": {},
   "source": [
    "Or simply visualize them:"
   ]
  },
  {
   "cell_type": "code",
   "execution_count": null,
   "metadata": {},
   "outputs": [],
   "source": [
    "# Final capacity\n",
    "get_optimal_capacity(system)"
   ]
  },
  {
   "cell_type": "code",
   "execution_count": null,
   "metadata": {},
   "outputs": [],
   "source": [
    "# New capacity\n",
    "get_optimal_new_capacity(system)"
   ]
  },
  {
   "cell_type": "code",
   "execution_count": null,
   "metadata": {},
   "outputs": [],
   "source": [
    "# Retired capacity\n",
    "get_optimal_retired_capacity(system)"
   ]
  },
  {
   "cell_type": "code",
   "execution_count": null,
   "metadata": {},
   "outputs": [],
   "source": [
    "# Costs\n",
    "cost_results = get_optimal_costs(model)"
   ]
  },
  {
   "cell_type": "code",
   "execution_count": null,
   "metadata": {},
   "outputs": [],
   "source": [
    "# Flows\n",
    "flow_results = get_optimal_flow(system)"
   ]
  },
  {
   "cell_type": "markdown",
   "metadata": {},
   "source": [
    "and the total emissions (in metric tonnes) are:"
   ]
  },
  {
   "cell_type": "code",
   "execution_count": null,
   "metadata": {},
   "outputs": [],
   "source": [
    "co2_node = MacroEnergy.get_nodes_sametype(system.locations, CO2)[1]\n",
    "MacroEnergy.value(sum(co2_node.operation_expr[:emissions]))"
   ]
  },
  {
   "cell_type": "markdown",
   "metadata": {},
   "source": [
    "We can also plot the electricity generation results using `VegaLite.jl`:"
   ]
  },
  {
   "cell_type": "code",
   "execution_count": null,
   "metadata": {},
   "outputs": [],
   "source": [
    "plot_time_interval = 3600:3624\n",
    "natgas_power = MacroEnergy.value.(MacroEnergy.flow(system.assets[2].elec_edge)).data[plot_time_interval] / 1e3;\n",
    "solar_power = MacroEnergy.value.(MacroEnergy.flow(system.assets[3].edge)).data[plot_time_interval] / 1e3;\n",
    "wind_power = MacroEnergy.value.(MacroEnergy.flow(system.assets[4].edge)).data[plot_time_interval] / 1e3;\n",
    "\n",
    "elec_gen = DataFrame(hours=plot_time_interval,\n",
    "    solar_photovoltaic=solar_power,\n",
    "    wind_turbine=wind_power,\n",
    "    natural_gas_fired_combined_cycle=natgas_power,\n",
    ")\n",
    "\n",
    "stack_elec_gen = stack(elec_gen, [:natural_gas_fired_combined_cycle, :wind_turbine, :solar_photovoltaic], variable_name=:resource, value_name=:generation);\n",
    "\n",
    "elc_plot = stack_elec_gen |>\n",
    "           @vlplot(\n",
    "    :area,\n",
    "    x = {:hours, title = \"Hours\"},\n",
    "    y = {:generation, title = \"Electricity generation (GWh)\", stack = :zero},\n",
    "    color = {\"resource:n\", scale = {scheme = :category10}},\n",
    "    width = 400,\n",
    "    height = 300\n",
    ")"
   ]
  },
  {
   "cell_type": "markdown",
   "metadata": {},
   "source": [
    "**Task:** Set a strict net-zero $\\text{CO}_2$ cap by removing the slack allowing constraint violation for a penalty. This can be done by deleting the field `price_unmet_policy` from the $\\text{CO}_2$ node in file `one_zone_electricity_only/system/nodes.json`\n",
    "\n",
    "Then, re-run the model with these new inputs and show the capacity results, total system cost, emissions, and plot the generation profiles."
   ]
  },
  {
   "cell_type": "markdown",
   "metadata": {},
   "source": [
    "<details>\n",
    "<summary>Solution</summary>\n",
    "\n",
    "Open file `one_zone_electricity_only/system/nodes.json`, go to the bottom of the file where the $\\text{CO}_2$ node is defined. Remove the lines related to the field `price_unmet_policy`, so that the node definition looks like this:\n",
    "\n",
    "```json\n",
    " {\n",
    "    \"type\": \"CO2\",\n",
    "    \"global_data\": {\n",
    "        \"time_interval\": \"CO2\"\n",
    "    },\n",
    "    \"instance_data\": [\n",
    "        {\n",
    "            \"id\": \"co2_sink\",\n",
    "            \"constraints\": {\n",
    "                \"CO2CapConstraint\": true\n",
    "            },\n",
    "            \"rhs_policy\": {\n",
    "                \"CO2CapConstraint\": 0\n",
    "            }   \n",
    "        }\n",
    "    ]\n",
    "}\n",
    "```\n",
    "Then, you need to re-load the inputs:\n",
    "```julia\n",
    "    system = MacroEnergy.load_system(\"one_zone_electricity_only\");\n",
    "```\n",
    "generate the MACRO model:\n",
    "```julia\n",
    "    model = MacroEnergy.generate_model(system);\n",
    "```\n",
    "and solve it:\n",
    "```julia\n",
    "    MacroEnergy.set_optimizer(model, HiGHS.Optimizer);\n",
    "    MacroEnergy.optimize!(model)\n",
    "```\n",
    "We can check the results by printing the total system cost:\n",
    "```julia\n",
    "    MacroEnergy.objective_value(model)\n",
    "```\n",
    "and the new emissions (which should be zero):\n",
    "```julia\n",
    "    co2_node_idx = findfirst(isa.(system.locations,Node{CO2}).==1)\n",
    "    MacroEnergy.value(sum(system.locations[co2_node_idx].operation_expr[:emissions]))\n",
    "```\n",
    "Finally, we plot the generation results:\n",
    "```julia\n",
    "    plot_time_interval = 3600:3624\n",
    "    natgas_power =  MacroEnergy.value.(MacroEnergy.flow(system.assets[2].elec_edge)).data[plot_time_interval]/1e3;\n",
    "    solar_power = MacroEnergy.value.(MacroEnergy.flow(system.assets[3].edge)).data[plot_time_interval]/1e3;\n",
    "    wind_power = MacroEnergy.value.(MacroEnergy.flow(system.assets[4].edge)).data[plot_time_interval]/1e3;\n",
    "\n",
    "    elec_gen =  DataFrame( hours = plot_time_interval, \n",
    "                    solar_photovoltaic = solar_power,\n",
    "                    wind_turbine = wind_power,\n",
    "                    natural_gas_fired_combined_cycle = natgas_power,\n",
    "                    )\n",
    "\n",
    "    stack_elec_gen = stack(elec_gen, [:natural_gas_fired_combined_cycle,:wind_turbine,:solar_photovoltaic], variable_name=:resource, value_name=:generation);\n",
    "\n",
    "    elc_plot = stack_elec_gen |> \n",
    "    @vlplot(\n",
    "        :area,\n",
    "        x={:hours, title=\"Hours\"},\n",
    "        y={:generation, title=\"Electricity generation (GWh)\",stack=:zero},\n",
    "        color={\"resource:n\", scale={scheme=:category10}},\n",
    "        width=400,\n",
    "        height=300\n",
    "    )\n",
    "```\n",
    "</details>\n",
    "\n"
   ]
  }
 ],
 "metadata": {
  "kernelspec": {
   "display_name": "Julia 1.11.3",
   "language": "julia",
   "name": "julia-1.11"
  },
  "language_info": {
   "file_extension": ".jl",
   "mimetype": "application/julia",
   "name": "julia",
   "version": "1.11.3"
  }
 },
 "nbformat": 4,
 "nbformat_minor": 4
}
