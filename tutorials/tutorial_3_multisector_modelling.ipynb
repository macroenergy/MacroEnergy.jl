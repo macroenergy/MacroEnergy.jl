{
 "cells": [
  {
   "cell_type": "markdown",
   "metadata": {},
   "source": [
    "In this tutorial, we extend the electricity-only model considered in Tutorial 2 by considering a multisector model for joint capacity expansion in electricity and hydrogen sectors. \n",
    "\n",
    "To do this, we scorporate hydrogen and electricity demand from Tutorial 2, and endogeneously model hydrogen production and storage in MACRO.\n",
    "\n",
    "First, we create a new case folder named \"one_zone_multisector\""
   ]
  },
  {
   "cell_type": "code",
   "execution_count": 111,
   "metadata": {},
   "outputs": [
    {
     "name": "stderr",
     "output_type": "stream",
     "text": [
      "\u001b[32m\u001b[1m  Activating\u001b[22m\u001b[39m project at `~/Code/Macro`\n"
     ]
    }
   ],
   "source": [
    "# Activate the environment using the path to the Macro repository\n",
    "macro_repo_path = dirname(@__DIR__)\n",
    "using Pkg; Pkg.activate(macro_repo_path)"
   ]
  },
  {
   "cell_type": "code",
   "execution_count": 112,
   "metadata": {},
   "outputs": [],
   "source": [
    "using Macro\n",
    "using HiGHS\n",
    "using CSV\n",
    "using DataFrames\n",
    "using JSON3\n",
    "using Plots\n",
    "using VegaLite"
   ]
  },
  {
   "cell_type": "code",
   "execution_count": 113,
   "metadata": {},
   "outputs": [],
   "source": [
    "if !isdir(\"one_zone_multisector\")\n",
    "    mkdir(\"one_zone_multisector\")\n",
    "    cp(\"one_zone_electricity_only/assets\",\"one_zone_multisector/assets\", force=true)\n",
    "    cp(\"one_zone_electricity_only/settings\",\"one_zone_multisector/settings\", force=true)\n",
    "    cp(\"one_zone_electricity_only/system\",\"one_zone_multisector/system\", force=true)\n",
    "    cp(\"one_zone_electricity_only/system_data.json\",\"one_zone_multisector/system_data.json\", force=true)\n",
    "end\n"
   ]
  },
  {
   "cell_type": "markdown",
   "metadata": {},
   "source": [
    "We add Hydrogen to the list of modeled commodities, modifying file `system/commodities.json`:"
   ]
  },
  {
   "cell_type": "code",
   "execution_count": 114,
   "metadata": {},
   "outputs": [],
   "source": [
    "new_macro_commodities = Dict(\"commodities\"=> [\"Electricity\", \"NaturalGas\", \"CO2\",\"Hydrogen\"])\n",
    "\n",
    "open(\"one_zone_multisector/system/commodities.json\", \"w\") do io\n",
    "    JSON3.pretty(io, new_macro_commodities)\n",
    "end\n"
   ]
  },
  {
   "cell_type": "markdown",
   "metadata": {},
   "source": [
    "Update file `system/time_data.json` accordingly:"
   ]
  },
  {
   "cell_type": "code",
   "execution_count": 115,
   "metadata": {},
   "outputs": [],
   "source": [
    "new_time_data = Dict(\"PeriodLength\"=>8760,\n",
    "                    \"HoursPerTimeStep\"=>Dict(\"Electricity\"=>1,\"NaturalGas\"=> 1,\"CO2\"=> 1,\"Hydrogen\"=>1),\n",
    "                    \"HoursPerSubperiod\"=>Dict(\"Electricity\"=>8760,\"NaturalGas\"=> 8760,\"CO2\"=> 8760,\"Hydrogen\"=>8760)\n",
    "                )\n",
    "\n",
    "open(\"one_zone_multisector/system/time_data.json\", \"w\") do io\n",
    "    JSON3.pretty(io, new_time_data)\n",
    "end"
   ]
  },
  {
   "cell_type": "markdown",
   "metadata": {},
   "source": [
    "Move separate electricity and hydrogen demand timeseries into the system folder"
   ]
  },
  {
   "cell_type": "code",
   "execution_count": 116,
   "metadata": {},
   "outputs": [
    {
     "data": {
      "text/plain": [
       "\"one_zone_multisector/system/demand.csv\""
      ]
     },
     "metadata": {},
     "output_type": "display_data"
    }
   ],
   "source": [
    "cp(\"demand_timeseries/electricity_demand.csv\",\"one_zone_multisector/system/demand.csv\";force=true)"
   ]
  },
  {
   "cell_type": "code",
   "execution_count": 117,
   "metadata": {},
   "outputs": [
    {
     "data": {
      "text/plain": [
       "\"one_zone_multisector/system/hydrogen_demand.csv\""
      ]
     },
     "metadata": {},
     "output_type": "display_data"
    }
   ],
   "source": [
    "cp(\"demand_timeseries/hydrogen_demand.csv\",\"one_zone_multisector/system/hydrogen_demand.csv\";force=true)"
   ]
  },
  {
   "cell_type": "markdown",
   "metadata": {},
   "source": [
    "**Task 1:** using the existing electricity nodes in `system/nodes.json` as template, add an Hydrogen demand node, linking it to the `hydogen_demand.csv` timeseries."
   ]
  },
  {
   "cell_type": "markdown",
   "metadata": {},
   "source": [
    "Next, we add an electrolyzer asset represented in Macro as a transformation connecting electricity and hydrogen nodes:"
   ]
  },
  {
   "cell_type": "markdown",
   "metadata": {},
   "source": [
    "![electrolyzer](images/electrolyzer_asset.png)"
   ]
  },
  {
   "cell_type": "markdown",
   "metadata": {},
   "source": [
    "To include the electrolyzer, create a file `assets/electrolyzer.json` that looks like this:"
   ]
  },
  {
   "cell_type": "markdown",
   "metadata": {},
   "source": [
    "```json\n",
    "{\n",
    "   \"electrolyzer\": [\n",
    "        {   \n",
    "            \"type\": \"Electrolyzer\",\n",
    "            \"global_data\":{\n",
    "                \"nodes\": {},\n",
    "                \"transforms\": {\n",
    "                    \"timedata\": \"Electricity\",\n",
    "                    \"constraints\": {\n",
    "                            \"BalanceConstraint\": true\n",
    "                    }\n",
    "                },\n",
    "                \"edges\": {\n",
    "                    \"h2_edge\": {\n",
    "                        \"type\": \"Hydrogen\",\n",
    "                        \"unidirectional\": true,\n",
    "                        \"has_capacity\": true,\n",
    "                        \"can_retire\": true,\n",
    "                        \"can_expand\": true,\n",
    "                        \"constraints\": {\n",
    "                                \"CapacityConstraint\": true,\n",
    "                                \"RampingLimitConstraint\": true,\n",
    "                                \"MinFlowConstraint\": true\n",
    "                            }\n",
    "                    },\n",
    "                    \"elec_edge\": {\n",
    "                        \"type\": \"Electricity\",\n",
    "                        \"unidirectional\": true,\n",
    "                        \"has_capacity\": false\n",
    "                    }\n",
    "                }\n",
    "            },\n",
    "            \"instance_data\":[\n",
    "                {\n",
    "                    \"id\": \"SE_Electrolyzer\",\n",
    "                    \"transforms\":{\n",
    "                        \"efficiency_rate\": 0.875111139\n",
    "                    },\n",
    "                    \"edges\":{\n",
    "                            \"elec_edge\": {\n",
    "                                \"start_vertex\": \"elec_SE\"\n",
    "                            },\n",
    "                            \"h2_edge\": {\n",
    "                                \"end_vertex\": \"h2_SE\",\n",
    "                                \"existing_capacity\": 0,\n",
    "                                \"investment_cost\": 41112.53426,\n",
    "                                \"fixed_om_cost\": 1052.480877,\n",
    "                                \"variable_om_cost\": 0.0,\n",
    "                                \"capacity_size\": 1.5752,\n",
    "                                \"ramp_up_fraction\": 1,\n",
    "                                \"ramp_down_fraction\": 1,\n",
    "                                \"min_flow_fraction\":0.1\n",
    "                            }\n",
    "                    }\n",
    "                }\n",
    "            ]\n",
    "\n",
    "        }\n",
    "    ]\n",
    "}\n",
    "```"
   ]
  },
  {
   "cell_type": "markdown",
   "metadata": {},
   "source": [
    "We also include an hydrogen storage resource cluster, represented in MACRO as combination of a compressor transformation (consuming electricity to compress the gas) and a storage node:"
   ]
  },
  {
   "cell_type": "markdown",
   "metadata": {},
   "source": [
    "![hydrogen_storage](images/hydrogen_storage.png)"
   ]
  },
  {
   "cell_type": "markdown",
   "metadata": {},
   "source": [
    "Add a file `assets/h2_storage.json` that should look like:"
   ]
  },
  {
   "cell_type": "markdown",
   "metadata": {},
   "source": [
    "```json\n",
    "{\n",
    "    \"h2stor\": [\n",
    "        {\n",
    "            \"type\": \"GasStorage\",\n",
    "            \"global_data\": {\n",
    "                \"nodes\": {},\n",
    "                \"transforms\": {\n",
    "                    \"timedata\": \"Hydrogen\",\n",
    "                    \"constraints\": {\n",
    "                        \"BalanceConstraint\": true\n",
    "                    }\n",
    "                },\n",
    "                \"edges\": {\n",
    "                    \"discharge_edge\": {\n",
    "                        \"type\": \"Hydrogen\",\n",
    "                        \"unidirectional\": true,\n",
    "                        \"can_expand\": true,\n",
    "                        \"can_retire\": false,\n",
    "                        \"has_capacity\": true,\n",
    "                        \"constraints\": {\n",
    "                            \"CapacityConstraint\": true,\n",
    "                            \"RampingLimitConstraint\": true\n",
    "                        }\n",
    "                    },\n",
    "                    \"charge_edge\": {\n",
    "                        \"type\": \"Hydrogen\",\n",
    "                        \"unidirectional\": true,\n",
    "                        \"has_capacity\": true,\n",
    "                        \"can_expand\": true,\n",
    "                        \"can_retire\": false,\n",
    "                        \"constraints\": {\n",
    "                            \"CapacityConstraint\": true\n",
    "                        }\n",
    "                    },\n",
    "                    \"compressor_elec_edge\": {\n",
    "                        \"type\": \"Electricity\",\n",
    "                        \"unidirectional\": true,\n",
    "                        \"has_capacity\": false\n",
    "                    },\n",
    "                    \"compressor_gas_edge\": {\n",
    "                        \"type\": \"Hydrogen\",\n",
    "                        \"unidirectional\": true,\n",
    "                        \"has_capacity\": false\n",
    "                    }\n",
    "                },\n",
    "                \"storage\": {\n",
    "                    \"commodity\": \"Hydrogen\",\n",
    "                    \"can_expand\": true,\n",
    "                    \"can_retire\": false,\n",
    "                    \"constraints\": {\n",
    "                        \"StorageCapacityConstraint\": true,\n",
    "                        \"BalanceConstraint\": true,\n",
    "                        \"MinStorageLevelConstraint\": true\n",
    "                    }\n",
    "                }\n",
    "            },\n",
    "            \"instance_data\": [\n",
    "                {\n",
    "                    \"id\": \"SE_Above_ground_storage\",\n",
    "                    \"transforms\": {\n",
    "                        \"electricity_consumption\": 0.018029457\n",
    "                    },\n",
    "                    \"edges\": {\n",
    "                        \"discharge_edge\": {\n",
    "                            \"end_vertex\": \"h2_SE\",\n",
    "                            \"existing_capacity\": 0,\n",
    "                            \"investment_cost\": 0.0,\n",
    "                            \"fixed_om_cost\": 0.0,\n",
    "                            \"variable_om_cost\": 0.0,\n",
    "                            \"efficiency\": 1.0,\n",
    "                            \"ramp_up_fraction\": 1,\n",
    "                            \"ramp_down_fraction\": 1\n",
    "                        },\n",
    "                        \"charge_edge\":{\n",
    "                            \"existing_capacity\": 0,\n",
    "                            \"investment_cost\": 3219.236569,\n",
    "                            \"fixed_om_cost\": 0.0,\n",
    "                            \"variable_om_cost\": 0.0,\n",
    "                            \"efficiency\": 1.0\n",
    "                        },\n",
    "                        \"compressor_gas_edge\": {\n",
    "                            \"start_vertex\": \"h2_SE\"\n",
    "                        },\n",
    "                        \"compressor_elec_edge\": {\n",
    "                            \"start_vertex\": \"elec_SE\"\n",
    "                        }\n",
    "                    },\n",
    "                    \"storage\":{\n",
    "                        \"investment_cost_storage\": 873.013307,\n",
    "                        \"fixed_om_cost_storage\":28.75810056,\n",
    "                        \"storage_loss_fraction\": 0.0,\n",
    "                        \"min_storage_level\": 0.3\n",
    "                    }\n",
    "                }\n",
    "            ]\n",
    "        }\n",
    "    ]\n",
    "}\n",
    "```"
   ]
  },
  {
   "cell_type": "markdown",
   "metadata": {},
   "source": [
    "We now load the multisector inputs and generate the MACRO model:"
   ]
  },
  {
   "cell_type": "code",
   "execution_count": 118,
   "metadata": {},
   "outputs": [
    {
     "name": "stderr",
     "output_type": "stream",
     "text": [
      "┌ Info: Loading JSON data from /Users/fpecci/Code/Macro/tutorials/one_zone_multisector/system_data.json\n",
      "└ @ Macro /Users/fpecci/Code/Macro/src/load_inputs/load_macroobject.jl:135\n",
      "┌ Info: Loading JSON data from one_zone_multisector/system_data.json\n",
      "└ @ Macro /Users/fpecci/Code/Macro/src/load_inputs/load_macroobject.jl:135\n",
      "┌ Info: Loading JSON data from one_zone_multisector/system/nodes.json\n",
      "└ @ Macro /Users/fpecci/Code/Macro/src/load_inputs/load_macroobject.jl:135\n",
      "┌ Info: Loading columns [:natgas_SE] from CSV data from one_zone_multisector/system/fuel_prices.csv\n",
      "└ @ Macro /Users/fpecci/Code/Macro/src/load_inputs/file_io/csv.jl:8\n",
      "┌ Info: Loading CSV data from one_zone_multisector/system/fuel_prices.csv\n",
      "└ @ Macro /Users/fpecci/Code/Macro/src/load_inputs/file_io/csv.jl:14\n",
      "┌ Info: Loading columns [:Demand_MW_z1] from CSV data from one_zone_multisector/system/demand.csv\n",
      "└ @ Macro /Users/fpecci/Code/Macro/src/load_inputs/file_io/csv.jl:8\n",
      "┌ Info: Loading CSV data from one_zone_multisector/system/demand.csv\n",
      "└ @ Macro /Users/fpecci/Code/Macro/src/load_inputs/file_io/csv.jl:14\n",
      "┌ Info: Loading columns [:Demand_H2_z1] from CSV data from one_zone_multisector/system/hydrogen_demand.csv\n",
      "└ @ Macro /Users/fpecci/Code/Macro/src/load_inputs/file_io/csv.jl:8\n",
      "┌ Info: Loading CSV data from one_zone_multisector/system/hydrogen_demand.csv\n",
      "└ @ Macro /Users/fpecci/Code/Macro/src/load_inputs/file_io/csv.jl:14\n",
      "┌ Info: Loading JSON data from one_zone_multisector/assets/electricity_stor.json\n",
      "└ @ Macro /Users/fpecci/Code/Macro/src/load_inputs/load_macroobject.jl:135\n",
      "┌ Info: Loading JSON data from one_zone_multisector/assets/electrolyzer.json\n",
      "└ @ Macro /Users/fpecci/Code/Macro/src/load_inputs/load_macroobject.jl:135\n",
      "┌ Info: Loading JSON data from one_zone_multisector/assets/h2storage.json\n",
      "└ @ Macro /Users/fpecci/Code/Macro/src/load_inputs/load_macroobject.jl:135\n",
      "┌ Info: Loading JSON data from one_zone_multisector/assets/naturalgas_power.json\n",
      "└ @ Macro /Users/fpecci/Code/Macro/src/load_inputs/load_macroobject.jl:135\n",
      "┌ Info: Loading JSON data from one_zone_multisector/assets/vre.json\n",
      "└ @ Macro /Users/fpecci/Code/Macro/src/load_inputs/load_macroobject.jl:135\n",
      "┌ Info: Loading columns [:SE_utilitypv_class1_moderate_70_0_2_1] from CSV data from one_zone_multisector/assets/availability.csv\n",
      "└ @ Macro /Users/fpecci/Code/Macro/src/load_inputs/file_io/csv.jl:8\n",
      "┌ Info: Loading CSV data from one_zone_multisector/assets/availability.csv\n",
      "└ @ Macro /Users/fpecci/Code/Macro/src/load_inputs/file_io/csv.jl:14\n",
      "┌ Info: Loading columns [:SE_landbasedwind_class4_moderate_70_1] from CSV data from one_zone_multisector/assets/availability.csv\n",
      "└ @ Macro /Users/fpecci/Code/Macro/src/load_inputs/file_io/csv.jl:8\n",
      "┌ Info: Loading CSV data from one_zone_multisector/assets/availability.csv\n",
      "└ @ Macro /Users/fpecci/Code/Macro/src/load_inputs/file_io/csv.jl:14\n"
     ]
    },
    {
     "name": "stdout",
     "output_type": "stream",
     "text": [
      "system.settings.Scaling = false\n"
     ]
    }
   ],
   "source": [
    "system = Macro.load_system(\"one_zone_multisector\");"
   ]
  },
  {
   "cell_type": "code",
   "execution_count": 119,
   "metadata": {},
   "outputs": [
    {
     "name": "stderr",
     "output_type": "stream",
     "text": [
      "┌ Info: Starting model generation\n",
      "└ @ Macro /Users/fpecci/Code/Macro/src/generate_model.jl:3\n",
      "┌ Info: Adding linking variables\n",
      "└ @ Macro /Users/fpecci/Code/Macro/src/generate_model.jl:15\n",
      "┌ Info: Defining available capacity\n",
      "└ @ Macro /Users/fpecci/Code/Macro/src/generate_model.jl:18\n",
      "┌ Info: Generating planning model\n",
      "└ @ Macro /Users/fpecci/Code/Macro/src/generate_model.jl:21\n",
      "┌ Info: Generating operational model\n",
      "└ @ Macro /Users/fpecci/Code/Macro/src/generate_model.jl:24\n",
      "┌ Info: Model generation complete, it took 2.6173319816589355 seconds\n",
      "└ @ Macro /Users/fpecci/Code/Macro/src/generate_model.jl:29\n"
     ]
    },
    {
     "data": {
      "text/plain": [
       "A JuMP Model\n",
       "├ solver: none\n",
       "├ objective_sense: MIN_SENSE\n",
       "│ └ objective_function_type: JuMP.AffExpr\n",
       "├ num_variables: 157701\n",
       "├ num_constraints: 464313\n",
       "│ ├ JuMP.AffExpr in MOI.EqualTo{Float64}: 87601\n",
       "│ ├ JuMP.AffExpr in MOI.GreaterThan{Float64}: 43801\n",
       "│ ├ JuMP.AffExpr in MOI.LessThan{Float64}: 175211\n",
       "│ ├ JuMP.VariableRef in MOI.EqualTo{Float64}: 8\n",
       "│ └ JuMP.VariableRef in MOI.GreaterThan{Float64}: 157692\n",
       "└ Names registered in the model\n",
       "  └ :eFixedCost, :eVariableCost, :vREF"
      ]
     },
     "metadata": {},
     "output_type": "display_data"
    }
   ],
   "source": [
    "model = Macro.generate_model(system)"
   ]
  },
  {
   "cell_type": "code",
   "execution_count": 120,
   "metadata": {},
   "outputs": [
    {
     "name": "stdout",
     "output_type": "stream",
     "text": [
      "Running HiGHS 1.8.1 (git hash: 4a7f24ac6): Copyright (c) 2024 HiGHS under MIT licence terms\n",
      "Coefficient ranges:\n",
      "  Matrix [7e-08, 2e+05]\n",
      "  Cost   [1e-01, 6e+07]\n",
      "  Bound  [1e+00, 1e+00]\n",
      "  RHS    [0e+00, 0e+00]\n",
      "Presolving model\n",
      "241306 rows, 118672 cols, 723916 nonzeros  0s\n",
      "210156 rows, 87522 cols, 756216 nonzeros  0s\n",
      "210156 rows, 87522 cols, 756216 nonzeros  0s\n",
      "Presolve : Reductions: rows 210156(-96457); columns 87522(-70179); elements 756216(-304572)\n",
      "Solving the presolved LP\n",
      "Using EKK dual simplex solver - serial\n",
      "  Iteration        Objective     Infeasibilities num(sum)\n",
      "          0     0.0000000000e+00 Pr: 17520(3.36075e+08) 0s\n",
      "      18513     4.5401034262e+09 Pr: 13585(3.84671e+10); Du: 0(4.85747e-08) 5s\n",
      "      31212     1.4920390856e+10 Pr: 49388(3.35666e+11); Du: 0(7.87934e-08) 11s\n",
      "      38757     3.9036693868e+10 Pr: 75115(1.61538e+12); Du: 0(1.18094e-07) 17s\n",
      "      44395     6.1530183733e+10 Pr: 43397(7.75666e+10); Du: 0(7.87934e-08) 22s\n",
      "      58000     6.7142405165e+10 Pr: 72450(3.34273e+11); Du: 0(7.87934e-08) 27s\n",
      "      75326     7.5360157844e+10 Pr: 87182(1.54032e+11); Du: 0(1.23375e-17) 33s\n",
      "      87713     7.8537370529e+10 Pr: 46176(1.49607e+10); Du: 0(6.06644e-14) 38s\n",
      "     101460     8.0941961862e+10 Pr: 12530(4.40632e+08); Du: 0(6.92845e-18) 43s\n",
      "     113983     8.2890697262e+10 Pr: 54867(8.4346e+09); Du: 0(1.30078e-07) 48s\n",
      "     125587     8.4587850979e+10 Pr: 102827(1.56589e+11); Du: 0(7.01915e-08) 53s\n",
      "     136450     8.5977460986e+10 Pr: 30067(8.54215e+09); Du: 0(7.88666e-08) 58s\n",
      "     146477     8.7255837079e+10 Pr: 100061(9.229e+11); Du: 0(1.38753e-07) 64s\n",
      "     155377     8.8071603497e+10 Pr: 29039(3.78127e+09); Du: 0(1.13744e-07) 69s\n",
      "     162927     8.8790304706e+10 Pr: 29564(4.68819e+09); Du: 0(1.32724e-07) 74s\n",
      "     172097     8.9489060053e+10 Pr: 59459(1.10231e+11); Du: 0(1.58633e-07) 79s\n",
      "     180533     9.0494807816e+10 Pr: 8387(7.87665e+07); Du: 0(1.23749e-07) 84s\n",
      "     189379     9.1195441836e+10 Pr: 6966(4.9327e+07); Du: 0(1.70998e-07) 90s\n",
      "     198306     9.1652920532e+10 Pr: 8183(2.22381e+08); Du: 0(1.23749e-07) 95s\n",
      "     208651     9.2042088044e+10 Pr: 7366(6.43374e+07); Du: 0(1.23749e-07) 100s\n",
      "     218315     9.2311187943e+10 Pr: 9528(1.17969e+09); Du: 0(1.99007e-07) 106s\n",
      "     229443     9.2461226783e+10 Pr: 17017(3.84298e+08); Du: 0(4.48822e-08) 111s\n",
      "     233896     9.2477588563e+10 Pr: 0(0); Du: 0(1.60448e-08) 113s\n",
      "Solving the original LP from the solution after postsolve\n",
      "Model status        : Optimal\n",
      "Simplex   iterations: 233896\n",
      "Objective value     :  9.2477588563e+10\n",
      "Relative P-D gap    :  1.9420483390e-13\n",
      "HiGHS run time      :        113.48\n"
     ]
    }
   ],
   "source": [
    "Macro.set_optimizer(model, HiGHS.Optimizer);\n",
    "Macro.optimize!(model)"
   ]
  },
  {
   "cell_type": "code",
   "execution_count": 121,
   "metadata": {},
   "outputs": [
    {
     "data": {
      "text/html": [
       "<div><div style = \"float: left;\"><span>6×5 DataFrame</span></div><div style = \"clear: both;\"></div></div><div class = \"data-frame\" style = \"overflow-x: scroll;\"><table class = \"data-frame\" style = \"margin-bottom: 6px;\"><thead><tr class = \"header\"><th class = \"rowNumber\" style = \"font-weight: bold; text-align: right;\">Row</th><th style = \"text-align: left;\">asset</th><th style = \"text-align: left;\">type</th><th style = \"text-align: left;\">capacity</th><th style = \"text-align: left;\">additions</th><th style = \"text-align: left;\">retirements</th></tr><tr class = \"subheader headerLastRow\"><th class = \"rowNumber\" style = \"font-weight: bold; text-align: right;\"></th><th title = \"Symbol\" style = \"text-align: left;\">Symbol</th><th title = \"Symbol\" style = \"text-align: left;\">Symbol</th><th title = \"Float64\" style = \"text-align: left;\">Float64</th><th title = \"Float64\" style = \"text-align: left;\">Float64</th><th title = \"Float64\" style = \"text-align: left;\">Float64</th></tr></thead><tbody><tr><td class = \"rowNumber\" style = \"font-weight: bold; text-align: right;\">1</td><td style = \"text-align: left;\">battery_SE</td><td style = \"text-align: left;\">Battery</td><td style = \"text-align: right;\">91681.8</td><td style = \"text-align: right;\">91681.8</td><td style = \"text-align: right;\">0.0</td></tr><tr><td class = \"rowNumber\" style = \"font-weight: bold; text-align: right;\">2</td><td style = \"text-align: left;\">SE_Electrolyzer</td><td style = \"text-align: left;\">Electrolyzer</td><td style = \"text-align: right;\">56128.6</td><td style = \"text-align: right;\">35632.7</td><td style = \"text-align: right;\">0.0</td></tr><tr><td class = \"rowNumber\" style = \"font-weight: bold; text-align: right;\">3</td><td style = \"text-align: left;\">SE_Above_ground_storage</td><td style = \"text-align: left;\">GasStorage{Hydrogen}</td><td style = \"text-align: right;\">24191.4</td><td style = \"text-align: right;\">24191.4</td><td style = \"text-align: right;\">0.0</td></tr><tr><td class = \"rowNumber\" style = \"font-weight: bold; text-align: right;\">4</td><td style = \"text-align: left;\">SE_naturalgas_ccavgcf_moderate_0</td><td style = \"text-align: left;\">ThermalPower{NaturalGas}</td><td style = \"text-align: right;\">1.06271e5</td><td style = \"text-align: right;\">185.464</td><td style = \"text-align: right;\">0.0</td></tr><tr><td class = \"rowNumber\" style = \"font-weight: bold; text-align: right;\">5</td><td style = \"text-align: left;\">SE_utilitypv_class1_moderate_70_0_2_1</td><td style = \"text-align: left;\">VRE</td><td style = \"text-align: right;\">3.54967e5</td><td style = \"text-align: right;\">3.54967e5</td><td style = \"text-align: right;\">0.0</td></tr><tr><td class = \"rowNumber\" style = \"font-weight: bold; text-align: right;\">6</td><td style = \"text-align: left;\">SE_landbasedwind_class4_moderate_70_1</td><td style = \"text-align: left;\">VRE</td><td style = \"text-align: right;\">2.53925e5</td><td style = \"text-align: right;\">2.53925e5</td><td style = \"text-align: right;\">0.0</td></tr></tbody></table></div>"
      ],
      "text/latex": [
       "\\begin{tabular}{r|ccccc}\n",
       "\t& asset & type & capacity & additions & \\\\\n",
       "\t\\hline\n",
       "\t& Symbol & Symbol & Float64 & Float64 & \\\\\n",
       "\t\\hline\n",
       "\t1 & battery\\_SE & Battery & 91681.8 & 91681.8 & $\\dots$ \\\\\n",
       "\t2 & SE\\_Electrolyzer & Electrolyzer & 56128.6 & 35632.7 & $\\dots$ \\\\\n",
       "\t3 & SE\\_Above\\_ground\\_storage & GasStorage\\{Hydrogen\\} & 24191.4 & 24191.4 & $\\dots$ \\\\\n",
       "\t4 & SE\\_naturalgas\\_ccavgcf\\_moderate\\_0 & ThermalPower\\{NaturalGas\\} & 1.06271e5 & 185.464 & $\\dots$ \\\\\n",
       "\t5 & SE\\_utilitypv\\_class1\\_moderate\\_70\\_0\\_2\\_1 & VRE & 3.54967e5 & 3.54967e5 & $\\dots$ \\\\\n",
       "\t6 & SE\\_landbasedwind\\_class4\\_moderate\\_70\\_1 & VRE & 2.53925e5 & 2.53925e5 & $\\dots$ \\\\\n",
       "\\end{tabular}\n"
      ],
      "text/plain": [
       "\u001b[1m6×5 DataFrame\u001b[0m\n",
       "\u001b[1m Row \u001b[0m│\u001b[1m asset                             \u001b[0m\u001b[1m type                     \u001b[0m\u001b[1m capacity  \u001b[0m ⋯\n",
       "     │\u001b[90m Symbol                            \u001b[0m\u001b[90m Symbol                   \u001b[0m\u001b[90m Float64   \u001b[0m ⋯\n",
       "─────┼──────────────────────────────────────────────────────────────────────────\n",
       "   1 │ battery_SE                         Battery                   91681.8    ⋯\n",
       "   2 │ SE_Electrolyzer                    Electrolyzer              56128.6\n",
       "   3 │ SE_Above_ground_storage            GasStorage{Hydrogen}      24191.4\n",
       "   4 │ SE_naturalgas_ccavgcf_moderate_0   ThermalPower{NaturalGas}      1.0627\n",
       "   5 │ SE_utilitypv_class1_moderate_70_…  VRE                           3.5496 ⋯\n",
       "   6 │ SE_landbasedwind_class4_moderate…  VRE                           2.5392\n",
       "\u001b[36m                                                               3 columns omitted\u001b[0m"
      ]
     },
     "metadata": {},
     "output_type": "display_data"
    }
   ],
   "source": [
    "capacity_results = Macro.get_optimal_asset_capacity(system)"
   ]
  },
  {
   "cell_type": "code",
   "execution_count": 122,
   "metadata": {},
   "outputs": [
    {
     "data": {
      "text/plain": [
       "9.247758856334659e10"
      ]
     },
     "metadata": {},
     "output_type": "display_data"
    }
   ],
   "source": [
    "Macro.objective_value(model)"
   ]
  },
  {
   "cell_type": "code",
   "execution_count": 124,
   "metadata": {},
   "outputs": [
    {
     "data": {
      "text/plain": [
       "6.945073064565016e7"
      ]
     },
     "metadata": {},
     "output_type": "display_data"
    }
   ],
   "source": [
    "co2_node_idx = findfirst(isa.(system.locations,Node{CO2}).==1)\n",
    "Macro.value(sum(system.locations[co2_node_idx].operation_expr[:emissions]))"
   ]
  },
  {
   "cell_type": "markdown",
   "metadata": {},
   "source": [
    "Note that we have achieved lower costs and emissions compared to the case in Tutorial 2, where we were optimizing only the electricity sector and modeling hydrogen demand aggreagated as electricity demand. "
   ]
  },
  {
   "cell_type": "code",
   "execution_count": 133,
   "metadata": {},
   "outputs": [
    {
     "data": {
      "text/plain": [
       "7.297088502421329e10"
      ]
     },
     "metadata": {},
     "output_type": "display_data"
    }
   ],
   "source": [
    "Macro.value(model[:eFixedCost])"
   ]
  },
  {
   "cell_type": "code",
   "execution_count": 135,
   "metadata": {},
   "outputs": [
    {
     "data": {
      "text/plain": [
       "1.9506703539132645e10"
      ]
     },
     "metadata": {},
     "output_type": "display_data"
    }
   ],
   "source": [
    "Macro.value(model[:eVariableCost])"
   ]
  },
  {
   "cell_type": "code",
   "execution_count": 125,
   "metadata": {},
   "outputs": [
    {
     "data": {
      "text/plain": [
       "3"
      ]
     },
     "metadata": {},
     "output_type": "display_data"
    }
   ],
   "source": [
    "ectrolyzer_idx = findfirst(isa.(system.assets,Electrolyzer).==1)\n",
    "h2stor_idx = findfirst(isa.(system.assets,GasStorage{Hydrogen}).==1)"
   ]
  },
  {
   "cell_type": "code",
   "execution_count": null,
   "metadata": {},
   "outputs": [
    {
     "data": {
      "text/html": [
       "<div><div style = \"float: left;\"><span>600×4 DataFrame</span></div><div style = \"float: right;\"><span style = \"font-style: italic;\">575 rows omitted</span></div><div style = \"clear: both;\"></div></div><div class = \"data-frame\" style = \"overflow-x: scroll;\"><table class = \"data-frame\" style = \"margin-bottom: 6px;\"><thead><tr class = \"header\"><th class = \"rowNumber\" style = \"font-weight: bold; text-align: right;\">Row</th><th style = \"text-align: left;\">hours</th><th style = \"text-align: left;\">total</th><th style = \"text-align: left;\">Series</th><th style = \"text-align: left;\">Value</th></tr><tr class = \"subheader headerLastRow\"><th class = \"rowNumber\" style = \"font-weight: bold; text-align: right;\"></th><th title = \"Int64\" style = \"text-align: left;\">Int64</th><th title = \"Float64\" style = \"text-align: left;\">Float64</th><th title = \"String\" style = \"text-align: left;\">String</th><th title = \"Float64\" style = \"text-align: left;\">Float64</th></tr></thead><tbody><tr><td class = \"rowNumber\" style = \"font-weight: bold; text-align: right;\">1</td><td style = \"text-align: right;\">1</td><td style = \"text-align: right;\">37667.7</td><td style = \"text-align: left;\">electrolyzer</td><td style = \"text-align: right;\">37667.7</td></tr><tr><td class = \"rowNumber\" style = \"font-weight: bold; text-align: right;\">2</td><td style = \"text-align: right;\">2</td><td style = \"text-align: right;\">42384.3</td><td style = \"text-align: left;\">electrolyzer</td><td style = \"text-align: right;\">42384.3</td></tr><tr><td class = \"rowNumber\" style = \"font-weight: bold; text-align: right;\">3</td><td style = \"text-align: right;\">3</td><td style = \"text-align: right;\">43153.9</td><td style = \"text-align: left;\">electrolyzer</td><td style = \"text-align: right;\">43153.9</td></tr><tr><td class = \"rowNumber\" style = \"font-weight: bold; text-align: right;\">4</td><td style = \"text-align: right;\">4</td><td style = \"text-align: right;\">40226.6</td><td style = \"text-align: left;\">electrolyzer</td><td style = \"text-align: right;\">40226.6</td></tr><tr><td class = \"rowNumber\" style = \"font-weight: bold; text-align: right;\">5</td><td style = \"text-align: right;\">5</td><td style = \"text-align: right;\">35077.7</td><td style = \"text-align: left;\">electrolyzer</td><td style = \"text-align: right;\">35077.7</td></tr><tr><td class = \"rowNumber\" style = \"font-weight: bold; text-align: right;\">6</td><td style = \"text-align: right;\">6</td><td style = \"text-align: right;\">31937.2</td><td style = \"text-align: left;\">electrolyzer</td><td style = \"text-align: right;\">28440.3</td></tr><tr><td class = \"rowNumber\" style = \"font-weight: bold; text-align: right;\">7</td><td style = \"text-align: right;\">7</td><td style = \"text-align: right;\">31937.2</td><td style = \"text-align: left;\">electrolyzer</td><td style = \"text-align: right;\">24232.8</td></tr><tr><td class = \"rowNumber\" style = \"font-weight: bold; text-align: right;\">8</td><td style = \"text-align: right;\">8</td><td style = \"text-align: right;\">56128.6</td><td style = \"text-align: left;\">electrolyzer</td><td style = \"text-align: right;\">56128.6</td></tr><tr><td class = \"rowNumber\" style = \"font-weight: bold; text-align: right;\">9</td><td style = \"text-align: right;\">9</td><td style = \"text-align: right;\">56128.6</td><td style = \"text-align: left;\">electrolyzer</td><td style = \"text-align: right;\">56128.6</td></tr><tr><td class = \"rowNumber\" style = \"font-weight: bold; text-align: right;\">10</td><td style = \"text-align: right;\">10</td><td style = \"text-align: right;\">56128.6</td><td style = \"text-align: left;\">electrolyzer</td><td style = \"text-align: right;\">56128.6</td></tr><tr><td class = \"rowNumber\" style = \"font-weight: bold; text-align: right;\">11</td><td style = \"text-align: right;\">11</td><td style = \"text-align: right;\">56128.6</td><td style = \"text-align: left;\">electrolyzer</td><td style = \"text-align: right;\">56128.6</td></tr><tr><td class = \"rowNumber\" style = \"font-weight: bold; text-align: right;\">12</td><td style = \"text-align: right;\">12</td><td style = \"text-align: right;\">56128.6</td><td style = \"text-align: left;\">electrolyzer</td><td style = \"text-align: right;\">56128.6</td></tr><tr><td class = \"rowNumber\" style = \"font-weight: bold; text-align: right;\">13</td><td style = \"text-align: right;\">13</td><td style = \"text-align: right;\">56128.6</td><td style = \"text-align: left;\">electrolyzer</td><td style = \"text-align: right;\">56128.6</td></tr><tr><td style = \"text-align: right;\">&vellip;</td><td style = \"text-align: right;\">&vellip;</td><td style = \"text-align: right;\">&vellip;</td><td style = \"text-align: right;\">&vellip;</td><td style = \"text-align: right;\">&vellip;</td></tr><tr><td class = \"rowNumber\" style = \"font-weight: bold; text-align: right;\">589</td><td style = \"text-align: right;\">289</td><td style = \"text-align: right;\">43851.1</td><td style = \"text-align: left;\">h2_stor</td><td style = \"text-align: right;\">0.0</td></tr><tr><td class = \"rowNumber\" style = \"font-weight: bold; text-align: right;\">590</td><td style = \"text-align: right;\">290</td><td style = \"text-align: right;\">44769.7</td><td style = \"text-align: left;\">h2_stor</td><td style = \"text-align: right;\">0.0</td></tr><tr><td class = \"rowNumber\" style = \"font-weight: bold; text-align: right;\">591</td><td style = \"text-align: right;\">291</td><td style = \"text-align: right;\">43151.8</td><td style = \"text-align: left;\">h2_stor</td><td style = \"text-align: right;\">0.0</td></tr><tr><td class = \"rowNumber\" style = \"font-weight: bold; text-align: right;\">592</td><td style = \"text-align: right;\">292</td><td style = \"text-align: right;\">40886.7</td><td style = \"text-align: left;\">h2_stor</td><td style = \"text-align: right;\">0.0</td></tr><tr><td class = \"rowNumber\" style = \"font-weight: bold; text-align: right;\">593</td><td style = \"text-align: right;\">293</td><td style = \"text-align: right;\">35876.3</td><td style = \"text-align: left;\">h2_stor</td><td style = \"text-align: right;\">0.0</td></tr><tr><td class = \"rowNumber\" style = \"font-weight: bold; text-align: right;\">594</td><td style = \"text-align: right;\">294</td><td style = \"text-align: right;\">31937.2</td><td style = \"text-align: left;\">h2_stor</td><td style = \"text-align: right;\">6409.76</td></tr><tr><td class = \"rowNumber\" style = \"font-weight: bold; text-align: right;\">595</td><td style = \"text-align: right;\">295</td><td style = \"text-align: right;\">31937.2</td><td style = \"text-align: left;\">h2_stor</td><td style = \"text-align: right;\">23072.7</td></tr><tr><td class = \"rowNumber\" style = \"font-weight: bold; text-align: right;\">596</td><td style = \"text-align: right;\">296</td><td style = \"text-align: right;\">32284.5</td><td style = \"text-align: left;\">h2_stor</td><td style = \"text-align: right;\">0.0</td></tr><tr><td class = \"rowNumber\" style = \"font-weight: bold; text-align: right;\">597</td><td style = \"text-align: right;\">297</td><td style = \"text-align: right;\">56128.6</td><td style = \"text-align: left;\">h2_stor</td><td style = \"text-align: right;\">0.0</td></tr><tr><td class = \"rowNumber\" style = \"font-weight: bold; text-align: right;\">598</td><td style = \"text-align: right;\">298</td><td style = \"text-align: right;\">56128.6</td><td style = \"text-align: left;\">h2_stor</td><td style = \"text-align: right;\">0.0</td></tr><tr><td class = \"rowNumber\" style = \"font-weight: bold; text-align: right;\">599</td><td style = \"text-align: right;\">299</td><td style = \"text-align: right;\">56128.6</td><td style = \"text-align: left;\">h2_stor</td><td style = \"text-align: right;\">0.0</td></tr><tr><td class = \"rowNumber\" style = \"font-weight: bold; text-align: right;\">600</td><td style = \"text-align: right;\">300</td><td style = \"text-align: right;\">56128.6</td><td style = \"text-align: left;\">h2_stor</td><td style = \"text-align: right;\">0.0</td></tr></tbody></table></div>"
      ],
      "text/latex": [
       "\\begin{tabular}{r|cccc}\n",
       "\t& hours & total & Series & Value\\\\\n",
       "\t\\hline\n",
       "\t& Int64 & Float64 & String & Float64\\\\\n",
       "\t\\hline\n",
       "\t1 & 1 & 37667.7 & electrolyzer & 37667.7 \\\\\n",
       "\t2 & 2 & 42384.3 & electrolyzer & 42384.3 \\\\\n",
       "\t3 & 3 & 43153.9 & electrolyzer & 43153.9 \\\\\n",
       "\t4 & 4 & 40226.6 & electrolyzer & 40226.6 \\\\\n",
       "\t5 & 5 & 35077.7 & electrolyzer & 35077.7 \\\\\n",
       "\t6 & 6 & 31937.2 & electrolyzer & 28440.3 \\\\\n",
       "\t7 & 7 & 31937.2 & electrolyzer & 24232.8 \\\\\n",
       "\t8 & 8 & 56128.6 & electrolyzer & 56128.6 \\\\\n",
       "\t9 & 9 & 56128.6 & electrolyzer & 56128.6 \\\\\n",
       "\t10 & 10 & 56128.6 & electrolyzer & 56128.6 \\\\\n",
       "\t11 & 11 & 56128.6 & electrolyzer & 56128.6 \\\\\n",
       "\t12 & 12 & 56128.6 & electrolyzer & 56128.6 \\\\\n",
       "\t13 & 13 & 56128.6 & electrolyzer & 56128.6 \\\\\n",
       "\t14 & 14 & 56128.6 & electrolyzer & 56128.6 \\\\\n",
       "\t15 & 15 & 56128.6 & electrolyzer & 56128.6 \\\\\n",
       "\t16 & 16 & 56128.6 & electrolyzer & 56128.6 \\\\\n",
       "\t17 & 17 & 56128.6 & electrolyzer & 56128.6 \\\\\n",
       "\t18 & 18 & 56128.6 & electrolyzer & 56128.6 \\\\\n",
       "\t19 & 19 & 56128.6 & electrolyzer & 56128.6 \\\\\n",
       "\t20 & 20 & 56128.6 & electrolyzer & 56128.6 \\\\\n",
       "\t21 & 21 & 56128.6 & electrolyzer & 56128.6 \\\\\n",
       "\t22 & 22 & 56128.6 & electrolyzer & 56128.6 \\\\\n",
       "\t23 & 23 & 56128.6 & electrolyzer & 56128.6 \\\\\n",
       "\t24 & 24 & 56128.6 & electrolyzer & 56128.6 \\\\\n",
       "\t$\\dots$ & $\\dots$ & $\\dots$ & $\\dots$ & $\\dots$ \\\\\n",
       "\\end{tabular}\n"
      ],
      "text/plain": [
       "\u001b[1m600×4 DataFrame\u001b[0m\n",
       "\u001b[1m Row \u001b[0m│\u001b[1m hours \u001b[0m\u001b[1m total   \u001b[0m\u001b[1m Series       \u001b[0m\u001b[1m Value    \u001b[0m\n",
       "     │\u001b[90m Int64 \u001b[0m\u001b[90m Float64 \u001b[0m\u001b[90m String       \u001b[0m\u001b[90m Float64  \u001b[0m\n",
       "─────┼────────────────────────────────────────\n",
       "   1 │     1  37667.7  electrolyzer  37667.7\n",
       "   2 │     2  42384.3  electrolyzer  42384.3\n",
       "   3 │     3  43153.9  electrolyzer  43153.9\n",
       "   4 │     4  40226.6  electrolyzer  40226.6\n",
       "   5 │     5  35077.7  electrolyzer  35077.7\n",
       "   6 │     6  31937.2  electrolyzer  28440.3\n",
       "   7 │     7  31937.2  electrolyzer  24232.8\n",
       "   8 │     8  56128.6  electrolyzer  56128.6\n",
       "  ⋮  │   ⋮       ⋮          ⋮           ⋮\n",
       " 594 │   294  31937.2  h2_stor        6409.76\n",
       " 595 │   295  31937.2  h2_stor       23072.7\n",
       " 596 │   296  32284.5  h2_stor           0.0\n",
       " 597 │   297  56128.6  h2_stor           0.0\n",
       " 598 │   298  56128.6  h2_stor           0.0\n",
       " 599 │   299  56128.6  h2_stor           0.0\n",
       " 600 │   300  56128.6  h2_stor           0.0\n",
       "\u001b[36m                              585 rows omitted\u001b[0m"
      ]
     },
     "metadata": {},
     "output_type": "display_data"
    }
   ],
   "source": [
    "plot_time_interval = 1:300\n",
    "h2_gen = DataFrame(hours = collect(plot_time_interval), \n",
    "                        electrolyzer = Macro.value.(Macro.flow(system.assets[2].h2_edge)).data[plot_time_interval 0],\n",
    "                        h2_stor = Macro.value.(Macro.flow(system.assets[3].discharge_edge)).data[plot_time_interval ],\n",
    "                        total = Macro.value.(Macro.flow(system.assets[2].h2_edge)).data[plot_time_interval ] + Macro.value.(Macro.flow(system.assets[3].discharge_edge)).data[plot_time_interval])\n",
    "\n",
    "stack_h2_gen = stack(h2_gen, [:electrolyzer, :h2_stor], variable_name=:Series, value_name=:Value)\n"
   ]
  },
  {
   "cell_type": "code",
   "execution_count": 136,
   "metadata": {},
   "outputs": [
    {
     "data": {
      "application/vnd.vegalite.v5+json": {
       "data": {
        "values": [
         {
          "Series": "electrolyzer",
          "Value": 37667.735723345126,
          "hours": 1,
          "total": 37667.735723345126
         },
         {
          "Series": "electrolyzer",
          "Value": 42384.27088554106,
          "hours": 2,
          "total": 42384.27088554106
         },
         {
          "Series": "electrolyzer",
          "Value": 43153.86607324217,
          "hours": 3,
          "total": 43153.86607324217
         },
         {
          "Series": "electrolyzer",
          "Value": 40226.63041129693,
          "hours": 4,
          "total": 40226.63041129693
         },
         {
          "Series": "electrolyzer",
          "Value": 35077.739395115655,
          "hours": 5,
          "total": 35077.739395115655
         },
         {
          "Series": "electrolyzer",
          "Value": 28440.34031808555,
          "hours": 6,
          "total": 31937.18
         },
         {
          "Series": "electrolyzer",
          "Value": 24232.84239697599,
          "hours": 7,
          "total": 31937.18
         },
         {
          "Series": "electrolyzer",
          "Value": 56128.57768409178,
          "hours": 8,
          "total": 56128.57768409178
         },
         {
          "Series": "electrolyzer",
          "Value": 56128.57768409178,
          "hours": 9,
          "total": 56128.57768409178
         },
         {
          "Series": "electrolyzer",
          "Value": 56128.57768409178,
          "hours": 10,
          "total": 56128.57768409178
         },
         {
          "Series": "electrolyzer",
          "Value": 56128.57768409178,
          "hours": 11,
          "total": 56128.57768409178
         },
         {
          "Series": "electrolyzer",
          "Value": 56128.57768409178,
          "hours": 12,
          "total": 56128.57768409178
         },
         {
          "Series": "electrolyzer",
          "Value": 56128.57768409178,
          "hours": 13,
          "total": 56128.57768409178
         },
         {
          "Series": "electrolyzer",
          "Value": 56128.57768409178,
          "hours": 14,
          "total": 56128.57768409178
         },
         {
          "Series": "electrolyzer",
          "Value": 56128.57768409178,
          "hours": 15,
          "total": 56128.57768409178
         },
         {
          "Series": "electrolyzer",
          "Value": 56128.57768409178,
          "hours": 16,
          "total": 56128.57768409178
         },
         {
          "Series": "electrolyzer",
          "Value": 56128.57768409178,
          "hours": 17,
          "total": 56128.57768409178
         },
         {
          "Series": "electrolyzer",
          "Value": 56128.57768409178,
          "hours": 18,
          "total": 56128.57768409178
         },
         {
          "Series": "electrolyzer",
          "Value": 56128.57768409178,
          "hours": 19,
          "total": 56128.57768409178
         },
         {
          "Series": "electrolyzer",
          "Value": 56128.57768409178,
          "hours": 20,
          "total": 56128.57768409178
         },
         {
          "Series": "electrolyzer",
          "Value": 56128.57768409178,
          "hours": 21,
          "total": 56128.57768409178
         },
         {
          "Series": "electrolyzer",
          "Value": 56128.57768409178,
          "hours": 22,
          "total": 56128.57768409178
         },
         {
          "Series": "electrolyzer",
          "Value": 56128.57768409178,
          "hours": 23,
          "total": 56128.57768409178
         },
         {
          "Series": "electrolyzer",
          "Value": 56128.57768409178,
          "hours": 24,
          "total": 56128.57768409178
         },
         {
          "Series": "electrolyzer",
          "Value": 56128.57768409178,
          "hours": 25,
          "total": 56128.57768409178
         },
         {
          "Series": "electrolyzer",
          "Value": 56128.57768409178,
          "hours": 26,
          "total": 56128.57768409178
         },
         {
          "Series": "electrolyzer",
          "Value": 56128.57768409178,
          "hours": 27,
          "total": 56128.57768409178
         },
         {
          "Series": "electrolyzer",
          "Value": 56128.57768409178,
          "hours": 28,
          "total": 56128.57768409178
         },
         {
          "Series": "electrolyzer",
          "Value": 56128.57768409178,
          "hours": 29,
          "total": 56128.57768409178
         },
         {
          "Series": "electrolyzer",
          "Value": 56128.57768409178,
          "hours": 30,
          "total": 56128.57768409178
         },
         {
          "Series": "electrolyzer",
          "Value": 56128.57768409178,
          "hours": 31,
          "total": 56128.57768409178
         },
         {
          "Series": "electrolyzer",
          "Value": 56128.57768409178,
          "hours": 32,
          "total": 56128.57768409178
         },
         {
          "Series": "electrolyzer",
          "Value": 56128.57768409178,
          "hours": 33,
          "total": 56128.57768409178
         },
         {
          "Series": "electrolyzer",
          "Value": 56128.57768409178,
          "hours": 34,
          "total": 56128.57768409178
         },
         {
          "Series": "electrolyzer",
          "Value": 56128.57768409178,
          "hours": 35,
          "total": 56128.57768409178
         },
         {
          "Series": "electrolyzer",
          "Value": 56128.57768409178,
          "hours": 36,
          "total": 56128.57768409178
         },
         {
          "Series": "electrolyzer",
          "Value": 56128.57768409178,
          "hours": 37,
          "total": 56128.57768409178
         },
         {
          "Series": "electrolyzer",
          "Value": 56128.57768409178,
          "hours": 38,
          "total": 56128.57768409178
         },
         {
          "Series": "electrolyzer",
          "Value": 56128.57768409178,
          "hours": 39,
          "total": 56128.57768409178
         },
         {
          "Series": "electrolyzer",
          "Value": 56128.57768409178,
          "hours": 40,
          "total": 56128.57768409178
         },
         {
          "Series": "electrolyzer",
          "Value": 5612.857768409179,
          "hours": 41,
          "total": 31937.18
         },
         {
          "Series": "electrolyzer",
          "Value": 5612.857768409179,
          "hours": 42,
          "total": 31937.18
         },
         {
          "Series": "electrolyzer",
          "Value": 5612.857768409179,
          "hours": 43,
          "total": 31937.18
         },
         {
          "Series": "electrolyzer",
          "Value": 5612.857768409179,
          "hours": 44,
          "total": 31937.18
         },
         {
          "Series": "electrolyzer",
          "Value": 5612.857768409179,
          "hours": 45,
          "total": 31937.18
         },
         {
          "Series": "electrolyzer",
          "Value": 5612.857768409179,
          "hours": 46,
          "total": 31937.18
         },
         {
          "Series": "electrolyzer",
          "Value": 5612.857768409179,
          "hours": 47,
          "total": 31937.18
         },
         {
          "Series": "electrolyzer",
          "Value": 31937.18,
          "hours": 48,
          "total": 31937.18
         },
         {
          "Series": "electrolyzer",
          "Value": 31937.18,
          "hours": 49,
          "total": 31937.18
         },
         {
          "Series": "electrolyzer",
          "Value": 37959.131214641646,
          "hours": 50,
          "total": 37959.131214641646
         },
         {
          "Series": "electrolyzer",
          "Value": 46209.26080408534,
          "hours": 51,
          "total": 46209.26080408534
         },
         {
          "Series": "electrolyzer",
          "Value": 49276.47641382535,
          "hours": 52,
          "total": 49276.47641382535
         },
         {
          "Series": "electrolyzer",
          "Value": 46280.89864652548,
          "hours": 53,
          "total": 46280.89864652548
         },
         {
          "Series": "electrolyzer",
          "Value": 35289.6114909589,
          "hours": 54,
          "total": 35289.6114909589
         },
         {
          "Series": "electrolyzer",
          "Value": 18358.108424560807,
          "hours": 55,
          "total": 31937.18
         },
         {
          "Series": "electrolyzer",
          "Value": 56128.57768409178,
          "hours": 56,
          "total": 56128.57768409178
         },
         {
          "Series": "electrolyzer",
          "Value": 56128.57768409178,
          "hours": 57,
          "total": 56128.57768409178
         },
         {
          "Series": "electrolyzer",
          "Value": 56128.57768409178,
          "hours": 58,
          "total": 56128.57768409178
         },
         {
          "Series": "electrolyzer",
          "Value": 56128.57768409178,
          "hours": 59,
          "total": 56128.57768409178
         },
         {
          "Series": "electrolyzer",
          "Value": 31937.18,
          "hours": 60,
          "total": 31937.18
         },
         {
          "Series": "electrolyzer",
          "Value": 31937.18,
          "hours": 61,
          "total": 31937.18
         },
         {
          "Series": "electrolyzer",
          "Value": 23190.86811563622,
          "hours": 62,
          "total": 31937.18
         },
         {
          "Series": "electrolyzer",
          "Value": 31937.18,
          "hours": 63,
          "total": 31937.18
         },
         {
          "Series": "electrolyzer",
          "Value": 15715.686524269604,
          "hours": 64,
          "total": 31937.18
         },
         {
          "Series": "electrolyzer",
          "Value": 5612.857768409179,
          "hours": 65,
          "total": 31937.18
         },
         {
          "Series": "electrolyzer",
          "Value": 5612.857768409179,
          "hours": 66,
          "total": 31937.18
         },
         {
          "Series": "electrolyzer",
          "Value": 5612.857768409179,
          "hours": 67,
          "total": 31937.18
         },
         {
          "Series": "electrolyzer",
          "Value": 5612.857768409179,
          "hours": 68,
          "total": 31937.18
         },
         {
          "Series": "electrolyzer",
          "Value": 5612.857768409179,
          "hours": 69,
          "total": 31937.18
         },
         {
          "Series": "electrolyzer",
          "Value": 5612.857768409179,
          "hours": 70,
          "total": 31937.18
         },
         {
          "Series": "electrolyzer",
          "Value": 5612.857768409179,
          "hours": 71,
          "total": 31937.18
         },
         {
          "Series": "electrolyzer",
          "Value": 5612.857768409179,
          "hours": 72,
          "total": 31937.18
         },
         {
          "Series": "electrolyzer",
          "Value": 5612.857768409179,
          "hours": 73,
          "total": 31937.18
         },
         {
          "Series": "electrolyzer",
          "Value": 29801.183409283345,
          "hours": 74,
          "total": 31937.18
         },
         {
          "Series": "electrolyzer",
          "Value": 5612.857768409179,
          "hours": 75,
          "total": 31937.18
         },
         {
          "Series": "electrolyzer",
          "Value": 27281.857825031348,
          "hours": 76,
          "total": 31937.18
         },
         {
          "Series": "electrolyzer",
          "Value": 20874.666881745216,
          "hours": 77,
          "total": 31937.18
         },
         {
          "Series": "electrolyzer",
          "Value": 6478.003139068787,
          "hours": 78,
          "total": 31937.18
         },
         {
          "Series": "electrolyzer",
          "Value": 5612.857768409179,
          "hours": 79,
          "total": 31937.18
         },
         {
          "Series": "electrolyzer",
          "Value": 5612.857768409179,
          "hours": 80,
          "total": 31937.18
         },
         {
          "Series": "electrolyzer",
          "Value": 5612.857768409179,
          "hours": 81,
          "total": 31937.18
         },
         {
          "Series": "electrolyzer",
          "Value": 5612.857768409179,
          "hours": 82,
          "total": 31937.18
         },
         {
          "Series": "electrolyzer",
          "Value": 31937.18,
          "hours": 83,
          "total": 31937.18
         },
         {
          "Series": "electrolyzer",
          "Value": 31937.18,
          "hours": 84,
          "total": 31937.18
         },
         {
          "Series": "electrolyzer",
          "Value": 9044.020317232109,
          "hours": 85,
          "total": 31937.18
         },
         {
          "Series": "electrolyzer",
          "Value": 31937.18,
          "hours": 86,
          "total": 31937.18
         },
         {
          "Series": "electrolyzer",
          "Value": 5612.857768409179,
          "hours": 87,
          "total": 31937.18
         },
         {
          "Series": "electrolyzer",
          "Value": 31937.18,
          "hours": 88,
          "total": 31937.18
         },
         {
          "Series": "electrolyzer",
          "Value": 31445.352190493588,
          "hours": 89,
          "total": 31937.18
         },
         {
          "Series": "electrolyzer",
          "Value": 5612.857768409179,
          "hours": 90,
          "total": 31937.18
         },
         {
          "Series": "electrolyzer",
          "Value": 5612.857768409179,
          "hours": 91,
          "total": 31937.18
         },
         {
          "Series": "electrolyzer",
          "Value": 31937.18,
          "hours": 92,
          "total": 31937.18
         },
         {
          "Series": "electrolyzer",
          "Value": 5612.857768409179,
          "hours": 93,
          "total": 31937.18
         },
         {
          "Series": "electrolyzer",
          "Value": 31937.18,
          "hours": 94,
          "total": 31937.18
         },
         {
          "Series": "electrolyzer",
          "Value": 31937.18,
          "hours": 95,
          "total": 31937.18
         },
         {
          "Series": "electrolyzer",
          "Value": 31047.138760625978,
          "hours": 96,
          "total": 31937.18
         },
         {
          "Series": "electrolyzer",
          "Value": 37352.982628010315,
          "hours": 97,
          "total": 37352.982628010315
         },
         {
          "Series": "electrolyzer",
          "Value": 33164.68530130282,
          "hours": 98,
          "total": 33164.68530130282
         },
         {
          "Series": "electrolyzer",
          "Value": 29479.541491592456,
          "hours": 99,
          "total": 31937.18
         },
         {
          "Series": "electrolyzer",
          "Value": 23015.354194424533,
          "hours": 100,
          "total": 31937.18
         },
         {
          "Series": "electrolyzer",
          "Value": 30408.952403390038,
          "hours": 101,
          "total": 31937.18
         },
         {
          "Series": "electrolyzer",
          "Value": 20379.030969218555,
          "hours": 102,
          "total": 31937.18
         },
         {
          "Series": "electrolyzer",
          "Value": 5612.857768409179,
          "hours": 103,
          "total": 31937.18
         },
         {
          "Series": "electrolyzer",
          "Value": 6348.761609667126,
          "hours": 104,
          "total": 31937.18
         },
         {
          "Series": "electrolyzer",
          "Value": 30456.635296546185,
          "hours": 105,
          "total": 31937.18
         },
         {
          "Series": "electrolyzer",
          "Value": 39929.23964680307,
          "hours": 106,
          "total": 39929.23964680307
         },
         {
          "Series": "electrolyzer",
          "Value": 56128.57768409178,
          "hours": 107,
          "total": 56128.57768409178
         },
         {
          "Series": "electrolyzer",
          "Value": 56128.57768409178,
          "hours": 108,
          "total": 56128.57768409178
         },
         {
          "Series": "electrolyzer",
          "Value": 56128.57768409178,
          "hours": 109,
          "total": 56128.57768409178
         },
         {
          "Series": "electrolyzer",
          "Value": 56128.57768409178,
          "hours": 110,
          "total": 56128.57768409178
         },
         {
          "Series": "electrolyzer",
          "Value": 56128.57768409178,
          "hours": 111,
          "total": 56128.57768409178
         },
         {
          "Series": "electrolyzer",
          "Value": 56128.57768409178,
          "hours": 112,
          "total": 56128.57768409178
         },
         {
          "Series": "electrolyzer",
          "Value": 44682.10539946011,
          "hours": 113,
          "total": 44682.10539946011
         },
         {
          "Series": "electrolyzer",
          "Value": 30202.655470405854,
          "hours": 114,
          "total": 31937.18
         },
         {
          "Series": "electrolyzer",
          "Value": 5612.857768409179,
          "hours": 115,
          "total": 31937.18
         },
         {
          "Series": "electrolyzer",
          "Value": 29790.273046371716,
          "hours": 116,
          "total": 31937.18
         },
         {
          "Series": "electrolyzer",
          "Value": 17712.20611989149,
          "hours": 117,
          "total": 31937.18
         },
         {
          "Series": "electrolyzer",
          "Value": 31937.18,
          "hours": 118,
          "total": 31937.18
         },
         {
          "Series": "electrolyzer",
          "Value": 31937.18,
          "hours": 119,
          "total": 31937.18
         },
         {
          "Series": "electrolyzer",
          "Value": 31937.18,
          "hours": 120,
          "total": 31937.18
         },
         {
          "Series": "electrolyzer",
          "Value": 20415.357706120536,
          "hours": 121,
          "total": 31937.18
         },
         {
          "Series": "electrolyzer",
          "Value": 31937.18,
          "hours": 122,
          "total": 31937.18
         },
         {
          "Series": "electrolyzer",
          "Value": 22707.696687433392,
          "hours": 123,
          "total": 31937.18
         },
         {
          "Series": "electrolyzer",
          "Value": 31937.18,
          "hours": 124,
          "total": 31937.18
         },
         {
          "Series": "electrolyzer",
          "Value": 31937.18,
          "hours": 125,
          "total": 31937.18
         },
         {
          "Series": "electrolyzer",
          "Value": 5612.857768409179,
          "hours": 126,
          "total": 31937.18
         },
         {
          "Series": "electrolyzer",
          "Value": 5612.857768409179,
          "hours": 127,
          "total": 31937.18
         },
         {
          "Series": "electrolyzer",
          "Value": 6691.052009705973,
          "hours": 128,
          "total": 31937.18
         },
         {
          "Series": "electrolyzer",
          "Value": 43352.133530304855,
          "hours": 129,
          "total": 43352.133530304855
         },
         {
          "Series": "electrolyzer",
          "Value": 56128.57768409178,
          "hours": 130,
          "total": 56128.57768409178
         },
         {
          "Series": "electrolyzer",
          "Value": 56128.57768409178,
          "hours": 131,
          "total": 56128.57768409178
         },
         {
          "Series": "electrolyzer",
          "Value": 51265.43104504838,
          "hours": 132,
          "total": 51265.43104504838
         },
         {
          "Series": "electrolyzer",
          "Value": 53624.27932582713,
          "hours": 133,
          "total": 53624.27932582713
         },
         {
          "Series": "electrolyzer",
          "Value": 48822.7981368789,
          "hours": 134,
          "total": 48822.7981368789
         },
         {
          "Series": "electrolyzer",
          "Value": 51821.86886214675,
          "hours": 135,
          "total": 51821.86886214675
         },
         {
          "Series": "electrolyzer",
          "Value": 36022.89299834106,
          "hours": 136,
          "total": 36022.89299834106
         },
         {
          "Series": "electrolyzer",
          "Value": 5612.857768409179,
          "hours": 137,
          "total": 31937.18
         },
         {
          "Series": "electrolyzer",
          "Value": 5612.857768409179,
          "hours": 138,
          "total": 31937.18
         },
         {
          "Series": "electrolyzer",
          "Value": 5612.857768409179,
          "hours": 139,
          "total": 31937.18
         },
         {
          "Series": "electrolyzer",
          "Value": 5612.857768409179,
          "hours": 140,
          "total": 31937.18
         },
         {
          "Series": "electrolyzer",
          "Value": 5612.857768409179,
          "hours": 141,
          "total": 31937.18
         },
         {
          "Series": "electrolyzer",
          "Value": 5612.857768409179,
          "hours": 142,
          "total": 31937.18
         },
         {
          "Series": "electrolyzer",
          "Value": 5612.857768409179,
          "hours": 143,
          "total": 31937.18
         },
         {
          "Series": "electrolyzer",
          "Value": 5612.857768409179,
          "hours": 144,
          "total": 31937.18
         },
         {
          "Series": "electrolyzer",
          "Value": 5612.857768409179,
          "hours": 145,
          "total": 31937.18
         },
         {
          "Series": "electrolyzer",
          "Value": 5612.857768409179,
          "hours": 146,
          "total": 31937.18
         },
         {
          "Series": "electrolyzer",
          "Value": 17157.61793448559,
          "hours": 147,
          "total": 31937.18
         },
         {
          "Series": "electrolyzer",
          "Value": 30103.316098505416,
          "hours": 148,
          "total": 31937.18
         },
         {
          "Series": "electrolyzer",
          "Value": 31937.18,
          "hours": 149,
          "total": 31937.18
         },
         {
          "Series": "electrolyzer",
          "Value": 31937.18,
          "hours": 150,
          "total": 31937.18
         },
         {
          "Series": "electrolyzer",
          "Value": 31937.18,
          "hours": 151,
          "total": 31937.18
         },
         {
          "Series": "electrolyzer",
          "Value": 31937.18,
          "hours": 152,
          "total": 31937.18
         },
         {
          "Series": "electrolyzer",
          "Value": 31937.18,
          "hours": 153,
          "total": 31937.18
         },
         {
          "Series": "electrolyzer",
          "Value": 27644.054393208273,
          "hours": 154,
          "total": 31937.18
         },
         {
          "Series": "electrolyzer",
          "Value": 46335.959370296085,
          "hours": 155,
          "total": 46335.959370296085
         },
         {
          "Series": "electrolyzer",
          "Value": 56128.57768409178,
          "hours": 156,
          "total": 56128.57768409178
         },
         {
          "Series": "electrolyzer",
          "Value": 56128.57768409178,
          "hours": 157,
          "total": 56128.57768409178
         },
         {
          "Series": "electrolyzer",
          "Value": 56128.57768409178,
          "hours": 158,
          "total": 56128.57768409178
         },
         {
          "Series": "electrolyzer",
          "Value": 56128.57768409178,
          "hours": 159,
          "total": 56128.57768409178
         },
         {
          "Series": "electrolyzer",
          "Value": 45958.80166425031,
          "hours": 160,
          "total": 45958.80166425031
         },
         {
          "Series": "electrolyzer",
          "Value": 15471.59019857774,
          "hours": 161,
          "total": 31937.18
         },
         {
          "Series": "electrolyzer",
          "Value": 5612.857768409179,
          "hours": 162,
          "total": 31937.18
         },
         {
          "Series": "electrolyzer",
          "Value": 5612.857768409179,
          "hours": 163,
          "total": 31937.18
         },
         {
          "Series": "electrolyzer",
          "Value": 5612.857768409179,
          "hours": 164,
          "total": 31937.18
         },
         {
          "Series": "electrolyzer",
          "Value": 5612.857768409179,
          "hours": 165,
          "total": 31937.18
         },
         {
          "Series": "electrolyzer",
          "Value": 13790.644548151113,
          "hours": 166,
          "total": 31937.18
         },
         {
          "Series": "electrolyzer",
          "Value": 23757.121989956526,
          "hours": 167,
          "total": 31937.18
         },
         {
          "Series": "electrolyzer",
          "Value": 31937.18,
          "hours": 168,
          "total": 31937.18
         },
         {
          "Series": "electrolyzer",
          "Value": 31937.18,
          "hours": 169,
          "total": 31937.18
         },
         {
          "Series": "electrolyzer",
          "Value": 31937.18,
          "hours": 170,
          "total": 31937.18
         },
         {
          "Series": "electrolyzer",
          "Value": 31937.18,
          "hours": 171,
          "total": 31937.18
         },
         {
          "Series": "electrolyzer",
          "Value": 31937.18,
          "hours": 172,
          "total": 31937.18
         },
         {
          "Series": "electrolyzer",
          "Value": 31937.18,
          "hours": 173,
          "total": 31937.18
         },
         {
          "Series": "electrolyzer",
          "Value": 31937.18,
          "hours": 174,
          "total": 31937.18
         },
         {
          "Series": "electrolyzer",
          "Value": 31937.18,
          "hours": 175,
          "total": 31937.18
         },
         {
          "Series": "electrolyzer",
          "Value": 31937.18,
          "hours": 176,
          "total": 31937.18
         },
         {
          "Series": "electrolyzer",
          "Value": 31937.18,
          "hours": 177,
          "total": 31937.18
         },
         {
          "Series": "electrolyzer",
          "Value": 31937.18,
          "hours": 178,
          "total": 31937.18
         },
         {
          "Series": "electrolyzer",
          "Value": 31937.18,
          "hours": 179,
          "total": 31937.18
         },
         {
          "Series": "electrolyzer",
          "Value": 55769.27414031875,
          "hours": 180,
          "total": 55769.27414031875
         },
         {
          "Series": "electrolyzer",
          "Value": 56128.57768409178,
          "hours": 181,
          "total": 56128.57768409178
         },
         {
          "Series": "electrolyzer",
          "Value": 56128.57768409178,
          "hours": 182,
          "total": 56128.57768409178
         },
         {
          "Series": "electrolyzer",
          "Value": 56128.57768409178,
          "hours": 183,
          "total": 56128.57768409178
         },
         {
          "Series": "electrolyzer",
          "Value": 56128.57768409178,
          "hours": 184,
          "total": 56128.57768409178
         },
         {
          "Series": "electrolyzer",
          "Value": 15464.33042743978,
          "hours": 185,
          "total": 31937.18
         },
         {
          "Series": "electrolyzer",
          "Value": 5612.857768409179,
          "hours": 186,
          "total": 31937.18
         },
         {
          "Series": "electrolyzer",
          "Value": 5612.857768409179,
          "hours": 187,
          "total": 31937.18
         },
         {
          "Series": "electrolyzer",
          "Value": 5612.857768409179,
          "hours": 188,
          "total": 31937.18
         },
         {
          "Series": "electrolyzer",
          "Value": 11095.243550598578,
          "hours": 189,
          "total": 31937.18
         },
         {
          "Series": "electrolyzer",
          "Value": 27627.247840048305,
          "hours": 190,
          "total": 31937.18
         },
         {
          "Series": "electrolyzer",
          "Value": 31937.18,
          "hours": 191,
          "total": 31937.18
         },
         {
          "Series": "electrolyzer",
          "Value": 31937.18,
          "hours": 192,
          "total": 31937.18
         },
         {
          "Series": "electrolyzer",
          "Value": 31937.18,
          "hours": 193,
          "total": 31937.18
         },
         {
          "Series": "electrolyzer",
          "Value": 31937.18,
          "hours": 194,
          "total": 31937.18
         },
         {
          "Series": "electrolyzer",
          "Value": 31937.18,
          "hours": 195,
          "total": 31937.18
         },
         {
          "Series": "electrolyzer",
          "Value": 31937.18,
          "hours": 196,
          "total": 31937.18
         },
         {
          "Series": "electrolyzer",
          "Value": 31937.18,
          "hours": 197,
          "total": 31937.18
         },
         {
          "Series": "electrolyzer",
          "Value": 31937.18,
          "hours": 198,
          "total": 31937.18
         },
         {
          "Series": "electrolyzer",
          "Value": 31937.18,
          "hours": 199,
          "total": 31937.18
         },
         {
          "Series": "electrolyzer",
          "Value": 31937.18,
          "hours": 200,
          "total": 31937.18
         },
         {
          "Series": "electrolyzer",
          "Value": 31937.18,
          "hours": 201,
          "total": 31937.18
         },
         {
          "Series": "electrolyzer",
          "Value": 31937.18,
          "hours": 202,
          "total": 31937.18
         },
         {
          "Series": "electrolyzer",
          "Value": 31937.18,
          "hours": 203,
          "total": 31937.18
         },
         {
          "Series": "electrolyzer",
          "Value": 31937.18,
          "hours": 204,
          "total": 31937.18
         },
         {
          "Series": "electrolyzer",
          "Value": 31937.18,
          "hours": 205,
          "total": 31937.18
         },
         {
          "Series": "electrolyzer",
          "Value": 31937.18,
          "hours": 206,
          "total": 31937.18
         },
         {
          "Series": "electrolyzer",
          "Value": 31937.18,
          "hours": 207,
          "total": 31937.18
         },
         {
          "Series": "electrolyzer",
          "Value": 39823.80990406313,
          "hours": 208,
          "total": 39823.80990406313
         },
         {
          "Series": "electrolyzer",
          "Value": 31937.18,
          "hours": 209,
          "total": 31937.18
         },
         {
          "Series": "electrolyzer",
          "Value": 31937.18,
          "hours": 210,
          "total": 31937.18
         },
         {
          "Series": "electrolyzer",
          "Value": 24050.550095936866,
          "hours": 211,
          "total": 31937.18
         },
         {
          "Series": "electrolyzer",
          "Value": 31937.18,
          "hours": 212,
          "total": 31937.18
         },
         {
          "Series": "electrolyzer",
          "Value": 31937.18,
          "hours": 213,
          "total": 31937.18
         },
         {
          "Series": "electrolyzer",
          "Value": 31937.18,
          "hours": 214,
          "total": 31937.18
         },
         {
          "Series": "electrolyzer",
          "Value": 31937.18,
          "hours": 215,
          "total": 31937.18
         },
         {
          "Series": "electrolyzer",
          "Value": 31937.18,
          "hours": 216,
          "total": 31937.18
         },
         {
          "Series": "electrolyzer",
          "Value": 31937.18,
          "hours": 217,
          "total": 31937.18
         },
         {
          "Series": "electrolyzer",
          "Value": 31937.18,
          "hours": 218,
          "total": 31937.18
         },
         {
          "Series": "electrolyzer",
          "Value": 31937.18,
          "hours": 219,
          "total": 31937.18
         },
         {
          "Series": "electrolyzer",
          "Value": 56128.57768409178,
          "hours": 220,
          "total": 56128.57768409178
         },
         {
          "Series": "electrolyzer",
          "Value": 47923.439224855865,
          "hours": 221,
          "total": 47923.439224855865
         },
         {
          "Series": "electrolyzer",
          "Value": 55729.59857210302,
          "hours": 222,
          "total": 55729.59857210302
         },
         {
          "Series": "electrolyzer",
          "Value": 39354.19370163569,
          "hours": 223,
          "total": 39354.19370163569
         },
         {
          "Series": "electrolyzer",
          "Value": 56128.57768409178,
          "hours": 224,
          "total": 56128.57768409178
         },
         {
          "Series": "electrolyzer",
          "Value": 56128.57768409178,
          "hours": 225,
          "total": 56128.57768409178
         },
         {
          "Series": "electrolyzer",
          "Value": 56128.57768409178,
          "hours": 226,
          "total": 56128.57768409178
         },
         {
          "Series": "electrolyzer",
          "Value": 56128.57768409178,
          "hours": 227,
          "total": 56128.57768409178
         },
         {
          "Series": "electrolyzer",
          "Value": 56128.57768409178,
          "hours": 228,
          "total": 56128.57768409178
         },
         {
          "Series": "electrolyzer",
          "Value": 56128.57768409178,
          "hours": 229,
          "total": 56128.57768409178
         },
         {
          "Series": "electrolyzer",
          "Value": 56128.57768409178,
          "hours": 230,
          "total": 56128.57768409178
         },
         {
          "Series": "electrolyzer",
          "Value": 56128.57768409178,
          "hours": 231,
          "total": 56128.57768409178
         },
         {
          "Series": "electrolyzer",
          "Value": 56128.57768409178,
          "hours": 232,
          "total": 56128.57768409178
         },
         {
          "Series": "electrolyzer",
          "Value": 5612.857768409179,
          "hours": 233,
          "total": 31937.18
         },
         {
          "Series": "electrolyzer",
          "Value": 5612.857768409179,
          "hours": 234,
          "total": 31937.18
         },
         {
          "Series": "electrolyzer",
          "Value": 5612.857768409179,
          "hours": 235,
          "total": 31937.18
         },
         {
          "Series": "electrolyzer",
          "Value": 5612.857768409179,
          "hours": 236,
          "total": 31937.18
         },
         {
          "Series": "electrolyzer",
          "Value": 5612.857768409179,
          "hours": 237,
          "total": 31937.18
         },
         {
          "Series": "electrolyzer",
          "Value": 5612.857768409179,
          "hours": 238,
          "total": 31937.18
         },
         {
          "Series": "electrolyzer",
          "Value": 5612.857768409179,
          "hours": 239,
          "total": 31937.18
         },
         {
          "Series": "electrolyzer",
          "Value": 24982.057290514505,
          "hours": 240,
          "total": 31937.18
         },
         {
          "Series": "electrolyzer",
          "Value": 45937.56565584431,
          "hours": 241,
          "total": 45937.56565584431
         },
         {
          "Series": "electrolyzer",
          "Value": 56128.57768409178,
          "hours": 242,
          "total": 56128.57768409178
         },
         {
          "Series": "electrolyzer",
          "Value": 56128.57768409178,
          "hours": 243,
          "total": 56128.57768409178
         },
         {
          "Series": "electrolyzer",
          "Value": 56128.57768409178,
          "hours": 244,
          "total": 56128.57768409178
         },
         {
          "Series": "electrolyzer",
          "Value": 56128.57768409178,
          "hours": 245,
          "total": 56128.57768409178
         },
         {
          "Series": "electrolyzer",
          "Value": 56128.57768409178,
          "hours": 246,
          "total": 56128.57768409178
         },
         {
          "Series": "electrolyzer",
          "Value": 56128.57768409178,
          "hours": 247,
          "total": 56128.57768409178
         },
         {
          "Series": "electrolyzer",
          "Value": 56128.57768409178,
          "hours": 248,
          "total": 56128.57768409178
         },
         {
          "Series": "electrolyzer",
          "Value": 56128.57768409178,
          "hours": 249,
          "total": 56128.57768409178
         },
         {
          "Series": "electrolyzer",
          "Value": 56128.57768409178,
          "hours": 250,
          "total": 56128.57768409178
         },
         {
          "Series": "electrolyzer",
          "Value": 56128.57768409178,
          "hours": 251,
          "total": 56128.57768409178
         },
         {
          "Series": "electrolyzer",
          "Value": 56128.57768409178,
          "hours": 252,
          "total": 56128.57768409178
         },
         {
          "Series": "electrolyzer",
          "Value": 56128.57768409178,
          "hours": 253,
          "total": 56128.57768409178
         },
         {
          "Series": "electrolyzer",
          "Value": 56128.57768409178,
          "hours": 254,
          "total": 56128.57768409178
         },
         {
          "Series": "electrolyzer",
          "Value": 56128.57768409178,
          "hours": 255,
          "total": 56128.57768409178
         },
         {
          "Series": "electrolyzer",
          "Value": 56128.57768409178,
          "hours": 256,
          "total": 56128.57768409178
         },
         {
          "Series": "electrolyzer",
          "Value": 27885.692841755863,
          "hours": 257,
          "total": 31937.18
         },
         {
          "Series": "electrolyzer",
          "Value": 5612.857768409179,
          "hours": 258,
          "total": 31937.18
         },
         {
          "Series": "electrolyzer",
          "Value": 5612.857768409179,
          "hours": 259,
          "total": 31937.18
         },
         {
          "Series": "electrolyzer",
          "Value": 24696.461589461254,
          "hours": 260,
          "total": 31937.18
         },
         {
          "Series": "electrolyzer",
          "Value": 38395.83198382959,
          "hours": 261,
          "total": 38395.83198382959
         },
         {
          "Series": "electrolyzer",
          "Value": 46439.814921589445,
          "hours": 262,
          "total": 46439.814921589445
         },
         {
          "Series": "electrolyzer",
          "Value": 56128.57768409178,
          "hours": 263,
          "total": 56128.57768409178
         },
         {
          "Series": "electrolyzer",
          "Value": 56128.57768409178,
          "hours": 264,
          "total": 56128.57768409178
         },
         {
          "Series": "electrolyzer",
          "Value": 56128.57768409178,
          "hours": 265,
          "total": 56128.57768409178
         },
         {
          "Series": "electrolyzer",
          "Value": 56128.57768409178,
          "hours": 266,
          "total": 56128.57768409178
         },
         {
          "Series": "electrolyzer",
          "Value": 56128.57768409178,
          "hours": 267,
          "total": 56128.57768409178
         },
         {
          "Series": "electrolyzer",
          "Value": 56128.57768409178,
          "hours": 268,
          "total": 56128.57768409178
         },
         {
          "Series": "electrolyzer",
          "Value": 56128.57768409178,
          "hours": 269,
          "total": 56128.57768409178
         },
         {
          "Series": "electrolyzer",
          "Value": 56128.57768409178,
          "hours": 270,
          "total": 56128.57768409178
         },
         {
          "Series": "electrolyzer",
          "Value": 48654.122126323084,
          "hours": 271,
          "total": 48654.122126323084
         },
         {
          "Series": "electrolyzer",
          "Value": 56128.57768409178,
          "hours": 272,
          "total": 56128.57768409178
         },
         {
          "Series": "electrolyzer",
          "Value": 56128.57768409178,
          "hours": 273,
          "total": 56128.57768409178
         },
         {
          "Series": "electrolyzer",
          "Value": 56128.57768409178,
          "hours": 274,
          "total": 56128.57768409178
         },
         {
          "Series": "electrolyzer",
          "Value": 56128.57768409178,
          "hours": 275,
          "total": 56128.57768409178
         },
         {
          "Series": "electrolyzer",
          "Value": 56128.57768409178,
          "hours": 276,
          "total": 56128.57768409178
         },
         {
          "Series": "electrolyzer",
          "Value": 56128.57768409178,
          "hours": 277,
          "total": 56128.57768409178
         },
         {
          "Series": "electrolyzer",
          "Value": 56128.57768409178,
          "hours": 278,
          "total": 56128.57768409178
         },
         {
          "Series": "electrolyzer",
          "Value": 56128.57768409178,
          "hours": 279,
          "total": 56128.57768409178
         },
         {
          "Series": "electrolyzer",
          "Value": 48328.94600905528,
          "hours": 280,
          "total": 48328.94600905528
         },
         {
          "Series": "electrolyzer",
          "Value": 5612.857768409179,
          "hours": 281,
          "total": 31937.18
         },
         {
          "Series": "electrolyzer",
          "Value": 5612.857768409179,
          "hours": 282,
          "total": 31937.18
         },
         {
          "Series": "electrolyzer",
          "Value": 5612.857768409179,
          "hours": 283,
          "total": 31937.18
         },
         {
          "Series": "electrolyzer",
          "Value": 5612.857768409179,
          "hours": 284,
          "total": 31937.18
         },
         {
          "Series": "electrolyzer",
          "Value": 10204.522656688827,
          "hours": 285,
          "total": 31937.18
         },
         {
          "Series": "electrolyzer",
          "Value": 23466.240424500287,
          "hours": 286,
          "total": 31937.18
         },
         {
          "Series": "electrolyzer",
          "Value": 33378.78267536341,
          "hours": 287,
          "total": 33378.78267536341
         },
         {
          "Series": "electrolyzer",
          "Value": 40405.53085606072,
          "hours": 288,
          "total": 40405.53085606072
         },
         {
          "Series": "electrolyzer",
          "Value": 43851.10841230576,
          "hours": 289,
          "total": 43851.10841230576
         },
         {
          "Series": "electrolyzer",
          "Value": 44769.6770606315,
          "hours": 290,
          "total": 44769.6770606315
         },
         {
          "Series": "electrolyzer",
          "Value": 43151.84717102456,
          "hours": 291,
          "total": 43151.84717102456
         },
         {
          "Series": "electrolyzer",
          "Value": 40886.695384388724,
          "hours": 292,
          "total": 40886.695384388724
         },
         {
          "Series": "electrolyzer",
          "Value": 35876.26630217256,
          "hours": 293,
          "total": 35876.26630217256
         },
         {
          "Series": "electrolyzer",
          "Value": 25527.420728109326,
          "hours": 294,
          "total": 31937.18
         },
         {
          "Series": "electrolyzer",
          "Value": 8864.435700297074,
          "hours": 295,
          "total": 31937.18
         },
         {
          "Series": "electrolyzer",
          "Value": 32284.516151986205,
          "hours": 296,
          "total": 32284.516151986205
         },
         {
          "Series": "electrolyzer",
          "Value": 56128.57768409178,
          "hours": 297,
          "total": 56128.57768409178
         },
         {
          "Series": "electrolyzer",
          "Value": 56128.57768409178,
          "hours": 298,
          "total": 56128.57768409178
         },
         {
          "Series": "electrolyzer",
          "Value": 56128.57768409178,
          "hours": 299,
          "total": 56128.57768409178
         },
         {
          "Series": "electrolyzer",
          "Value": 56128.57768409178,
          "hours": 300,
          "total": 56128.57768409178
         },
         {
          "Series": "h2_stor",
          "Value": 0,
          "hours": 1,
          "total": 37667.735723345126
         },
         {
          "Series": "h2_stor",
          "Value": 0,
          "hours": 2,
          "total": 42384.27088554106
         },
         {
          "Series": "h2_stor",
          "Value": 0,
          "hours": 3,
          "total": 43153.86607324217
         },
         {
          "Series": "h2_stor",
          "Value": 0,
          "hours": 4,
          "total": 40226.63041129693
         },
         {
          "Series": "h2_stor",
          "Value": 0,
          "hours": 5,
          "total": 35077.739395115655
         },
         {
          "Series": "h2_stor",
          "Value": 3496.839681914451,
          "hours": 6,
          "total": 31937.18
         },
         {
          "Series": "h2_stor",
          "Value": 7704.337603024011,
          "hours": 7,
          "total": 31937.18
         },
         {
          "Series": "h2_stor",
          "Value": 0,
          "hours": 8,
          "total": 56128.57768409178
         },
         {
          "Series": "h2_stor",
          "Value": 0,
          "hours": 9,
          "total": 56128.57768409178
         },
         {
          "Series": "h2_stor",
          "Value": 0,
          "hours": 10,
          "total": 56128.57768409178
         },
         {
          "Series": "h2_stor",
          "Value": 0,
          "hours": 11,
          "total": 56128.57768409178
         },
         {
          "Series": "h2_stor",
          "Value": 0,
          "hours": 12,
          "total": 56128.57768409178
         },
         {
          "Series": "h2_stor",
          "Value": 0,
          "hours": 13,
          "total": 56128.57768409178
         },
         {
          "Series": "h2_stor",
          "Value": 0,
          "hours": 14,
          "total": 56128.57768409178
         },
         {
          "Series": "h2_stor",
          "Value": 0,
          "hours": 15,
          "total": 56128.57768409178
         },
         {
          "Series": "h2_stor",
          "Value": 0,
          "hours": 16,
          "total": 56128.57768409178
         },
         {
          "Series": "h2_stor",
          "Value": 0,
          "hours": 17,
          "total": 56128.57768409178
         },
         {
          "Series": "h2_stor",
          "Value": 0,
          "hours": 18,
          "total": 56128.57768409178
         },
         {
          "Series": "h2_stor",
          "Value": 0,
          "hours": 19,
          "total": 56128.57768409178
         },
         {
          "Series": "h2_stor",
          "Value": 0,
          "hours": 20,
          "total": 56128.57768409178
         },
         {
          "Series": "h2_stor",
          "Value": 0,
          "hours": 21,
          "total": 56128.57768409178
         },
         {
          "Series": "h2_stor",
          "Value": 0,
          "hours": 22,
          "total": 56128.57768409178
         },
         {
          "Series": "h2_stor",
          "Value": 0,
          "hours": 23,
          "total": 56128.57768409178
         },
         {
          "Series": "h2_stor",
          "Value": 0,
          "hours": 24,
          "total": 56128.57768409178
         },
         {
          "Series": "h2_stor",
          "Value": 0,
          "hours": 25,
          "total": 56128.57768409178
         },
         {
          "Series": "h2_stor",
          "Value": 0,
          "hours": 26,
          "total": 56128.57768409178
         },
         {
          "Series": "h2_stor",
          "Value": 0,
          "hours": 27,
          "total": 56128.57768409178
         },
         {
          "Series": "h2_stor",
          "Value": 0,
          "hours": 28,
          "total": 56128.57768409178
         },
         {
          "Series": "h2_stor",
          "Value": 0,
          "hours": 29,
          "total": 56128.57768409178
         },
         {
          "Series": "h2_stor",
          "Value": 0,
          "hours": 30,
          "total": 56128.57768409178
         },
         {
          "Series": "h2_stor",
          "Value": 0,
          "hours": 31,
          "total": 56128.57768409178
         },
         {
          "Series": "h2_stor",
          "Value": 0,
          "hours": 32,
          "total": 56128.57768409178
         },
         {
          "Series": "h2_stor",
          "Value": 0,
          "hours": 33,
          "total": 56128.57768409178
         },
         {
          "Series": "h2_stor",
          "Value": 0,
          "hours": 34,
          "total": 56128.57768409178
         },
         {
          "Series": "h2_stor",
          "Value": 0,
          "hours": 35,
          "total": 56128.57768409178
         },
         {
          "Series": "h2_stor",
          "Value": 0,
          "hours": 36,
          "total": 56128.57768409178
         },
         {
          "Series": "h2_stor",
          "Value": 0,
          "hours": 37,
          "total": 56128.57768409178
         },
         {
          "Series": "h2_stor",
          "Value": 0,
          "hours": 38,
          "total": 56128.57768409178
         },
         {
          "Series": "h2_stor",
          "Value": 0,
          "hours": 39,
          "total": 56128.57768409178
         },
         {
          "Series": "h2_stor",
          "Value": 0,
          "hours": 40,
          "total": 56128.57768409178
         },
         {
          "Series": "h2_stor",
          "Value": 26324.32223159082,
          "hours": 41,
          "total": 31937.18
         },
         {
          "Series": "h2_stor",
          "Value": 26324.32223159082,
          "hours": 42,
          "total": 31937.18
         },
         {
          "Series": "h2_stor",
          "Value": 26324.32223159082,
          "hours": 43,
          "total": 31937.18
         },
         {
          "Series": "h2_stor",
          "Value": 26324.32223159082,
          "hours": 44,
          "total": 31937.18
         },
         {
          "Series": "h2_stor",
          "Value": 26324.32223159082,
          "hours": 45,
          "total": 31937.18
         },
         {
          "Series": "h2_stor",
          "Value": 26324.32223159082,
          "hours": 46,
          "total": 31937.18
         },
         {
          "Series": "h2_stor",
          "Value": 26324.32223159082,
          "hours": 47,
          "total": 31937.18
         },
         {
          "Series": "h2_stor",
          "Value": 0,
          "hours": 48,
          "total": 31937.18
         },
         {
          "Series": "h2_stor",
          "Value": 0,
          "hours": 49,
          "total": 31937.18
         },
         {
          "Series": "h2_stor",
          "Value": 0,
          "hours": 50,
          "total": 37959.131214641646
         },
         {
          "Series": "h2_stor",
          "Value": 0,
          "hours": 51,
          "total": 46209.26080408534
         },
         {
          "Series": "h2_stor",
          "Value": 0,
          "hours": 52,
          "total": 49276.47641382535
         },
         {
          "Series": "h2_stor",
          "Value": 0,
          "hours": 53,
          "total": 46280.89864652548
         },
         {
          "Series": "h2_stor",
          "Value": 0,
          "hours": 54,
          "total": 35289.6114909589
         },
         {
          "Series": "h2_stor",
          "Value": 13579.071575439193,
          "hours": 55,
          "total": 31937.18
         },
         {
          "Series": "h2_stor",
          "Value": 0,
          "hours": 56,
          "total": 56128.57768409178
         },
         {
          "Series": "h2_stor",
          "Value": 0,
          "hours": 57,
          "total": 56128.57768409178
         },
         {
          "Series": "h2_stor",
          "Value": 0,
          "hours": 58,
          "total": 56128.57768409178
         },
         {
          "Series": "h2_stor",
          "Value": 0,
          "hours": 59,
          "total": 56128.57768409178
         },
         {
          "Series": "h2_stor",
          "Value": 0,
          "hours": 60,
          "total": 31937.18
         },
         {
          "Series": "h2_stor",
          "Value": 0,
          "hours": 61,
          "total": 31937.18
         },
         {
          "Series": "h2_stor",
          "Value": 8746.311884363779,
          "hours": 62,
          "total": 31937.18
         },
         {
          "Series": "h2_stor",
          "Value": 0,
          "hours": 63,
          "total": 31937.18
         },
         {
          "Series": "h2_stor",
          "Value": 16221.493475730396,
          "hours": 64,
          "total": 31937.18
         },
         {
          "Series": "h2_stor",
          "Value": 26324.32223159082,
          "hours": 65,
          "total": 31937.18
         },
         {
          "Series": "h2_stor",
          "Value": 26324.32223159082,
          "hours": 66,
          "total": 31937.18
         },
         {
          "Series": "h2_stor",
          "Value": 26324.32223159082,
          "hours": 67,
          "total": 31937.18
         },
         {
          "Series": "h2_stor",
          "Value": 26324.32223159082,
          "hours": 68,
          "total": 31937.18
         },
         {
          "Series": "h2_stor",
          "Value": 26324.32223159082,
          "hours": 69,
          "total": 31937.18
         },
         {
          "Series": "h2_stor",
          "Value": 26324.32223159082,
          "hours": 70,
          "total": 31937.18
         },
         {
          "Series": "h2_stor",
          "Value": 26324.32223159082,
          "hours": 71,
          "total": 31937.18
         },
         {
          "Series": "h2_stor",
          "Value": 26324.32223159082,
          "hours": 72,
          "total": 31937.18
         },
         {
          "Series": "h2_stor",
          "Value": 26324.32223159082,
          "hours": 73,
          "total": 31937.18
         },
         {
          "Series": "h2_stor",
          "Value": 2135.996590716655,
          "hours": 74,
          "total": 31937.18
         },
         {
          "Series": "h2_stor",
          "Value": 26324.32223159082,
          "hours": 75,
          "total": 31937.18
         },
         {
          "Series": "h2_stor",
          "Value": 4655.322174968653,
          "hours": 76,
          "total": 31937.18
         },
         {
          "Series": "h2_stor",
          "Value": 11062.513118254785,
          "hours": 77,
          "total": 31937.18
         },
         {
          "Series": "h2_stor",
          "Value": 25459.176860931213,
          "hours": 78,
          "total": 31937.18
         },
         {
          "Series": "h2_stor",
          "Value": 26324.32223159082,
          "hours": 79,
          "total": 31937.18
         },
         {
          "Series": "h2_stor",
          "Value": 26324.32223159082,
          "hours": 80,
          "total": 31937.18
         },
         {
          "Series": "h2_stor",
          "Value": 26324.32223159082,
          "hours": 81,
          "total": 31937.18
         },
         {
          "Series": "h2_stor",
          "Value": 26324.32223159082,
          "hours": 82,
          "total": 31937.18
         },
         {
          "Series": "h2_stor",
          "Value": 0,
          "hours": 83,
          "total": 31937.18
         },
         {
          "Series": "h2_stor",
          "Value": 0,
          "hours": 84,
          "total": 31937.18
         },
         {
          "Series": "h2_stor",
          "Value": 22893.15968276789,
          "hours": 85,
          "total": 31937.18
         },
         {
          "Series": "h2_stor",
          "Value": 0,
          "hours": 86,
          "total": 31937.18
         },
         {
          "Series": "h2_stor",
          "Value": 26324.32223159082,
          "hours": 87,
          "total": 31937.18
         },
         {
          "Series": "h2_stor",
          "Value": 0,
          "hours": 88,
          "total": 31937.18
         },
         {
          "Series": "h2_stor",
          "Value": 491.82780950641245,
          "hours": 89,
          "total": 31937.18
         },
         {
          "Series": "h2_stor",
          "Value": 26324.32223159082,
          "hours": 90,
          "total": 31937.18
         },
         {
          "Series": "h2_stor",
          "Value": 26324.32223159082,
          "hours": 91,
          "total": 31937.18
         },
         {
          "Series": "h2_stor",
          "Value": 0,
          "hours": 92,
          "total": 31937.18
         },
         {
          "Series": "h2_stor",
          "Value": 26324.32223159082,
          "hours": 93,
          "total": 31937.18
         },
         {
          "Series": "h2_stor",
          "Value": 0,
          "hours": 94,
          "total": 31937.18
         },
         {
          "Series": "h2_stor",
          "Value": 0,
          "hours": 95,
          "total": 31937.18
         },
         {
          "Series": "h2_stor",
          "Value": 890.0412393740226,
          "hours": 96,
          "total": 31937.18
         },
         {
          "Series": "h2_stor",
          "Value": 0,
          "hours": 97,
          "total": 37352.982628010315
         },
         {
          "Series": "h2_stor",
          "Value": 0,
          "hours": 98,
          "total": 33164.68530130282
         },
         {
          "Series": "h2_stor",
          "Value": 2457.6385084075446,
          "hours": 99,
          "total": 31937.18
         },
         {
          "Series": "h2_stor",
          "Value": 8921.825805575467,
          "hours": 100,
          "total": 31937.18
         },
         {
          "Series": "h2_stor",
          "Value": 1528.2275966099623,
          "hours": 101,
          "total": 31937.18
         },
         {
          "Series": "h2_stor",
          "Value": 11558.149030781446,
          "hours": 102,
          "total": 31937.18
         },
         {
          "Series": "h2_stor",
          "Value": 26324.32223159082,
          "hours": 103,
          "total": 31937.18
         },
         {
          "Series": "h2_stor",
          "Value": 25588.418390332874,
          "hours": 104,
          "total": 31937.18
         },
         {
          "Series": "h2_stor",
          "Value": 1480.5447034538156,
          "hours": 105,
          "total": 31937.18
         },
         {
          "Series": "h2_stor",
          "Value": 0,
          "hours": 106,
          "total": 39929.23964680307
         },
         {
          "Series": "h2_stor",
          "Value": 0,
          "hours": 107,
          "total": 56128.57768409178
         },
         {
          "Series": "h2_stor",
          "Value": 0,
          "hours": 108,
          "total": 56128.57768409178
         },
         {
          "Series": "h2_stor",
          "Value": 0,
          "hours": 109,
          "total": 56128.57768409178
         },
         {
          "Series": "h2_stor",
          "Value": 0,
          "hours": 110,
          "total": 56128.57768409178
         },
         {
          "Series": "h2_stor",
          "Value": 0,
          "hours": 111,
          "total": 56128.57768409178
         },
         {
          "Series": "h2_stor",
          "Value": 0,
          "hours": 112,
          "total": 56128.57768409178
         },
         {
          "Series": "h2_stor",
          "Value": 0,
          "hours": 113,
          "total": 44682.10539946011
         },
         {
          "Series": "h2_stor",
          "Value": 1734.5245295941459,
          "hours": 114,
          "total": 31937.18
         },
         {
          "Series": "h2_stor",
          "Value": 26324.32223159082,
          "hours": 115,
          "total": 31937.18
         },
         {
          "Series": "h2_stor",
          "Value": 2146.906953628284,
          "hours": 116,
          "total": 31937.18
         },
         {
          "Series": "h2_stor",
          "Value": 14224.973880108511,
          "hours": 117,
          "total": 31937.18
         },
         {
          "Series": "h2_stor",
          "Value": 0,
          "hours": 118,
          "total": 31937.18
         },
         {
          "Series": "h2_stor",
          "Value": 0,
          "hours": 119,
          "total": 31937.18
         },
         {
          "Series": "h2_stor",
          "Value": 0,
          "hours": 120,
          "total": 31937.18
         },
         {
          "Series": "h2_stor",
          "Value": 11521.822293879464,
          "hours": 121,
          "total": 31937.18
         },
         {
          "Series": "h2_stor",
          "Value": 0,
          "hours": 122,
          "total": 31937.18
         },
         {
          "Series": "h2_stor",
          "Value": 9229.483312566608,
          "hours": 123,
          "total": 31937.18
         },
         {
          "Series": "h2_stor",
          "Value": 0,
          "hours": 124,
          "total": 31937.18
         },
         {
          "Series": "h2_stor",
          "Value": 0,
          "hours": 125,
          "total": 31937.18
         },
         {
          "Series": "h2_stor",
          "Value": 26324.32223159082,
          "hours": 126,
          "total": 31937.18
         },
         {
          "Series": "h2_stor",
          "Value": 26324.32223159082,
          "hours": 127,
          "total": 31937.18
         },
         {
          "Series": "h2_stor",
          "Value": 25246.127990294026,
          "hours": 128,
          "total": 31937.18
         },
         {
          "Series": "h2_stor",
          "Value": 0,
          "hours": 129,
          "total": 43352.133530304855
         },
         {
          "Series": "h2_stor",
          "Value": 0,
          "hours": 130,
          "total": 56128.57768409178
         },
         {
          "Series": "h2_stor",
          "Value": 0,
          "hours": 131,
          "total": 56128.57768409178
         },
         {
          "Series": "h2_stor",
          "Value": 0,
          "hours": 132,
          "total": 51265.43104504838
         },
         {
          "Series": "h2_stor",
          "Value": 0,
          "hours": 133,
          "total": 53624.27932582713
         },
         {
          "Series": "h2_stor",
          "Value": 0,
          "hours": 134,
          "total": 48822.7981368789
         },
         {
          "Series": "h2_stor",
          "Value": 0,
          "hours": 135,
          "total": 51821.86886214675
         },
         {
          "Series": "h2_stor",
          "Value": 0,
          "hours": 136,
          "total": 36022.89299834106
         },
         {
          "Series": "h2_stor",
          "Value": 26324.32223159082,
          "hours": 137,
          "total": 31937.18
         },
         {
          "Series": "h2_stor",
          "Value": 26324.32223159082,
          "hours": 138,
          "total": 31937.18
         },
         {
          "Series": "h2_stor",
          "Value": 26324.32223159082,
          "hours": 139,
          "total": 31937.18
         },
         {
          "Series": "h2_stor",
          "Value": 26324.32223159082,
          "hours": 140,
          "total": 31937.18
         },
         {
          "Series": "h2_stor",
          "Value": 26324.32223159082,
          "hours": 141,
          "total": 31937.18
         },
         {
          "Series": "h2_stor",
          "Value": 26324.32223159082,
          "hours": 142,
          "total": 31937.18
         },
         {
          "Series": "h2_stor",
          "Value": 26324.32223159082,
          "hours": 143,
          "total": 31937.18
         },
         {
          "Series": "h2_stor",
          "Value": 26324.32223159082,
          "hours": 144,
          "total": 31937.18
         },
         {
          "Series": "h2_stor",
          "Value": 26324.32223159082,
          "hours": 145,
          "total": 31937.18
         },
         {
          "Series": "h2_stor",
          "Value": 26324.32223159082,
          "hours": 146,
          "total": 31937.18
         },
         {
          "Series": "h2_stor",
          "Value": 14779.562065514412,
          "hours": 147,
          "total": 31937.18
         },
         {
          "Series": "h2_stor",
          "Value": 1833.8639014945838,
          "hours": 148,
          "total": 31937.18
         },
         {
          "Series": "h2_stor",
          "Value": 0,
          "hours": 149,
          "total": 31937.18
         },
         {
          "Series": "h2_stor",
          "Value": 0,
          "hours": 150,
          "total": 31937.18
         },
         {
          "Series": "h2_stor",
          "Value": 0,
          "hours": 151,
          "total": 31937.18
         },
         {
          "Series": "h2_stor",
          "Value": 0,
          "hours": 152,
          "total": 31937.18
         },
         {
          "Series": "h2_stor",
          "Value": 0,
          "hours": 153,
          "total": 31937.18
         },
         {
          "Series": "h2_stor",
          "Value": 4293.1256067917275,
          "hours": 154,
          "total": 31937.18
         },
         {
          "Series": "h2_stor",
          "Value": 0,
          "hours": 155,
          "total": 46335.959370296085
         },
         {
          "Series": "h2_stor",
          "Value": 0,
          "hours": 156,
          "total": 56128.57768409178
         },
         {
          "Series": "h2_stor",
          "Value": 0,
          "hours": 157,
          "total": 56128.57768409178
         },
         {
          "Series": "h2_stor",
          "Value": 0,
          "hours": 158,
          "total": 56128.57768409178
         },
         {
          "Series": "h2_stor",
          "Value": 0,
          "hours": 159,
          "total": 56128.57768409178
         },
         {
          "Series": "h2_stor",
          "Value": 0,
          "hours": 160,
          "total": 45958.80166425031
         },
         {
          "Series": "h2_stor",
          "Value": 16465.589801422262,
          "hours": 161,
          "total": 31937.18
         },
         {
          "Series": "h2_stor",
          "Value": 26324.32223159082,
          "hours": 162,
          "total": 31937.18
         },
         {
          "Series": "h2_stor",
          "Value": 26324.32223159082,
          "hours": 163,
          "total": 31937.18
         },
         {
          "Series": "h2_stor",
          "Value": 26324.32223159082,
          "hours": 164,
          "total": 31937.18
         },
         {
          "Series": "h2_stor",
          "Value": 26324.32223159082,
          "hours": 165,
          "total": 31937.18
         },
         {
          "Series": "h2_stor",
          "Value": 18146.53545184889,
          "hours": 166,
          "total": 31937.18
         },
         {
          "Series": "h2_stor",
          "Value": 8180.0580100434745,
          "hours": 167,
          "total": 31937.18
         },
         {
          "Series": "h2_stor",
          "Value": 0,
          "hours": 168,
          "total": 31937.18
         },
         {
          "Series": "h2_stor",
          "Value": 0,
          "hours": 169,
          "total": 31937.18
         },
         {
          "Series": "h2_stor",
          "Value": 0,
          "hours": 170,
          "total": 31937.18
         },
         {
          "Series": "h2_stor",
          "Value": 0,
          "hours": 171,
          "total": 31937.18
         },
         {
          "Series": "h2_stor",
          "Value": 0,
          "hours": 172,
          "total": 31937.18
         },
         {
          "Series": "h2_stor",
          "Value": 0,
          "hours": 173,
          "total": 31937.18
         },
         {
          "Series": "h2_stor",
          "Value": 0,
          "hours": 174,
          "total": 31937.18
         },
         {
          "Series": "h2_stor",
          "Value": 0,
          "hours": 175,
          "total": 31937.18
         },
         {
          "Series": "h2_stor",
          "Value": 0,
          "hours": 176,
          "total": 31937.18
         },
         {
          "Series": "h2_stor",
          "Value": 0,
          "hours": 177,
          "total": 31937.18
         },
         {
          "Series": "h2_stor",
          "Value": 0,
          "hours": 178,
          "total": 31937.18
         },
         {
          "Series": "h2_stor",
          "Value": 0,
          "hours": 179,
          "total": 31937.18
         },
         {
          "Series": "h2_stor",
          "Value": 0,
          "hours": 180,
          "total": 55769.27414031875
         },
         {
          "Series": "h2_stor",
          "Value": 0,
          "hours": 181,
          "total": 56128.57768409178
         },
         {
          "Series": "h2_stor",
          "Value": 0,
          "hours": 182,
          "total": 56128.57768409178
         },
         {
          "Series": "h2_stor",
          "Value": 0,
          "hours": 183,
          "total": 56128.57768409178
         },
         {
          "Series": "h2_stor",
          "Value": 0,
          "hours": 184,
          "total": 56128.57768409178
         },
         {
          "Series": "h2_stor",
          "Value": 16472.84957256022,
          "hours": 185,
          "total": 31937.18
         },
         {
          "Series": "h2_stor",
          "Value": 26324.32223159082,
          "hours": 186,
          "total": 31937.18
         },
         {
          "Series": "h2_stor",
          "Value": 26324.32223159082,
          "hours": 187,
          "total": 31937.18
         },
         {
          "Series": "h2_stor",
          "Value": 26324.32223159082,
          "hours": 188,
          "total": 31937.18
         },
         {
          "Series": "h2_stor",
          "Value": 20841.936449401423,
          "hours": 189,
          "total": 31937.18
         },
         {
          "Series": "h2_stor",
          "Value": 4309.932159951695,
          "hours": 190,
          "total": 31937.18
         },
         {
          "Series": "h2_stor",
          "Value": 0,
          "hours": 191,
          "total": 31937.18
         },
         {
          "Series": "h2_stor",
          "Value": 0,
          "hours": 192,
          "total": 31937.18
         },
         {
          "Series": "h2_stor",
          "Value": 0,
          "hours": 193,
          "total": 31937.18
         },
         {
          "Series": "h2_stor",
          "Value": 0,
          "hours": 194,
          "total": 31937.18
         },
         {
          "Series": "h2_stor",
          "Value": 0,
          "hours": 195,
          "total": 31937.18
         },
         {
          "Series": "h2_stor",
          "Value": 0,
          "hours": 196,
          "total": 31937.18
         },
         {
          "Series": "h2_stor",
          "Value": 0,
          "hours": 197,
          "total": 31937.18
         },
         {
          "Series": "h2_stor",
          "Value": 0,
          "hours": 198,
          "total": 31937.18
         },
         {
          "Series": "h2_stor",
          "Value": 0,
          "hours": 199,
          "total": 31937.18
         },
         {
          "Series": "h2_stor",
          "Value": 0,
          "hours": 200,
          "total": 31937.18
         },
         {
          "Series": "h2_stor",
          "Value": 0,
          "hours": 201,
          "total": 31937.18
         },
         {
          "Series": "h2_stor",
          "Value": 0,
          "hours": 202,
          "total": 31937.18
         },
         {
          "Series": "h2_stor",
          "Value": 0,
          "hours": 203,
          "total": 31937.18
         },
         {
          "Series": "h2_stor",
          "Value": 0,
          "hours": 204,
          "total": 31937.18
         },
         {
          "Series": "h2_stor",
          "Value": 0,
          "hours": 205,
          "total": 31937.18
         },
         {
          "Series": "h2_stor",
          "Value": 0,
          "hours": 206,
          "total": 31937.18
         },
         {
          "Series": "h2_stor",
          "Value": 0,
          "hours": 207,
          "total": 31937.18
         },
         {
          "Series": "h2_stor",
          "Value": 0,
          "hours": 208,
          "total": 39823.80990406313
         },
         {
          "Series": "h2_stor",
          "Value": 0,
          "hours": 209,
          "total": 31937.18
         },
         {
          "Series": "h2_stor",
          "Value": 0,
          "hours": 210,
          "total": 31937.18
         },
         {
          "Series": "h2_stor",
          "Value": 7886.629904063135,
          "hours": 211,
          "total": 31937.18
         },
         {
          "Series": "h2_stor",
          "Value": 0,
          "hours": 212,
          "total": 31937.18
         },
         {
          "Series": "h2_stor",
          "Value": 0,
          "hours": 213,
          "total": 31937.18
         },
         {
          "Series": "h2_stor",
          "Value": 0,
          "hours": 214,
          "total": 31937.18
         },
         {
          "Series": "h2_stor",
          "Value": 0,
          "hours": 215,
          "total": 31937.18
         },
         {
          "Series": "h2_stor",
          "Value": 0,
          "hours": 216,
          "total": 31937.18
         },
         {
          "Series": "h2_stor",
          "Value": 0,
          "hours": 217,
          "total": 31937.18
         },
         {
          "Series": "h2_stor",
          "Value": 0,
          "hours": 218,
          "total": 31937.18
         },
         {
          "Series": "h2_stor",
          "Value": 0,
          "hours": 219,
          "total": 31937.18
         },
         {
          "Series": "h2_stor",
          "Value": 0,
          "hours": 220,
          "total": 56128.57768409178
         },
         {
          "Series": "h2_stor",
          "Value": 0,
          "hours": 221,
          "total": 47923.439224855865
         },
         {
          "Series": "h2_stor",
          "Value": 0,
          "hours": 222,
          "total": 55729.59857210302
         },
         {
          "Series": "h2_stor",
          "Value": 0,
          "hours": 223,
          "total": 39354.19370163569
         },
         {
          "Series": "h2_stor",
          "Value": 0,
          "hours": 224,
          "total": 56128.57768409178
         },
         {
          "Series": "h2_stor",
          "Value": 0,
          "hours": 225,
          "total": 56128.57768409178
         },
         {
          "Series": "h2_stor",
          "Value": 0,
          "hours": 226,
          "total": 56128.57768409178
         },
         {
          "Series": "h2_stor",
          "Value": 0,
          "hours": 227,
          "total": 56128.57768409178
         },
         {
          "Series": "h2_stor",
          "Value": 0,
          "hours": 228,
          "total": 56128.57768409178
         },
         {
          "Series": "h2_stor",
          "Value": 0,
          "hours": 229,
          "total": 56128.57768409178
         },
         {
          "Series": "h2_stor",
          "Value": 0,
          "hours": 230,
          "total": 56128.57768409178
         },
         {
          "Series": "h2_stor",
          "Value": 0,
          "hours": 231,
          "total": 56128.57768409178
         },
         {
          "Series": "h2_stor",
          "Value": 0,
          "hours": 232,
          "total": 56128.57768409178
         },
         {
          "Series": "h2_stor",
          "Value": 26324.32223159082,
          "hours": 233,
          "total": 31937.18
         },
         {
          "Series": "h2_stor",
          "Value": 26324.32223159082,
          "hours": 234,
          "total": 31937.18
         },
         {
          "Series": "h2_stor",
          "Value": 26324.32223159082,
          "hours": 235,
          "total": 31937.18
         },
         {
          "Series": "h2_stor",
          "Value": 26324.32223159082,
          "hours": 236,
          "total": 31937.18
         },
         {
          "Series": "h2_stor",
          "Value": 26324.32223159082,
          "hours": 237,
          "total": 31937.18
         },
         {
          "Series": "h2_stor",
          "Value": 26324.32223159082,
          "hours": 238,
          "total": 31937.18
         },
         {
          "Series": "h2_stor",
          "Value": 26324.32223159082,
          "hours": 239,
          "total": 31937.18
         },
         {
          "Series": "h2_stor",
          "Value": 6955.122709485495,
          "hours": 240,
          "total": 31937.18
         },
         {
          "Series": "h2_stor",
          "Value": 0,
          "hours": 241,
          "total": 45937.56565584431
         },
         {
          "Series": "h2_stor",
          "Value": 0,
          "hours": 242,
          "total": 56128.57768409178
         },
         {
          "Series": "h2_stor",
          "Value": 0,
          "hours": 243,
          "total": 56128.57768409178
         },
         {
          "Series": "h2_stor",
          "Value": 0,
          "hours": 244,
          "total": 56128.57768409178
         },
         {
          "Series": "h2_stor",
          "Value": 0,
          "hours": 245,
          "total": 56128.57768409178
         },
         {
          "Series": "h2_stor",
          "Value": 0,
          "hours": 246,
          "total": 56128.57768409178
         },
         {
          "Series": "h2_stor",
          "Value": 0,
          "hours": 247,
          "total": 56128.57768409178
         },
         {
          "Series": "h2_stor",
          "Value": 0,
          "hours": 248,
          "total": 56128.57768409178
         },
         {
          "Series": "h2_stor",
          "Value": 0,
          "hours": 249,
          "total": 56128.57768409178
         },
         {
          "Series": "h2_stor",
          "Value": 0,
          "hours": 250,
          "total": 56128.57768409178
         },
         {
          "Series": "h2_stor",
          "Value": 0,
          "hours": 251,
          "total": 56128.57768409178
         },
         {
          "Series": "h2_stor",
          "Value": 0,
          "hours": 252,
          "total": 56128.57768409178
         },
         {
          "Series": "h2_stor",
          "Value": 0,
          "hours": 253,
          "total": 56128.57768409178
         },
         {
          "Series": "h2_stor",
          "Value": 0,
          "hours": 254,
          "total": 56128.57768409178
         },
         {
          "Series": "h2_stor",
          "Value": 0,
          "hours": 255,
          "total": 56128.57768409178
         },
         {
          "Series": "h2_stor",
          "Value": 0,
          "hours": 256,
          "total": 56128.57768409178
         },
         {
          "Series": "h2_stor",
          "Value": 4051.4871582441374,
          "hours": 257,
          "total": 31937.18
         },
         {
          "Series": "h2_stor",
          "Value": 26324.32223159082,
          "hours": 258,
          "total": 31937.18
         },
         {
          "Series": "h2_stor",
          "Value": 26324.32223159082,
          "hours": 259,
          "total": 31937.18
         },
         {
          "Series": "h2_stor",
          "Value": 7240.718410538746,
          "hours": 260,
          "total": 31937.18
         },
         {
          "Series": "h2_stor",
          "Value": 0,
          "hours": 261,
          "total": 38395.83198382959
         },
         {
          "Series": "h2_stor",
          "Value": 0,
          "hours": 262,
          "total": 46439.814921589445
         },
         {
          "Series": "h2_stor",
          "Value": 0,
          "hours": 263,
          "total": 56128.57768409178
         },
         {
          "Series": "h2_stor",
          "Value": 0,
          "hours": 264,
          "total": 56128.57768409178
         },
         {
          "Series": "h2_stor",
          "Value": 0,
          "hours": 265,
          "total": 56128.57768409178
         },
         {
          "Series": "h2_stor",
          "Value": 0,
          "hours": 266,
          "total": 56128.57768409178
         },
         {
          "Series": "h2_stor",
          "Value": 0,
          "hours": 267,
          "total": 56128.57768409178
         },
         {
          "Series": "h2_stor",
          "Value": 0,
          "hours": 268,
          "total": 56128.57768409178
         },
         {
          "Series": "h2_stor",
          "Value": 0,
          "hours": 269,
          "total": 56128.57768409178
         },
         {
          "Series": "h2_stor",
          "Value": 0,
          "hours": 270,
          "total": 56128.57768409178
         },
         {
          "Series": "h2_stor",
          "Value": 0,
          "hours": 271,
          "total": 48654.122126323084
         },
         {
          "Series": "h2_stor",
          "Value": 0,
          "hours": 272,
          "total": 56128.57768409178
         },
         {
          "Series": "h2_stor",
          "Value": 0,
          "hours": 273,
          "total": 56128.57768409178
         },
         {
          "Series": "h2_stor",
          "Value": 0,
          "hours": 274,
          "total": 56128.57768409178
         },
         {
          "Series": "h2_stor",
          "Value": 0,
          "hours": 275,
          "total": 56128.57768409178
         },
         {
          "Series": "h2_stor",
          "Value": 0,
          "hours": 276,
          "total": 56128.57768409178
         },
         {
          "Series": "h2_stor",
          "Value": 0,
          "hours": 277,
          "total": 56128.57768409178
         },
         {
          "Series": "h2_stor",
          "Value": 0,
          "hours": 278,
          "total": 56128.57768409178
         },
         {
          "Series": "h2_stor",
          "Value": 0,
          "hours": 279,
          "total": 56128.57768409178
         },
         {
          "Series": "h2_stor",
          "Value": 0,
          "hours": 280,
          "total": 48328.94600905528
         },
         {
          "Series": "h2_stor",
          "Value": 26324.32223159082,
          "hours": 281,
          "total": 31937.18
         },
         {
          "Series": "h2_stor",
          "Value": 26324.32223159082,
          "hours": 282,
          "total": 31937.18
         },
         {
          "Series": "h2_stor",
          "Value": 26324.32223159082,
          "hours": 283,
          "total": 31937.18
         },
         {
          "Series": "h2_stor",
          "Value": 26324.32223159082,
          "hours": 284,
          "total": 31937.18
         },
         {
          "Series": "h2_stor",
          "Value": 21732.657343311173,
          "hours": 285,
          "total": 31937.18
         },
         {
          "Series": "h2_stor",
          "Value": 8470.939575499713,
          "hours": 286,
          "total": 31937.18
         },
         {
          "Series": "h2_stor",
          "Value": 0,
          "hours": 287,
          "total": 33378.78267536341
         },
         {
          "Series": "h2_stor",
          "Value": 0,
          "hours": 288,
          "total": 40405.53085606072
         },
         {
          "Series": "h2_stor",
          "Value": 0,
          "hours": 289,
          "total": 43851.10841230576
         },
         {
          "Series": "h2_stor",
          "Value": 0,
          "hours": 290,
          "total": 44769.6770606315
         },
         {
          "Series": "h2_stor",
          "Value": 0,
          "hours": 291,
          "total": 43151.84717102456
         },
         {
          "Series": "h2_stor",
          "Value": 0,
          "hours": 292,
          "total": 40886.695384388724
         },
         {
          "Series": "h2_stor",
          "Value": 0,
          "hours": 293,
          "total": 35876.26630217256
         },
         {
          "Series": "h2_stor",
          "Value": 6409.759271890674,
          "hours": 294,
          "total": 31937.18
         },
         {
          "Series": "h2_stor",
          "Value": 23072.74429970293,
          "hours": 295,
          "total": 31937.18
         },
         {
          "Series": "h2_stor",
          "Value": 0,
          "hours": 296,
          "total": 32284.516151986205
         },
         {
          "Series": "h2_stor",
          "Value": 0,
          "hours": 297,
          "total": 56128.57768409178
         },
         {
          "Series": "h2_stor",
          "Value": 0,
          "hours": 298,
          "total": 56128.57768409178
         },
         {
          "Series": "h2_stor",
          "Value": 0,
          "hours": 299,
          "total": 56128.57768409178
         },
         {
          "Series": "h2_stor",
          "Value": 0,
          "hours": 300,
          "total": 56128.57768409178
         }
        ]
       },
       "encoding": {
        "color": {
         "field": "Series",
         "scale": {
          "scheme": "category10"
         },
         "type": "nominal"
        },
        "x": {
         "field": "hours",
         "title": "Hours",
         "type": "quantitative"
        },
        "y": {
         "field": "Value",
         "title": "Hydrogen generation/discharge",
         "type": "quantitative"
        }
       },
       "height": 600,
       "mark": {
        "type": "line"
       },
       "width": 600
      },
      "image/png": "[encoded data removed]",
      "image/svg+xml": [
       "<svg xmlns=\"http://www.w3.org/2000/svg\" xmlns:xlink=\"http://www.w3.org/1999/xlink\" version=\"1.1\" class=\"marks\" width=\"751\" height=\"647\" viewBox=\"0 0 751 647\"><rect width=\"751\" height=\"647\" fill=\"white\"/><g fill=\"none\" stroke-miterlimit=\"10\" transform=\"translate(58,10)\"><g class=\"mark-group role-frame root\" role=\"graphics-object\" aria-roledescription=\"group mark container\"><g transform=\"translate(0,0)\"><path class=\"background\" aria-hidden=\"true\" d=\"M0.5,0.5h600v600h-600Z\" stroke=\"#ddd\"/><g><g class=\"mark-group role-axis\" aria-hidden=\"true\"><g transform=\"translate(0.5,600.5)\"><path class=\"background\" aria-hidden=\"true\" d=\"M0,0h0v0h0Z\" pointer-events=\"none\"/><g><g class=\"mark-rule role-axis-grid\" pointer-events=\"none\"><line transform=\"translate(0,-600)\" x2=\"0\" y2=\"600\" stroke=\"#ddd\" stroke-width=\"1\" opacity=\"1\"/><line transform=\"translate(40,-600)\" x2=\"0\" y2=\"600\" stroke=\"#ddd\" stroke-width=\"1\" opacity=\"1\"/><line transform=\"translate(80,-600)\" x2=\"0\" y2=\"600\" stroke=\"#ddd\" stroke-width=\"1\" opacity=\"1\"/><line transform=\"translate(120,-600)\" x2=\"0\" y2=\"600\" stroke=\"#ddd\" stroke-width=\"1\" opacity=\"1\"/><line transform=\"translate(160,-600)\" x2=\"0\" y2=\"600\" stroke=\"#ddd\" stroke-width=\"1\" opacity=\"1\"/><line transform=\"translate(200,-600)\" x2=\"0\" y2=\"600\" stroke=\"#ddd\" stroke-width=\"1\" opacity=\"1\"/><line transform=\"translate(240,-600)\" x2=\"0\" y2=\"600\" stroke=\"#ddd\" stroke-width=\"1\" opacity=\"1\"/><line transform=\"translate(280,-600)\" x2=\"0\" y2=\"600\" stroke=\"#ddd\" stroke-width=\"1\" opacity=\"1\"/><line transform=\"translate(320,-600)\" x2=\"0\" y2=\"600\" stroke=\"#ddd\" stroke-width=\"1\" opacity=\"1\"/><line transform=\"translate(360,-600)\" x2=\"0\" y2=\"600\" stroke=\"#ddd\" stroke-width=\"1\" opacity=\"1\"/><line transform=\"translate(400,-600)\" x2=\"0\" y2=\"600\" stroke=\"#ddd\" stroke-width=\"1\" opacity=\"1\"/><line transform=\"translate(440,-600)\" x2=\"0\" y2=\"600\" stroke=\"#ddd\" stroke-width=\"1\" opacity=\"1\"/><line transform=\"translate(480,-600)\" x2=\"0\" y2=\"600\" stroke=\"#ddd\" stroke-width=\"1\" opacity=\"1\"/><line transform=\"translate(520,-600)\" x2=\"0\" y2=\"600\" stroke=\"#ddd\" stroke-width=\"1\" opacity=\"1\"/><line transform=\"translate(560,-600)\" x2=\"0\" y2=\"600\" stroke=\"#ddd\" stroke-width=\"1\" opacity=\"1\"/><line transform=\"translate(600,-600)\" x2=\"0\" y2=\"600\" stroke=\"#ddd\" stroke-width=\"1\" opacity=\"1\"/></g></g><path class=\"foreground\" aria-hidden=\"true\" d=\"\" pointer-events=\"none\" display=\"none\"/></g></g><g class=\"mark-group role-axis\" aria-hidden=\"true\"><g transform=\"translate(0.5,0.5)\"><path class=\"background\" aria-hidden=\"true\" d=\"M0,0h0v0h0Z\" pointer-events=\"none\"/><g><g class=\"mark-rule role-axis-grid\" pointer-events=\"none\"><line transform=\"translate(0,600)\" x2=\"600\" y2=\"0\" stroke=\"#ddd\" stroke-width=\"1\" opacity=\"1\"/><line transform=\"translate(0,550)\" x2=\"600\" y2=\"0\" stroke=\"#ddd\" stroke-width=\"1\" opacity=\"1\"/><line transform=\"translate(0,500)\" x2=\"600\" y2=\"0\" stroke=\"#ddd\" stroke-width=\"1\" opacity=\"1\"/><line transform=\"translate(0,450)\" x2=\"600\" y2=\"0\" stroke=\"#ddd\" stroke-width=\"1\" opacity=\"1\"/><line transform=\"translate(0,400)\" x2=\"600\" y2=\"0\" stroke=\"#ddd\" stroke-width=\"1\" opacity=\"1\"/><line transform=\"translate(0,350)\" x2=\"600\" y2=\"0\" stroke=\"#ddd\" stroke-width=\"1\" opacity=\"1\"/><line transform=\"translate(0,300)\" x2=\"600\" y2=\"0\" stroke=\"#ddd\" stroke-width=\"1\" opacity=\"1\"/><line transform=\"translate(0,250)\" x2=\"600\" y2=\"0\" stroke=\"#ddd\" stroke-width=\"1\" opacity=\"1\"/><line transform=\"translate(0,200)\" x2=\"600\" y2=\"0\" stroke=\"#ddd\" stroke-width=\"1\" opacity=\"1\"/><line transform=\"translate(0,150)\" x2=\"600\" y2=\"0\" stroke=\"#ddd\" stroke-width=\"1\" opacity=\"1\"/><line transform=\"translate(0,100)\" x2=\"600\" y2=\"0\" stroke=\"#ddd\" stroke-width=\"1\" opacity=\"1\"/><line transform=\"translate(0,50)\" x2=\"600\" y2=\"0\" stroke=\"#ddd\" stroke-width=\"1\" opacity=\"1\"/><line transform=\"translate(0,0)\" x2=\"600\" y2=\"0\" stroke=\"#ddd\" stroke-width=\"1\" opacity=\"1\"/></g></g><path class=\"foreground\" aria-hidden=\"true\" d=\"\" pointer-events=\"none\" display=\"none\"/></g></g><g class=\"mark-group role-axis\" role=\"graphics-symbol\" aria-roledescription=\"axis\" aria-label=\"X-axis titled 'Hours' for a linear scale with values from 0 to 300\"><g transform=\"translate(0.5,600.5)\"><path class=\"background\" aria-hidden=\"true\" d=\"M0,0h0v0h0Z\" pointer-events=\"none\"/><g><g class=\"mark-rule role-axis-tick\" pointer-events=\"none\"><line transform=\"translate(0,0)\" x2=\"0\" y2=\"5\" stroke=\"#888\" stroke-width=\"1\" opacity=\"1\"/><line transform=\"translate(40,0)\" x2=\"0\" y2=\"5\" stroke=\"#888\" stroke-width=\"1\" opacity=\"1\"/><line transform=\"translate(80,0)\" x2=\"0\" y2=\"5\" stroke=\"#888\" stroke-width=\"1\" opacity=\"1\"/><line transform=\"translate(120,0)\" x2=\"0\" y2=\"5\" stroke=\"#888\" stroke-width=\"1\" opacity=\"1\"/><line transform=\"translate(160,0)\" x2=\"0\" y2=\"5\" stroke=\"#888\" stroke-width=\"1\" opacity=\"1\"/><line transform=\"translate(200,0)\" x2=\"0\" y2=\"5\" stroke=\"#888\" stroke-width=\"1\" opacity=\"1\"/><line transform=\"translate(240,0)\" x2=\"0\" y2=\"5\" stroke=\"#888\" stroke-width=\"1\" opacity=\"1\"/><line transform=\"translate(280,0)\" x2=\"0\" y2=\"5\" stroke=\"#888\" stroke-width=\"1\" opacity=\"1\"/><line transform=\"translate(320,0)\" x2=\"0\" y2=\"5\" stroke=\"#888\" stroke-width=\"1\" opacity=\"1\"/><line transform=\"translate(360,0)\" x2=\"0\" y2=\"5\" stroke=\"#888\" stroke-width=\"1\" opacity=\"1\"/><line transform=\"translate(400,0)\" x2=\"0\" y2=\"5\" stroke=\"#888\" stroke-width=\"1\" opacity=\"1\"/><line transform=\"translate(440,0)\" x2=\"0\" y2=\"5\" stroke=\"#888\" stroke-width=\"1\" opacity=\"1\"/><line transform=\"translate(480,0)\" x2=\"0\" y2=\"5\" stroke=\"#888\" stroke-width=\"1\" opacity=\"1\"/><line transform=\"translate(520,0)\" x2=\"0\" y2=\"5\" stroke=\"#888\" stroke-width=\"1\" opacity=\"1\"/><line transform=\"translate(560,0)\" x2=\"0\" y2=\"5\" stroke=\"#888\" stroke-width=\"1\" opacity=\"1\"/><line transform=\"translate(600,0)\" x2=\"0\" y2=\"5\" stroke=\"#888\" stroke-width=\"1\" opacity=\"1\"/></g><g class=\"mark-text role-axis-label\" pointer-events=\"none\"><text text-anchor=\"start\" transform=\"translate(0,15)\" font-family=\"sans-serif\" font-size=\"10px\" fill=\"#000\" opacity=\"1\">0</text><text text-anchor=\"middle\" transform=\"translate(40,15)\" font-family=\"sans-serif\" font-size=\"10px\" fill=\"#000\" opacity=\"1\">20</text><text text-anchor=\"middle\" transform=\"translate(80,15)\" font-family=\"sans-serif\" font-size=\"10px\" fill=\"#000\" opacity=\"1\">40</text><text text-anchor=\"middle\" transform=\"translate(120,15)\" font-family=\"sans-serif\" font-size=\"10px\" fill=\"#000\" opacity=\"1\">60</text><text text-anchor=\"middle\" transform=\"translate(160,15)\" font-family=\"sans-serif\" font-size=\"10px\" fill=\"#000\" opacity=\"1\">80</text><text text-anchor=\"middle\" transform=\"translate(200,15)\" font-family=\"sans-serif\" font-size=\"10px\" fill=\"#000\" opacity=\"1\">100</text><text text-anchor=\"middle\" transform=\"translate(240,15)\" font-family=\"sans-serif\" font-size=\"10px\" fill=\"#000\" opacity=\"1\">120</text><text text-anchor=\"middle\" transform=\"translate(280,15)\" font-family=\"sans-serif\" font-size=\"10px\" fill=\"#000\" opacity=\"1\">140</text><text text-anchor=\"middle\" transform=\"translate(320,15)\" font-family=\"sans-serif\" font-size=\"10px\" fill=\"#000\" opacity=\"1\">160</text><text text-anchor=\"middle\" transform=\"translate(360,15)\" font-family=\"sans-serif\" font-size=\"10px\" fill=\"#000\" opacity=\"1\">180</text><text text-anchor=\"middle\" transform=\"translate(400,15)\" font-family=\"sans-serif\" font-size=\"10px\" fill=\"#000\" opacity=\"1\">200</text><text text-anchor=\"middle\" transform=\"translate(439.99999999999994,15)\" font-family=\"sans-serif\" font-size=\"10px\" fill=\"#000\" opacity=\"1\">220</text><text text-anchor=\"middle\" transform=\"translate(480,15)\" font-family=\"sans-serif\" font-size=\"10px\" fill=\"#000\" opacity=\"1\">240</text><text text-anchor=\"middle\" transform=\"translate(520,15)\" font-family=\"sans-serif\" font-size=\"10px\" fill=\"#000\" opacity=\"1\">260</text><text text-anchor=\"middle\" transform=\"translate(560,15)\" font-family=\"sans-serif\" font-size=\"10px\" fill=\"#000\" opacity=\"1\">280</text><text text-anchor=\"end\" transform=\"translate(600,15)\" font-family=\"sans-serif\" font-size=\"10px\" fill=\"#000\" opacity=\"1\">300</text></g><g class=\"mark-rule role-axis-domain\" pointer-events=\"none\"><line transform=\"translate(0,0)\" x2=\"600\" y2=\"0\" stroke=\"#888\" stroke-width=\"1\" opacity=\"1\"/></g><g class=\"mark-text role-axis-title\" pointer-events=\"none\"><text text-anchor=\"middle\" transform=\"translate(300,30)\" font-family=\"sans-serif\" font-size=\"11px\" font-weight=\"bold\" fill=\"#000\" opacity=\"1\">Hours</text></g></g><path class=\"foreground\" aria-hidden=\"true\" d=\"\" pointer-events=\"none\" display=\"none\"/></g></g><g class=\"mark-group role-axis\" role=\"graphics-symbol\" aria-roledescription=\"axis\" aria-label=\"Y-axis titled 'Hydrogen generation/discharge' for a linear scale with values from 0 to 60,000\"><g transform=\"translate(0.5,0.5)\"><path class=\"background\" aria-hidden=\"true\" d=\"M0,0h0v0h0Z\" pointer-events=\"none\"/><g><g class=\"mark-rule role-axis-tick\" pointer-events=\"none\"><line transform=\"translate(0,600)\" x2=\"-5\" y2=\"0\" stroke=\"#888\" stroke-width=\"1\" opacity=\"1\"/><line transform=\"translate(0,550)\" x2=\"-5\" y2=\"0\" stroke=\"#888\" stroke-width=\"1\" opacity=\"1\"/><line transform=\"translate(0,500)\" x2=\"-5\" y2=\"0\" stroke=\"#888\" stroke-width=\"1\" opacity=\"1\"/><line transform=\"translate(0,450)\" x2=\"-5\" y2=\"0\" stroke=\"#888\" stroke-width=\"1\" opacity=\"1\"/><line transform=\"translate(0,400)\" x2=\"-5\" y2=\"0\" stroke=\"#888\" stroke-width=\"1\" opacity=\"1\"/><line transform=\"translate(0,350)\" x2=\"-5\" y2=\"0\" stroke=\"#888\" stroke-width=\"1\" opacity=\"1\"/><line transform=\"translate(0,300)\" x2=\"-5\" y2=\"0\" stroke=\"#888\" stroke-width=\"1\" opacity=\"1\"/><line transform=\"translate(0,250)\" x2=\"-5\" y2=\"0\" stroke=\"#888\" stroke-width=\"1\" opacity=\"1\"/><line transform=\"translate(0,200)\" x2=\"-5\" y2=\"0\" stroke=\"#888\" stroke-width=\"1\" opacity=\"1\"/><line transform=\"translate(0,150)\" x2=\"-5\" y2=\"0\" stroke=\"#888\" stroke-width=\"1\" opacity=\"1\"/><line transform=\"translate(0,100)\" x2=\"-5\" y2=\"0\" stroke=\"#888\" stroke-width=\"1\" opacity=\"1\"/><line transform=\"translate(0,50)\" x2=\"-5\" y2=\"0\" stroke=\"#888\" stroke-width=\"1\" opacity=\"1\"/><line transform=\"translate(0,0)\" x2=\"-5\" y2=\"0\" stroke=\"#888\" stroke-width=\"1\" opacity=\"1\"/></g><g class=\"mark-text role-axis-label\" pointer-events=\"none\"><text text-anchor=\"end\" transform=\"translate(-7,603)\" font-family=\"sans-serif\" font-size=\"10px\" fill=\"#000\" opacity=\"1\">0</text><text text-anchor=\"end\" transform=\"translate(-7,553)\" font-family=\"sans-serif\" font-size=\"10px\" fill=\"#000\" opacity=\"1\">5,000</text><text text-anchor=\"end\" transform=\"translate(-7,503)\" font-family=\"sans-serif\" font-size=\"10px\" fill=\"#000\" opacity=\"1\">10,000</text><text text-anchor=\"end\" transform=\"translate(-7,453)\" font-family=\"sans-serif\" font-size=\"10px\" fill=\"#000\" opacity=\"1\">15,000</text><text text-anchor=\"end\" transform=\"translate(-7,403.00000000000006)\" font-family=\"sans-serif\" font-size=\"10px\" fill=\"#000\" opacity=\"1\">20,000</text><text text-anchor=\"end\" transform=\"translate(-7,352.99999999999994)\" font-family=\"sans-serif\" font-size=\"10px\" fill=\"#000\" opacity=\"1\">25,000</text><text text-anchor=\"end\" transform=\"translate(-7,303)\" font-family=\"sans-serif\" font-size=\"10px\" fill=\"#000\" opacity=\"1\">30,000</text><text text-anchor=\"end\" transform=\"translate(-7,252.99999999999997)\" font-family=\"sans-serif\" font-size=\"10px\" fill=\"#000\" opacity=\"1\">35,000</text><text text-anchor=\"end\" transform=\"translate(-7,203.00000000000003)\" font-family=\"sans-serif\" font-size=\"10px\" fill=\"#000\" opacity=\"1\">40,000</text><text text-anchor=\"end\" transform=\"translate(-7,153)\" font-family=\"sans-serif\" font-size=\"10px\" fill=\"#000\" opacity=\"1\">45,000</text><text text-anchor=\"end\" transform=\"translate(-7,102.99999999999997)\" font-family=\"sans-serif\" font-size=\"10px\" fill=\"#000\" opacity=\"1\">50,000</text><text text-anchor=\"end\" transform=\"translate(-7,53.00000000000002)\" font-family=\"sans-serif\" font-size=\"10px\" fill=\"#000\" opacity=\"1\">55,000</text><text text-anchor=\"end\" transform=\"translate(-7,3)\" font-family=\"sans-serif\" font-size=\"10px\" fill=\"#000\" opacity=\"1\">60,000</text></g><g class=\"mark-rule role-axis-domain\" pointer-events=\"none\"><line transform=\"translate(0,600)\" x2=\"0\" y2=\"-600\" stroke=\"#888\" stroke-width=\"1\" opacity=\"1\"/></g><g class=\"mark-text role-axis-title\" pointer-events=\"none\"><text text-anchor=\"middle\" transform=\"translate(-41.5859375,300) rotate(-90) translate(0,-2)\" font-family=\"sans-serif\" font-size=\"11px\" font-weight=\"bold\" fill=\"#000\" opacity=\"1\">Hydrogen generation/discharge</text></g></g><path class=\"foreground\" aria-hidden=\"true\" d=\"\" pointer-events=\"none\" display=\"none\"/></g></g><g class=\"mark-group role-scope pathgroup\" role=\"graphics-object\" aria-roledescription=\"group mark container\"><g transform=\"translate(0,0)\"><path class=\"background\" aria-hidden=\"true\" d=\"M0,0h600v600h-600Z\"/><g><g class=\"mark-line role-mark marks\" role=\"graphics-object\" aria-roledescription=\"line mark container\"><path aria-label=\"Hours: 1; Hydrogen generation/discharge: 37667.7357233; Series: electrolyzer\" role=\"graphics-symbol\" aria-roledescription=\"line mark\" d=\"M2,223.323L4,176.157L6,168.461L8,197.734L10,249.223L12,315.597L14,357.672L16,38.714L18,38.714L20,38.714L22,38.714L24,38.714L26,38.714L28,38.714L30,38.714L32,38.714L34,38.714L36,38.714L38,38.714L40,38.714L42,38.714L44,38.714L46,38.714L48,38.714L50,38.714L52,38.714L54,38.714L56,38.714L58,38.714L60,38.714L62,38.714L64,38.714L66,38.714L68,38.714L70,38.714L72,38.714L74,38.714L76,38.714L78,38.714L80,38.714L82,543.871L84,543.871L86,543.871L88,543.871L90,543.871L92,543.871L94,543.871L96,280.628L98,280.628L100,220.409L102,137.907L104,107.235L106,137.191L108,247.104L110,416.419L112,38.714L114,38.714L116,38.714L118,38.714L120,280.628L122,280.628L124,368.091L126,280.628L128,442.843L130,543.871L132,543.871L134,543.871L136,543.871L138,543.871L140,543.871L142,543.871L144,543.871L146,543.871L148,301.988L150,543.871L152,327.181L154,391.253L156,535.22L158,543.871L160,543.871L162,543.871L164,543.871L166,280.628L168,280.628L170,509.56L172,280.628L174,543.871L176,280.628L178,285.546L180,543.871L182,543.871L184,280.628L186,543.871L188,280.628L190,280.628L192,289.529L194,226.47L196,268.353L198,305.205L200,369.846L202,295.91L204,396.21L206,543.871L208,536.512L210,295.434L212,200.708L214,38.714L216,38.714L218,38.714L220,38.714L222,38.714L224,38.714L226,153.179L228,297.973L230,543.871L232,302.097L234,422.878L236,280.628L238,280.628L240,280.628L242,395.846L244,280.628L246,372.923L248,280.628L250,280.628L252,543.871L254,543.871L256,533.089L258,166.479L260,38.714L262,38.714L264,87.346L266,63.757L268,111.772L270,81.781L272,239.771L274,543.871L276,543.871L278,543.871L280,543.871L282,543.871L284,543.871L286,543.871L288,543.871L290,543.871L292,543.871L294,428.424L296,298.967L298,280.628L300,280.628L302,280.628L304,280.628L306,280.628L308,323.559L310,136.64L312,38.714L314,38.714L316,38.714L318,38.714L320,140.412L322,445.284L324,543.871L326,543.871L328,543.871L330,543.871L332,462.094L334,362.429L336,280.628L338,280.628L340,280.628L342,280.628L344,280.628L346,280.628L348,280.628L350,280.628L352,280.628L354,280.628L356,280.628L358,280.628L360,42.307L362,38.714L364,38.714L366,38.714L368,38.714L370,445.357L372,543.871L374,543.871L376,543.871L378,489.048L380,323.728L382,280.628L384,280.628L386,280.628L388,280.628L390,280.628L392,280.628L394,280.628L396,280.628L398,280.628L400,280.628L402,280.628L404,280.628L406,280.628L408,280.628L410,280.628L412,280.628L414,280.628L416,201.762L418,280.628L420,280.628L422,359.494L424,280.628L426,280.628L428,280.628L430,280.628L432,280.628L434,280.628L436,280.628L438,280.628L440,38.714L442,120.766L444,42.704L446,206.458L448,38.714L450,38.714L452,38.714L454,38.714L456,38.714L458,38.714L460,38.714L462,38.714L464,38.714L466,543.871L468,543.871L470,543.871L472,543.871L474,543.871L476,543.871L478,543.871L480,350.179L482,140.624L484,38.714L486,38.714L488,38.714L490,38.714L492,38.714L494,38.714L496,38.714L498,38.714L500,38.714L502,38.714L504,38.714L506,38.714L508,38.714L510,38.714L512,38.714L514,321.143L516,543.871L518,543.871L520,353.035L522,216.042L524,135.602L526,38.714L528,38.714L530,38.714L532,38.714L534,38.714L536,38.714L538,38.714L540,38.714L542,113.459L544,38.714L546,38.714L548,38.714L550,38.714L552,38.714L554,38.714L556,38.714L558,38.714L560,116.711L562,543.871L564,543.871L566,543.871L568,543.871L570,497.955L572,365.338L574,266.212L576,195.945L578,161.489L580,152.303L582,168.482L584,191.133L586,241.237L588,344.726L590,511.356L592,277.155L594,38.714L596,38.714L598,38.714L600,38.714\" stroke=\"#1f77b4\" stroke-width=\"2\"/></g></g><path class=\"foreground\" aria-hidden=\"true\" d=\"\" display=\"none\"/></g><g transform=\"translate(0,0)\"><path class=\"background\" aria-hidden=\"true\" d=\"M0,0h600v600h-600Z\"/><g><g class=\"mark-line role-mark marks\" role=\"graphics-object\" aria-roledescription=\"line mark container\"><path aria-label=\"Hours: 1; Hydrogen generation/discharge: 0; Series: h2_stor\" role=\"graphics-symbol\" aria-roledescription=\"line mark\" d=\"M2,600L4,600L6,600L8,600L10,600L12,565.032L14,522.957L16,600L18,600L20,600L22,600L24,600L26,600L28,600L30,600L32,600L34,600L36,600L38,600L40,600L42,600L44,600L46,600L48,600L50,600L52,600L54,600L56,600L58,600L60,600L62,600L64,600L66,600L68,600L70,600L72,600L74,600L76,600L78,600L80,600L82,336.757L84,336.757L86,336.757L88,336.757L90,336.757L92,336.757L94,336.757L96,600L98,600L100,600L102,600L104,600L106,600L108,600L110,464.209L112,600L114,600L116,600L118,600L120,600L122,600L124,512.537L126,600L128,437.785L130,336.757L132,336.757L134,336.757L136,336.757L138,336.757L140,336.757L142,336.757L144,336.757L146,336.757L148,578.64L150,336.757L152,553.447L154,489.375L156,345.408L158,336.757L160,336.757L162,336.757L164,336.757L166,600L168,600L170,371.068L172,600L174,336.757L176,600L178,595.082L180,336.757L182,336.757L184,600L186,336.757L188,600L190,600L192,591.1L194,600L196,600L198,575.424L200,510.782L202,584.718L204,484.419L206,336.757L208,344.116L210,585.195L212,600L214,600L216,600L218,600L220,600L222,600L224,600L226,600L228,582.655L230,336.757L232,578.531L234,457.75L236,600L238,600L240,600L242,484.782L244,600L246,507.705L248,600L250,600L252,336.757L254,336.757L256,347.539L258,600L260,600L262,600L264,600L266,600L268,600L270,600L272,600L274,336.757L276,336.757L278,336.757L280,336.757L282,336.757L284,336.757L286,336.757L288,336.757L290,336.757L292,336.757L294,452.204L296,581.661L298,600L300,600L302,600L304,600L306,600L308,557.069L310,600L312,600L314,600L316,600L318,600L320,600L322,435.344L324,336.757L326,336.757L328,336.757L330,336.757L332,418.535L334,518.199L336,600L338,600L340,600L342,600L344,600L346,600L348,600L350,600L352,600L354,600L356,600L358,600L360,600L362,600L364,600L366,600L368,600L370,435.272L372,336.757L374,336.757L376,336.757L378,391.581L380,556.901L382,600L384,600L386,600L388,600L390,600L392,600L394,600L396,600L398,600L400,600L402,600L404,600L406,600L408,600L410,600L412,600L414,600L416,600L418,600L420,600L422,521.134L424,600L426,600L428,600L430,600L432,600L434,600L436,600L438,600L440,600L442,600L444,600L446,600L448,600L450,600L452,600L454,600L456,600L458,600L460,600L462,600L464,600L466,336.757L468,336.757L470,336.757L472,336.757L474,336.757L476,336.757L478,336.757L480,530.449L482,600L484,600L486,600L488,600L490,600L492,600L494,600L496,600L498,600L500,600L502,600L504,600L506,600L508,600L510,600L512,600L514,559.485L516,336.757L518,336.757L520,527.593L522,600L524,600L526,600L528,600L530,600L532,600L534,600L536,600L538,600L540,600L542,600L544,600L546,600L548,600L550,600L552,600L554,600L556,600L558,600L560,600L562,336.757L564,336.757L566,336.757L568,336.757L570,382.673L572,515.291L574,600L576,600L578,600L580,600L582,600L584,600L586,600L588,535.902L590,369.273L592,600L594,600L596,600L598,600L600,600\" stroke=\"#ff7f0e\" stroke-width=\"2\"/></g></g><path class=\"foreground\" aria-hidden=\"true\" d=\"\" display=\"none\"/></g></g><g class=\"mark-group role-legend\" role=\"graphics-symbol\" aria-roledescription=\"legend\" aria-label=\"Symbol legend titled 'Series' for stroke color with 2 values: electrolyzer, h2_stor\"><g transform=\"translate(620,0)\"><path class=\"background\" aria-hidden=\"true\" d=\"M0,0h68v40h-68Z\" pointer-events=\"none\"/><g><g class=\"mark-group role-legend-entry\"><g transform=\"translate(0,16)\"><path class=\"background\" aria-hidden=\"true\" d=\"M0,0h0v0h0Z\" pointer-events=\"none\"/><g><g class=\"mark-group role-scope\" role=\"graphics-object\" aria-roledescription=\"group mark container\"><g transform=\"translate(0,0)\"><path class=\"background\" aria-hidden=\"true\" d=\"M0,0h67.1279296875v11h-67.1279296875Z\" pointer-events=\"none\" opacity=\"1\"/><g><g class=\"mark-symbol role-legend-symbol\" pointer-events=\"none\"><path transform=\"translate(6,6)\" d=\"M-5,0L5,0\" stroke=\"#1f77b4\" stroke-width=\"1.5\" opacity=\"1\"/></g><g class=\"mark-text role-legend-label\" pointer-events=\"none\"><text text-anchor=\"start\" transform=\"translate(16,9)\" font-family=\"sans-serif\" font-size=\"10px\" fill=\"#000\" opacity=\"1\">electrolyzer</text></g></g><path class=\"foreground\" aria-hidden=\"true\" d=\"\" pointer-events=\"none\" display=\"none\"/></g><g transform=\"translate(0,13)\"><path class=\"background\" aria-hidden=\"true\" d=\"M0,0h67.1279296875v11h-67.1279296875Z\" pointer-events=\"none\" opacity=\"1\"/><g><g class=\"mark-symbol role-legend-symbol\" pointer-events=\"none\"><path transform=\"translate(6,6)\" d=\"M-5,0L5,0\" stroke=\"#ff7f0e\" stroke-width=\"1.5\" opacity=\"1\"/></g><g class=\"mark-text role-legend-label\" pointer-events=\"none\"><text text-anchor=\"start\" transform=\"translate(16,9)\" font-family=\"sans-serif\" font-size=\"10px\" fill=\"#000\" opacity=\"1\">h2_stor</text></g></g><path class=\"foreground\" aria-hidden=\"true\" d=\"\" pointer-events=\"none\" display=\"none\"/></g></g></g><path class=\"foreground\" aria-hidden=\"true\" d=\"\" pointer-events=\"none\" display=\"none\"/></g></g><g class=\"mark-text role-legend-title\" pointer-events=\"none\"><text text-anchor=\"start\" transform=\"translate(0,9)\" font-family=\"sans-serif\" font-size=\"11px\" font-weight=\"bold\" fill=\"#000\" opacity=\"1\">Series</text></g></g><path class=\"foreground\" aria-hidden=\"true\" d=\"\" pointer-events=\"none\" display=\"none\"/></g></g></g><path class=\"foreground\" aria-hidden=\"true\" d=\"\" display=\"none\"/></g></g></g></svg>"
      ],
      "text/plain": [
       "@vlplot(\n",
       "    mark={\n",
       "        type=\"line\"\n",
       "    },\n",
       "    encoding={\n",
       "        x={\n",
       "            title=\"Hours\",\n",
       "            field=\"hours\"\n",
       "        },\n",
       "        y={\n",
       "            title=\"Hydrogen generation/discharge\",\n",
       "            field=\"Value\"\n",
       "        },\n",
       "        color={\n",
       "            scale={\n",
       "                scheme=\"category10\"\n",
       "            },\n",
       "            field=\"Series\"\n",
       "        }\n",
       "    },\n",
       "    width=600,\n",
       "    height=600,\n",
       "    data={\n",
       "        values=...\n",
       "    }\n",
       ")"
      ]
     },
     "metadata": {},
     "output_type": "display_data"
    }
   ],
   "source": [
    "# plot = stack_h2_gen |> \n",
    "#     @vlplot(\n",
    "#         mark={:area},\n",
    "#         encoding={\n",
    "#             x={:hours, title=\"Hours\"},\n",
    "#             y={:total, title=\"Hydrogen generation/discharge\",stack=:zero},\n",
    "#             color={:Series, scale={scheme=:category10}}\n",
    "#         },\n",
    "#         width=600,\n",
    "#         height=600\n",
    "#     )\n",
    "\n",
    "plot = stack_h2_gen |> \n",
    "    @vlplot(\n",
    "        mark={:line},\n",
    "        encoding={\n",
    "            x={:hours, title=\"Hours\"},\n",
    "            y={:Value, title=\"Hydrogen generation/discharge\"},\n",
    "            color={:Series, scale={scheme=:category10}}\n",
    "        },\n",
    "        width=600,\n",
    "        height=600\n",
    "    )\n"
   ]
  },
  {
   "cell_type": "markdown",
   "metadata": {},
   "source": [
    "**Task 2:** using the asset definition in `naturalgas_power.json` as template, add a `naturalgas_hydrogen.json` asset representing Steam Methane Reforming for hydrogen production. This asset will be of type `ThermalHydrogen{NaturalGas}`, which is defined in `model/assets/thermalhydrogen.jl`"
   ]
  },
  {
   "cell_type": "markdown",
   "metadata": {},
   "source": [
    "![smr](images/smr.png)"
   ]
  },
  {
   "cell_type": "markdown",
   "metadata": {},
   "source": [
    "\n",
    "As transformation inputs, you can use:\n",
    "\n",
    "    -emission_rate: 0.069029264,\n",
    "    -efficiency_rate: 0.76865951,\n",
    "    -electricity_consumption: 0.016404\n",
    "                        \n",
    "As hydrogen edge parameters, you can use:\n",
    "\n",
    "    -existing_capacity: 0.0,\n",
    "    -investment_cost\": 29902.10236,\n",
    "    -fixed_om_cost: 13685.61723,\n",
    "    -variable_om_cost: 2.250837989,\n",
    "    -capacity_size: 1082.95,\n",
    "    -startup_cost: 0.126968004,\n",
    "    -min_up_time: 3,\n",
    "    -min_down_time: 3,\n",
    "    -ramp_up_fraction: 0.5,\n",
    "    -ramp_down_fraction: 0.5,\n",
    "    -min_flow_fraction:0.85"
   ]
  },
  {
   "cell_type": "markdown",
   "metadata": {},
   "source": [
    "<details>\n",
    "<summary>Solution</summary>\n",
    "\n",
    "</details>"
   ]
  },
  {
   "cell_type": "markdown",
   "metadata": {},
   "source": [
    "**Task 3:** Re-load the input files (which now include the SMR) and define new MACRO model. Solve the model and compare results with those obtained above. What happens if you enforce a strict net-zero $\\text{CO}_2$ cap by deleting the field `price_unmet_policy` from the $\\text{CO}_2$ node in file `one_zone_multisector/system/nodes.json`?"
   ]
  },
  {
   "cell_type": "markdown",
   "metadata": {},
   "source": [
    "<details>\n",
    "<summary>Solution</summary>\n",
    "\n",
    "</details>"
   ]
  }
 ],
 "metadata": {
  "kernelspec": {
   "display_name": "Julia 1.11.2",
   "language": "julia",
   "name": "julia-1.11"
  },
  "language_info": {
   "file_extension": ".jl",
   "mimetype": "application/julia",
   "name": "julia",
   "version": "1.11.2"
  }
 },
 "nbformat": 4,
 "nbformat_minor": 4
}
