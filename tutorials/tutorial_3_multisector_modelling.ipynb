{
 "cells": [
  {
   "cell_type": "markdown",
   "metadata": {},
   "source": [
    "In this tutorial, we extend the electricity-only model considered in Tutorial 2 by considering a multisector model for joint capacity expansion in electricity and hydrogen sectors. \n",
    "\n",
    "To do this, we scorporate hydrogen and electricity demand from Tutorial 2, and endogeneously model hydrogen production and storage in MACRO.\n",
    "\n",
    "First, we create a new case folder named \"one_zone_multisector\""
   ]
  },
  {
   "cell_type": "code",
   "execution_count": 24,
   "metadata": {},
   "outputs": [
    {
     "name": "stderr",
     "output_type": "stream",
     "text": [
      "\u001b[32m\u001b[1m  Activating\u001b[22m\u001b[39m project at `~/Code/Macro`\n"
     ]
    }
   ],
   "source": [
    "# Activate the environment using the path to the Macro repository\n",
    "macro_repo_path = dirname(@__DIR__)\n",
    "using Pkg; Pkg.activate(macro_repo_path)"
   ]
  },
  {
   "cell_type": "code",
   "execution_count": 25,
   "metadata": {},
   "outputs": [],
   "source": [
    "using Macro\n",
    "using HiGHS\n",
    "using CSV\n",
    "using DataFrames\n",
    "using JSON3"
   ]
  },
  {
   "cell_type": "code",
   "execution_count": 26,
   "metadata": {},
   "outputs": [],
   "source": [
    "if !isdir(\"one_zone_multisector\")\n",
    "    mkdir(\"one_zone_multisector\")\n",
    "    cp(\"one_zone_electricity_only/assets\",\"one_zone_multisector/assets\", force=true)\n",
    "    cp(\"one_zone_electricity_only/settings\",\"one_zone_multisector/settings\", force=true)\n",
    "    cp(\"one_zone_electricity_only/system\",\"one_zone_multisector/system\", force=true)\n",
    "    cp(\"one_zone_electricity_only/system_data.json\",\"one_zone_multisector/system_data.json\", force=true)\n",
    "end\n"
   ]
  },
  {
   "cell_type": "markdown",
   "metadata": {},
   "source": [
    "We add Hydrogen to the list of modeled commodities, modifying file `system/commodities.json`:"
   ]
  },
  {
   "cell_type": "code",
   "execution_count": 27,
   "metadata": {},
   "outputs": [],
   "source": [
    "new_macro_commodities = Dict(\"commodities\"=> [\"Electricity\", \"NaturalGas\", \"CO2\",\"Hydrogen\"])\n",
    "\n",
    "open(\"one_zone_multisector/system/commodities.json\", \"w\") do io\n",
    "    JSON3.pretty(io, new_macro_commodities)\n",
    "end\n"
   ]
  },
  {
   "cell_type": "markdown",
   "metadata": {},
   "source": [
    "Update file `system/time_data.json` accordingly:"
   ]
  },
  {
   "cell_type": "code",
   "execution_count": 28,
   "metadata": {},
   "outputs": [],
   "source": [
    "new_time_data = Dict(\"PeriodLength\"=>8760,\n",
    "                    \"HoursPerTimeStep\"=>Dict(\"Electricity\"=>1,\"NaturalGas\"=> 1,\"CO2\"=> 1,\"Hydrogen\"=>1),\n",
    "                    \"HoursPerSubperiod\"=>Dict(\"Electricity\"=>8760,\"NaturalGas\"=> 8760,\"CO2\"=> 8760,\"Hydrogen\"=>8760)\n",
    "                )\n",
    "\n",
    "open(\"one_zone_multisector/system/time_data.json\", \"w\") do io\n",
    "    JSON3.pretty(io, new_time_data)\n",
    "end"
   ]
  },
  {
   "cell_type": "markdown",
   "metadata": {},
   "source": [
    "Move separate electricity and hydrogen demand timeseries into the system folder"
   ]
  },
  {
   "cell_type": "code",
   "execution_count": 29,
   "metadata": {},
   "outputs": [
    {
     "data": {
      "text/plain": [
       "\"one_zone_multisector/system/demand.csv\""
      ]
     },
     "metadata": {},
     "output_type": "display_data"
    }
   ],
   "source": [
    "cp(\"demand_timeseries/electricity_demand.csv\",\"one_zone_multisector/system/demand.csv\";force=true)"
   ]
  },
  {
   "cell_type": "code",
   "execution_count": 30,
   "metadata": {},
   "outputs": [
    {
     "data": {
      "text/plain": [
       "\"one_zone_multisector/system/hydrogen_demand.csv\""
      ]
     },
     "metadata": {},
     "output_type": "display_data"
    }
   ],
   "source": [
    "cp(\"demand_timeseries/hydrogen_demand.csv\",\"one_zone_multisector/system/hydrogen_demand.csv\";force=true)"
   ]
  },
  {
   "cell_type": "markdown",
   "metadata": {},
   "source": [
    "**Task 1:** using the existing nodes in `system/nodes.json` as template, add an Hydrogen demand node, linking it to the `hydogen_demand.csv` timeseries. Do not allow any demand elasticity for hydrogen (i.e.,set `max_nsd=0`)"
   ]
  },
  {
   "cell_type": "markdown",
   "metadata": {},
   "source": [
    "Next, we add an electrolyzer asset represented in Macro as a transformation connecting electricity and hydrogen nodes:"
   ]
  },
  {
   "cell_type": "markdown",
   "metadata": {},
   "source": [
    "![electrolyzer](images/electrolyzer_asset.png)"
   ]
  },
  {
   "cell_type": "markdown",
   "metadata": {},
   "source": [
    "To include the electrolyzer, create a file `assets/electrolyzer.json` that looks like this:"
   ]
  },
  {
   "cell_type": "markdown",
   "metadata": {},
   "source": [
    "```json\n",
    "{\n",
    "   \"electrolyzer\": [\n",
    "        {   \n",
    "            \"type\": \"Electrolyzer\",\n",
    "            \"global_data\":{\n",
    "                \"nodes\": {},\n",
    "                \"transforms\": {\n",
    "                    \"timedata\": \"Electricity\",\n",
    "                    \"constraints\": {\n",
    "                            \"BalanceConstraint\": true\n",
    "                    }\n",
    "                },\n",
    "                \"edges\": {\n",
    "                    \"h2_edge\": {\n",
    "                        \"type\": \"Hydrogen\",\n",
    "                        \"unidirectional\": true,\n",
    "                        \"has_capacity\": true,\n",
    "                        \"can_retire\": true,\n",
    "                        \"can_expand\": true,\n",
    "                        \"constraints\": {\n",
    "                                \"CapacityConstraint\": true,\n",
    "                                \"RampingLimitConstraint\": true,\n",
    "                                \"MinFlowConstraint\": true\n",
    "                            }\n",
    "                    },\n",
    "                    \"elec_edge\": {\n",
    "                        \"type\": \"Electricity\",\n",
    "                        \"unidirectional\": true,\n",
    "                        \"has_capacity\": false\n",
    "                    }\n",
    "                }\n",
    "            },\n",
    "            \"instance_data\":[\n",
    "                {\n",
    "                    \"id\": \"SE_Electrolyzer\",\n",
    "                    \"transforms\":{\n",
    "                        \"efficiency_rate\": 0.875111139\n",
    "                    },\n",
    "                    \"edges\":{\n",
    "                            \"elec_edge\": {\n",
    "                                \"start_vertex\": \"elec_SE\"\n",
    "                            },\n",
    "                            \"h2_edge\": {\n",
    "                                \"end_vertex\": \"h2_SE\",\n",
    "                                \"existing_capacity\": 0,\n",
    "                                \"investment_cost\": 41112.53426,\n",
    "                                \"fixed_om_cost\": 1052.480877,\n",
    "                                \"variable_om_cost\": 0.0,\n",
    "                                \"capacity_size\": 1.5752,\n",
    "                                \"ramp_up_fraction\": 1,\n",
    "                                \"ramp_down_fraction\": 1,\n",
    "                                \"min_flow_fraction\":0.1\n",
    "                            }\n",
    "                    }\n",
    "                }\n",
    "            ]\n",
    "\n",
    "        }\n",
    "    ]\n",
    "}\n",
    "```"
   ]
  },
  {
   "cell_type": "markdown",
   "metadata": {},
   "source": [
    "We also include an hydrogen storage resource cluster, represented in MACRO as combination of a compressor transformation (consuming electricity to compress the gas) and a storage node:"
   ]
  },
  {
   "cell_type": "markdown",
   "metadata": {},
   "source": [
    "![hydrogen_storage](images/hydrogen_storage.png)"
   ]
  },
  {
   "cell_type": "markdown",
   "metadata": {},
   "source": [
    "Add a file `assets/h2_storage.json` that should look like:"
   ]
  },
  {
   "cell_type": "markdown",
   "metadata": {},
   "source": [
    "```json\n",
    "{\n",
    "    \"h2stor\": [\n",
    "        {\n",
    "            \"type\": \"GasStorage\",\n",
    "            \"global_data\": {\n",
    "                \"nodes\": {},\n",
    "                \"transforms\": {\n",
    "                    \"timedata\": \"Hydrogen\",\n",
    "                    \"constraints\": {\n",
    "                        \"BalanceConstraint\": true\n",
    "                    }\n",
    "                },\n",
    "                \"edges\": {\n",
    "                    \"discharge_edge\": {\n",
    "                        \"type\": \"Hydrogen\",\n",
    "                        \"unidirectional\": true,\n",
    "                        \"can_expand\": true,\n",
    "                        \"can_retire\": false,\n",
    "                        \"has_capacity\": true,\n",
    "                        \"constraints\": {\n",
    "                            \"CapacityConstraint\": true,\n",
    "                            \"RampingLimitConstraint\": true\n",
    "                        }\n",
    "                    },\n",
    "                    \"charge_edge\": {\n",
    "                        \"type\": \"Hydrogen\",\n",
    "                        \"unidirectional\": true,\n",
    "                        \"has_capacity\": true,\n",
    "                        \"can_expand\": true,\n",
    "                        \"can_retire\": false,\n",
    "                        \"constraints\": {\n",
    "                            \"CapacityConstraint\": true\n",
    "                        }\n",
    "                    },\n",
    "                    \"compressor_elec_edge\": {\n",
    "                        \"type\": \"Electricity\",\n",
    "                        \"unidirectional\": true,\n",
    "                        \"has_capacity\": false\n",
    "                    },\n",
    "                    \"compressor_gas_edge\": {\n",
    "                        \"type\": \"Hydrogen\",\n",
    "                        \"unidirectional\": true,\n",
    "                        \"has_capacity\": false\n",
    "                    }\n",
    "                },\n",
    "                \"storage\": {\n",
    "                    \"commodity\": \"Hydrogen\",\n",
    "                    \"can_expand\": true,\n",
    "                    \"can_retire\": false,\n",
    "                    \"constraints\": {\n",
    "                        \"StorageCapacityConstraint\": true,\n",
    "                        \"BalanceConstraint\": true,\n",
    "                        \"MinStorageLevelConstraint\": true\n",
    "                    }\n",
    "                }\n",
    "            },\n",
    "            \"instance_data\": [\n",
    "                {\n",
    "                    \"id\": \"SE_Above_ground_storage\",\n",
    "                    \"transforms\": {\n",
    "                        \"electricity_consumption\": 0.018029457\n",
    "                    },\n",
    "                    \"edges\": {\n",
    "                        \"discharge_edge\": {\n",
    "                            \"end_vertex\": \"h2_SE\",\n",
    "                            \"existing_capacity\": 0,\n",
    "                            \"investment_cost\": 0.0,\n",
    "                            \"fixed_om_cost\": 0.0,\n",
    "                            \"variable_om_cost\": 0.0,\n",
    "                            \"efficiency\": 1.0,\n",
    "                            \"ramp_up_fraction\": 1,\n",
    "                            \"ramp_down_fraction\": 1\n",
    "                        },\n",
    "                        \"charge_edge\":{\n",
    "                            \"existing_capacity\": 0,\n",
    "                            \"investment_cost\": 3219.236569,\n",
    "                            \"fixed_om_cost\": 0.0,\n",
    "                            \"variable_om_cost\": 0.0,\n",
    "                            \"efficiency\": 1.0\n",
    "                        },\n",
    "                        \"compressor_gas_edge\": {\n",
    "                            \"start_vertex\": \"h2_SE\"\n",
    "                        },\n",
    "                        \"compressor_elec_edge\": {\n",
    "                            \"start_vertex\": \"elec_SE\"\n",
    "                        }\n",
    "                    },\n",
    "                    \"storage\":{\n",
    "                        \"investment_cost_storage\": 873.013307,\n",
    "                        \"fixed_om_cost_storage\":28.75810056,\n",
    "                        \"storage_loss_fraction\": 0.0,\n",
    "                        \"min_storage_level\": 0.3\n",
    "                    }\n",
    "                }\n",
    "            ]\n",
    "        }\n",
    "    ]\n",
    "}\n",
    "```"
   ]
  },
  {
   "cell_type": "markdown",
   "metadata": {},
   "source": [
    "We now load the multisector inputs and generate the MACRO model:"
   ]
  },
  {
   "cell_type": "code",
   "execution_count": 31,
   "metadata": {},
   "outputs": [
    {
     "name": "stderr",
     "output_type": "stream",
     "text": [
      "┌ Info: Loading JSON data from /Users/fpecci/Code/Macro/tutorials/one_zone_multisector/system_data.json\n",
      "└ @ Macro /Users/fpecci/Code/Macro/src/load_inputs/load_macroobject.jl:135\n",
      "┌ Info: Loading JSON data from one_zone_multisector/system_data.json\n",
      "└ @ Macro /Users/fpecci/Code/Macro/src/load_inputs/load_macroobject.jl:135\n",
      "┌ Info: Loading JSON data from one_zone_multisector/system/nodes.json\n",
      "└ @ Macro /Users/fpecci/Code/Macro/src/load_inputs/load_macroobject.jl:135\n",
      "┌ Info: Loading columns [:natgas_SE] from CSV data from one_zone_multisector/system/fuel_prices.csv\n",
      "└ @ Macro /Users/fpecci/Code/Macro/src/load_inputs/file_io/csv.jl:8\n",
      "┌ Info: Loading CSV data from one_zone_multisector/system/fuel_prices.csv\n",
      "└ @ Macro /Users/fpecci/Code/Macro/src/load_inputs/file_io/csv.jl:14\n",
      "┌ Info: Loading columns [:Demand_MW_z1] from CSV data from one_zone_multisector/system/demand.csv\n",
      "└ @ Macro /Users/fpecci/Code/Macro/src/load_inputs/file_io/csv.jl:8\n",
      "┌ Info: Loading CSV data from one_zone_multisector/system/demand.csv\n",
      "└ @ Macro /Users/fpecci/Code/Macro/src/load_inputs/file_io/csv.jl:14\n",
      "┌ Info: Loading columns [:Demand_H2_z1] from CSV data from one_zone_multisector/system/hydrogen_demand.csv\n",
      "└ @ Macro /Users/fpecci/Code/Macro/src/load_inputs/file_io/csv.jl:8\n",
      "┌ Info: Loading CSV data from one_zone_multisector/system/hydrogen_demand.csv\n",
      "└ @ Macro /Users/fpecci/Code/Macro/src/load_inputs/file_io/csv.jl:14\n",
      "┌ Info: Loading JSON data from one_zone_multisector/assets/electricity_stor.json\n",
      "└ @ Macro /Users/fpecci/Code/Macro/src/load_inputs/load_macroobject.jl:135\n",
      "┌ Info: Loading JSON data from one_zone_multisector/assets/electrolyzer.json\n",
      "└ @ Macro /Users/fpecci/Code/Macro/src/load_inputs/load_macroobject.jl:135\n",
      "┌ Info: Loading JSON data from one_zone_multisector/assets/h2storage.json\n",
      "└ @ Macro /Users/fpecci/Code/Macro/src/load_inputs/load_macroobject.jl:135\n",
      "┌ Info: Loading JSON data from one_zone_multisector/assets/naturalgas_power.json\n",
      "└ @ Macro /Users/fpecci/Code/Macro/src/load_inputs/load_macroobject.jl:135\n",
      "┌ Info: Loading JSON data from one_zone_multisector/assets/vre.json\n",
      "└ @ Macro /Users/fpecci/Code/Macro/src/load_inputs/load_macroobject.jl:135\n",
      "┌ Info: Loading columns [:SE_utilitypv_class1_moderate_70_0_2_1] from CSV data from one_zone_multisector/assets/availability.csv\n",
      "└ @ Macro /Users/fpecci/Code/Macro/src/load_inputs/file_io/csv.jl:8\n",
      "┌ Info: Loading CSV data from one_zone_multisector/assets/availability.csv\n",
      "└ @ Macro /Users/fpecci/Code/Macro/src/load_inputs/file_io/csv.jl:14\n",
      "┌ Info: Loading columns [:SE_landbasedwind_class4_moderate_70_1] from CSV data from one_zone_multisector/assets/availability.csv\n",
      "└ @ Macro /Users/fpecci/Code/Macro/src/load_inputs/file_io/csv.jl:8\n",
      "┌ Info: Loading CSV data from one_zone_multisector/assets/availability.csv\n",
      "└ @ Macro /Users/fpecci/Code/Macro/src/load_inputs/file_io/csv.jl:14\n"
     ]
    },
    {
     "name": "stdout",
     "output_type": "stream",
     "text": [
      "system.settings.Scaling = false\n"
     ]
    }
   ],
   "source": [
    "system = Macro.load_system(\"one_zone_multisector\");"
   ]
  },
  {
   "cell_type": "code",
   "execution_count": 32,
   "metadata": {},
   "outputs": [
    {
     "name": "stdout",
     "output_type": "stream",
     "text": [
      "max_non_served_demand(n) = [0.0]"
     ]
    },
    {
     "name": "stderr",
     "output_type": "stream",
     "text": [
      "┌ Info: Starting model generation\n",
      "└ @ Macro /Users/fpecci/Code/Macro/src/generate_model.jl:3\n",
      "┌ Info: Adding linking variables\n",
      "└ @ Macro /Users/fpecci/Code/Macro/src/generate_model.jl:15\n",
      "┌ Info: Defining available capacity\n",
      "└ @ Macro /Users/fpecci/Code/Macro/src/generate_model.jl:18\n",
      "┌ Info: Generating planning model\n",
      "└ @ Macro /Users/fpecci/Code/Macro/src/generate_model.jl:21\n",
      "┌ Info: Generating operational model\n",
      "└ @ Macro /Users/fpecci/Code/Macro/src/generate_model.jl:24\n"
     ]
    },
    {
     "name": "stdout",
     "output_type": "stream",
     "text": [
      "\n"
     ]
    },
    {
     "name": "stderr",
     "output_type": "stream",
     "text": [
      "┌ Warning: MaxNonServedDemandConstraint required for a node that does not have a non-served demand variable so MACRO will not create this constraint\n",
      "└ @ Macro /Users/fpecci/Code/Macro/src/model/constraints/max_non_served_demand.jl:17\n",
      "┌ Warning: MaxNonServedDemandPerSegmentConstraint required for a node that does not have a non-served demand variable so MACRO will not create this constraint\n",
      "└ @ Macro /Users/fpecci/Code/Macro/src/model/constraints/max_non_served_demand_per_segment.jl:19\n",
      "┌ Info: Model generation complete, it took 2.268450975418091 seconds\n",
      "└ @ Macro /Users/fpecci/Code/Macro/src/generate_model.jl:29\n"
     ]
    },
    {
     "data": {
      "text/plain": [
       "A JuMP Model\n",
       "├ solver: none\n",
       "├ objective_sense: MIN_SENSE\n",
       "│ └ objective_function_type: JuMP.AffExpr\n",
       "├ num_variables: 166461\n",
       "├ num_constraints: 490593\n",
       "│ ├ JuMP.AffExpr in MOI.EqualTo{Float64}: 87601\n",
       "│ ├ JuMP.AffExpr in MOI.GreaterThan{Float64}: 43801\n",
       "│ ├ JuMP.AffExpr in MOI.LessThan{Float64}: 192731\n",
       "│ ├ JuMP.VariableRef in MOI.EqualTo{Float64}: 8\n",
       "│ └ JuMP.VariableRef in MOI.GreaterThan{Float64}: 166452\n",
       "└ Names registered in the model\n",
       "  └ :eFixedCost, :eVariableCost, :vREF"
      ]
     },
     "metadata": {},
     "output_type": "display_data"
    }
   ],
   "source": [
    "model = Macro.generate_model(system)"
   ]
  },
  {
   "cell_type": "code",
   "execution_count": 33,
   "metadata": {},
   "outputs": [
    {
     "name": "stdout",
     "output_type": "stream",
     "text": [
      "Running HiGHS 1.8.1 (git hash: 4a7f24ac6): Copyright (c) 2024 HiGHS under MIT licence terms\n",
      "Coefficient ranges:\n",
      "  Matrix [7e-08, 2e+05]\n",
      "  Cost   [1e-01, 6e+07]\n",
      "  Bound  [1e+00, 1e+00]\n",
      "  RHS    [9e+04, 2e+05]\n",
      "Presolving model\n",
      "241306 rows, 127432 cols, 732676 nonzeros  0s\n",
      "210156 rows, 96282 cols, 764926 nonzeros  0s\n",
      "210156 rows, 96282 cols, 764926 nonzeros  0s\n",
      "Presolve : Reductions: rows 210156(-113977); columns 96282(-70179); elements 764926(-322142)\n",
      "Solving the presolved LP\n",
      "Using EKK dual simplex solver - serial\n",
      "  Iteration        Objective     Infeasibilities num(sum)\n",
      "          0     0.0000000000e+00 Pr: 17520(3.36075e+08) 0s\n",
      "      19133     4.9236463798e+09 Pr: 12332(4.28183e+09); Du: 0(1.75026e-07) 5s\n",
      "      32355     2.8155047791e+10 Pr: 21012(1.82721e+09); Du: 0(1.70605e-07) 11s\n",
      "      61614     6.7180591610e+10 Pr: 62518(1.36509e+11); Du: 0(1.45708e-07) 16s\n",
      "      76322     7.1670974906e+10 Pr: 15355(3.85738e+08); Du: 0(1.45708e-07) 21s\n",
      "      97716     7.7329250296e+10 Pr: 11178(1.0588e+08); Du: 0(1.57661e-07) 27s\n",
      "     110137     7.9731334773e+10 Pr: 61702(8.46139e+10); Du: 0(2.08939e-07) 32s\n",
      "     121971     8.1401678631e+10 Pr: 29303(2.24743e+10); Du: 0(2.08939e-07) 38s\n",
      "     132999     8.2803884148e+10 Pr: 21356(5.83011e+09); Du: 0(2.35163e-07) 43s\n",
      "     142951     8.4949934323e+10 Pr: 44911(4.46694e+10); Du: 0(2.07845e-07) 48s\n",
      "     155482     8.5928212021e+10 Pr: 7364(9.88592e+07); Du: 0(1.57661e-07) 53s\n",
      "     165960     8.7131298931e+10 Pr: 43811(4.00195e+10); Du: 0(1.97851e-07) 58s\n",
      "     176966     8.8127243122e+10 Pr: 34074(1.89529e+10); Du: 0(1.97851e-07) 64s\n",
      "     186736     8.9338305493e+10 Pr: 12089(8.33223e+08); Du: 0(2.49129e-07) 69s\n",
      "     197802     8.9900774971e+10 Pr: 5842(9.29537e+06); Du: 0(1.91656e-07) 74s\n",
      "     207549     9.0483218020e+10 Pr: 13990(1.44214e+09); Du: 0(7.12183e-08) 80s\n",
      "     215317     9.0743069567e+10 Pr: 5413(1.33582e+07); Du: 0(7.12184e-08) 85s\n",
      "     225481     9.1362938010e+10 Pr: 6813(2.33746e+07); Du: 0(7.12183e-08) 90s\n",
      "     235143     9.1865967732e+10 Pr: 6285(2.29806e+07); Du: 0(1.05214e-07) 96s\n",
      "     246536     9.2208675892e+10 Pr: 27097(1.16342e+10); Du: 0(1.25086e-07) 101s\n",
      "     258155     9.2397254811e+10 Pr: 5339(1.79199e+07); Du: 0(9.10903e-08) 106s\n",
      "     269048     9.2446725230e+10 Pr: 0(0); Du: 0(9.10906e-08) 112s\n",
      "     269062     9.2438559774e+10 Pr: 0(0); Du: 0(1.83077e-07) 112s\n",
      "     269062     9.2438559774e+10 Pr: 0(0); Du: 0(1.83077e-07) 112s\n",
      "Using EKK dual simplex solver - serial\n",
      "  Iteration        Objective     Infeasibilities num(sum)\n",
      "     269062     9.2438559774e+10 Pr: 3(3.47994e-07); Du: 0(2.32974e-07) 112s\n",
      "     269067     9.2438559774e+10 Pr: 0(0); Du: 0(1.99216e-07) 112s\n",
      "     269067     9.2438559774e+10 Pr: 0(0); Du: 0(1.99216e-07) 112s\n",
      "Solving the original LP from the solution after postsolve\n",
      "Model status        : Optimal\n",
      "Simplex   iterations: 269067\n",
      "Objective value     :  9.2438559774e+10\n",
      "Relative P-D gap    :  1.9544231643e-13\n",
      "HiGHS run time      :        112.13\n"
     ]
    }
   ],
   "source": [
    "Macro.set_optimizer(model, HiGHS.Optimizer);\n",
    "Macro.optimize!(model)"
   ]
  },
  {
   "cell_type": "code",
   "execution_count": 34,
   "metadata": {},
   "outputs": [
    {
     "data": {
      "text/html": [
       "<div><div style = \"float: left;\"><span>6×5 DataFrame</span></div><div style = \"clear: both;\"></div></div><div class = \"data-frame\" style = \"overflow-x: scroll;\"><table class = \"data-frame\" style = \"margin-bottom: 6px;\"><thead><tr class = \"header\"><th class = \"rowNumber\" style = \"font-weight: bold; text-align: right;\">Row</th><th style = \"text-align: left;\">asset</th><th style = \"text-align: left;\">type</th><th style = \"text-align: left;\">capacity</th><th style = \"text-align: left;\">additions</th><th style = \"text-align: left;\">retirements</th></tr><tr class = \"subheader headerLastRow\"><th class = \"rowNumber\" style = \"font-weight: bold; text-align: right;\"></th><th title = \"Symbol\" style = \"text-align: left;\">Symbol</th><th title = \"Symbol\" style = \"text-align: left;\">Symbol</th><th title = \"Float64\" style = \"text-align: left;\">Float64</th><th title = \"Float64\" style = \"text-align: left;\">Float64</th><th title = \"Float64\" style = \"text-align: left;\">Float64</th></tr></thead><tbody><tr><td class = \"rowNumber\" style = \"font-weight: bold; text-align: right;\">1</td><td style = \"text-align: left;\">battery_SE</td><td style = \"text-align: left;\">Battery</td><td style = \"text-align: right;\">89868.4</td><td style = \"text-align: right;\">89868.4</td><td style = \"text-align: right;\">0.0</td></tr><tr><td class = \"rowNumber\" style = \"font-weight: bold; text-align: right;\">2</td><td style = \"text-align: left;\">SE_Electrolyzer</td><td style = \"text-align: left;\">Electrolyzer</td><td style = \"text-align: right;\">55402.5</td><td style = \"text-align: right;\">35171.8</td><td style = \"text-align: right;\">0.0</td></tr><tr><td class = \"rowNumber\" style = \"font-weight: bold; text-align: right;\">3</td><td style = \"text-align: left;\">SE_Above_ground_storage</td><td style = \"text-align: left;\">GasStorage{Hydrogen}</td><td style = \"text-align: right;\">23465.4</td><td style = \"text-align: right;\">23465.4</td><td style = \"text-align: right;\">0.0</td></tr><tr><td class = \"rowNumber\" style = \"font-weight: bold; text-align: right;\">4</td><td style = \"text-align: left;\">SE_naturalgas_ccavgcf_moderate_0</td><td style = \"text-align: left;\">ThermalPower{NaturalGas}</td><td style = \"text-align: right;\">1.03747e5</td><td style = \"text-align: right;\">181.06</td><td style = \"text-align: right;\">0.0</td></tr><tr><td class = \"rowNumber\" style = \"font-weight: bold; text-align: right;\">5</td><td style = \"text-align: left;\">SE_utilitypv_class1_moderate_70_0_2_1</td><td style = \"text-align: left;\">VRE</td><td style = \"text-align: right;\">3.5033e5</td><td style = \"text-align: right;\">3.5033e5</td><td style = \"text-align: right;\">0.0</td></tr><tr><td class = \"rowNumber\" style = \"font-weight: bold; text-align: right;\">6</td><td style = \"text-align: left;\">SE_landbasedwind_class4_moderate_70_1</td><td style = \"text-align: left;\">VRE</td><td style = \"text-align: right;\">261279.0</td><td style = \"text-align: right;\">261279.0</td><td style = \"text-align: right;\">0.0</td></tr></tbody></table></div>"
      ],
      "text/latex": [
       "\\begin{tabular}{r|ccccc}\n",
       "\t& asset & type & capacity & additions & \\\\\n",
       "\t\\hline\n",
       "\t& Symbol & Symbol & Float64 & Float64 & \\\\\n",
       "\t\\hline\n",
       "\t1 & battery\\_SE & Battery & 89868.4 & 89868.4 & $\\dots$ \\\\\n",
       "\t2 & SE\\_Electrolyzer & Electrolyzer & 55402.5 & 35171.8 & $\\dots$ \\\\\n",
       "\t3 & SE\\_Above\\_ground\\_storage & GasStorage\\{Hydrogen\\} & 23465.4 & 23465.4 & $\\dots$ \\\\\n",
       "\t4 & SE\\_naturalgas\\_ccavgcf\\_moderate\\_0 & ThermalPower\\{NaturalGas\\} & 1.03747e5 & 181.06 & $\\dots$ \\\\\n",
       "\t5 & SE\\_utilitypv\\_class1\\_moderate\\_70\\_0\\_2\\_1 & VRE & 3.5033e5 & 3.5033e5 & $\\dots$ \\\\\n",
       "\t6 & SE\\_landbasedwind\\_class4\\_moderate\\_70\\_1 & VRE & 261279.0 & 261279.0 & $\\dots$ \\\\\n",
       "\\end{tabular}\n"
      ],
      "text/plain": [
       "\u001b[1m6×5 DataFrame\u001b[0m\n",
       "\u001b[1m Row \u001b[0m│\u001b[1m asset                             \u001b[0m\u001b[1m type                     \u001b[0m\u001b[1m capacity  \u001b[0m ⋯\n",
       "     │\u001b[90m Symbol                            \u001b[0m\u001b[90m Symbol                   \u001b[0m\u001b[90m Float64   \u001b[0m ⋯\n",
       "─────┼──────────────────────────────────────────────────────────────────────────\n",
       "   1 │ battery_SE                         Battery                    89868.4   ⋯\n",
       "   2 │ SE_Electrolyzer                    Electrolyzer               55402.5\n",
       "   3 │ SE_Above_ground_storage            GasStorage{Hydrogen}       23465.4\n",
       "   4 │ SE_naturalgas_ccavgcf_moderate_0   ThermalPower{NaturalGas}       1.037\n",
       "   5 │ SE_utilitypv_class1_moderate_70_…  VRE                            3.503 ⋯\n",
       "   6 │ SE_landbasedwind_class4_moderate…  VRE                       261279.0\n",
       "\u001b[36m                                                               3 columns omitted\u001b[0m"
      ]
     },
     "metadata": {},
     "output_type": "display_data"
    }
   ],
   "source": [
    "capacity_results = Macro.get_optimal_asset_capacity(system)"
   ]
  },
  {
   "cell_type": "code",
   "execution_count": 35,
   "metadata": {},
   "outputs": [
    {
     "data": {
      "text/plain": [
       "9.243855977377776e10"
      ]
     },
     "metadata": {},
     "output_type": "display_data"
    }
   ],
   "source": [
    "Macro.objective_value(model)"
   ]
  },
  {
   "cell_type": "code",
   "execution_count": 36,
   "metadata": {},
   "outputs": [
    {
     "data": {
      "text/plain": [
       "6.873748046919714e7"
      ]
     },
     "metadata": {},
     "output_type": "display_data"
    }
   ],
   "source": [
    "co2_node_idx = findfirst(isa.(system.locations,Node{CO2}).==1)\n",
    "Macro.value(sum(system.locations[co2_node_idx].operation_expr[:emissions]))"
   ]
  },
  {
   "cell_type": "markdown",
   "metadata": {},
   "source": [
    "Note that we have achieved lower costs and emissions compared to the case in Tutorial 2, where we were optimizing only the electricity sector and modeling hydrogen demand aggreagated as electricity demand. "
   ]
  },
  {
   "cell_type": "markdown",
   "metadata": {},
   "source": [
    "**Task 2:** using the asset definition in `naturalgas_power.json` as template, add a `naturalgas_hydrogen.json` asset representing Steam Methan Reforming for hydrogen production. This asset will be of type `ThermalHydrogen{NaturalGas}`, which is defined in `model/assets/thermalhydrogen.jl`"
   ]
  },
  {
   "cell_type": "markdown",
   "metadata": {},
   "source": [
    "![smr](images/smr.png)"
   ]
  },
  {
   "cell_type": "markdown",
   "metadata": {},
   "source": [
    "\n",
    "As transformation inputs, you can use:\n",
    "\n",
    "    -emission_rate: 0.069029264,\n",
    "    -efficiency_rate: 0.76865951,\n",
    "    -electricity_consumption: 0.016404\n",
    "                        \n",
    "As hydrogen edge parameters, you can use:\n",
    "\n",
    "    -existing_capacity: 0.0,\n",
    "    -investment_cost\": 29902.10236,\n",
    "    -fixed_om_cost: 13685.61723,\n",
    "    -variable_om_cost: 2.250837989,\n",
    "    -capacity_size: 1082.95,\n",
    "    -startup_cost: 0.126968004,\n",
    "    -min_up_time: 3,\n",
    "    -min_down_time: 3,\n",
    "    -ramp_up_fraction: 0.5,\n",
    "    -ramp_down_fraction: 0.5,\n",
    "    -min_flow_fraction:0.85"
   ]
  },
  {
   "cell_type": "markdown",
   "metadata": {},
   "source": [
    "**Task 3:** Re-load the input files (which now include the SMR) and define new MACRO model. Solve the model and compare results with those obtained above. What happens if you enforce a strict net-zero $\\text{CO}_2$ cap by deleting the field `price_unmet_policy` from the $\\text{CO}_2$ node in file `one_zone_multisector/system/nodes.json`?"
   ]
  },
  {
   "cell_type": "markdown",
   "metadata": {},
   "source": []
  }
 ],
 "metadata": {
  "kernelspec": {
   "display_name": "Julia 1.11.1",
   "language": "julia",
   "name": "julia-1.11"
  },
  "language_info": {
   "file_extension": ".jl",
   "mimetype": "application/julia",
   "name": "julia",
   "version": "1.11.1"
  }
 },
 "nbformat": 4,
 "nbformat_minor": 2
}
