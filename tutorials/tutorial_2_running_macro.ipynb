{
 "cells": [
  {
   "cell_type": "code",
   "execution_count": 10,
   "metadata": {},
   "outputs": [
    {
     "name": "stderr",
     "output_type": "stream",
     "text": [
      "\u001b[32m\u001b[1m  Activating\u001b[22m\u001b[39m project at `~/Code/Macro`\n"
     ]
    }
   ],
   "source": [
    "# Activate the environment using the path to the Macro repository\n",
    "macro_repo_path = dirname(@__DIR__)\n",
    "using Pkg; Pkg.activate(macro_repo_path)"
   ]
  },
  {
   "cell_type": "code",
   "execution_count": 11,
   "metadata": {},
   "outputs": [],
   "source": [
    "using Macro\n",
    "using HiGHS\n",
    "using CSV\n",
    "using DataFrames\n",
    "using JSON3"
   ]
  },
  {
   "cell_type": "markdown",
   "metadata": {},
   "source": [
    "In this tutorial, we start from a single zone electricity system with four resource clusters: utility scale solar PV, land-based wind power generation, natural gas combined cycle power plants, and electricity storage. \n",
    "\n",
    "We consider three commodities: electricity, natural gas, and $\\text{CO}_2$. \n",
    "\n",
    "Initially, hydrogen is modeled exogenously, including a fixed hydrogen demand as part of the electricity demand. This is equivalent to assuming the existance of an electrolyzer that continuously consumes electricity to meet the hydrogen demand.\n",
    "\n",
    "We model a greenfield scenario with a carbon price of 200$/ton, i.e., we allow $\\text{CO}_2$ emissions with a penalty cost."
   ]
  },
  {
   "cell_type": "markdown",
   "metadata": {},
   "source": [
    "***Note: We use the default units in MACRO: MWh for energy vectors, metric tons for other commodities (e.g., $\\text{CO}_2$) and dollars for costs***"
   ]
  },
  {
   "cell_type": "markdown",
   "metadata": {},
   "source": [
    "We first load the inputs:"
   ]
  },
  {
   "cell_type": "code",
   "execution_count": 12,
   "metadata": {},
   "outputs": [
    {
     "name": "stderr",
     "output_type": "stream",
     "text": [
      "┌ Info: Loading JSON data from /Users/fpecci/Code/Macro/tutorials/one_zone_electricity_only/system_data.json\n",
      "└ @ Macro /Users/fpecci/Code/Macro/src/load_inputs/load_macroobject.jl:135\n",
      "┌ Info: Loading JSON data from one_zone_electricity_only/system_data.json\n",
      "└ @ Macro /Users/fpecci/Code/Macro/src/load_inputs/load_macroobject.jl:135\n",
      "┌ Info: Loading JSON data from one_zone_electricity_only/system/nodes.json\n",
      "└ @ Macro /Users/fpecci/Code/Macro/src/load_inputs/load_macroobject.jl:135\n",
      "┌ Info: Loading columns [:natgas_SE] from CSV data from one_zone_electricity_only/system/fuel_prices.csv\n",
      "└ @ Macro /Users/fpecci/Code/Macro/src/load_inputs/file_io/csv.jl:8\n",
      "┌ Info: Loading CSV data from one_zone_electricity_only/system/fuel_prices.csv\n",
      "└ @ Macro /Users/fpecci/Code/Macro/src/load_inputs/file_io/csv.jl:14\n",
      "┌ Info: Loading columns [:Demand_MW_z1] from CSV data from one_zone_electricity_only/system/demand.csv\n",
      "└ @ Macro /Users/fpecci/Code/Macro/src/load_inputs/file_io/csv.jl:8\n",
      "┌ Info: Loading CSV data from one_zone_electricity_only/system/demand.csv\n",
      "└ @ Macro /Users/fpecci/Code/Macro/src/load_inputs/file_io/csv.jl:14\n",
      "┌ Info: Loading JSON data from one_zone_electricity_only/assets/electricity_stor.json\n",
      "└ @ Macro /Users/fpecci/Code/Macro/src/load_inputs/load_macroobject.jl:135\n",
      "┌ Info: Loading JSON data from one_zone_electricity_only/assets/naturalgas_power.json\n",
      "└ @ Macro /Users/fpecci/Code/Macro/src/load_inputs/load_macroobject.jl:135\n",
      "┌ Info: Loading JSON data from one_zone_electricity_only/assets/vre.json\n",
      "└ @ Macro /Users/fpecci/Code/Macro/src/load_inputs/load_macroobject.jl:135\n",
      "┌ Info: Loading columns [:SE_utilitypv_class1_moderate_70_0_2_1] from CSV data from one_zone_electricity_only/assets/availability.csv\n",
      "└ @ Macro /Users/fpecci/Code/Macro/src/load_inputs/file_io/csv.jl:8\n",
      "┌ Info: Loading CSV data from one_zone_electricity_only/assets/availability.csv\n",
      "└ @ Macro /Users/fpecci/Code/Macro/src/load_inputs/file_io/csv.jl:14\n",
      "┌ Info: Loading columns [:SE_landbasedwind_class4_moderate_70_1] from CSV data from one_zone_electricity_only/assets/availability.csv\n",
      "└ @ Macro /Users/fpecci/Code/Macro/src/load_inputs/file_io/csv.jl:8\n",
      "┌ Info: Loading CSV data from one_zone_electricity_only/assets/availability.csv\n",
      "└ @ Macro /Users/fpecci/Code/Macro/src/load_inputs/file_io/csv.jl:14\n"
     ]
    },
    {
     "name": "stdout",
     "output_type": "stream",
     "text": [
      "system.settings.Scaling = false\n"
     ]
    }
   ],
   "source": [
    "system = Macro.load_system(\"one_zone_electricity_only\");"
   ]
  },
  {
   "cell_type": "markdown",
   "metadata": {},
   "source": [
    "We are now ready to generate the MACRO capacity expansion model. Because MACRO is designed to be solved by [high performance decomposition algorithms](https://arxiv.org/abs/2403.02559), the model formulation has a specific block structure that can be exploited by these schemes. In the case of 3 operational sub-periods, the block structure looks like this:"
   ]
  },
  {
   "cell_type": "markdown",
   "metadata": {},
   "source": [
    "![model_structure](images/model_structure.png)"
   ]
  },
  {
   "cell_type": "code",
   "execution_count": 13,
   "metadata": {},
   "outputs": [
    {
     "name": "stderr",
     "output_type": "stream",
     "text": [
      "┌ Info: Starting model generation\n",
      "└ @ Macro /Users/fpecci/Code/Macro/src/generate_model.jl:3\n",
      "┌ Info: Adding linking variables\n",
      "└ @ Macro /Users/fpecci/Code/Macro/src/generate_model.jl:15\n",
      "┌ Info: Defining available capacity\n",
      "└ @ Macro /Users/fpecci/Code/Macro/src/generate_model.jl:18\n",
      "┌ Info: Generating planning model\n",
      "└ @ Macro /Users/fpecci/Code/Macro/src/generate_model.jl:21\n",
      "┌ Info: Generating operational model\n",
      "└ @ Macro /Users/fpecci/Code/Macro/src/generate_model.jl:24\n",
      "┌ Info: Model generation complete, it took 1.7493047714233398 seconds\n",
      "└ @ Macro /Users/fpecci/Code/Macro/src/generate_model.jl:29\n"
     ]
    },
    {
     "data": {
      "text/plain": [
       "A JuMP Model\n",
       "├ solver: none\n",
       "├ objective_sense: MIN_SENSE\n",
       "│ └ objective_function_type: JuMP.AffExpr\n",
       "├ num_variables: 96372\n",
       "├ num_constraints: 271580\n",
       "│ ├ JuMP.AffExpr in MOI.EqualTo{Float64}: 43801\n",
       "│ ├ JuMP.AffExpr in MOI.GreaterThan{Float64}: 26281\n",
       "│ ├ JuMP.AffExpr in MOI.LessThan{Float64}: 105127\n",
       "│ ├ JuMP.VariableRef in MOI.EqualTo{Float64}: 5\n",
       "│ └ JuMP.VariableRef in MOI.GreaterThan{Float64}: 96366\n",
       "└ Names registered in the model\n",
       "  └ :eFixedCost, :eVariableCost, :vREF"
      ]
     },
     "metadata": {},
     "output_type": "display_data"
    }
   ],
   "source": [
    "model = Macro.generate_model(system)"
   ]
  },
  {
   "cell_type": "markdown",
   "metadata": {},
   "source": [
    "Next, we set the optimizer. Note that we are using the open-source LP solver [HiGHS](https://highs.dev/), alternatives include the commerical solvers [Gurobi](https://www.gurobi.com/), [CPLEX](https://www.ibm.com/products/ilog-cplex-optimization-studio), [COPT](https://www.copt.de/)."
   ]
  },
  {
   "cell_type": "code",
   "execution_count": 14,
   "metadata": {},
   "outputs": [],
   "source": [
    "Macro.set_optimizer(model, HiGHS.Optimizer);"
   ]
  },
  {
   "cell_type": "markdown",
   "metadata": {},
   "source": [
    "Finally, we solve the capacity expansion model:"
   ]
  },
  {
   "cell_type": "code",
   "execution_count": 15,
   "metadata": {},
   "outputs": [
    {
     "name": "stdout",
     "output_type": "stream",
     "text": [
      "Running HiGHS 1.8.1 (git hash: 4a7f24ac6): Copyright (c) 2024 HiGHS under MIT licence terms\n",
      "Coefficient ranges:\n",
      "  Matrix [7e-08, 3e+05]\n",
      "  Cost   [1e-01, 6e+07]\n",
      "  Bound  [1e+00, 1e+00]\n",
      "  RHS    [0e+00, 0e+00]\n",
      "Presolving model\n",
      "162466 rows, 74869 cols, 496156 nonzeros  0s\n",
      "61238 rows, 34960 cols, 175664 nonzeros  0s\n",
      "61238 rows, 34960 cols, 175664 nonzeros  0s\n",
      "Presolve : Reductions: rows 61238(-113971); columns 34960(-61412); elements 175664(-447119)\n",
      "Solving the presolved LP\n",
      "Using EKK dual simplex solver - serial\n",
      "  Iteration        Objective     Infeasibilities num(sum)\n",
      "          0     0.0000000000e+00 Pr: 8760(2.25332e+08) 0s\n",
      "      27661     1.5559965538e+11 Pr: 0(0); Du: 0(1.62636e-09) 1s\n",
      "Solving the original LP from the solution after postsolve\n",
      "Model status        : Optimal\n",
      "Simplex   iterations: 27661\n",
      "Objective value     :  1.5559965538e+11\n",
      "Relative P-D gap    :  1.9612882851e-16\n",
      "HiGHS run time      :          0.98\n"
     ]
    }
   ],
   "source": [
    "Macro.optimize!(model)"
   ]
  },
  {
   "cell_type": "markdown",
   "metadata": {},
   "source": [
    "And extract the results:"
   ]
  },
  {
   "cell_type": "code",
   "execution_count": 16,
   "metadata": {},
   "outputs": [
    {
     "data": {
      "text/html": [
       "<div><div style = \"float: left;\"><span>4×5 DataFrame</span></div><div style = \"clear: both;\"></div></div><div class = \"data-frame\" style = \"overflow-x: scroll;\"><table class = \"data-frame\" style = \"margin-bottom: 6px;\"><thead><tr class = \"header\"><th class = \"rowNumber\" style = \"font-weight: bold; text-align: right;\">Row</th><th style = \"text-align: left;\">asset</th><th style = \"text-align: left;\">type</th><th style = \"text-align: left;\">capacity</th><th style = \"text-align: left;\">additions</th><th style = \"text-align: left;\">retirements</th></tr><tr class = \"subheader headerLastRow\"><th class = \"rowNumber\" style = \"font-weight: bold; text-align: right;\"></th><th title = \"Symbol\" style = \"text-align: left;\">Symbol</th><th title = \"Symbol\" style = \"text-align: left;\">Symbol</th><th title = \"Float64\" style = \"text-align: left;\">Float64</th><th title = \"Float64\" style = \"text-align: left;\">Float64</th><th title = \"Float64\" style = \"text-align: left;\">Float64</th></tr></thead><tbody><tr><td class = \"rowNumber\" style = \"font-weight: bold; text-align: right;\">1</td><td style = \"text-align: left;\">battery_SE</td><td style = \"text-align: left;\">Battery</td><td style = \"text-align: right;\">5.14461e5</td><td style = \"text-align: right;\">5.14461e5</td><td style = \"text-align: right;\">0.0</td></tr><tr><td class = \"rowNumber\" style = \"font-weight: bold; text-align: right;\">2</td><td style = \"text-align: left;\">SE_naturalgas_ccavgcf_moderate_0</td><td style = \"text-align: left;\">ThermalPower{NaturalGas}</td><td style = \"text-align: right;\">0.0</td><td style = \"text-align: right;\">0.0</td><td style = \"text-align: right;\">-0.0</td></tr><tr><td class = \"rowNumber\" style = \"font-weight: bold; text-align: right;\">3</td><td style = \"text-align: left;\">SE_utilitypv_class1_moderate_70_0_2_1</td><td style = \"text-align: left;\">VRE</td><td style = \"text-align: right;\">498295.0</td><td style = \"text-align: right;\">498295.0</td><td style = \"text-align: right;\">0.0</td></tr><tr><td class = \"rowNumber\" style = \"font-weight: bold; text-align: right;\">4</td><td style = \"text-align: left;\">SE_landbasedwind_class4_moderate_70_1</td><td style = \"text-align: left;\">VRE</td><td style = \"text-align: right;\">4.7751e5</td><td style = \"text-align: right;\">4.7751e5</td><td style = \"text-align: right;\">0.0</td></tr></tbody></table></div>"
      ],
      "text/latex": [
       "\\begin{tabular}{r|ccccc}\n",
       "\t& asset & type & capacity & additions & \\\\\n",
       "\t\\hline\n",
       "\t& Symbol & Symbol & Float64 & Float64 & \\\\\n",
       "\t\\hline\n",
       "\t1 & battery\\_SE & Battery & 5.14461e5 & 5.14461e5 & $\\dots$ \\\\\n",
       "\t2 & SE\\_naturalgas\\_ccavgcf\\_moderate\\_0 & ThermalPower\\{NaturalGas\\} & 0.0 & 0.0 & $\\dots$ \\\\\n",
       "\t3 & SE\\_utilitypv\\_class1\\_moderate\\_70\\_0\\_2\\_1 & VRE & 498295.0 & 498295.0 & $\\dots$ \\\\\n",
       "\t4 & SE\\_landbasedwind\\_class4\\_moderate\\_70\\_1 & VRE & 4.7751e5 & 4.7751e5 & $\\dots$ \\\\\n",
       "\\end{tabular}\n"
      ],
      "text/plain": [
       "\u001b[1m4×5 DataFrame\u001b[0m\n",
       "\u001b[1m Row \u001b[0m│\u001b[1m asset                             \u001b[0m\u001b[1m type                     \u001b[0m\u001b[1m capacity  \u001b[0m ⋯\n",
       "     │\u001b[90m Symbol                            \u001b[0m\u001b[90m Symbol                   \u001b[0m\u001b[90m Float64   \u001b[0m ⋯\n",
       "─────┼──────────────────────────────────────────────────────────────────────────\n",
       "   1 │ battery_SE                         Battery                        5.144 ⋯\n",
       "   2 │ SE_naturalgas_ccavgcf_moderate_0   ThermalPower{NaturalGas}       0.0\n",
       "   3 │ SE_utilitypv_class1_moderate_70_…  VRE                       498295.0\n",
       "   4 │ SE_landbasedwind_class4_moderate…  VRE                            4.775\n",
       "\u001b[36m                                                               3 columns omitted\u001b[0m"
      ]
     },
     "metadata": {},
     "output_type": "display_data"
    }
   ],
   "source": [
    "capacity_results = Macro.get_optimal_asset_capacity(system)"
   ]
  },
  {
   "cell_type": "markdown",
   "metadata": {},
   "source": [
    "The total system cost (in dollars) is:"
   ]
  },
  {
   "cell_type": "code",
   "execution_count": 17,
   "metadata": {},
   "outputs": [
    {
     "data": {
      "text/plain": [
       "1.5559965537709894e11"
      ]
     },
     "metadata": {},
     "output_type": "display_data"
    }
   ],
   "source": [
    "Macro.objective_value(model)"
   ]
  },
  {
   "cell_type": "markdown",
   "metadata": {},
   "source": [
    "and the total emissions (in metric tonnes) are:"
   ]
  },
  {
   "cell_type": "code",
   "execution_count": 18,
   "metadata": {},
   "outputs": [
    {
     "data": {
      "text/plain": [
       "0.0"
      ]
     },
     "metadata": {},
     "output_type": "display_data"
    }
   ],
   "source": [
    "co2_node_idx = findfirst(isa.(system.locations,Node{CO2}).==1)\n",
    "Macro.value(sum(system.locations[co2_node_idx].operation_expr[:emissions]))"
   ]
  },
  {
   "cell_type": "markdown",
   "metadata": {},
   "source": [
    "**Task:** Set a strict net-zero $\\text{CO}_2$ cap by removing the slack allowing constraint violation for a penalty. This can be done by deleting the field `price_unmet_policy` from the $\\text{CO}_2$ node in file `one_zone_electricity_only/system/nodes.json`"
   ]
  },
  {
   "cell_type": "markdown",
   "metadata": {},
   "source": [
    "<details>\n",
    "<summary>Solution</summary>\n",
    "\n",
    "Open file `one_zone_electricity_only/system/nodes.json`, go to the bottom of the file where the $\\text{CO}_2$ node is defined. Remove the lines related to the field `price_unmet_policy`, so that the node definition looks like this:\n",
    "\n",
    "```json\n",
    " {\n",
    "    \"type\": \"CO2\",\n",
    "    \"global_data\": {\n",
    "        \"time_interval\": \"CO2\"\n",
    "    },\n",
    "    \"instance_data\": [\n",
    "        {\n",
    "            \"id\": \"co2_sink\",\n",
    "            \"constraints\": {\n",
    "                \"CO2CapConstraint\": true\n",
    "            },\n",
    "            \"rhs_policy\": {\n",
    "                    \"CO2CapConstraint\": 0\n",
    "                }   \n",
    "        }\n",
    "    ]\n",
    "}\n",
    "```\n",
    "Then, you need to re-load the inputs:\n",
    "```julia\n",
    "    system = Macro.load_system(\"one_zone_electricity_only\");\n",
    "```\n",
    "generate the MACRO model:\n",
    "```julia\n",
    "    model = Macro.generate_model(system);\n",
    "```\n",
    "and solve it:\n",
    "```julia\n",
    "    Macro.set_optimizer(model, HiGHS.Optimizer);\n",
    "    Macro.optimize!(model)\n",
    "```\n",
    "We can check the results by printing the total system cost:\n",
    "```julia\n",
    "    Macro.objective_value(model)\n",
    "```\n",
    "and the new emissions (which should be zero):\n",
    "```julia\n",
    "    co2_node_idx = findfirst(isa.(system.locations,Node{CO2}).==1)\n",
    "    Macro.value(sum(system.locations[co2_node_idx].operation_expr[:emissions]))\n",
    "```\n",
    "</details>\n",
    "\n"
   ]
  },
  {
   "cell_type": "markdown",
   "metadata": {},
   "source": []
  }
 ],
 "metadata": {
  "kernelspec": {
   "display_name": "Julia 1.11.2",
   "language": "julia",
   "name": "julia-1.11"
  },
  "language_info": {
   "file_extension": ".jl",
   "mimetype": "application/julia",
   "name": "julia",
   "version": "1.11.2"
  }
 },
 "nbformat": 4,
 "nbformat_minor": 4
}
