{
 "cells": [
  {
   "cell_type": "code",
   "execution_count": 19,
   "metadata": {},
   "outputs": [
    {
     "name": "stderr",
     "output_type": "stream",
     "text": [
      "\u001b[32m\u001b[1m  Activating\u001b[22m\u001b[39m project at `~/Code/Macro`\n"
     ]
    }
   ],
   "source": [
    "# Activate the environment using the path to the Macro repository\n",
    "macro_repo_path = dirname(@__DIR__)\n",
    "using Pkg; Pkg.activate(macro_repo_path)"
   ]
  },
  {
   "cell_type": "code",
   "execution_count": 20,
   "metadata": {},
   "outputs": [],
   "source": [
    "using Macro\n",
    "using HiGHS\n",
    "using CSV\n",
    "using DataFrames\n",
    "using JSON3"
   ]
  },
  {
   "cell_type": "markdown",
   "metadata": {},
   "source": [
    "In this tutorial, we start from a single zone electricity system with four resource clusters: utility scale solar PV, land-based wind power generation, natural gas combined cycle power plants, and electricity storage. \n",
    "\n",
    "We consider three commodities: electricity, natural gas, and $\\text{CO}_2$. \n",
    "\n",
    "Initially, hydrogen is modeled exogenously, including a fixed hydrogen demand as part of the electricity demand. This is equivalent to assuming the existance of an electrolyzer that continuously consumes electricity to meet the hydrogen demand.\n",
    "\n",
    "We model a greenfield scenario with a carbon price of 200 $/ton."
   ]
  },
  {
   "cell_type": "markdown",
   "metadata": {},
   "source": [
    "***Note: We use the default units in MACRO: MWh for energy vectors, metric tons for other commodities (e.g., $\\text{CO}_2$) and dollars for costs***"
   ]
  },
  {
   "cell_type": "markdown",
   "metadata": {},
   "source": [
    "We first load the inputs:"
   ]
  },
  {
   "cell_type": "code",
   "execution_count": 21,
   "metadata": {},
   "outputs": [
    {
     "name": "stderr",
     "output_type": "stream",
     "text": [
      "┌ Info: Loading JSON data from /Users/fpecci/Code/Macro/tutorials/one_zone_electricity_only/system_data.json\n",
      "└ @ Macro /Users/fpecci/Code/Macro/src/load_inputs/load_macroobject.jl:135\n",
      "┌ Info: Loading JSON data from one_zone_electricity_only/system_data.json\n",
      "└ @ Macro /Users/fpecci/Code/Macro/src/load_inputs/load_macroobject.jl:135\n",
      "┌ Info: Loading JSON data from one_zone_electricity_only/system/nodes.json\n",
      "└ @ Macro /Users/fpecci/Code/Macro/src/load_inputs/load_macroobject.jl:135\n",
      "┌ Info: Loading columns [:natgas_SE] from CSV data from one_zone_electricity_only/system/fuel_prices.csv\n",
      "└ @ Macro /Users/fpecci/Code/Macro/src/load_inputs/file_io/csv.jl:8\n",
      "┌ Info: Loading CSV data from one_zone_electricity_only/system/fuel_prices.csv\n",
      "└ @ Macro /Users/fpecci/Code/Macro/src/load_inputs/file_io/csv.jl:14\n",
      "┌ Info: Loading columns [:Demand_MW_z1] from CSV data from one_zone_electricity_only/system/demand.csv\n",
      "└ @ Macro /Users/fpecci/Code/Macro/src/load_inputs/file_io/csv.jl:8\n",
      "┌ Info: Loading CSV data from one_zone_electricity_only/system/demand.csv\n",
      "└ @ Macro /Users/fpecci/Code/Macro/src/load_inputs/file_io/csv.jl:14\n",
      "┌ Info: Loading JSON data from one_zone_electricity_only/assets/electricity_stor.json\n",
      "└ @ Macro /Users/fpecci/Code/Macro/src/load_inputs/load_macroobject.jl:135\n",
      "┌ Info: Loading JSON data from one_zone_electricity_only/assets/naturalgas_power.json\n",
      "└ @ Macro /Users/fpecci/Code/Macro/src/load_inputs/load_macroobject.jl:135\n",
      "┌ Info: Loading JSON data from one_zone_electricity_only/assets/vre.json\n",
      "└ @ Macro /Users/fpecci/Code/Macro/src/load_inputs/load_macroobject.jl:135\n",
      "┌ Info: Loading columns [:SE_utilitypv_class1_moderate_70_0_2_1] from CSV data from one_zone_electricity_only/assets/availability.csv\n",
      "└ @ Macro /Users/fpecci/Code/Macro/src/load_inputs/file_io/csv.jl:8\n",
      "┌ Info: Loading CSV data from one_zone_electricity_only/assets/availability.csv\n",
      "└ @ Macro /Users/fpecci/Code/Macro/src/load_inputs/file_io/csv.jl:14\n",
      "┌ Info: Loading columns [:SE_landbasedwind_class4_moderate_70_1] from CSV data from one_zone_electricity_only/assets/availability.csv\n",
      "└ @ Macro /Users/fpecci/Code/Macro/src/load_inputs/file_io/csv.jl:8\n",
      "┌ Info: Loading CSV data from one_zone_electricity_only/assets/availability.csv\n",
      "└ @ Macro /Users/fpecci/Code/Macro/src/load_inputs/file_io/csv.jl:14\n"
     ]
    },
    {
     "name": "stdout",
     "output_type": "stream",
     "text": [
      "system.settings.Scaling = false\n"
     ]
    }
   ],
   "source": [
    "system = Macro.load_system(\"one_zone_electricity_only\");"
   ]
  },
  {
   "cell_type": "markdown",
   "metadata": {},
   "source": [
    "We are now ready to generate the MACRO capacity expansion model. Because MACRO is designed to be solved by [high performance decomposition algorithms](https://arxiv.org/abs/2403.02559), the model formulation has a specific block structure that can be exploited by these schemes. In the case of 3 operational sub-periods, the block structure looks like this:"
   ]
  },
  {
   "cell_type": "markdown",
   "metadata": {},
   "source": [
    "![model_structure](images/model_structure.png)"
   ]
  },
  {
   "cell_type": "code",
   "execution_count": 22,
   "metadata": {},
   "outputs": [
    {
     "name": "stderr",
     "output_type": "stream",
     "text": [
      "┌ Info: Starting model generation\n",
      "└ @ Macro /Users/fpecci/Code/Macro/src/generate_model.jl:3\n",
      "┌ Info: Adding linking variables\n",
      "└ @ Macro /Users/fpecci/Code/Macro/src/generate_model.jl:15\n",
      "┌ Info: Defining available capacity\n",
      "└ @ Macro /Users/fpecci/Code/Macro/src/generate_model.jl:18\n",
      "┌ Info: Generating planning model\n",
      "└ @ Macro /Users/fpecci/Code/Macro/src/generate_model.jl:21\n",
      "┌ Info: Generating operational model\n",
      "└ @ Macro /Users/fpecci/Code/Macro/src/generate_model.jl:24\n",
      "┌ Info: Model generation complete, it took 1.4618639945983887 seconds\n",
      "└ @ Macro /Users/fpecci/Code/Macro/src/generate_model.jl:29\n"
     ]
    },
    {
     "data": {
      "text/plain": [
       "A JuMP Model\n",
       "├ solver: none\n",
       "├ objective_sense: MIN_SENSE\n",
       "│ └ objective_function_type: JuMP.AffExpr\n",
       "├ num_variables: 96373\n",
       "├ num_constraints: 271581\n",
       "│ ├ JuMP.AffExpr in MOI.EqualTo{Float64}: 43801\n",
       "│ ├ JuMP.AffExpr in MOI.GreaterThan{Float64}: 26281\n",
       "│ ├ JuMP.AffExpr in MOI.LessThan{Float64}: 105127\n",
       "│ ├ JuMP.VariableRef in MOI.EqualTo{Float64}: 5\n",
       "│ └ JuMP.VariableRef in MOI.GreaterThan{Float64}: 96367\n",
       "└ Names registered in the model\n",
       "  └ :eFixedCost, :eVariableCost, :vREF"
      ]
     },
     "metadata": {},
     "output_type": "display_data"
    }
   ],
   "source": [
    "model = Macro.generate_model(system)"
   ]
  },
  {
   "cell_type": "markdown",
   "metadata": {},
   "source": [
    "Next, we set the optimizer. Note that we are using the open-source LP solver [HiGHS](https://highs.dev/), alternatives include the commerical solvers [Gurobi](https://www.gurobi.com/), [CPLEX](https://www.ibm.com/products/ilog-cplex-optimization-studio), [COPT](https://www.copt.de/)."
   ]
  },
  {
   "cell_type": "code",
   "execution_count": 23,
   "metadata": {},
   "outputs": [],
   "source": [
    "Macro.set_optimizer(model, HiGHS.Optimizer);"
   ]
  },
  {
   "cell_type": "markdown",
   "metadata": {},
   "source": [
    "Finally, we solve the capacity expansion model:"
   ]
  },
  {
   "cell_type": "code",
   "execution_count": 24,
   "metadata": {},
   "outputs": [
    {
     "name": "stdout",
     "output_type": "stream",
     "text": [
      "Running HiGHS 1.8.1 (git hash: 4a7f24ac6): Copyright (c) 2024 HiGHS under MIT licence terms\n",
      "Coefficient ranges:\n",
      "  Matrix [7e-08, 3e+05]\n",
      "  Cost   [1e-01, 6e+07]\n",
      "  Bound  [1e+00, 1e+00]\n",
      "  RHS    [0e+00, 0e+00]\n",
      "Presolving model\n",
      "162466 rows, 83629 cols, 504916 nonzeros  0s\n",
      "144862 rows, 66025 cols, 514072 nonzeros  0s\n",
      "Presolve : Reductions: rows 144862(-30347); columns 66025(-30348); elements 514072(-108712)\n",
      "Solving the presolved LP\n",
      "Using EKK dual simplex solver - serial\n",
      "  Iteration        Objective     Infeasibilities num(sum)\n",
      "          0    -1.0020190497e+07 Ph1: 28379(68837.6); Du: 7952(1.00202e+07) 0s\n",
      "      39907     8.0956077523e+10 Pr: 16955(2.87562e+09) 5s\n",
      "      57165     8.9445352349e+10 Pr: 48320(1.56818e+11) 11s\n",
      "      70861     9.4485764481e+10 Pr: 17360(8.697e+08) 16s\n",
      "      84493     9.6905286410e+10 Pr: 3254(2.40533e+07); Du: 0(3.7078e-08) 21s\n",
      "      90658     9.7171882459e+10 Pr: 0(0); Du: 0(6.0944e-10) 23s\n",
      "      90658     9.7171882459e+10 Pr: 0(0); Du: 0(6.0944e-10) 23s\n",
      "Solving the original LP from the solution after postsolve\n",
      "Model status        : Optimal\n",
      "Simplex   iterations: 90658\n",
      "Objective value     :  9.7171882459e+10\n",
      "Relative P-D gap    :  2.5281645028e-14\n",
      "HiGHS run time      :         23.23\n"
     ]
    }
   ],
   "source": [
    "Macro.optimize!(model)"
   ]
  },
  {
   "cell_type": "markdown",
   "metadata": {},
   "source": [
    "And extract the results:"
   ]
  },
  {
   "cell_type": "code",
   "execution_count": 25,
   "metadata": {},
   "outputs": [
    {
     "data": {
      "text/html": [
       "<div><div style = \"float: left;\"><span>4×5 DataFrame</span></div><div style = \"clear: both;\"></div></div><div class = \"data-frame\" style = \"overflow-x: scroll;\"><table class = \"data-frame\" style = \"margin-bottom: 6px;\"><thead><tr class = \"header\"><th class = \"rowNumber\" style = \"font-weight: bold; text-align: right;\">Row</th><th style = \"text-align: left;\">asset</th><th style = \"text-align: left;\">type</th><th style = \"text-align: left;\">capacity</th><th style = \"text-align: left;\">additions</th><th style = \"text-align: left;\">retirements</th></tr><tr class = \"subheader headerLastRow\"><th class = \"rowNumber\" style = \"font-weight: bold; text-align: right;\"></th><th title = \"Symbol\" style = \"text-align: left;\">Symbol</th><th title = \"Symbol\" style = \"text-align: left;\">Symbol</th><th title = \"Float64\" style = \"text-align: left;\">Float64</th><th title = \"Float64\" style = \"text-align: left;\">Float64</th><th title = \"Float64\" style = \"text-align: left;\">Float64</th></tr></thead><tbody><tr><td class = \"rowNumber\" style = \"font-weight: bold; text-align: right;\">1</td><td style = \"text-align: left;\">battery_SE</td><td style = \"text-align: left;\">Battery</td><td style = \"text-align: right;\">1.1172e5</td><td style = \"text-align: right;\">1.1172e5</td><td style = \"text-align: right;\">0.0</td></tr><tr><td class = \"rowNumber\" style = \"font-weight: bold; text-align: right;\">2</td><td style = \"text-align: left;\">SE_naturalgas_ccavgcf_moderate_0</td><td style = \"text-align: left;\">ThermalPower{NaturalGas}</td><td style = \"text-align: right;\">1.26487e5</td><td style = \"text-align: right;\">220.746</td><td style = \"text-align: right;\">0.0</td></tr><tr><td class = \"rowNumber\" style = \"font-weight: bold; text-align: right;\">3</td><td style = \"text-align: left;\">SE_utilitypv_class1_moderate_70_0_2_1</td><td style = \"text-align: left;\">VRE</td><td style = \"text-align: right;\">3.46851e5</td><td style = \"text-align: right;\">3.46851e5</td><td style = \"text-align: right;\">0.0</td></tr><tr><td class = \"rowNumber\" style = \"font-weight: bold; text-align: right;\">4</td><td style = \"text-align: left;\">SE_landbasedwind_class4_moderate_70_1</td><td style = \"text-align: left;\">VRE</td><td style = \"text-align: right;\">2.63429e5</td><td style = \"text-align: right;\">2.63429e5</td><td style = \"text-align: right;\">0.0</td></tr></tbody></table></div>"
      ],
      "text/latex": [
       "\\begin{tabular}{r|ccccc}\n",
       "\t& asset & type & capacity & additions & \\\\\n",
       "\t\\hline\n",
       "\t& Symbol & Symbol & Float64 & Float64 & \\\\\n",
       "\t\\hline\n",
       "\t1 & battery\\_SE & Battery & 1.1172e5 & 1.1172e5 & $\\dots$ \\\\\n",
       "\t2 & SE\\_naturalgas\\_ccavgcf\\_moderate\\_0 & ThermalPower\\{NaturalGas\\} & 1.26487e5 & 220.746 & $\\dots$ \\\\\n",
       "\t3 & SE\\_utilitypv\\_class1\\_moderate\\_70\\_0\\_2\\_1 & VRE & 3.46851e5 & 3.46851e5 & $\\dots$ \\\\\n",
       "\t4 & SE\\_landbasedwind\\_class4\\_moderate\\_70\\_1 & VRE & 2.63429e5 & 2.63429e5 & $\\dots$ \\\\\n",
       "\\end{tabular}\n"
      ],
      "text/plain": [
       "\u001b[1m4×5 DataFrame\u001b[0m\n",
       "\u001b[1m Row \u001b[0m│\u001b[1m asset                             \u001b[0m\u001b[1m type                     \u001b[0m\u001b[1m capacity  \u001b[0m\u001b[1m\u001b[0m ⋯\n",
       "     │\u001b[90m Symbol                            \u001b[0m\u001b[90m Symbol                   \u001b[0m\u001b[90m Float64   \u001b[0m\u001b[90m\u001b[0m ⋯\n",
       "─────┼──────────────────────────────────────────────────────────────────────────\n",
       "   1 │ battery_SE                         Battery                   1.1172e5   ⋯\n",
       "   2 │ SE_naturalgas_ccavgcf_moderate_0   ThermalPower{NaturalGas}  1.26487e5\n",
       "   3 │ SE_utilitypv_class1_moderate_70_…  VRE                       3.46851e5\n",
       "   4 │ SE_landbasedwind_class4_moderate…  VRE                       2.63429e5\n",
       "\u001b[36m                                                               2 columns omitted\u001b[0m"
      ]
     },
     "metadata": {},
     "output_type": "display_data"
    }
   ],
   "source": [
    "capacity_results = Macro.get_optimal_asset_capacity(system)"
   ]
  },
  {
   "cell_type": "markdown",
   "metadata": {},
   "source": [
    "The total system cost (in dollars) is:"
   ]
  },
  {
   "cell_type": "code",
   "execution_count": 26,
   "metadata": {},
   "outputs": [
    {
     "data": {
      "text/plain": [
       "9.717188245934773e10"
      ]
     },
     "metadata": {},
     "output_type": "display_data"
    }
   ],
   "source": [
    "Macro.objective_value(model)"
   ]
  },
  {
   "cell_type": "markdown",
   "metadata": {},
   "source": [
    "and the total emissions (in metric tonnes) are:"
   ]
  },
  {
   "cell_type": "code",
   "execution_count": 27,
   "metadata": {},
   "outputs": [
    {
     "data": {
      "text/plain": [
       "7.947205644186783e7"
      ]
     },
     "metadata": {},
     "output_type": "display_data"
    }
   ],
   "source": [
    "co2_node_idx = findfirst(isa.(system.locations,Node{CO2}).==1)\n",
    "Macro.value(sum(system.locations[co2_node_idx].operation_expr[:emissions]))"
   ]
  },
  {
   "cell_type": "markdown",
   "metadata": {},
   "source": [
    "<!-- **Task :** Set a strict net-zero $\\text{CO}_2$ cap by removing the slack allowing constraint violation for a penalty. This can be done by deleting the field `price_unmet_policy` from the $\\text{CO}_2$ node in file `one_zone_electricity_only/system/nodes.json`\n",
    "\n",
    "Re-load the model with the new inputs and solve it to obtain the capacity results. Is there any difference? -->"
   ]
  }
 ],
 "metadata": {
  "kernelspec": {
   "display_name": "Julia 1.11.1",
   "language": "julia",
   "name": "julia-1.11"
  },
  "language_info": {
   "file_extension": ".jl",
   "mimetype": "application/julia",
   "name": "julia",
   "version": "1.11.1"
  }
 },
 "nbformat": 4,
 "nbformat_minor": 2
}
