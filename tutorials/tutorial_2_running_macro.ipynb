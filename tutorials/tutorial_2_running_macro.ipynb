{
 "cells": [
  {
   "cell_type": "markdown",
   "metadata": {},
   "source": [
    "### Running MACRO"
   ]
  },
  {
   "cell_type": "markdown",
   "metadata": {},
   "source": [
    "In this tutorial, we start from a single zone electricity system with four resource clusters: utility scale solar PV, land-based wind power generation, natural gas combined cycle power plants, and electricity storage. \n",
    "\n",
    "We consider three commodities: electricity, natural gas, and $\\text{CO}_2$. \n",
    "\n",
    "Initially, hydrogen is modeled exogenously, adding a constant electricity demand for hydrogen production to the electricity demand time series. In other words, we assume the existance of an electrolyzer that continuously consumes electricity to meet the hydrogen demand.\n",
    "\n",
    "We model a greenfield scenario with a carbon price of 200$/ton, i.e., we allow $\\text{CO}_2$ emissions with a penalty cost.\n",
    "\n",
    "***Note: We use the default units in MACRO: MWh for energy vectors, metric tons for other commodities (e.g., $\\text{CO}_2$) and dollars for costs***"
   ]
  },
  {
   "cell_type": "code",
   "execution_count": null,
   "metadata": {},
   "outputs": [],
   "source": [
    "# Activate the environment using the path to the Macro repository\n",
    "macro_repo_path = dirname(@__DIR__)\n",
    "using Pkg; Pkg.activate(macro_repo_path)"
   ]
  },
  {
   "cell_type": "code",
   "execution_count": null,
   "metadata": {},
   "outputs": [],
   "source": [
    "using Pkg; Pkg.add(\"VegaLite\")"
   ]
  },
  {
   "cell_type": "code",
   "execution_count": 25,
   "metadata": {},
   "outputs": [],
   "source": [
    "using Macro\n",
    "using HiGHS\n",
    "using CSV\n",
    "using DataFrames\n",
    "using JSON3\n",
    "using VegaLite"
   ]
  },
  {
   "cell_type": "markdown",
   "metadata": {},
   "source": [
    "We first load the inputs:"
   ]
  },
  {
   "cell_type": "code",
   "execution_count": null,
   "metadata": {},
   "outputs": [],
   "source": [
    "system = Macro.load_system(\"one_zone_electricity_only\");"
   ]
  },
  {
   "cell_type": "markdown",
   "metadata": {},
   "source": [
    "We are now ready to generate the MACRO capacity expansion model. Because MACRO is designed to be solved by [high performance decomposition algorithms](https://arxiv.org/abs/2403.02559), the model formulation has a specific block structure that can be exploited by these schemes. In the case of 3 operational sub-periods, the block structure looks like this:"
   ]
  },
  {
   "cell_type": "markdown",
   "metadata": {},
   "source": [
    "![model_structure](images/model_structure.png)"
   ]
  },
  {
   "cell_type": "code",
   "execution_count": null,
   "metadata": {},
   "outputs": [],
   "source": [
    "model = Macro.generate_model(system)"
   ]
  },
  {
   "cell_type": "markdown",
   "metadata": {},
   "source": [
    "Next, we set the optimizer. Note that we are using the open-source LP solver [HiGHS](https://highs.dev/), alternatives include the commerical solvers [Gurobi](https://www.gurobi.com/), [CPLEX](https://www.ibm.com/products/ilog-cplex-optimization-studio), [COPT](https://www.copt.de/)."
   ]
  },
  {
   "cell_type": "code",
   "execution_count": 18,
   "metadata": {},
   "outputs": [],
   "source": [
    "Macro.set_optimizer(model, HiGHS.Optimizer);"
   ]
  },
  {
   "cell_type": "markdown",
   "metadata": {},
   "source": [
    "Finally, we solve the capacity expansion model:"
   ]
  },
  {
   "cell_type": "code",
   "execution_count": 19,
   "metadata": {},
   "outputs": [
    {
     "name": "stdout",
     "output_type": "stream",
     "text": [
      "Running HiGHS 1.8.1 (git hash: 4a7f24ac6): Copyright (c) 2024 HiGHS under MIT licence terms\n",
      "Coefficient ranges:\n",
      "  Matrix [7e-08, 3e+05]\n",
      "  Cost   [1e-01, 6e+07]\n",
      "  Bound  [1e+00, 1e+00]\n",
      "  RHS    [0e+00, 0e+00]\n",
      "Presolving model\n",
      "162466 rows, 83629 cols, 504916 nonzeros  0s\n",
      "144862 rows, 66025 cols, 514072 nonzeros  0s\n",
      "Presolve : Reductions: rows 144862(-30347); columns 66025(-30348); elements 514072(-108712)\n",
      "Solving the presolved LP\n",
      "Using EKK dual simplex solver - serial\n",
      "  Iteration        Objective     Infeasibilities num(sum)\n",
      "          0    -1.0020190497e+07 Ph1: 28379(68837.6); Du: 7952(1.00202e+07) 0s\n",
      "      23766     3.5343170787e+10 Pr: 46693(6.66926e+09); Du: 0(6.90518e-08) 5s\n",
      "      45483     8.4045185403e+10 Pr: 26369(2.97076e+09) 11s\n",
      "      57165     8.9445352349e+10 Pr: 48320(1.56818e+11) 16s\n",
      "      66985     9.3417024104e+10 Pr: 44693(8.34241e+09) 21s\n",
      "      76182     9.5706662654e+10 Pr: 58145(5.93079e+09) 26s\n",
      "      85299     9.6965187852e+10 Pr: 2110(8.76322e+06) 31s\n",
      "      90658     9.7171882459e+10 Pr: 0(0); Du: 0(6.0944e-10) 34s\n",
      "      90658     9.7171882459e+10 Pr: 0(0); Du: 0(6.0944e-10) 34s\n",
      "Solving the original LP from the solution after postsolve\n",
      "Model status        : Optimal\n",
      "Simplex   iterations: 90658\n",
      "Objective value     :  9.7171882459e+10\n",
      "Relative P-D gap    :  2.5281645028e-14\n",
      "HiGHS run time      :         34.15\n"
     ]
    }
   ],
   "source": [
    "Macro.optimize!(model)"
   ]
  },
  {
   "cell_type": "markdown",
   "metadata": {},
   "source": [
    "And extract the results:"
   ]
  },
  {
   "cell_type": "code",
   "execution_count": 20,
   "metadata": {},
   "outputs": [
    {
     "data": {
      "text/html": [
       "<div><div style = \"float: left;\"><span>4×5 DataFrame</span></div><div style = \"clear: both;\"></div></div><div class = \"data-frame\" style = \"overflow-x: scroll;\"><table class = \"data-frame\" style = \"margin-bottom: 6px;\"><thead><tr class = \"header\"><th class = \"rowNumber\" style = \"font-weight: bold; text-align: right;\">Row</th><th style = \"text-align: left;\">asset</th><th style = \"text-align: left;\">type</th><th style = \"text-align: left;\">capacity</th><th style = \"text-align: left;\">additions</th><th style = \"text-align: left;\">retirements</th></tr><tr class = \"subheader headerLastRow\"><th class = \"rowNumber\" style = \"font-weight: bold; text-align: right;\"></th><th title = \"Symbol\" style = \"text-align: left;\">Symbol</th><th title = \"Symbol\" style = \"text-align: left;\">Symbol</th><th title = \"Float64\" style = \"text-align: left;\">Float64</th><th title = \"Float64\" style = \"text-align: left;\">Float64</th><th title = \"Float64\" style = \"text-align: left;\">Float64</th></tr></thead><tbody><tr><td class = \"rowNumber\" style = \"font-weight: bold; text-align: right;\">1</td><td style = \"text-align: left;\">battery_SE</td><td style = \"text-align: left;\">Battery</td><td style = \"text-align: right;\">1.1172e5</td><td style = \"text-align: right;\">1.1172e5</td><td style = \"text-align: right;\">0.0</td></tr><tr><td class = \"rowNumber\" style = \"font-weight: bold; text-align: right;\">2</td><td style = \"text-align: left;\">SE_naturalgas_ccavgcf_moderate_0</td><td style = \"text-align: left;\">ThermalPower{NaturalGas}</td><td style = \"text-align: right;\">1.26487e5</td><td style = \"text-align: right;\">220.746</td><td style = \"text-align: right;\">0.0</td></tr><tr><td class = \"rowNumber\" style = \"font-weight: bold; text-align: right;\">3</td><td style = \"text-align: left;\">SE_utilitypv_class1_moderate_70_0_2_1</td><td style = \"text-align: left;\">VRE</td><td style = \"text-align: right;\">3.46851e5</td><td style = \"text-align: right;\">3.46851e5</td><td style = \"text-align: right;\">0.0</td></tr><tr><td class = \"rowNumber\" style = \"font-weight: bold; text-align: right;\">4</td><td style = \"text-align: left;\">SE_landbasedwind_class4_moderate_70_1</td><td style = \"text-align: left;\">VRE</td><td style = \"text-align: right;\">2.63429e5</td><td style = \"text-align: right;\">2.63429e5</td><td style = \"text-align: right;\">0.0</td></tr></tbody></table></div>"
      ],
      "text/latex": [
       "\\begin{tabular}{r|ccccc}\n",
       "\t& asset & type & capacity & additions & \\\\\n",
       "\t\\hline\n",
       "\t& Symbol & Symbol & Float64 & Float64 & \\\\\n",
       "\t\\hline\n",
       "\t1 & battery\\_SE & Battery & 1.1172e5 & 1.1172e5 & $\\dots$ \\\\\n",
       "\t2 & SE\\_naturalgas\\_ccavgcf\\_moderate\\_0 & ThermalPower\\{NaturalGas\\} & 1.26487e5 & 220.746 & $\\dots$ \\\\\n",
       "\t3 & SE\\_utilitypv\\_class1\\_moderate\\_70\\_0\\_2\\_1 & VRE & 3.46851e5 & 3.46851e5 & $\\dots$ \\\\\n",
       "\t4 & SE\\_landbasedwind\\_class4\\_moderate\\_70\\_1 & VRE & 2.63429e5 & 2.63429e5 & $\\dots$ \\\\\n",
       "\\end{tabular}\n"
      ],
      "text/plain": [
       "\u001b[1m4×5 DataFrame\u001b[0m\n",
       "\u001b[1m Row \u001b[0m│\u001b[1m asset                             \u001b[0m\u001b[1m type                     \u001b[0m\u001b[1m capacity  \u001b[0m\u001b[1m\u001b[0m ⋯\n",
       "     │\u001b[90m Symbol                            \u001b[0m\u001b[90m Symbol                   \u001b[0m\u001b[90m Float64   \u001b[0m\u001b[90m\u001b[0m ⋯\n",
       "─────┼──────────────────────────────────────────────────────────────────────────\n",
       "   1 │ battery_SE                         Battery                   1.1172e5   ⋯\n",
       "   2 │ SE_naturalgas_ccavgcf_moderate_0   ThermalPower{NaturalGas}  1.26487e5\n",
       "   3 │ SE_utilitypv_class1_moderate_70_…  VRE                       3.46851e5\n",
       "   4 │ SE_landbasedwind_class4_moderate…  VRE                       2.63429e5\n",
       "\u001b[36m                                                               2 columns omitted\u001b[0m"
      ]
     },
     "metadata": {},
     "output_type": "display_data"
    }
   ],
   "source": [
    "capacity_results = Macro.get_optimal_asset_capacity(system)"
   ]
  },
  {
   "cell_type": "markdown",
   "metadata": {},
   "source": [
    "The total system cost (in dollars) is:"
   ]
  },
  {
   "cell_type": "code",
   "execution_count": 21,
   "metadata": {},
   "outputs": [
    {
     "data": {
      "text/plain": [
       "9.717188245934773e10"
      ]
     },
     "metadata": {},
     "output_type": "display_data"
    }
   ],
   "source": [
    "Macro.objective_value(model)"
   ]
  },
  {
   "cell_type": "markdown",
   "metadata": {},
   "source": [
    "and the total emissions (in metric tonnes) are:"
   ]
  },
  {
   "cell_type": "code",
   "execution_count": 22,
   "metadata": {},
   "outputs": [
    {
     "data": {
      "text/plain": [
       "7.947205644186783e7"
      ]
     },
     "metadata": {},
     "output_type": "display_data"
    }
   ],
   "source": [
    "co2_node = Macro.get_nodes_sametype(system.locations, CO2)[1]\n",
    "Macro.value(sum(co2_node.operation_expr[:emissions]))"
   ]
  },
  {
   "cell_type": "markdown",
   "metadata": {},
   "source": [
    "We can also plot the electricity generation results using `VegaLite.jl`:"
   ]
  },
  {
   "cell_type": "code",
   "execution_count": 27,
   "metadata": {},
   "outputs": [
    {
     "data": {
      "application/vnd.vegalite.v5+json": {
       "data": {
        "values": [
         {
          "generation": 35.28822869880723,
          "hours": 3600,
          "resource": "natural_gas_fired_combined_cycle"
         },
         {
          "generation": 35.28822869880723,
          "hours": 3601,
          "resource": "natural_gas_fired_combined_cycle"
         },
         {
          "generation": 35.28822869880723,
          "hours": 3602,
          "resource": "natural_gas_fired_combined_cycle"
         },
         {
          "generation": 35.28822869880723,
          "hours": 3603,
          "resource": "natural_gas_fired_combined_cycle"
         },
         {
          "generation": 35.28822869880723,
          "hours": 3604,
          "resource": "natural_gas_fired_combined_cycle"
         },
         {
          "generation": 35.28822869880723,
          "hours": 3605,
          "resource": "natural_gas_fired_combined_cycle"
         },
         {
          "generation": 35.28822869880723,
          "hours": 3606,
          "resource": "natural_gas_fired_combined_cycle"
         },
         {
          "generation": 10.58646860964217,
          "hours": 3607,
          "resource": "natural_gas_fired_combined_cycle"
         },
         {
          "generation": 10.58646860964217,
          "hours": 3608,
          "resource": "natural_gas_fired_combined_cycle"
         },
         {
          "generation": 10.58646860964217,
          "hours": 3609,
          "resource": "natural_gas_fired_combined_cycle"
         },
         {
          "generation": 10.58646860964217,
          "hours": 3610,
          "resource": "natural_gas_fired_combined_cycle"
         },
         {
          "generation": 10.58646860964217,
          "hours": 3611,
          "resource": "natural_gas_fired_combined_cycle"
         },
         {
          "generation": 10.58646860964217,
          "hours": 3612,
          "resource": "natural_gas_fired_combined_cycle"
         },
         {
          "generation": 10.58646860964217,
          "hours": 3613,
          "resource": "natural_gas_fired_combined_cycle"
         },
         {
          "generation": 10.58646860964217,
          "hours": 3614,
          "resource": "natural_gas_fired_combined_cycle"
         },
         {
          "generation": 10.58646860964217,
          "hours": 3615,
          "resource": "natural_gas_fired_combined_cycle"
         },
         {
          "generation": 10.58646860964217,
          "hours": 3616,
          "resource": "natural_gas_fired_combined_cycle"
         },
         {
          "generation": 10.58646860964217,
          "hours": 3617,
          "resource": "natural_gas_fired_combined_cycle"
         },
         {
          "generation": 65.96313567774673,
          "hours": 3618,
          "resource": "natural_gas_fired_combined_cycle"
         },
         {
          "generation": 65.96313567774673,
          "hours": 3619,
          "resource": "natural_gas_fired_combined_cycle"
         },
         {
          "generation": 65.96313567774673,
          "hours": 3620,
          "resource": "natural_gas_fired_combined_cycle"
         },
         {
          "generation": 65.96313567774673,
          "hours": 3621,
          "resource": "natural_gas_fired_combined_cycle"
         },
         {
          "generation": 65.96313567774673,
          "hours": 3622,
          "resource": "natural_gas_fired_combined_cycle"
         },
         {
          "generation": 65.96313567774673,
          "hours": 3623,
          "resource": "natural_gas_fired_combined_cycle"
         },
         {
          "generation": 65.96313567774673,
          "hours": 3624,
          "resource": "natural_gas_fired_combined_cycle"
         },
         {
          "generation": 114.66841715008619,
          "hours": 3600,
          "resource": "wind_turbine"
         },
         {
          "generation": 101.32177647473391,
          "hours": 3601,
          "resource": "wind_turbine"
         },
         {
          "generation": 90.11322635006624,
          "hours": 3602,
          "resource": "wind_turbine"
         },
         {
          "generation": 77.81637889163585,
          "hours": 3603,
          "resource": "wind_turbine"
         },
         {
          "generation": 72.9490744432972,
          "hours": 3604,
          "resource": "wind_turbine"
         },
         {
          "generation": 71.05704907907526,
          "hours": 3605,
          "resource": "wind_turbine"
         },
         {
          "generation": 69.36854799669081,
          "hours": 3606,
          "resource": "wind_turbine"
         },
         {
          "generation": 70.4632274276636,
          "hours": 3607,
          "resource": "wind_turbine"
         },
         {
          "generation": 68.3618783896001,
          "hours": 3608,
          "resource": "wind_turbine"
         },
         {
          "generation": 52.32199357705642,
          "hours": 3609,
          "resource": "wind_turbine"
         },
         {
          "generation": 18.9233196937091,
          "hours": 3610,
          "resource": "wind_turbine"
         },
         {
          "generation": 12.38936218363695,
          "hours": 3611,
          "resource": "wind_turbine"
         },
         {
          "generation": 17.636931303640484,
          "hours": 3612,
          "resource": "wind_turbine"
         },
         {
          "generation": 30.017908538493216,
          "hours": 3613,
          "resource": "wind_turbine"
         },
         {
          "generation": 45.67433943820959,
          "hours": 3614,
          "resource": "wind_turbine"
         },
         {
          "generation": 55.634843544171865,
          "hours": 3615,
          "resource": "wind_turbine"
         },
         {
          "generation": 62.36672588677727,
          "hours": 3616,
          "resource": "wind_turbine"
         },
         {
          "generation": 62.21490878910902,
          "hours": 3617,
          "resource": "wind_turbine"
         },
         {
          "generation": 57.1914709570252,
          "hours": 3618,
          "resource": "wind_turbine"
         },
         {
          "generation": 52.46460162451007,
          "hours": 3619,
          "resource": "wind_turbine"
         },
         {
          "generation": 49.4737454498654,
          "hours": 3620,
          "resource": "wind_turbine"
         },
         {
          "generation": 55.23897754650014,
          "hours": 3621,
          "resource": "wind_turbine"
         },
         {
          "generation": 70.0660384889678,
          "hours": 3622,
          "resource": "wind_turbine"
         },
         {
          "generation": 66.20487784320302,
          "hours": 3623,
          "resource": "wind_turbine"
         },
         {
          "generation": 58.08670425231585,
          "hours": 3624,
          "resource": "wind_turbine"
         },
         {
          "generation": 0,
          "hours": 3600,
          "resource": "solar_photovoltaic"
         },
         {
          "generation": 0,
          "hours": 3601,
          "resource": "solar_photovoltaic"
         },
         {
          "generation": 0,
          "hours": 3602,
          "resource": "solar_photovoltaic"
         },
         {
          "generation": 0,
          "hours": 3603,
          "resource": "solar_photovoltaic"
         },
         {
          "generation": 0,
          "hours": 3604,
          "resource": "solar_photovoltaic"
         },
         {
          "generation": 0.4601240155337073,
          "hours": 3605,
          "resource": "solar_photovoltaic"
         },
         {
          "generation": 19.963705439921508,
          "hours": 3606,
          "resource": "solar_photovoltaic"
         },
         {
          "generation": 81.9617073995885,
          "hours": 3607,
          "resource": "solar_photovoltaic"
         },
         {
          "generation": 154.2299726806864,
          "hours": 3608,
          "resource": "solar_photovoltaic"
         },
         {
          "generation": 225.59695433359235,
          "hours": 3609,
          "resource": "solar_photovoltaic"
         },
         {
          "generation": 263.4077632479483,
          "hours": 3610,
          "resource": "solar_photovoltaic"
         },
         {
          "generation": 276.22236607023154,
          "hours": 3611,
          "resource": "solar_photovoltaic"
         },
         {
          "generation": 271.48214531131373,
          "hours": 3612,
          "resource": "solar_photovoltaic"
         },
         {
          "generation": 258.9983508926808,
          "hours": 3613,
          "resource": "solar_photovoltaic"
         },
         {
          "generation": 236.25731218952424,
          "hours": 3614,
          "resource": "solar_photovoltaic"
         },
         {
          "generation": 221.96865054824266,
          "hours": 3615,
          "resource": "solar_photovoltaic"
         },
         {
          "generation": 198.91835014695445,
          "hours": 3616,
          "resource": "solar_photovoltaic"
         },
         {
          "generation": 158.6962615957503,
          "hours": 3617,
          "resource": "solar_photovoltaic"
         },
         {
          "generation": 78.88646555174346,
          "hours": 3618,
          "resource": "solar_photovoltaic"
         },
         {
          "generation": 8.336958712595486,
          "hours": 3619,
          "resource": "solar_photovoltaic"
         },
         {
          "generation": 0,
          "hours": 3620,
          "resource": "solar_photovoltaic"
         },
         {
          "generation": 0,
          "hours": 3621,
          "resource": "solar_photovoltaic"
         },
         {
          "generation": 0,
          "hours": 3622,
          "resource": "solar_photovoltaic"
         },
         {
          "generation": 0,
          "hours": 3623,
          "resource": "solar_photovoltaic"
         },
         {
          "generation": 0,
          "hours": 3624,
          "resource": "solar_photovoltaic"
         }
        ]
       },
       "encoding": {
        "color": {
         "field": "resource",
         "scale": {
          "scheme": "category10"
         },
         "type": "nominal"
        },
        "x": {
         "field": "hours",
         "title": "Hours",
         "type": "quantitative"
        },
        "y": {
         "field": "generation",
         "stack": "zero",
         "title": "Electricity generation (GWh)",
         "type": "quantitative"
        }
       },
       "height": 300,
       "mark": "area",
       "width": 400
      },
      "image/png": "[encoded data removed]",
      "image/svg+xml": [
       "<svg xmlns=\"http://www.w3.org/2000/svg\" xmlns:xlink=\"http://www.w3.org/1999/xlink\" version=\"1.1\" class=\"marks\" width=\"638\" height=\"347\" viewBox=\"0 0 638 347\"><rect width=\"638\" height=\"347\" fill=\"white\"/><g fill=\"none\" stroke-miterlimit=\"10\" transform=\"translate(44,10)\"><g class=\"mark-group role-frame root\" role=\"graphics-object\" aria-roledescription=\"group mark container\"><g transform=\"translate(0,0)\"><path class=\"background\" aria-hidden=\"true\" d=\"M0.5,0.5h400v300h-400Z\" stroke=\"#ddd\"/><g><g class=\"mark-group role-axis\" aria-hidden=\"true\"><g transform=\"translate(0.5,300.5)\"><path class=\"background\" aria-hidden=\"true\" d=\"M0,0h0v0h0Z\" pointer-events=\"none\"/><g><g class=\"mark-rule role-axis-grid\" pointer-events=\"none\"><line transform=\"translate(0,-300)\" x2=\"0\" y2=\"300\" stroke=\"#ddd\" stroke-width=\"1\" opacity=\"1\"/><line transform=\"translate(33,-300)\" x2=\"0\" y2=\"300\" stroke=\"#ddd\" stroke-width=\"1\" opacity=\"1\"/><line transform=\"translate(67,-300)\" x2=\"0\" y2=\"300\" stroke=\"#ddd\" stroke-width=\"1\" opacity=\"1\"/><line transform=\"translate(100,-300)\" x2=\"0\" y2=\"300\" stroke=\"#ddd\" stroke-width=\"1\" opacity=\"1\"/><line transform=\"translate(133,-300)\" x2=\"0\" y2=\"300\" stroke=\"#ddd\" stroke-width=\"1\" opacity=\"1\"/><line transform=\"translate(167,-300)\" x2=\"0\" y2=\"300\" stroke=\"#ddd\" stroke-width=\"1\" opacity=\"1\"/><line transform=\"translate(200,-300)\" x2=\"0\" y2=\"300\" stroke=\"#ddd\" stroke-width=\"1\" opacity=\"1\"/><line transform=\"translate(233,-300)\" x2=\"0\" y2=\"300\" stroke=\"#ddd\" stroke-width=\"1\" opacity=\"1\"/><line transform=\"translate(267,-300)\" x2=\"0\" y2=\"300\" stroke=\"#ddd\" stroke-width=\"1\" opacity=\"1\"/><line transform=\"translate(300,-300)\" x2=\"0\" y2=\"300\" stroke=\"#ddd\" stroke-width=\"1\" opacity=\"1\"/><line transform=\"translate(333,-300)\" x2=\"0\" y2=\"300\" stroke=\"#ddd\" stroke-width=\"1\" opacity=\"1\"/><line transform=\"translate(367,-300)\" x2=\"0\" y2=\"300\" stroke=\"#ddd\" stroke-width=\"1\" opacity=\"1\"/><line transform=\"translate(400,-300)\" x2=\"0\" y2=\"300\" stroke=\"#ddd\" stroke-width=\"1\" opacity=\"1\"/></g></g><path class=\"foreground\" aria-hidden=\"true\" d=\"\" pointer-events=\"none\" display=\"none\"/></g></g><g class=\"mark-group role-axis\" aria-hidden=\"true\"><g transform=\"translate(0.5,0.5)\"><path class=\"background\" aria-hidden=\"true\" d=\"M0,0h0v0h0Z\" pointer-events=\"none\"/><g><g class=\"mark-rule role-axis-grid\" pointer-events=\"none\"><line transform=\"translate(0,300)\" x2=\"400\" y2=\"0\" stroke=\"#ddd\" stroke-width=\"1\" opacity=\"1\"/><line transform=\"translate(0,250)\" x2=\"400\" y2=\"0\" stroke=\"#ddd\" stroke-width=\"1\" opacity=\"1\"/><line transform=\"translate(0,200)\" x2=\"400\" y2=\"0\" stroke=\"#ddd\" stroke-width=\"1\" opacity=\"1\"/><line transform=\"translate(0,150)\" x2=\"400\" y2=\"0\" stroke=\"#ddd\" stroke-width=\"1\" opacity=\"1\"/><line transform=\"translate(0,100)\" x2=\"400\" y2=\"0\" stroke=\"#ddd\" stroke-width=\"1\" opacity=\"1\"/><line transform=\"translate(0,50)\" x2=\"400\" y2=\"0\" stroke=\"#ddd\" stroke-width=\"1\" opacity=\"1\"/><line transform=\"translate(0,0)\" x2=\"400\" y2=\"0\" stroke=\"#ddd\" stroke-width=\"1\" opacity=\"1\"/></g></g><path class=\"foreground\" aria-hidden=\"true\" d=\"\" pointer-events=\"none\" display=\"none\"/></g></g><g class=\"mark-group role-axis\" role=\"graphics-symbol\" aria-roledescription=\"axis\" aria-label=\"X-axis titled 'Hours' for a linear scale with values from 3,600 to 3,624\"><g transform=\"translate(0.5,300.5)\"><path class=\"background\" aria-hidden=\"true\" d=\"M0,0h0v0h0Z\" pointer-events=\"none\"/><g><g class=\"mark-rule role-axis-tick\" pointer-events=\"none\"><line transform=\"translate(0,0)\" x2=\"0\" y2=\"5\" stroke=\"#888\" stroke-width=\"1\" opacity=\"1\"/><line transform=\"translate(33,0)\" x2=\"0\" y2=\"5\" stroke=\"#888\" stroke-width=\"1\" opacity=\"1\"/><line transform=\"translate(67,0)\" x2=\"0\" y2=\"5\" stroke=\"#888\" stroke-width=\"1\" opacity=\"1\"/><line transform=\"translate(100,0)\" x2=\"0\" y2=\"5\" stroke=\"#888\" stroke-width=\"1\" opacity=\"1\"/><line transform=\"translate(133,0)\" x2=\"0\" y2=\"5\" stroke=\"#888\" stroke-width=\"1\" opacity=\"1\"/><line transform=\"translate(167,0)\" x2=\"0\" y2=\"5\" stroke=\"#888\" stroke-width=\"1\" opacity=\"1\"/><line transform=\"translate(200,0)\" x2=\"0\" y2=\"5\" stroke=\"#888\" stroke-width=\"1\" opacity=\"1\"/><line transform=\"translate(233,0)\" x2=\"0\" y2=\"5\" stroke=\"#888\" stroke-width=\"1\" opacity=\"1\"/><line transform=\"translate(267,0)\" x2=\"0\" y2=\"5\" stroke=\"#888\" stroke-width=\"1\" opacity=\"1\"/><line transform=\"translate(300,0)\" x2=\"0\" y2=\"5\" stroke=\"#888\" stroke-width=\"1\" opacity=\"1\"/><line transform=\"translate(333,0)\" x2=\"0\" y2=\"5\" stroke=\"#888\" stroke-width=\"1\" opacity=\"1\"/><line transform=\"translate(367,0)\" x2=\"0\" y2=\"5\" stroke=\"#888\" stroke-width=\"1\" opacity=\"1\"/><line transform=\"translate(400,0)\" x2=\"0\" y2=\"5\" stroke=\"#888\" stroke-width=\"1\" opacity=\"1\"/></g><g class=\"mark-text role-axis-label\" pointer-events=\"none\"><text text-anchor=\"start\" transform=\"translate(0,15)\" font-family=\"sans-serif\" font-size=\"10px\" fill=\"#000\" opacity=\"1\">3,600</text><text text-anchor=\"middle\" transform=\"translate(33.33333333333333,15)\" font-family=\"sans-serif\" font-size=\"10px\" fill=\"#000\" opacity=\"0\">3,602</text><text text-anchor=\"middle\" transform=\"translate(66.66666666666666,15)\" font-family=\"sans-serif\" font-size=\"10px\" fill=\"#000\" opacity=\"1\">3,604</text><text text-anchor=\"middle\" transform=\"translate(100,15)\" font-family=\"sans-serif\" font-size=\"10px\" fill=\"#000\" opacity=\"0\">3,606</text><text text-anchor=\"middle\" transform=\"translate(133.33333333333331,15)\" font-family=\"sans-serif\" font-size=\"10px\" fill=\"#000\" opacity=\"1\">3,608</text><text text-anchor=\"middle\" transform=\"translate(166.66666666666669,15)\" font-family=\"sans-serif\" font-size=\"10px\" fill=\"#000\" opacity=\"0\">3,610</text><text text-anchor=\"middle\" transform=\"translate(200,15)\" font-family=\"sans-serif\" font-size=\"10px\" fill=\"#000\" opacity=\"1\">3,612</text><text text-anchor=\"middle\" transform=\"translate(233.33333333333334,15)\" font-family=\"sans-serif\" font-size=\"10px\" fill=\"#000\" opacity=\"0\">3,614</text><text text-anchor=\"middle\" transform=\"translate(266.66666666666663,15)\" font-family=\"sans-serif\" font-size=\"10px\" fill=\"#000\" opacity=\"1\">3,616</text><text text-anchor=\"middle\" transform=\"translate(300,15)\" font-family=\"sans-serif\" font-size=\"10px\" fill=\"#000\" opacity=\"0\">3,618</text><text text-anchor=\"middle\" transform=\"translate(333.33333333333337,15)\" font-family=\"sans-serif\" font-size=\"10px\" fill=\"#000\" opacity=\"1\">3,620</text><text text-anchor=\"middle\" transform=\"translate(366.66666666666663,15)\" font-family=\"sans-serif\" font-size=\"10px\" fill=\"#000\" opacity=\"0\">3,622</text><text text-anchor=\"end\" transform=\"translate(400,15)\" font-family=\"sans-serif\" font-size=\"10px\" fill=\"#000\" opacity=\"1\">3,624</text></g><g class=\"mark-rule role-axis-domain\" pointer-events=\"none\"><line transform=\"translate(0,0)\" x2=\"400\" y2=\"0\" stroke=\"#888\" stroke-width=\"1\" opacity=\"1\"/></g><g class=\"mark-text role-axis-title\" pointer-events=\"none\"><text text-anchor=\"middle\" transform=\"translate(200,30)\" font-family=\"sans-serif\" font-size=\"11px\" font-weight=\"bold\" fill=\"#000\" opacity=\"1\">Hours</text></g></g><path class=\"foreground\" aria-hidden=\"true\" d=\"\" pointer-events=\"none\" display=\"none\"/></g></g><g class=\"mark-group role-axis\" role=\"graphics-symbol\" aria-roledescription=\"axis\" aria-label=\"Y-axis titled 'Electricity generation (GWh)' for a linear scale with values from 0 to 300\"><g transform=\"translate(0.5,0.5)\"><path class=\"background\" aria-hidden=\"true\" d=\"M0,0h0v0h0Z\" pointer-events=\"none\"/><g><g class=\"mark-rule role-axis-tick\" pointer-events=\"none\"><line transform=\"translate(0,300)\" x2=\"-5\" y2=\"0\" stroke=\"#888\" stroke-width=\"1\" opacity=\"1\"/><line transform=\"translate(0,250)\" x2=\"-5\" y2=\"0\" stroke=\"#888\" stroke-width=\"1\" opacity=\"1\"/><line transform=\"translate(0,200)\" x2=\"-5\" y2=\"0\" stroke=\"#888\" stroke-width=\"1\" opacity=\"1\"/><line transform=\"translate(0,150)\" x2=\"-5\" y2=\"0\" stroke=\"#888\" stroke-width=\"1\" opacity=\"1\"/><line transform=\"translate(0,100)\" x2=\"-5\" y2=\"0\" stroke=\"#888\" stroke-width=\"1\" opacity=\"1\"/><line transform=\"translate(0,50)\" x2=\"-5\" y2=\"0\" stroke=\"#888\" stroke-width=\"1\" opacity=\"1\"/><line transform=\"translate(0,0)\" x2=\"-5\" y2=\"0\" stroke=\"#888\" stroke-width=\"1\" opacity=\"1\"/></g><g class=\"mark-text role-axis-label\" pointer-events=\"none\"><text text-anchor=\"end\" transform=\"translate(-7,303)\" font-family=\"sans-serif\" font-size=\"10px\" fill=\"#000\" opacity=\"1\">0</text><text text-anchor=\"end\" transform=\"translate(-7,253)\" font-family=\"sans-serif\" font-size=\"10px\" fill=\"#000\" opacity=\"1\">50</text><text text-anchor=\"end\" transform=\"translate(-7,203.00000000000003)\" font-family=\"sans-serif\" font-size=\"10px\" fill=\"#000\" opacity=\"1\">100</text><text text-anchor=\"end\" transform=\"translate(-7,153)\" font-family=\"sans-serif\" font-size=\"10px\" fill=\"#000\" opacity=\"1\">150</text><text text-anchor=\"end\" transform=\"translate(-7,103.00000000000001)\" font-family=\"sans-serif\" font-size=\"10px\" fill=\"#000\" opacity=\"1\">200</text><text text-anchor=\"end\" transform=\"translate(-7,52.999999999999986)\" font-family=\"sans-serif\" font-size=\"10px\" fill=\"#000\" opacity=\"1\">250</text><text text-anchor=\"end\" transform=\"translate(-7,3)\" font-family=\"sans-serif\" font-size=\"10px\" fill=\"#000\" opacity=\"1\">300</text></g><g class=\"mark-rule role-axis-domain\" pointer-events=\"none\"><line transform=\"translate(0,300)\" x2=\"0\" y2=\"-300\" stroke=\"#888\" stroke-width=\"1\" opacity=\"1\"/></g><g class=\"mark-text role-axis-title\" pointer-events=\"none\"><text text-anchor=\"middle\" transform=\"translate(-27.6845703125,150) rotate(-90) translate(0,-2)\" font-family=\"sans-serif\" font-size=\"11px\" font-weight=\"bold\" fill=\"#000\" opacity=\"1\">Electricity generation (GWh)</text></g></g><path class=\"foreground\" aria-hidden=\"true\" d=\"\" pointer-events=\"none\" display=\"none\"/></g></g><g class=\"mark-group role-scope pathgroup\" role=\"graphics-object\" aria-roledescription=\"group mark container\"><g transform=\"translate(0,0)\"><path class=\"background\" aria-hidden=\"true\" d=\"M0,0h400v300h-400Z\"/><g><g class=\"mark-area role-mark marks\" role=\"graphics-object\" aria-roledescription=\"area mark container\"><path aria-label=\"Hours: 3600; Electricity generation (GWh): 35.2882286988; resource: natural_gas_fired_combined_cycle\" role=\"graphics-symbol\" aria-roledescription=\"area mark\" d=\"M0,150.043L16.667,163.39L33.333,174.599L50,186.895L66.667,191.763L83.333,193.195L100,175.38L116.667,136.989L133.333,66.822L150,11.495L166.667,7.082L183.333,0.802L200,0.294L216.667,0.397L233.333,7.482L250,11.81L266.667,28.128L283.333,68.502L300,97.959L316.667,173.235L333.333,184.563L350,178.798L366.667,163.971L383.333,167.832L400,175.95L400,241.913L383.333,233.795L366.667,229.934L350,244.761L333.333,250.526L316.667,239.198L300,163.922L283.333,79.089L266.667,38.715L250,22.397L233.333,18.068L216.667,10.984L200,10.881L183.333,11.388L166.667,17.669L150,22.081L133.333,77.408L116.667,147.575L100,210.668L83.333,228.483L66.667,227.051L50,222.184L33.333,209.887L16.667,198.678L0,185.332Z\" fill=\"#1f77b4\"/></g></g><path class=\"foreground\" aria-hidden=\"true\" d=\"\" display=\"none\"/></g><g transform=\"translate(0,0)\"><path class=\"background\" aria-hidden=\"true\" d=\"M0,0h400v300h-400Z\"/><g><g class=\"mark-area role-mark marks\" role=\"graphics-object\" aria-roledescription=\"area mark container\"><path aria-label=\"Hours: 3600; Electricity generation (GWh): 114.66841715; resource: wind_turbine\" role=\"graphics-symbol\" aria-roledescription=\"area mark\" d=\"M0,185.332L16.667,198.678L33.333,209.887L50,222.184L66.667,227.051L83.333,228.943L100,230.631L116.667,229.537L133.333,231.638L150,247.678L166.667,281.077L183.333,287.611L200,282.363L216.667,269.982L233.333,254.326L250,244.365L266.667,237.633L283.333,237.785L300,242.809L316.667,247.535L333.333,250.526L350,244.761L366.667,229.934L383.333,233.795L400,241.913L400,300L383.333,300L366.667,300L350,300L333.333,300L316.667,300L300,300L283.333,300L266.667,300L250,300L233.333,300L216.667,300L200,300L183.333,300L166.667,300L150,300L133.333,300L116.667,300L100,300L83.333,300L66.667,300L50,300L33.333,300L16.667,300L0,300Z\" fill=\"#2ca02c\"/></g></g><path class=\"foreground\" aria-hidden=\"true\" d=\"\" display=\"none\"/></g><g transform=\"translate(0,0)\"><path class=\"background\" aria-hidden=\"true\" d=\"M0,0h400v300h-400Z\"/><g><g class=\"mark-area role-mark marks\" role=\"graphics-object\" aria-roledescription=\"area mark container\"><path aria-label=\"Hours: 3600; Electricity generation (GWh): 0; resource: solar_photovoltaic\" role=\"graphics-symbol\" aria-roledescription=\"area mark\" d=\"M0,185.332L16.667,198.678L33.333,209.887L50,222.184L66.667,227.051L83.333,228.483L100,210.668L116.667,147.575L133.333,77.408L150,22.081L166.667,17.669L183.333,11.388L200,10.881L216.667,10.984L233.333,18.068L250,22.397L266.667,38.715L283.333,79.089L300,163.922L316.667,239.198L333.333,250.526L350,244.761L366.667,229.934L383.333,233.795L400,241.913L400,241.913L383.333,233.795L366.667,229.934L350,244.761L333.333,250.526L316.667,247.535L300,242.809L283.333,237.785L266.667,237.633L250,244.365L233.333,254.326L216.667,269.982L200,282.363L183.333,287.611L166.667,281.077L150,247.678L133.333,231.638L116.667,229.537L100,230.631L83.333,228.943L66.667,227.051L50,222.184L33.333,209.887L16.667,198.678L0,185.332Z\" fill=\"#ff7f0e\"/></g></g><path class=\"foreground\" aria-hidden=\"true\" d=\"\" display=\"none\"/></g></g><g class=\"mark-group role-legend\" role=\"graphics-symbol\" aria-roledescription=\"legend\" aria-label=\"Symbol legend titled 'resource' for fill color with 3 values: natural_gas_fired_combined_cycle, solar_photovoltaic, wind_turbine\"><g transform=\"translate(418,0)\"><path class=\"background\" aria-hidden=\"true\" d=\"M0,0h171v53h-171Z\" pointer-events=\"none\"/><g><g class=\"mark-group role-legend-entry\"><g transform=\"translate(0,16)\"><path class=\"background\" aria-hidden=\"true\" d=\"M0,0h0v0h0Z\" pointer-events=\"none\"/><g><g class=\"mark-group role-scope\" role=\"graphics-object\" aria-roledescription=\"group mark container\"><g transform=\"translate(0,0)\"><path class=\"background\" aria-hidden=\"true\" d=\"M0,0h170.541015625v11h-170.541015625Z\" pointer-events=\"none\" opacity=\"1\"/><g><g class=\"mark-symbol role-legend-symbol\" pointer-events=\"none\"><path transform=\"translate(6,6)\" d=\"M5,0A5,5,0,1,1,-5,0A5,5,0,1,1,5,0\" fill=\"#1f77b4\" stroke-width=\"1.5\" opacity=\"1\"/></g><g class=\"mark-text role-legend-label\" pointer-events=\"none\"><text text-anchor=\"start\" transform=\"translate(16,9)\" font-family=\"sans-serif\" font-size=\"10px\" fill=\"#000\" opacity=\"1\">natural_gas_fired_combined_cycle</text></g></g><path class=\"foreground\" aria-hidden=\"true\" d=\"\" pointer-events=\"none\" display=\"none\"/></g><g transform=\"translate(0,13)\"><path class=\"background\" aria-hidden=\"true\" d=\"M0,0h170.541015625v11h-170.541015625Z\" pointer-events=\"none\" opacity=\"1\"/><g><g class=\"mark-symbol role-legend-symbol\" pointer-events=\"none\"><path transform=\"translate(6,6)\" d=\"M5,0A5,5,0,1,1,-5,0A5,5,0,1,1,5,0\" fill=\"#ff7f0e\" stroke-width=\"1.5\" opacity=\"1\"/></g><g class=\"mark-text role-legend-label\" pointer-events=\"none\"><text text-anchor=\"start\" transform=\"translate(16,9)\" font-family=\"sans-serif\" font-size=\"10px\" fill=\"#000\" opacity=\"1\">solar_photovoltaic</text></g></g><path class=\"foreground\" aria-hidden=\"true\" d=\"\" pointer-events=\"none\" display=\"none\"/></g><g transform=\"translate(0,26)\"><path class=\"background\" aria-hidden=\"true\" d=\"M0,0h170.541015625v11h-170.541015625Z\" pointer-events=\"none\" opacity=\"1\"/><g><g class=\"mark-symbol role-legend-symbol\" pointer-events=\"none\"><path transform=\"translate(6,6)\" d=\"M5,0A5,5,0,1,1,-5,0A5,5,0,1,1,5,0\" fill=\"#2ca02c\" stroke-width=\"1.5\" opacity=\"1\"/></g><g class=\"mark-text role-legend-label\" pointer-events=\"none\"><text text-anchor=\"start\" transform=\"translate(16,9)\" font-family=\"sans-serif\" font-size=\"10px\" fill=\"#000\" opacity=\"1\">wind_turbine</text></g></g><path class=\"foreground\" aria-hidden=\"true\" d=\"\" pointer-events=\"none\" display=\"none\"/></g></g></g><path class=\"foreground\" aria-hidden=\"true\" d=\"\" pointer-events=\"none\" display=\"none\"/></g></g><g class=\"mark-text role-legend-title\" pointer-events=\"none\"><text text-anchor=\"start\" transform=\"translate(0,9)\" font-family=\"sans-serif\" font-size=\"11px\" font-weight=\"bold\" fill=\"#000\" opacity=\"1\">resource</text></g></g><path class=\"foreground\" aria-hidden=\"true\" d=\"\" pointer-events=\"none\" display=\"none\"/></g></g></g><path class=\"foreground\" aria-hidden=\"true\" d=\"\" display=\"none\"/></g></g></g></svg>"
      ],
      "text/plain": [
       "@vlplot(\n",
       "    width=400,\n",
       "    height=300,\n",
       "    mark=\"area\",\n",
       "    encoding={\n",
       "        x={\n",
       "            title=\"Hours\",\n",
       "            field=\"hours\"\n",
       "        },\n",
       "        y={\n",
       "            title=\"Electricity generation (GWh)\",\n",
       "            stack=\"zero\",\n",
       "            field=\"generation\"\n",
       "        },\n",
       "        color={\n",
       "            scale={\n",
       "                scheme=\"category10\"\n",
       "            },\n",
       "            field=\"resource\",\n",
       "            type=\"nominal\"\n",
       "        }\n",
       "    },\n",
       "    data={\n",
       "        values=...\n",
       "    }\n",
       ")"
      ]
     },
     "metadata": {},
     "output_type": "display_data"
    }
   ],
   "source": [
    "plot_time_interval = 3600:3624\n",
    "natgas_power = Macro.value.(Macro.flow(system.assets[2].elec_edge)).data[plot_time_interval] / 1e3;\n",
    "solar_power = Macro.value.(Macro.flow(system.assets[3].edge)).data[plot_time_interval] / 1e3;\n",
    "wind_power = Macro.value.(Macro.flow(system.assets[4].edge)).data[plot_time_interval] / 1e3;\n",
    "\n",
    "elec_gen = DataFrame(hours=plot_time_interval,\n",
    "    solar_photovoltaic=solar_power,\n",
    "    wind_turbine=wind_power,\n",
    "    natural_gas_fired_combined_cycle=natgas_power,\n",
    ")\n",
    "\n",
    "stack_elec_gen = stack(elec_gen, [:natural_gas_fired_combined_cycle, :wind_turbine, :solar_photovoltaic], variable_name=:resource, value_name=:generation);\n",
    "\n",
    "elc_plot = stack_elec_gen |>\n",
    "           @vlplot(\n",
    "    :area,\n",
    "    x = {:hours, title = \"Hours\"},\n",
    "    y = {:generation, title = \"Electricity generation (GWh)\", stack = :zero},\n",
    "    color = {\"resource:n\", scale = {scheme = :category10}},\n",
    "    width = 400,\n",
    "    height = 300\n",
    ")"
   ]
  },
  {
   "cell_type": "markdown",
   "metadata": {},
   "source": [
    "**Task:** Set a strict net-zero $\\text{CO}_2$ cap by removing the slack allowing constraint violation for a penalty. This can be done by deleting the field `price_unmet_policy` from the $\\text{CO}_2$ node in file `one_zone_electricity_only/system/nodes.json`\n",
    "\n",
    "Then, re-run the model with these new inputs and show the capacity results, total system cost, emissions, and plot the generation profiles."
   ]
  },
  {
   "cell_type": "markdown",
   "metadata": {},
   "source": [
    "<details>\n",
    "<summary>Solution</summary>\n",
    "\n",
    "Open file `one_zone_electricity_only/system/nodes.json`, go to the bottom of the file where the $\\text{CO}_2$ node is defined. Remove the lines related to the field `price_unmet_policy`, so that the node definition looks like this:\n",
    "\n",
    "```json\n",
    " {\n",
    "    \"type\": \"CO2\",\n",
    "    \"global_data\": {\n",
    "        \"time_interval\": \"CO2\"\n",
    "    },\n",
    "    \"instance_data\": [\n",
    "        {\n",
    "            \"id\": \"co2_sink\",\n",
    "            \"constraints\": {\n",
    "                \"CO2CapConstraint\": true\n",
    "            },\n",
    "            \"rhs_policy\": {\n",
    "                    \"CO2CapConstraint\": 0\n",
    "                }   \n",
    "        }\n",
    "    ]\n",
    "}\n",
    "```\n",
    "Then, you need to re-load the inputs:\n",
    "```julia\n",
    "    system = Macro.load_system(\"one_zone_electricity_only\");\n",
    "```\n",
    "generate the MACRO model:\n",
    "```julia\n",
    "    model = Macro.generate_model(system);\n",
    "```\n",
    "and solve it:\n",
    "```julia\n",
    "    Macro.set_optimizer(model, HiGHS.Optimizer);\n",
    "    Macro.optimize!(model)\n",
    "```\n",
    "We can check the results by printing the total system cost:\n",
    "```julia\n",
    "    Macro.objective_value(model)\n",
    "```\n",
    "and the new emissions (which should be zero):\n",
    "```julia\n",
    "    co2_node_idx = findfirst(isa.(system.locations,Node{CO2}).==1)\n",
    "    Macro.value(sum(system.locations[co2_node_idx].operation_expr[:emissions]))\n",
    "```\n",
    "Finally, we plot the generation results:\n",
    "```julia\n",
    "    plot_time_interval = 3600:3624\n",
    "    natgas_power =  Macro.value.(Macro.flow(system.assets[2].elec_edge)).data[plot_time_interval]/1e3;\n",
    "    solar_power = Macro.value.(Macro.flow(system.assets[3].edge)).data[plot_time_interval]/1e3;\n",
    "    wind_power = Macro.value.(Macro.flow(system.assets[4].edge)).data[plot_time_interval]/1e3;\n",
    "\n",
    "    elec_gen =  DataFrame( hours = plot_time_interval, \n",
    "                    solar_photovoltaic = solar_power,\n",
    "                    wind_turbine = wind_power,\n",
    "                    natural_gas_fired_combined_cycle = natgas_power,\n",
    "                    )\n",
    "\n",
    "    stack_elec_gen = stack(elec_gen, [:natural_gas_fired_combined_cycle,:wind_turbine,:solar_photovoltaic], variable_name=:resource, value_name=:generation);\n",
    "\n",
    "    elc_plot = stack_elec_gen |> \n",
    "    @vlplot(\n",
    "        :area,\n",
    "        x={:hours, title=\"Hours\"},\n",
    "        y={:generation, title=\"Electricity generation (GWh)\",stack=:zero},\n",
    "        color={\"resource:n\", scale={scheme=:category10}},\n",
    "        width=400,\n",
    "        height=300\n",
    "    )\n",
    "```\n",
    "</details>\n",
    "\n"
   ]
  },
  {
   "cell_type": "markdown",
   "metadata": {},
   "source": []
  }
 ],
 "metadata": {
  "kernelspec": {
   "display_name": "Julia 1.11.1",
   "language": "julia",
   "name": "julia-1.11"
  },
  "language_info": {
   "file_extension": ".jl",
   "mimetype": "application/julia",
   "name": "julia",
   "version": "1.11.1"
  }
 },
 "nbformat": 4,
 "nbformat_minor": 4
}
