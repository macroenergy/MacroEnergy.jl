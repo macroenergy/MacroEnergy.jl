{
 "cells": [
  {
   "cell_type": "code",
   "execution_count": 1,
   "metadata": {},
   "outputs": [
    {
     "name": "stderr",
     "output_type": "stream",
     "text": [
      "\u001b[32m\u001b[1m  Activating\u001b[22m\u001b[39m project at `c:\\Users\\pecci\\Code\\MACRO`\n"
     ]
    }
   ],
   "source": [
    "using Pkg\n",
    "Pkg.activate(pwd())"
   ]
  },
  {
   "cell_type": "code",
   "execution_count": 2,
   "metadata": {},
   "outputs": [],
   "source": [
    "using JuMP,HiGHS"
   ]
  },
  {
   "cell_type": "code",
   "execution_count": 3,
   "metadata": {},
   "outputs": [],
   "source": [
    "abstract type Network end"
   ]
  },
  {
   "cell_type": "code",
   "execution_count": 4,
   "metadata": {},
   "outputs": [],
   "source": [
    "abstract type Process end"
   ]
  },
  {
   "cell_type": "code",
   "execution_count": 5,
   "metadata": {},
   "outputs": [],
   "source": [
    "abstract type AbstractNode end"
   ]
  },
  {
   "cell_type": "code",
   "execution_count": 7,
   "metadata": {},
   "outputs": [
    {
     "data": {
      "text/plain": [
       "Transformation"
      ]
     },
     "metadata": {},
     "output_type": "display_data"
    }
   ],
   "source": [
    "Base.@kwdef mutable struct Transformation <: Process\n",
    "    CommodityIn::String\n",
    "    CommodityOut::String\n",
    "    NodeIn::Int64\n",
    "    NodeOut::Int64\n",
    "    MinCap::Float64 = 0.0\n",
    "    MaxCap::Float64 = 100.0\n",
    "    CanExpand::Bool = true\n",
    "    CanRetire::Bool = true\n",
    "    ExistingCap::Float64 = 0.0\n",
    "    RampingUpRate::Float64 = 1.0\n",
    "    RampingDnRate::Float64 = 1.0\n",
    "    MinPower::Float64 = 0.0\n",
    "    ConversionRate::Dict{String,Float64}\n",
    "    MinUpTime::Float64 = 0.0\n",
    "    MinDnTime::Float64 = 0.0\n",
    "    JumpInvVars::Dict = Dict()\n",
    "    JumpOpVars::Dict = Dict()\n",
    "    InvCost::Float64 = 0.0\n",
    "    FOMCost::Float64 = 0.0\n",
    "    VOMCost::Float64 = 0.0\n",
    "end"
   ]
  },
  {
   "cell_type": "code",
   "execution_count": 8,
   "metadata": {},
   "outputs": [
    {
     "data": {
      "text/plain": [
       "Storage"
      ]
     },
     "metadata": {},
     "output_type": "display_data"
    }
   ],
   "source": [
    "Base.@kwdef mutable struct Storage <: Process\n",
    "    Commodity::String\n",
    "    Node::Int64\n",
    "    EffUp::Float64 = 1.0\n",
    "    EffDn::Float64 = 1.0\n",
    "    SelfDischarge::Float64 = 0.0\n",
    "    MinStorageLevel::Float64 = 0.0\n",
    "    MinCap::Float64 = 0.0\n",
    "    MaxCap::Float64 = 100.0\n",
    "    CanExpand::Bool = true\n",
    "    CanRetire::Bool = true\n",
    "    JumpInvVars::Dict = Dict()\n",
    "    JumpOpVars::Dict = Dict()\n",
    "    InvCost_discharge::Float64 = 0.0\n",
    "    InvCost_charge::Float64 = 0.0\n",
    "    InvCost_storage::Float64 = 0.0\n",
    "    FOMCost_discharge::Float64 = 0.0\n",
    "    FOMCost_charge::Float64 = 0.0\n",
    "    FOMCost_storage::Float64 = 0.0\n",
    "    VOMCost_discharge::Float64 = 0.0 \n",
    "    VOMCost_charge::Float64 = 0.0\n",
    "end"
   ]
  },
  {
   "cell_type": "code",
   "execution_count": 9,
   "metadata": {},
   "outputs": [
    {
     "data": {
      "text/plain": [
       "Resource"
      ]
     },
     "metadata": {},
     "output_type": "display_data"
    }
   ],
   "source": [
    "Base.@kwdef mutable struct Resource <: Process\n",
    "    Commodity::String\n",
    "    Node::Int64\n",
    "    MinCap::Float64 = 0.0\n",
    "    MaxCap::Float64 = 100.0\n",
    "    ExistingCap::Float64 = 0.0\n",
    "    PolicyMembership::Vector{String} = [\"\"]\n",
    "    CanExpand::Bool = true\n",
    "    CanRetire::Bool = true\n",
    "    CapacityFactor::Vector{Float64}\n",
    "    JumpInvVars::Dict = Dict()\n",
    "    JumpOpVars::Dict = Dict()\n",
    "    InvCost::Float64 = 0.0;\n",
    "    FOMCost::Float64 = 0.0;\n",
    "    VOMCost::Float64 = 0.0;\n",
    "end"
   ]
  },
  {
   "cell_type": "code",
   "execution_count": 10,
   "metadata": {},
   "outputs": [
    {
     "data": {
      "text/plain": [
       "Node"
      ]
     },
     "metadata": {},
     "output_type": "display_data"
    }
   ],
   "source": [
    "Base.@kwdef mutable struct Node <: AbstractNode\n",
    "    Index::Int64\n",
    "    Commodity::String\n",
    "    TimeSeries::Vector{Float64}\n",
    "end    "
   ]
  },
  {
   "cell_type": "code",
   "execution_count": 11,
   "metadata": {},
   "outputs": [
    {
     "data": {
      "text/plain": [
       "Edge"
      ]
     },
     "metadata": {},
     "output_type": "display_data"
    }
   ],
   "source": [
    "Base.@kwdef mutable struct Edge <: Network\n",
    "    Commodity::String\n",
    "    Start::Int64\n",
    "    End::Int64\n",
    "    Unidirectional::Bool = false\n",
    "    MinCap::Float64 = 0.0\n",
    "    MaxCap::Float64 = 100.0\n",
    "    ExistingCap::Float64 = 100.0\n",
    "    CanExpand::Bool = true\n",
    "    CanRetire::Bool = true\n",
    "    JumpInvVars::Dict = Dict()\n",
    "    JumpOpVars::Dict = Dict()\n",
    "    InvCost::Float64 = 0.0;\n",
    "    FOMCost::Float64 = 0.0;\n",
    "    VOMCost::Float64 = 0.0;\n",
    "end"
   ]
  },
  {
   "cell_type": "code",
   "execution_count": 87,
   "metadata": {},
   "outputs": [
    {
     "data": {
      "text/plain": [
       "Tuple{Int64, Int64}"
      ]
     },
     "metadata": {},
     "output_type": "display_data"
    }
   ],
   "source": [
    "typeof((1,2))"
   ]
  },
  {
   "cell_type": "code",
   "execution_count": 12,
   "metadata": {},
   "outputs": [],
   "source": [
    "solar_1 = Resource(Commodity = \"P\",Node = 1,CapacityFactor = rand(10),InvCost=85300.0,FOMCost =18760);\n",
    "wind_1 = Resource(Commodity = \"P\",Node = 1,CapacityFactor = rand(10),InvCost=97200.0,FOMCost=43205.0,VOMCost=0.1);\n",
    "battery_1 = Storage(Commodity=\"P\",Node = 1,EffUp = 0.8,EffDn = 0.8,SelfDischarge = 0.02,InvCost_discharge=19584.0,FOMCost_discharge=4895.0,VOMCost_discharge=0.15,InvCost_storage = 22494.0, FOMCost_storage = 5622.0, VOMCost_charge=0.15,);\n",
    "ElectrolyzerTransform_1 = Transformation(CommodityIn = \"P\", CommodityOut=\"H2\" ,NodeIn = 1, NodeOut = 1 ,ConversionRate = Dict(\"P\"=>1.0,\"H2\"=>-0.6),InvCost=125000.0,FOMCost=15000.0);\n",
    "\n",
    "solar_2 = Resource(Commodity = \"P\",Node = 2,CapacityFactor = rand(10),InvCost=85300.0,FOMCost =18760);\n",
    "wind_2 = Resource(Commodity = \"P\",Node = 2,CapacityFactor = rand(10),InvCost=97200.0,FOMCost=43205.0,VOMCost=0.1);\n",
    "battery_2 = Storage(Commodity=\"P\",Node = 2,EffUp = 0.8,EffDn = 0.8,SelfDischarge = 0.02,InvCost_discharge=19584.0,FOMCost_discharge=4895.0,VOMCost_discharge=0.15,InvCost_storage = 22494.0, FOMCost_storage = 5622.0, VOMCost_charge=0.15,);\n",
    "ElectrolyzerTransform_2 = Transformation(CommodityIn = \"P\", CommodityOut=\"H2\" ,NodeIn = 2, NodeOut = 2 ,ConversionRate = Dict(\"P\"=>1.0,\"H2\"=>-0.6),InvCost=125000.0,FOMCost=15000.0);\n",
    "\n",
    "solar_3 = Resource(Commodity = \"P\",Node = 3,CapacityFactor = rand(10),InvCost=85300.0,FOMCost =18760);\n",
    "wind_3 = Resource(Commodity = \"P\",Node = 3,CapacityFactor = rand(10),InvCost=97200.0,FOMCost=43205.0,VOMCost=0.1);\n",
    "battery_3 = Storage(Commodity=\"P\",Node = 3,EffUp = 0.8,EffDn = 0.8,SelfDischarge = 0.02,InvCost_discharge=19584.0,FOMCost_discharge=4895.0,VOMCost_discharge=0.15,InvCost_storage = 22494.0, FOMCost_storage = 5622.0, VOMCost_charge=0.15,);\n",
    "ElectrolyzerTransform_3 = Transformation(CommodityIn = \"P\", CommodityOut=\"H2\" ,NodeIn = 3, NodeOut = 3 ,ConversionRate = Dict(\"P\"=>1.0,\"H2\"=>-0.6),InvCost=125000.0,FOMCost=15000.0);\n",
    "\n",
    "network = Dict(\"P\"=>[Edge(Start=1,End=3,Commodity=\"P\");Edge(Start=2,End=3,Commodity=\"P\")],\"H2\"=>[Edge(Start=1,End=2,Unidirectional=true,Commodity=\"H2\");Edge(Start=2,End=3,Unidirectional=true,Commodity=\"H2\")]);"
   ]
  },
  {
   "cell_type": "code",
   "execution_count": 89,
   "metadata": {},
   "outputs": [],
   "source": []
  },
  {
   "cell_type": "code",
   "execution_count": 13,
   "metadata": {},
   "outputs": [
    {
     "data": {
      "text/plain": [
       "Dict{String, Int64} with 2 entries:\n",
       "  \"P\"  => 5000\n",
       "  \"H2\" => 5000"
      ]
     },
     "metadata": {},
     "output_type": "display_data"
    }
   ],
   "source": [
    "technology_map = Dict(\"P\"=>Dict(1=>[solar_1,wind_1,battery_1],2=>[solar_2,wind_2,battery_2],3=>[solar_3,wind_3,battery_3]),\"H2\"=>Dict(1=>[],2=>[],3=>[]))\n",
    "time_domain_map = Dict(\"P\"=>collect(1:10),\"H2\"=>collect(1:10))\n",
    "demand_map = Dict(\"P\"=>Dict(1=>Node(1,\"P\",7.5*rand(10)),2=>Node(2,\"P\",3.5*rand(10)),3=>Node(3,\"P\",0*rand(10))),\"H2\"=>Dict(1=>Node(1,\"H2\",7.5*rand(10)),2=>Node(2,\"H2\",0*rand(10)),3=>Node(3,\"H2\",3.5*rand(10))));\n",
    "VOLL = Dict(\"P\"=>5000,\"H2\"=>5000)"
   ]
  },
  {
   "cell_type": "code",
   "execution_count": 14,
   "metadata": {},
   "outputs": [
    {
     "data": {
      "text/plain": [
       "3-element Vector{Process}:\n",
       " Resource(\"P\", 1, 0.0, 100.0, 0.0, [\"\"], true, true, [0.7436877762167187, 0.422797389746686, 0.15520062303235016, 0.3949407533995368, 0.34709398310009565, 0.7896972925404478, 0.9390336452450303, 0.2048437366643151, 0.9454265037934545, 0.026070644136222287], Dict{Any, Any}(), Dict{Any, Any}(), 85300.0, 18760.0, 0.0)\n",
       " Resource(\"P\", 1, 0.0, 100.0, 0.0, [\"\"], true, true, [0.42967054536701643, 0.24673830354186765, 0.17387999933529064, 0.7672388930571827, 0.41714259920257446, 0.469114671518315, 0.37334780194043515, 0.036860398300826325, 0.19718777069162374, 0.8695394483597289], Dict{Any, Any}(), Dict{Any, Any}(), 97200.0, 43205.0, 0.1)\n",
       " Storage(\"P\", 1, 0.8, 0.8, 0.02, 0.0, 0.0, 100.0, true, true, Dict{Any, Any}(), Dict{Any, Any}(), 19584.0, 0.0, 22494.0, 4895.0, 0.0, 5622.0, 0.15, 0.15)"
      ]
     },
     "metadata": {},
     "output_type": "display_data"
    }
   ],
   "source": [
    "technology_map[\"P\"][1]"
   ]
  },
  {
   "cell_type": "code",
   "execution_count": 15,
   "metadata": {},
   "outputs": [
    {
     "data": {
      "text/plain": [
       "add_resource! (generic function with 1 method)"
      ]
     },
     "metadata": {},
     "output_type": "display_data"
    }
   ],
   "source": [
    "function add_resource!(EP::JuMP.Model,g::Resource,num_inv_vars::Int64,num_op_vars::Int64,T::Vector{Int64})\n",
    "\n",
    "    g.JumpInvVars[\"GenCap\"] = JuMP.@variable(EP,lower_bound=0,base_name=\"y[$(num_inv_vars+1)]\"); \n",
    "  \n",
    "    JuMP.@constraint(EP,g.JumpInvVars[\"GenCap\"] <=g.MaxCap)\n",
    "\n",
    "    JuMP.@constraint(EP,g.JumpInvVars[\"GenCap\"] >=g.MinCap)\n",
    "    \n",
    "    g.JumpOpVars[\"Gen\"] = Dict(t=>JuMP.@variable(EP,lower_bound=0,base_name=\"x[$(num_op_vars+1),$t]\") for t in T); \n",
    "    \n",
    "    JuMP.@constraint(EP,[t in T], g.JumpOpVars[\"Gen\"][t]<=g.CapacityFactor[t]*g.JumpInvVars[\"GenCap\"] );\n",
    "    \n",
    "    #### Energy balance contribution\n",
    "    for t in T\n",
    "        EP[:eEnergyBalance][g.Commodity,g.Node,t] += g.JumpOpVars[\"Gen\"][t];\n",
    "    end\n",
    "   \n",
    "    EP[:eTotalCost] += g.InvCost*g.JumpInvVars[\"GenCap\"] + g.FOMCost*g.JumpInvVars[\"GenCap\"] + sum(g.VOMCost*g.JumpOpVars[\"Gen\"][t] for t in T);\n",
    "    \n",
    "end"
   ]
  },
  {
   "cell_type": "code",
   "execution_count": 16,
   "metadata": {},
   "outputs": [
    {
     "data": {
      "text/plain": [
       "add_storage! (generic function with 1 method)"
      ]
     },
     "metadata": {},
     "output_type": "display_data"
    }
   ],
   "source": [
    "function add_storage!(EP::JuMP.Model,g::Storage,num_inv_vars::Int64,num_op_vars::Int64,T::Vector{Int64})\n",
    "\n",
    "    g.JumpInvVars[\"GenCap\"] = JuMP.@variable(EP,lower_bound=0,base_name=\"y[$(num_inv_vars+1)]\"); #charge/discharge capacity\n",
    "    g.JumpInvVars[\"StorCap\"]  = JuMP.@variable(EP,lower_bound=0,base_name=\"y[$(num_inv_vars+2)]\"); #state of charge capacity\n",
    "    \n",
    "    g.JumpOpVars[\"Gen\"] = Dict(t=>JuMP.@variable(EP,lower_bound=0,base_name=\"x[$(num_op_vars+1),$t]\") for t in T); #discharge\n",
    "    g.JumpOpVars[\"Charge\"] = Dict(t=>JuMP.@variable(EP,lower_bound=0,base_name=\"x[$(num_op_vars+2),$t]\") for t in T); #charge\n",
    "    g.JumpOpVars[\"StorLevel\"] = Dict(t=>JuMP.@variable(EP,lower_bound=0,base_name=\"x[$(num_op_vars+3),$t]\") for t in T); #state of charge\n",
    "\n",
    "    JuMP.@constraint(EP,g.JumpInvVars[\"GenCap\"]<=g.MaxCap)\n",
    "\n",
    "    JuMP.@constraint(EP,g.JumpInvVars[\"GenCap\"]>=g.MinCap)\n",
    "\n",
    "    JuMP.@constraint(EP,[t in T], g.JumpOpVars[\"Gen\"][t]<=g.JumpInvVars[\"GenCap\"]);\n",
    "\n",
    "    JuMP.@constraint(EP,[t in T], g.JumpOpVars[\"Charge\"][t]<=g.JumpInvVars[\"GenCap\"]);\n",
    "\n",
    "    JuMP.@constraint(EP,[t in T], g.JumpOpVars[\"StorLevel\"][t]<=g.JumpInvVars[\"StorCap\"]);\n",
    "\n",
    "   \n",
    "    for t in T\n",
    "        \n",
    "        if t==1\n",
    "            JuMP.@constraint(EP,g.JumpOpVars[\"StorLevel\"][t]== (1-g.SelfDischarge)*g.JumpOpVars[\"StorLevel\"][T[end]] + g.EffUp*g.JumpOpVars[\"Charge\"][t] - 1/g.EffDn*g.JumpOpVars[\"Gen\"][t]);\n",
    "        else\n",
    "            JuMP.@constraint(EP,g.JumpOpVars[\"StorLevel\"][t]== (1-g.SelfDischarge)*g.JumpOpVars[\"StorLevel\"][t-1] + g.EffUp*g.JumpOpVars[\"Charge\"][t] - 1/g.EffDn*g.JumpOpVars[\"Gen\"][t]);\n",
    "        end\n",
    "        \n",
    "        EP[:eEnergyBalance][g.Commodity,g.Node,t] += g.JumpOpVars[\"Gen\"][t] - g.JumpOpVars[\"Charge\"][t];\n",
    "        \n",
    "    end\n",
    "\n",
    "    JuMP.@constraint(EP,[t in T], g.JumpOpVars[\"StorLevel\"][t]>=g.MinStorageLevel);\n",
    "   \n",
    "    EP[:eTotalCost] += g.InvCost_discharge*g.JumpInvVars[\"GenCap\"] + g.FOMCost_discharge*g.JumpInvVars[\"GenCap\"] + g.InvCost_storage*g.JumpInvVars[\"StorCap\"] + g.FOMCost_storage*g.JumpInvVars[\"StorCap\"] + sum(g.VOMCost_charge*g.JumpOpVars[\"Charge\"][t] for t in T) +  sum(g.VOMCost_discharge*g.JumpOpVars[\"Gen\"][t] for t in T);\n",
    "    \n",
    "end"
   ]
  },
  {
   "cell_type": "code",
   "execution_count": 21,
   "metadata": {},
   "outputs": [
    {
     "data": {
      "text/plain": [
       "add_transformation! (generic function with 1 method)"
      ]
     },
     "metadata": {},
     "output_type": "display_data"
    }
   ],
   "source": [
    "function add_transformation!(EP::JuMP.Model,g::Transformation,num_inv_vars::Int64,num_op_vars::Int64,T::Vector{Int64})\n",
    "\n",
    "    g.JumpInvVars[\"InputCap\"] = JuMP.@variable(EP,lower_bound=0,base_name=\"y[$(num_inv_vars+1)]\"); \n",
    "    g.JumpInvVars[\"OutputCap\"]  = JuMP.@variable(EP,lower_bound=0,base_name=\"y[$(num_inv_vars+2)]\"); \n",
    "    \n",
    "    g.JumpOpVars[\"Input\"] = Dict(t=>JuMP.@variable(EP,lower_bound=0,base_name=\"x[$(num_op_vars+1),$t]\") for t in T); \n",
    "    g.JumpOpVars[\"Output\"] = Dict(t=>JuMP.@variable(EP,lower_bound=0,base_name=\"x[$(num_op_vars+2),$t]\") for t in T);\n",
    "\n",
    "    JuMP.@constraint(EP, g.JumpInvVars[\"InputCap\"]>=g.MinCap)\n",
    "    JuMP.@constraint(EP, g.JumpInvVars[\"OutputCap\"]>=g.MinCap)\n",
    "    JuMP.@constraint(EP, g.JumpInvVars[\"InputCap\"]<=g.MaxCap)\n",
    "    JuMP.@constraint(EP, g.JumpInvVars[\"OutputCap\"]<=g.MaxCap)\n",
    "\n",
    "    JuMP.@constraint(EP,[t in T],g.JumpOpVars[\"Input\"][t]<=g.JumpInvVars[\"InputCap\"])\n",
    "    JuMP.@constraint(EP,[t in T],g.JumpOpVars[\"Output\"][t]<=g.JumpInvVars[\"OutputCap\"])\n",
    "\n",
    "    JuMP.@constraint(EP,[t in T],g.ConversionRate[g.CommodityIn]*g.JumpOpVars[\"Input\"][t] + g.ConversionRate[g.CommodityOut]*g.JumpOpVars[\"Output\"][t] == 0)\n",
    "\n",
    "    for t in T\n",
    "\n",
    "        EP[:eEnergyBalance][g.CommodityIn,g.NodeIn,t] -= g.JumpOpVars[\"Input\"][t];\n",
    "        \n",
    "        EP[:eEnergyBalance][g.CommodityOut,g.NodeOut,t] += g.JumpOpVars[\"Output\"][t];\n",
    "\n",
    "    end\n",
    "\n",
    "    EP[:eTotalCost] += g.InvCost*(g.JumpInvVars[\"InputCap\"] +  g.JumpInvVars[\"OutputCap\"]) + g.FOMCost*(g.JumpInvVars[\"InputCap\"] + g.JumpInvVars[\"OutputCap\"]) +  sum(g.VOMCost*g.JumpOpVars[\"Input\"][t] for t in T) + sum(g.VOMCost*g.JumpOpVars[\"Output\"][t] for t in T)\n",
    "\n",
    "end"
   ]
  },
  {
   "cell_type": "code",
   "execution_count": 18,
   "metadata": {},
   "outputs": [
    {
     "data": {
      "text/plain": [
       "add_edge! (generic function with 1 method)"
      ]
     },
     "metadata": {},
     "output_type": "display_data"
    }
   ],
   "source": [
    "function add_edge!(EP::JuMP.Model,e::Edge,num_inv_vars::Int64,num_op_vars::Int64,T::Vector{Int64})\n",
    "\n",
    "    e.JumpInvVars[\"FlowCap\"] = JuMP.@variable(EP,lower_bound=0,base_name=\"y[$(num_inv_vars+1)]\"); #flow capacity\n",
    "\n",
    "    JuMP.@constraint(EP,e.JumpInvVars[\"FlowCap\"]<=e.MaxCap)\n",
    "\n",
    "    JuMP.@constraint(EP,e.JumpInvVars[\"FlowCap\"]>=e.MinCap)\n",
    "\n",
    "    if e.Unidirectional\n",
    "        e.JumpOpVars[\"Flow\"] = Dict(t=>JuMP.@variable(EP,lower_bound=0,base_name=\"x[$(num_op_vars+1),$t]\") for t in T); #flow\n",
    "        JuMP.@constraint(EP,[t in T], e.JumpOpVars[\"Flow\"][t]<=e.JumpInvVars[\"FlowCap\"]);\n",
    "    else\n",
    "        e.JumpOpVars[\"Flow\"] = Dict(t=>JuMP.@variable(EP,base_name=\"x[$(num_op_vars+1),$t]\") for t in T); #flow\n",
    "        JuMP.@constraint(EP,[t in T], e.JumpOpVars[\"Flow\"][t]<=e.JumpInvVars[\"FlowCap\"]);\n",
    "        JuMP.@constraint(EP,[t in T], e.JumpOpVars[\"Flow\"][t]>=-e.JumpInvVars[\"FlowCap\"]);\n",
    "    end\n",
    "\n",
    "   \n",
    "    for t in T\n",
    "\n",
    "        EP[:eEnergyBalance][e.Commodity,e.Start,t] -= e.JumpOpVars[\"Flow\"][t];\n",
    "        \n",
    "        EP[:eEnergyBalance][e.Commodity,e.End,t] += e.JumpOpVars[\"Flow\"][t];\n",
    "\n",
    "    end\n",
    "\n",
    "    EP[:eTotalCost] += (e.InvCost + e.FOMCost)*e.JumpInvVars[\"FlowCap\"];\n",
    "\n",
    "end"
   ]
  },
  {
   "cell_type": "code",
   "execution_count": 19,
   "metadata": {},
   "outputs": [
    {
     "data": {
      "text/plain": [
       "Dict{String, Vector{Edge}} with 2 entries:\n",
       "  \"P\"  => [Edge(\"P\", 1, 3, false, 0.0, 100.0, 100.0, true, true, Dict{Any, Any}…\n",
       "  \"H2\" => [Edge(\"H2\", 1, 2, true, 0.0, 100.0, 100.0, true, true, Dict{Any, Any}…"
      ]
     },
     "metadata": {},
     "output_type": "display_data"
    }
   ],
   "source": [
    "network"
   ]
  },
  {
   "cell_type": "code",
   "execution_count": 97,
   "metadata": {},
   "outputs": [
    {
     "name": "stdout",
     "output_type": "stream",
     "text": [
      "Edge(\"P\", (1, 3), false, 0.0, 100.0, 100.0, true, true, Dict{Any, Any}(), Dict{Any, Any}(), 0.0, 0.0, 0.0)\n",
      "Edge(\"P\", (2, 3), false, 0.0, 100.0, 100.0, true, true, Dict{Any, Any}(), Dict{Any, Any}(), 0.0, 0.0, 0.0)\n"
     ]
    }
   ],
   "source": [
    "for v in network[\"P\"]\n",
    "    println(v)\n",
    "end"
   ]
  },
  {
   "cell_type": "code",
   "execution_count": 22,
   "metadata": {},
   "outputs": [],
   "source": [
    "EP = JuMP.Model(HiGHS.Optimizer);\n",
    "JuMP.@variable(EP,vZERO==1);\n",
    "@expression(EP,eEnergyBalance[c in keys(demand_map),n in keys(demand_map[c]),t in time_domain_map[c]],0*EP[:vZERO]);\n",
    "@expression(EP,eTotalCost,0*EP[:vZERO]);\n",
    "\n",
    "num_inv_vars = 0;\n",
    "num_op_vars = 0;\n",
    "\n",
    "for c in keys(technology_map)\n",
    "    for n in keys(technology_map[c])\n",
    "        for g in technology_map[c][n]\n",
    "            if typeof(g)==Resource\n",
    "                add_resource!(EP,g,num_inv_vars,num_op_vars,time_domain_map[c])\n",
    "                num_inv_vars=num_inv_vars+1;\n",
    "                num_op_vars=num_op_vars+1;\n",
    "            elseif typeof(g)==Storage\n",
    "                add_storage!(EP,g,num_inv_vars,num_op_vars,time_domain_map[c])\n",
    "                num_inv_vars=num_inv_vars+2;\n",
    "                num_op_vars=num_op_vars+3;\n",
    "            end\n",
    "        end\n",
    "    end\n",
    "end \n",
    "for c in keys(network)\n",
    "    for v in network[c]\n",
    "        add_edge!(EP,v,num_inv_vars,num_op_vars,time_domain_map[c])\n",
    "        num_inv_vars=num_inv_vars+1;\n",
    "        num_op_vars=num_op_vars+1;\n",
    "    end\n",
    "end\n",
    "\n",
    "add_transformation!(EP,ElectrolyzerTransform_1,num_inv_vars,num_op_vars,time_domain_map[\"P\"])\n",
    "add_transformation!(EP,ElectrolyzerTransform_2,num_inv_vars,num_op_vars,time_domain_map[\"P\"])\n",
    "add_transformation!(EP,ElectrolyzerTransform_3,num_inv_vars,num_op_vars,time_domain_map[\"P\"])\n",
    "num_inv_vars=num_inv_vars+6;\n",
    "num_op_vars=num_op_vars+6;\n",
    "\n",
    "JuMP.@variable(EP,vNSE[c in keys(demand_map), n in keys(demand_map[c]),t in time_domain_map[c]]>=0)\n",
    "JuMP.@constraint(EP,[c in keys(demand_map), n in keys(demand_map[c]),t in time_domain_map[c]], eEnergyBalance[c,n,t] == demand_map[c][n].TimeSeries[t] + vNSE[c,n,t]);\n",
    "@objective(EP,Min,EP[:eTotalCost]+sum(VOLL[c]*sum(sum(vNSE[c,n,t] for t in time_domain_map[c]) for n in keys(demand_map[c])) for c in keys(demand_map)));"
   ]
  },
  {
   "cell_type": "code",
   "execution_count": 23,
   "metadata": {},
   "outputs": [
    {
     "name": "stdout",
     "output_type": "stream",
     "text": [
      "Running HiGHS 1.5.3 [date: 1970-01-01, git hash: 45a127b78]\n",
      "Copyright (c) 2023 HiGHS under MIT licence terms\n",
      "Presolving model\n",
      "300 rows, 298 cols, 860 nonzeros\n",
      "290 rows, 278 cols, 830 nonzeros\n",
      "Presolve : Reductions: rows 290(-168); columns 278(-55); elements 830(-278)\n",
      "Solving the presolved LP\n",
      "Using EKK dual simplex solver - serial\n",
      "  Iteration        Objective     Infeasibilities num(sum)\n",
      "          0    -2.7710973026e-04 Pr: 60(3534.52) 0s\n",
      "        246     4.8338803920e+06 Pr: 0(0); Du: 0(3.05102e-10) 0s\n",
      "Solving the original LP from the solution after postsolve\n",
      "JuMP.Model   status      : Optimal\n",
      "Simplex   iterations: 246\n",
      "Objective value     :  4.8338803920e+06\n",
      "HiGHS run time      :          0.02\n"
     ]
    }
   ],
   "source": [
    "optimize!(EP)"
   ]
  }
 ],
 "metadata": {
  "kernelspec": {
   "display_name": "Julia 1.9.2",
   "language": "julia",
   "name": "julia-1.9"
  },
  "language_info": {
   "file_extension": ".jl",
   "mimetype": "application/julia",
   "name": "julia",
   "version": "1.9.2"
  }
 },
 "nbformat": 4,
 "nbformat_minor": 2
}
