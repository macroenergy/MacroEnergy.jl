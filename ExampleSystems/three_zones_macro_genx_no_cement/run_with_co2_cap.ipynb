{
 "cells": [
  {
   "cell_type": "code",
   "execution_count": 1,
   "metadata": {},
   "outputs": [
    {
     "name": "stderr",
     "output_type": "stream",
     "text": [
      "\u001b[32m\u001b[1m  Activating\u001b[22m\u001b[39m project at `~/Macro`\n"
     ]
    }
   ],
   "source": [
    "using Pkg\n",
    "using Revise\n",
    "Pkg.activate(dirname(dirname(@__DIR__)))\n",
    "using Macro\n",
    "using Gurobi\n",
    "using Plots\n",
    "using DataFrames, CSV\n",
    "using BenchmarkTools\n",
    "using JuMP"
   ]
  },
  {
   "cell_type": "code",
   "execution_count": 2,
   "metadata": {},
   "outputs": [
    {
     "name": "stdout",
     "output_type": "stream",
     "text": [
      "###### ###### ######\n",
      "Running case at /home/al3792/Macro/ExampleSystems/three_zones_macro_genx_no_cement\n"
     ]
    },
    {
     "name": "stderr",
     "output_type": "stream",
     "text": [
      "┌ Info: Loading JSON data from /home/al3792/Macro/ExampleSystems/three_zones_macro_genx_no_cement/system_data.json\n",
      "└ @ Macro /home/al3792/Macro/src/load_inputs/load_macroobject.jl:135\n",
      "┌ Info: Loading JSON data from /home/al3792/Macro/ExampleSystems/three_zones_macro_genx_no_cement/system_data.json\n",
      "└ @ Macro /home/al3792/Macro/src/load_inputs/load_macroobject.jl:135\n",
      "┌ Info: Loading JSON data from system/nodes.json\n",
      "└ @ Macro /home/al3792/Macro/src/load_inputs/load_macroobject.jl:135\n",
      "┌ Info: Loading CSV data from system/demand.csv\n",
      "└ @ Macro /home/al3792/Macro/src/load_inputs/file_io/csv.jl:12\n",
      "┌ Info: Loading CSV data from system/demand.csv\n",
      "└ @ Macro /home/al3792/Macro/src/load_inputs/file_io/csv.jl:14\n",
      "┌ Info: Loading JSON data from assets/power_lines.json\n",
      "└ @ Macro /home/al3792/Macro/src/load_inputs/load_macroobject.jl:135\n",
      "┌ Info: Loading JSON data from assets/storage.json\n",
      "└ @ Macro /home/al3792/Macro/src/load_inputs/load_macroobject.jl:135\n",
      "┌ Info: Loading JSON data from assets/thermal.json\n",
      "└ @ Macro /home/al3792/Macro/src/load_inputs/load_macroobject.jl:135\n",
      "┌ Info: Loading CSV data from assets/fuel_prices.csv\n",
      "└ @ Macro /home/al3792/Macro/src/load_inputs/file_io/csv.jl:12\n",
      "┌ Info: Loading CSV data from assets/fuel_prices.csv\n",
      "└ @ Macro /home/al3792/Macro/src/load_inputs/file_io/csv.jl:14\n",
      "┌ Info: Loading JSON data from assets/vre.json\n",
      "└ @ Macro /home/al3792/Macro/src/load_inputs/load_macroobject.jl:135\n",
      "┌ Info: Loading CSV data from assets/availability.csv\n",
      "└ @ Macro /home/al3792/Macro/src/load_inputs/file_io/csv.jl:12\n",
      "┌ Info: Loading CSV data from assets/availability.csv\n",
      "└ @ Macro /home/al3792/Macro/src/load_inputs/file_io/csv.jl:14\n",
      "┌ Info: Loading CSV data from assets/availability.csv\n",
      "└ @ Macro /home/al3792/Macro/src/load_inputs/file_io/csv.jl:12\n"
     ]
    },
    {
     "name": "stdout",
     "output_type": "stream",
     "text": [
      "system.settings.Scaling = false"
     ]
    },
    {
     "name": "stderr",
     "output_type": "stream",
     "text": [
      "┌ Info: Loading CSV data from assets/availability.csv\n",
      "└ @ Macro /home/al3792/Macro/src/load_inputs/file_io/csv.jl:14\n"
     ]
    },
    {
     "name": "stdout",
     "output_type": "stream",
     "text": [
      "\n"
     ]
    },
    {
     "name": "stderr",
     "output_type": "stream",
     "text": [
      "┌ Info: Starting model generation\n",
      "└ @ Macro /home/al3792/Macro/src/generate_model.jl:3\n",
      "┌ Info: Adding linking variables\n",
      "└ @ Macro /home/al3792/Macro/src/generate_model.jl:17\n",
      "┌ Info: Defining available capacity\n",
      "└ @ Macro /home/al3792/Macro/src/generate_model.jl:20\n",
      "┌ Info: Generating planning model\n",
      "└ @ Macro /home/al3792/Macro/src/generate_model.jl:23\n",
      "┌ Info: Generating operational model\n",
      "└ @ Macro /home/al3792/Macro/src/generate_model.jl:26\n",
      "┌ Info: Model generation complete, it took 18.825639009475708 seconds\n",
      "└ @ Macro /home/al3792/Macro/src/generate_model.jl:31\n"
     ]
    },
    {
     "name": "stdout",
     "output_type": "stream",
     "text": [
      "Set parameter LicenseID to value 197246\n",
      "Set parameter GURO_PAR_SPECIAL\n",
      "Set parameter TokenServer to value \"license.rc.princeton.edu\"\n",
      "Set parameter BarConvTol to value 0.001\n",
      "Set parameter Crossover to value 0\n",
      "Set parameter Method to value 2\n",
      "Set parameter Method to value 2\n",
      "Set parameter Crossover to value 0\n",
      "Set parameter BarConvTol to value 0.001\n",
      "Gurobi Optimizer version 11.0.3 build v11.0.3rc0 (linux64 - \"Red Hat Enterprise Linux 8.10 (Ootpa)\")\n",
      "\n",
      "CPU model: Intel(R) Xeon(R) Gold 6246R CPU @ 3.40GHz, instruction set [SSE2|AVX|AVX2|AVX512]\n",
      "Thread count: 32 physical cores, 32 logical processors, using up to 32 threads\n",
      "\n",
      "Optimize a model with 648263 rows, 394234 columns and 2311593 nonzeros\n",
      "Model fingerprint: 0x350420bf\n",
      "Coefficient statistics:\n",
      "  Matrix range     [4e-07, 2e+04]\n",
      "  Objective range  [1e-01, 2e+07]\n",
      "  Bounds range     [1e+00, 1e+00]\n",
      "  RHS range        [2e+00, 2e+04]\n",
      "Presolve removed 166996 rows and 61875 columns\n",
      "Presolve time: 1.08s\n",
      "Presolved: 481267 rows, 332359 columns, 1943112 nonzeros\n",
      "Ordering time: 0.47s\n",
      "\n",
      "Barrier statistics:\n",
      " Dense cols : 15\n",
      " AA' NZ     : 4.291e+06\n",
      " Factor NZ  : 1.353e+07 (roughly 400 MB of memory)\n",
      " Factor Ops : 7.812e+08 (less than 1 second per iteration)\n",
      " Threads    : 32\n",
      "\n",
      "                  Objective                Residual\n",
      "Iter       Primal          Dual         Primal    Dual     Compl     Time\n",
      "   0   6.02760034e+14 -3.88454102e+12  6.86e+07 3.56e+05  1.12e+11     2s\n",
      "   1   5.10243548e+14 -7.03348289e+13  5.89e+07 3.54e+06  7.71e+10     3s\n",
      "   2   4.39364685e+14 -1.13861659e+14  5.10e+07 2.46e+06  6.38e+10     3s\n",
      "   3   2.01834055e+14 -2.60056426e+14  2.39e+07 6.44e+05  2.81e+10     4s\n",
      "   4   3.47669229e+13 -2.35548788e+14  3.29e+06 1.39e+05  4.49e+09     4s\n",
      "   5   1.07531675e+13 -1.20378922e+14  3.35e+05 3.29e+04  6.93e+08     5s\n",
      "   6   6.00065274e+12 -2.29499151e+13  2.70e+04 4.30e+03  8.64e+07     5s\n",
      "   7   3.33374347e+12 -9.55389610e+12  5.78e+03 1.56e+03  3.03e+07     5s\n",
      "   8   2.17117687e+12 -3.53666124e+12  3.03e+03 5.24e+02  1.19e+07     6s\n",
      "   9   9.88467729e+11 -1.07248543e+12  9.02e+02 1.26e+02  3.56e+06     6s\n",
      "  10   6.03343882e+11 -5.49400783e+11  4.67e+02 6.32e+01  1.85e+06     7s\n",
      "  11   3.84363327e+11 -3.60406339e+11  2.72e+02 4.15e+01  1.13e+06     7s\n",
      "  12   2.74786596e+11 -2.37233508e+11  1.78e+02 2.80e+01  7.47e+05     8s\n",
      "  13   2.11389513e+11 -1.50774681e+11  1.29e+02 1.84e+01  5.07e+05     8s\n",
      "  14   1.73034443e+11 -9.91533414e+10  1.02e+02 1.19e+01  3.68e+05     9s\n",
      "  15   1.41451805e+11 -6.08916154e+10  8.06e+01 7.43e+00  2.65e+05     9s\n",
      "  16   1.10744805e+11 -1.51810442e+10  5.99e+01 2.68e+00  1.58e+05     9s\n",
      "  17   8.05843553e+10 -4.42050023e+09  3.87e+01 1.80e+00  1.06e+05    10s\n",
      "  18   6.17019695e+10 -2.01343706e+09  2.67e+01 1.57e+00  7.95e+04    11s\n",
      "  19   6.00748015e+10  2.10058504e+08  2.58e+01 1.37e+00  7.44e+04    11s\n",
      "  20   5.89278045e+10  6.92270788e+08  2.51e+01 1.32e+00  7.23e+04    12s\n",
      "  21   5.57212389e+10  2.11181627e+09  2.32e+01 1.18e+00  6.63e+04    12s\n",
      "  22   4.92700826e+10  4.98963142e+09  1.93e+01 9.03e-01  5.45e+04    13s\n",
      "  23   4.68158174e+10  5.14785946e+09  1.79e+01 8.93e-01  5.13e+04    13s\n",
      "  24   4.18203316e+10  9.28456771e+09  1.50e+01 5.69e-01  3.97e+04    14s\n",
      "  25   3.75840451e+10  1.13376045e+10  1.22e+01 4.34e-01  3.20e+04    15s\n",
      "  26   3.57198839e+10  1.17319926e+10  1.11e+01 4.07e-01  2.92e+04    16s\n",
      "  27   3.20495002e+10  1.27062101e+10  8.66e+00 3.47e-01  2.36e+04    16s\n",
      "  28   2.98939321e+10  1.40098573e+10  7.21e+00 2.82e-01  1.93e+04    17s\n",
      "  29   2.85232322e+10  1.45756580e+10  6.26e+00 2.54e-01  1.70e+04    17s\n",
      "  30   2.82882488e+10  1.49084516e+10  6.08e+00 2.38e-01  1.63e+04    17s\n",
      "  31   2.67687894e+10  1.61051824e+10  4.94e+00 1.83e-01  1.29e+04    18s\n",
      "  32   2.44938187e+10  1.68923290e+10  3.25e+00 1.47e-01  9.24e+03    19s\n",
      "  33   2.40179256e+10  1.71769363e+10  2.97e+00 1.26e-01  8.31e+03    20s\n",
      "  34   2.37793679e+10  1.77370003e+10  2.82e+00 9.18e-02  7.31e+03    21s\n",
      "  35   2.31702341e+10  1.79649110e+10  2.46e+00 7.76e-02  6.30e+03    21s\n",
      "  36   2.26602008e+10  1.82501168e+10  2.15e+00 5.82e-02  5.33e+03    22s\n",
      "  37   2.22076919e+10  1.83537116e+10  1.88e+00 5.15e-02  4.66e+03    22s\n",
      "  38   2.17512844e+10  1.84431287e+10  1.61e+00 4.60e-02  4.00e+03    23s\n",
      "  39   2.15227857e+10  1.85743122e+10  1.46e+00 3.89e-02  3.56e+03    24s\n",
      "  40   2.13486516e+10  1.86247788e+10  1.35e+00 3.64e-02  3.29e+03    24s\n",
      "  41   2.12025461e+10  1.87169318e+10  1.25e+00 3.18e-02  3.00e+03    25s\n",
      "  42   2.09855448e+10  1.88485420e+10  1.10e+00 2.57e-02  2.58e+03    25s\n",
      "  43   2.07673146e+10  1.90079061e+10  9.47e-01 1.88e-02  2.12e+03    26s\n",
      "  44   2.05938114e+10  1.91762047e+10  8.05e-01 1.28e-02  1.71e+03    27s\n",
      "  45   2.05154829e+10  1.92402799e+10  7.31e-01 1.11e-02  1.53e+03    27s\n",
      "  46   2.04259454e+10  1.92660128e+10  6.56e-01 1.04e-02  1.39e+03    28s\n",
      "  47   2.04092513e+10  1.92865021e+10  6.41e-01 9.90e-03  1.35e+03    29s\n",
      "  48   2.02813382e+10  1.93478504e+10  5.32e-01 8.45e-03  1.12e+03    29s\n",
      "  49   2.02525185e+10  1.93674921e+10  5.11e-01 7.70e-03  1.06e+03    31s\n",
      "  50   2.02400765e+10  1.93819216e+10  5.03e-01 7.16e-03  1.03e+03    31s\n",
      "  51   2.02195452e+10  1.93934783e+10  4.87e-01 6.78e-03  9.93e+02    32s\n",
      "  52   2.01723965e+10  1.94132016e+10  4.40e-01 6.53e-03  9.13e+02    33s\n",
      "  53   2.01336716e+10  1.94395693e+10  4.04e-01 5.98e-03  8.34e+02    33s\n",
      "  54   2.00446655e+10  1.95336190e+10  3.15e-01 4.01e-03  6.14e+02    34s\n",
      "  55   1.99800476e+10  1.96008224e+10  2.46e-01 2.42e-03  4.55e+02    34s\n",
      "  56   1.99522646e+10  1.96502019e+10  2.19e-01 1.50e-03  3.62e+02    35s\n",
      "  57   1.98467465e+10  1.96694870e+10  1.15e-01 1.01e-03  2.13e+02    36s\n",
      "  58   1.98112208e+10  1.96854381e+10  8.04e-02 6.99e-04  1.51e+02    36s\n",
      "  59   1.97996776e+10  1.96940774e+10  6.95e-02 5.56e-04  1.27e+02    37s\n",
      "  60   1.97642518e+10  1.96987807e+10  3.73e-02 4.79e-04  7.87e+01    38s\n",
      "  61   1.97568519e+10  1.97123788e+10  3.02e-02 2.55e-04  5.34e+01    38s\n",
      "  62   1.97438589e+10  1.97174579e+10  1.66e-02 1.62e-04  3.17e+01    40s\n",
      "  63   1.97347279e+10  1.97240138e+10  7.17e-03 4.18e-05  1.28e+01    40s\n",
      "  64   1.97315383e+10  1.97256173e+10  3.95e-03 2.04e-05  7.09e+00    41s\n",
      "\n",
      "Barrier solved model in 64 iterations and 40.81 seconds (17.84 work units)\n",
      "Optimal objective 1.97315383e+10\n",
      "\n",
      "\n",
      "User-callback calls 2679, time in user-callback 0.01 sec\n"
     ]
    }
   ],
   "source": [
    "case_path = @__DIR__\n",
    "println(\"###### ###### ######\")\n",
    "println(\"Running case at $(case_path)\")\n",
    "\n",
    "system = Macro.load_system(case_path)\n",
    "\n",
    "model = Macro.generate_model(system)\n",
    "\n",
    "Macro.set_optimizer(model, Gurobi.Optimizer);\n",
    "\n",
    "Macro.set_optimizer_attributes(model, \"BarConvTol\"=>1e-3,\"Crossover\" => 0, \"Method\" => 2)\n",
    "\n",
    "Macro.optimize!(model)"
   ]
  },
  {
   "cell_type": "code",
   "execution_count": 3,
   "metadata": {},
   "outputs": [
    {
     "name": "stdout",
     "output_type": "stream",
     "text": [
      "wrote results\n"
     ]
    }
   ],
   "source": [
    "case = \"capacity_with_co2_cap\"\n",
    "\n",
    "capacity_results = Macro.get_optimal_asset_capacity(system)\n",
    "results_dir = joinpath(case_path, \"results\")\n",
    "mkpath(results_dir)\n",
    "Macro.write_csv(joinpath(results_dir, case * \"_capacity.csv\"), capacity_results)\n",
    "println(\"wrote results\")"
   ]
  },
  {
   "cell_type": "code",
   "execution_count": 5,
   "metadata": {},
   "outputs": [
    {
     "name": "stderr",
     "output_type": "stream",
     "text": [
      "┌ Warning: The addition operator has been used on JuMP expressions a large number of times. This warning is safe to ignore but may indicate that model generation is slower than necessary. For performance reasons, you should not add expressions in a loop. Instead of x += y, use add_to_expression!(x,y) to modify x in place. If y is a single variable, you may also use add_to_expression!(x, coef, y) for x += coef*y.\n",
      "└ @ JuMP /home/al3792/.julia/packages/JuMP/i68GU/src/operators.jl:282\n"
     ]
    },
    {
     "data": {
      "text/plain": [
       "\"/home/al3792/Macro/ExampleSystems/three_zones_macro_genx_no_cement/results/capacity_with_co2_cap_co2_emissions.csv\""
      ]
     },
     "metadata": {},
     "output_type": "display_data"
    }
   ],
   "source": [
    "co2_nodes = Macro.get_nodes_sametype(system.locations, CO2)\n",
    "\n",
    "total_co2_emissions_df = DataFrame(\n",
    "    node_1_emissions = Macro.value(sum(co2_nodes[1].operation_expr[:emissions])),\n",
    "    node_2_emissions = Macro.value(sum(co2_nodes[2].operation_expr[:emissions])),\n",
    "    node_3_emissions = Macro.value(sum(co2_nodes[3].operation_expr[:emissions]))\n",
    ")\n",
    "Macro.write_csv(joinpath(results_dir, case * \"_co2_emissions.csv\"), total_co2_emissions_df)"
   ]
  },
  {
   "cell_type": "code",
   "execution_count": 6,
   "metadata": {},
   "outputs": [
    {
     "data": {
      "text/html": [
       "<div><div style = \"float: left;\"><span>1×3 DataFrame</span></div><div style = \"clear: both;\"></div></div><div class = \"data-frame\" style = \"overflow-x: scroll;\"><table class = \"data-frame\" style = \"margin-bottom: 6px;\"><thead><tr class = \"header\"><th class = \"rowNumber\" style = \"font-weight: bold; text-align: right;\">Row</th><th style = \"text-align: left;\">node_1_emissions</th><th style = \"text-align: left;\">node_2_emissions</th><th style = \"text-align: left;\">node_3_emissions</th></tr><tr class = \"subheader headerLastRow\"><th class = \"rowNumber\" style = \"font-weight: bold; text-align: right;\"></th><th title = \"Float64\" style = \"text-align: left;\">Float64</th><th title = \"Float64\" style = \"text-align: left;\">Float64</th><th title = \"Float64\" style = \"text-align: left;\">Float64</th></tr></thead><tbody><tr><td class = \"rowNumber\" style = \"font-weight: bold; text-align: right;\">1</td><td style = \"text-align: right;\">18000.0</td><td style = \"text-align: right;\">25000.0</td><td style = \"text-align: right;\">25000.0</td></tr></tbody></table></div>"
      ],
      "text/latex": [
       "\\begin{tabular}{r|ccc}\n",
       "\t& node\\_1\\_emissions & node\\_2\\_emissions & node\\_3\\_emissions\\\\\n",
       "\t\\hline\n",
       "\t& Float64 & Float64 & Float64\\\\\n",
       "\t\\hline\n",
       "\t1 & 18000.0 & 25000.0 & 25000.0 \\\\\n",
       "\\end{tabular}\n"
      ],
      "text/plain": [
       "\u001b[1m1×3 DataFrame\u001b[0m\n",
       "\u001b[1m Row \u001b[0m│\u001b[1m node_1_emissions \u001b[0m\u001b[1m node_2_emissions \u001b[0m\u001b[1m node_3_emissions \u001b[0m\n",
       "     │\u001b[90m Float64          \u001b[0m\u001b[90m Float64          \u001b[0m\u001b[90m Float64          \u001b[0m\n",
       "─────┼──────────────────────────────────────────────────────\n",
       "   1 │          18000.0           25000.0           25000.0"
      ]
     },
     "metadata": {},
     "output_type": "display_data"
    }
   ],
   "source": [
    "total_co2_emissions_df"
   ]
  },
  {
   "cell_type": "code",
   "execution_count": null,
   "metadata": {},
   "outputs": [],
   "source": []
  }
 ],
 "metadata": {
  "kernelspec": {
   "display_name": "Julia 1.11.1",
   "language": "julia",
   "name": "julia-1.11"
  },
  "language_info": {
   "file_extension": ".jl",
   "mimetype": "application/julia",
   "name": "julia",
   "version": "1.11.1"
  }
 },
 "nbformat": 4,
 "nbformat_minor": 2
}
