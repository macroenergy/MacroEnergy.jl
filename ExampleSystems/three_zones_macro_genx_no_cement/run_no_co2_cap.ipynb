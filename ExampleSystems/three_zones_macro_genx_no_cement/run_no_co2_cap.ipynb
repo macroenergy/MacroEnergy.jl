{
 "cells": [
  {
   "cell_type": "code",
   "execution_count": 2,
   "metadata": {},
   "outputs": [
    {
     "name": "stderr",
     "output_type": "stream",
     "text": [
      "\u001b[32m\u001b[1m  Activating\u001b[22m\u001b[39m project at `~/Macro`\n"
     ]
    }
   ],
   "source": [
    "using Pkg\n",
    "using Revise\n",
    "Pkg.activate(dirname(dirname(@__DIR__)))\n",
    "using Macro\n",
    "using Gurobi\n",
    "using Plots\n",
    "using DataFrames, CSV\n",
    "using BenchmarkTools\n",
    "using JuMP"
   ]
  },
  {
   "cell_type": "code",
   "execution_count": 3,
   "metadata": {},
   "outputs": [
    {
     "name": "stdout",
     "output_type": "stream",
     "text": [
      "###### ###### ######\n",
      "Running case at /home/al3792/Macro/ExampleSystems/three_zones_macro_genx_no_cement\n"
     ]
    },
    {
     "name": "stderr",
     "output_type": "stream",
     "text": [
      "┌ Info: Loading JSON data from /home/al3792/Macro/ExampleSystems/three_zones_macro_genx_no_cement/system_data.json\n",
      "└ @ Macro /home/al3792/Macro/src/load_inputs/load_macroobject.jl:135\n",
      "┌ Info: Loading JSON data from /home/al3792/Macro/ExampleSystems/three_zones_macro_genx_no_cement/system_data.json\n",
      "└ @ Macro /home/al3792/Macro/src/load_inputs/load_macroobject.jl:135\n",
      "┌ Info: Loading JSON data from system/nodes.json\n",
      "└ @ Macro /home/al3792/Macro/src/load_inputs/load_macroobject.jl:135\n",
      "┌ Info: Loading CSV data from system/demand.csv\n",
      "└ @ Macro /home/al3792/Macro/src/load_inputs/file_io/csv.jl:12\n",
      "┌ Info: Loading CSV data from system/demand.csv\n",
      "└ @ Macro /home/al3792/Macro/src/load_inputs/file_io/csv.jl:14\n",
      "┌ Info: Loading JSON data from assets/power_lines.json\n",
      "└ @ Macro /home/al3792/Macro/src/load_inputs/load_macroobject.jl:135\n",
      "┌ Info: Loading JSON data from assets/storage.json\n",
      "└ @ Macro /home/al3792/Macro/src/load_inputs/load_macroobject.jl:135\n",
      "┌ Info: Loading JSON data from assets/thermal.json\n",
      "└ @ Macro /home/al3792/Macro/src/load_inputs/load_macroobject.jl:135\n",
      "┌ Info: Loading CSV data from assets/fuel_prices.csv\n",
      "└ @ Macro /home/al3792/Macro/src/load_inputs/file_io/csv.jl:12\n",
      "┌ Info: Loading CSV data from assets/fuel_prices.csv\n",
      "└ @ Macro /home/al3792/Macro/src/load_inputs/file_io/csv.jl:14\n",
      "┌ Info: Loading JSON data from assets/vre.json\n",
      "└ @ Macro /home/al3792/Macro/src/load_inputs/load_macroobject.jl:135\n",
      "┌ Info: Loading CSV data from assets/availability.csv\n",
      "└ @ Macro /home/al3792/Macro/src/load_inputs/file_io/csv.jl:12\n",
      "┌ Info: Loading CSV data from assets/availability.csv\n",
      "└ @ Macro /home/al3792/Macro/src/load_inputs/file_io/csv.jl:14\n",
      "┌ Info: Loading CSV data from assets/availability.csv\n",
      "└ @ Macro /home/al3792/Macro/src/load_inputs/file_io/csv.jl:12\n"
     ]
    },
    {
     "name": "stdout",
     "output_type": "stream",
     "text": [
      "system.settings.Scaling = false"
     ]
    },
    {
     "name": "stderr",
     "output_type": "stream",
     "text": [
      "┌ Info: Loading CSV data from assets/availability.csv\n",
      "└ @ Macro /home/al3792/Macro/src/load_inputs/file_io/csv.jl:14\n"
     ]
    },
    {
     "name": "stdout",
     "output_type": "stream",
     "text": [
      "\n"
     ]
    },
    {
     "name": "stderr",
     "output_type": "stream",
     "text": [
      "┌ Info: Starting model generation\n",
      "└ @ Macro /home/al3792/Macro/src/generate_model.jl:3\n",
      "┌ Info: Adding linking variables\n",
      "└ @ Macro /home/al3792/Macro/src/generate_model.jl:17\n",
      "┌ Info: Defining available capacity\n",
      "└ @ Macro /home/al3792/Macro/src/generate_model.jl:20\n",
      "┌ Info: Generating planning model\n",
      "└ @ Macro /home/al3792/Macro/src/generate_model.jl:23\n",
      "┌ Info: Generating operational model\n",
      "└ @ Macro /home/al3792/Macro/src/generate_model.jl:26\n",
      "┌ Info: Model generation complete, it took 17.675588130950928 seconds\n",
      "└ @ Macro /home/al3792/Macro/src/generate_model.jl:31\n"
     ]
    },
    {
     "name": "stdout",
     "output_type": "stream",
     "text": [
      "Set parameter LicenseID to value 197246\n",
      "Set parameter GURO_PAR_SPECIAL\n",
      "Set parameter TokenServer to value \"license.rc.princeton.edu\"\n",
      "Set parameter BarConvTol to value 0.001\n",
      "Set parameter Crossover to value 0\n",
      "Set parameter Method to value 2\n",
      "Set parameter Method to value 2\n",
      "Set parameter Crossover to value 0\n",
      "Set parameter BarConvTol to value 0.001\n",
      "Gurobi Optimizer version 11.0.3 build v11.0.3rc0 (linux64 - \"Red Hat Enterprise Linux 8.10 (Ootpa)\")\n",
      "\n",
      "CPU model: Intel(R) Xeon(R) Gold 6246R CPU @ 3.40GHz, instruction set [SSE2|AVX|AVX2|AVX512]\n",
      "Thread count: 32 physical cores, 32 logical processors, using up to 32 threads\n",
      "\n",
      "Optimize a model with 648257 rows, 394231 columns and 2285307 nonzeros\n",
      "Model fingerprint: 0xec24e63c\n",
      "Coefficient statistics:\n",
      "  Matrix range     [4e-07, 2e+04]\n",
      "  Objective range  [1e-01, 2e+07]\n",
      "  Bounds range     [1e+00, 1e+00]\n",
      "  RHS range        [2e+00, 2e+04]\n",
      "Presolve removed 167078 rows and 61957 columns\n",
      "Presolve time: 0.81s\n",
      "Presolved: 481179 rows, 332274 columns, 1760002 nonzeros\n",
      "Ordering time: 0.41s\n",
      "\n",
      "Barrier statistics:\n",
      " Dense cols : 15\n",
      " AA' NZ     : 3.320e+06\n",
      " Factor NZ  : 1.390e+07 (roughly 440 MB of memory)\n",
      " Factor Ops : 9.504e+08 (less than 1 second per iteration)\n",
      " Threads    : 32\n",
      "\n",
      "                  Objective                Residual\n",
      "Iter       Primal          Dual         Primal    Dual     Compl     Time\n",
      "   0   3.92745961e+14 -3.21132053e+12  1.75e+05 1.42e+05  7.11e+10     2s\n",
      "   1   3.22696086e+14 -8.10541363e+13  1.49e+05 7.67e+05  4.17e+10     3s\n",
      "   2   2.71352251e+14 -1.14606497e+14  1.27e+05 4.11e+05  3.28e+10     3s\n",
      "   3   4.04163332e+13 -1.55709874e+14  2.31e+04 1.70e+05  7.89e+09     4s\n",
      "   4   1.12754252e+13 -1.39944559e+14  3.93e+03 4.79e+04  1.91e+09     4s\n",
      "   5   6.09842269e+12 -5.84018315e+13  6.71e+02 1.14e+04  4.56e+08     4s\n",
      "   6   3.69395472e+12 -1.08821618e+13  7.78e+01 1.13e+03  5.41e+07     5s\n",
      "   7   1.24333082e+12 -4.56716087e+12  2.00e+00 4.36e+02  1.83e+07     5s\n",
      "   8   7.32089350e+11 -7.44045448e+11  3.17e-01 6.12e+01  3.36e+06     6s\n",
      "   9   2.52732800e+11 -1.01123967e+11  1.88e-02 7.11e+00  5.79e+05     6s\n",
      "  10   4.82237082e+10 -1.38087148e+10  1.31e-03 6.33e-01  7.92e+04     7s\n",
      "  11   1.45898946e+10 -6.30725997e+09  3.57e-04 2.17e-01  2.54e+04     7s\n",
      "  12   7.51744148e+09 -3.06617191e+09  1.66e-04 6.96e-02  1.27e+04     7s\n",
      "  13   5.23652803e+09 -4.72190673e+08  1.00e-04 1.16e-10  6.84e+03     8s\n",
      "  14   4.19982724e+09  7.41577556e+08  7.11e-05 2.76e-10  4.13e+03     8s\n",
      "  15   3.69129296e+09  9.35085868e+08  5.41e-05 2.40e-10  3.29e+03     9s\n",
      "  16   3.65140551e+09  9.90025957e+08  5.25e-05 1.75e-10  3.18e+03     9s\n",
      "  17   3.53002387e+09  1.03581458e+09  4.75e-05 1.67e-10  2.98e+03    10s\n",
      "  18   3.36968046e+09  1.15680133e+09  4.21e-05 1.75e-10  2.64e+03    10s\n",
      "  19   2.98742803e+09  1.65768228e+09  2.74e-05 1.16e-10  1.59e+03    11s\n",
      "  20   2.83541515e+09  1.83901210e+09  2.20e-05 1.16e-10  1.19e+03    12s\n",
      "  21   2.67505062e+09  1.94267713e+09  1.60e-05 1.75e-10  8.73e+02    12s\n",
      "  22   2.54880090e+09  1.97299556e+09  1.14e-05 1.16e-10  6.86e+02    13s\n",
      "  23   2.49092675e+09  2.02199237e+09  9.46e-06 1.16e-10  5.59e+02    13s\n",
      "  24   2.45467077e+09  2.07409362e+09  8.30e-06 1.16e-10  4.54e+02    14s\n",
      "  25   2.38742885e+09  2.09773286e+09  5.82e-06 1.16e-10  3.45e+02    15s\n",
      "  26   2.36667349e+09  2.15724851e+09  5.20e-06 1.35e-10  2.50e+02    15s\n",
      "  27   2.34197685e+09  2.17332898e+09  3.19e-04 1.60e-10  2.01e+02    16s\n",
      "  28   2.33012843e+09  2.17958383e+09  8.14e-04 1.58e-10  1.79e+02    17s\n",
      "  29   2.32122370e+09  2.18237598e+09  1.11e-03 1.36e-10  1.65e+02    18s\n",
      "  30   2.31470608e+09  2.18605073e+09  1.37e-03 1.16e-10  1.53e+02    19s\n",
      "  31   2.30676790e+09  2.18812964e+09  1.61e-03 1.16e-10  1.41e+02    20s\n",
      "  32   2.30248649e+09  2.19102012e+09  1.84e-03 1.16e-10  1.33e+02    22s\n",
      "  33   2.27495095e+09  2.19245127e+09  2.78e-03 1.16e-10  9.82e+01    24s\n",
      "  34   2.25994728e+09  2.19451260e+09  4.01e-03 1.16e-10  7.79e+01    27s\n",
      "  35   2.24484235e+09  2.19534917e+09  3.55e-03 1.16e-10  5.89e+01    29s\n",
      "  36   2.23553871e+09  2.19674513e+09  3.24e-03 1.16e-10  4.62e+01    31s\n",
      "  37   2.23279454e+09  2.19840269e+09  3.08e-03 1.16e-10  4.10e+01    33s\n",
      "  38   2.22746927e+09  2.19885735e+09  2.63e-03 1.16e-10  3.41e+01    35s\n",
      "  39   2.22177404e+09  2.19936110e+09  2.09e-03 1.16e-10  2.67e+01    36s\n",
      "  40   2.21713485e+09  2.19948493e+09  1.61e-03 1.16e-10  2.10e+01    38s\n",
      "  41   2.21596054e+09  2.20025622e+09  1.49e-03 1.16e-10  1.87e+01    39s\n",
      "  42   2.21207189e+09  2.20075840e+09  1.04e-03 1.16e-10  1.35e+01    41s\n",
      "  43   2.20983353e+09  2.20150237e+09  7.67e-04 1.16e-10  9.92e+00    43s\n",
      "  44   2.20865444e+09  2.20194107e+09  4.07e-03 1.16e-10  7.99e+00    45s\n",
      "  45   2.20809509e+09  2.20255089e+09  3.59e-03 1.16e-10  6.60e+00    47s\n",
      "  46   2.20721953e+09  2.20280531e+09  3.24e-03 1.16e-10  5.25e+00    50s\n",
      "  47   2.20690179e+09  2.20289445e+09  3.06e-03 1.16e-10  4.77e+00    52s\n",
      "  48   2.20616033e+09  2.20299046e+09  2.54e-03 1.16e-10  3.77e+00    54s\n",
      "  49   2.20514972e+09  2.20310583e+09  1.61e-03 1.16e-10  2.43e+00    56s\n",
      "\n",
      "Barrier solved model in 49 iterations and 56.11 seconds (25.98 work units)\n",
      "Optimal objective 2.20514972e+09\n",
      "\n",
      "\n",
      "User-callback calls 1298, time in user-callback 0.01 sec\n"
     ]
    }
   ],
   "source": [
    "case_path = @__DIR__\n",
    "println(\"###### ###### ######\")\n",
    "println(\"Running case at $(case_path)\")\n",
    "\n",
    "system = Macro.load_system(case_path)\n",
    "\n",
    "model = Macro.generate_model(system)\n",
    "\n",
    "Macro.set_optimizer(model, Gurobi.Optimizer);\n",
    "\n",
    "Macro.set_optimizer_attributes(model, \"BarConvTol\"=>1e-3,\"Crossover\" => 0, \"Method\" => 2)\n",
    "\n",
    "Macro.optimize!(model)"
   ]
  },
  {
   "cell_type": "code",
   "execution_count": 7,
   "metadata": {},
   "outputs": [
    {
     "name": "stdout",
     "output_type": "stream",
     "text": [
      "wrote results\n"
     ]
    }
   ],
   "source": [
    "case = \"capacity_no_co2_cap\"\n",
    "\n",
    "capacity_results = Macro.get_optimal_asset_capacity(system)\n",
    "results_dir = joinpath(case_path, \"results\")\n",
    "mkpath(results_dir)\n",
    "Macro.write_csv(joinpath(results_dir, case * \"_capacity.csv\"), capacity_results)\n",
    "println(\"wrote results\")"
   ]
  },
  {
   "cell_type": "code",
   "execution_count": 15,
   "metadata": {},
   "outputs": [
    {
     "data": {
      "text/plain": [
       "\"/home/al3792/Macro/ExampleSystems/three_zones_macro_genx_no_cement/results/capacity_no_co2_cap_co2_emissions.csv\""
      ]
     },
     "metadata": {},
     "output_type": "display_data"
    }
   ],
   "source": [
    "co2_nodes = Macro.get_nodes_sametype(system.locations, CO2)\n",
    "\n",
    "total_co2_emissions_df = DataFrame(\n",
    "    node_1_emissions = Macro.value(sum(co2_nodes[1].operation_expr[:exogenous])),\n",
    "    node_2_emissions = Macro.value(sum(co2_nodes[2].operation_expr[:exogenous])),\n",
    "    node_3_emissions = Macro.value(sum(co2_nodes[3].operation_expr[:exogenous]))\n",
    ")\n",
    "Macro.write_csv(joinpath(results_dir, case * \"_co2_emissions.csv\"), total_co2_emissions_df)"
   ]
  },
  {
   "cell_type": "code",
   "execution_count": 11,
   "metadata": {},
   "outputs": [
    {
     "data": {
      "text/plain": [
       "\"/home/al3792/Macro/ExampleSystems/three_zones_macro_genx_no_cement/results/capacity_no_co2_cap_co2_emissions_8760.csv\""
      ]
     },
     "metadata": {},
     "output_type": "display_data"
    }
   ],
   "source": [
    "co2_emissions_df = DataFrame(\n",
    "    ng_1_co2 = Macro.value.(Macro.flow(system.assets[6].co2_edge)).data,\n",
    "    ng_2_co2 = Macro.value.(Macro.flow(system.assets[7].co2_edge)).data,\n",
    "    ng_3_co2 = Macro.value.(Macro.flow(system.assets[8].co2_edge)).data\n",
    ")\n",
    "\n",
    "Macro.write_csv(joinpath(results_dir, case * \"_co2_emissions_8760.csv\"), co2_emissions_df)"
   ]
  },
  {
   "cell_type": "code",
   "execution_count": 13,
   "metadata": {},
   "outputs": [
    {
     "data": {
      "text/plain": [
       "3-element Vector{Float64}:\n",
       "     1.873906929961118e7\n",
       "     2.4672028562540933e6\n",
       " 34485.34859300121"
      ]
     },
     "metadata": {},
     "output_type": "display_data"
    }
   ],
   "source": [
    "sum.(eachcol(co2_emissions_df))"
   ]
  },
  {
   "cell_type": "code",
   "execution_count": 23,
   "metadata": {},
   "outputs": [
    {
     "data": {
      "text/plain": [
       "2.1240757504458275e7"
      ]
     },
     "metadata": {},
     "output_type": "display_data"
    }
   ],
   "source": [
    "sum(sum.(eachcol(co2_emissions_df)))"
   ]
  },
  {
   "cell_type": "code",
   "execution_count": 13,
   "metadata": {},
   "outputs": [],
   "source": []
  }
 ],
 "metadata": {
  "kernelspec": {
   "display_name": "Julia 1.11.1",
   "language": "julia",
   "name": "julia-1.11"
  },
  "language_info": {
   "file_extension": ".jl",
   "mimetype": "application/julia",
   "name": "julia",
   "version": "1.11.1"
  }
 },
 "nbformat": 4,
 "nbformat_minor": 2
}
