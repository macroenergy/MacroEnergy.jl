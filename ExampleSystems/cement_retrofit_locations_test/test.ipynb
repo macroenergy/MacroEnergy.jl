{
 "cells": [
  {
   "cell_type": "code",
   "execution_count": 14,
   "metadata": {},
   "outputs": [],
   "source": [
    "using MacroEnergy\n",
    "using MacroEnergy: get_edges, can_retrofit, is_retrofit, new_capacity, retired_capacity\n",
    "using Gurobi\n",
    "using JuMP"
   ]
  },
  {
   "cell_type": "code",
   "execution_count": null,
   "metadata": {},
   "outputs": [
    {
     "name": "stderr",
     "output_type": "stream",
     "text": [
      "┌ Info: Loading system from /Users/al3792/Documents/MacroEnergy.jl/ExampleSystems/cement_retrofit_locations_test/system_data.json\n",
      "└ @ MacroEnergy /Users/al3792/Documents/MacroEnergy.jl/src/load_inputs/load_system.jl:18\n",
      "┌ Info: Loading system data\n",
      "└ @ MacroEnergy /Users/al3792/Documents/MacroEnergy.jl/src/load_inputs/load_system_data.jl:18\n"
     ]
    },
    {
     "ename": "ErrorException",
     "evalue": "No default system data file found at /Users/al3792/Documents/MacroEnergy.jl/src/load_inputs/default_system_data.json",
     "output_type": "error",
     "traceback": [
      "No default system data file found at /Users/al3792/Documents/MacroEnergy.jl/src/load_inputs/default_system_data.json\n",
      "\n",
      "Stacktrace:\n",
      " [1] error(s::String)\n",
      "   @ Base ./error.jl:35\n",
      " [2] load_default_system_data(default_file_path::String)\n",
      "   @ MacroEnergy ~/Documents/MacroEnergy.jl/src/load_inputs/default_system_data.jl:13\n",
      " [3] add_default_system_data!(system_data::JSON3.Object{Base.CodeUnits{UInt8, String}, Vector{UInt64}}, default_file_path::String)\n",
      "   @ MacroEnergy ~/Documents/MacroEnergy.jl/src/load_inputs/default_system_data.jl:29\n",
      " [4] prep_system_data(file_path::String, default_file_path::String)\n",
      "   @ MacroEnergy ~/Documents/MacroEnergy.jl/src/load_inputs/default_system_data.jl:49\n",
      " [5] load_system_data(file_path::String, rel_path::String; default_file_path::String, lazy_load::Bool)\n",
      "   @ MacroEnergy ~/Documents/MacroEnergy.jl/src/load_inputs/load_system_data.jl:22\n",
      " [6] load_system_data (repeats 2 times)\n",
      "   @ ~/Documents/MacroEnergy.jl/src/load_inputs/load_system_data.jl:11 [inlined]\n",
      " [7] load_system(path::String; lazy_load::Bool)\n",
      "   @ MacroEnergy ~/Documents/MacroEnergy.jl/src/load_inputs/load_system.jl:22\n",
      " [8] load_system(path::String)\n",
      "   @ MacroEnergy ~/Documents/MacroEnergy.jl/src/load_inputs/load_system.jl:5\n",
      " [9] top-level scope\n",
      "   @ ~/Documents/MacroEnergy.jl/ExampleSystems/cement_retrofit_locations_test/jl_notebook_cell_df34fa98e69747e1a8f8a730347b8e2f_X26sZmlsZQ==.jl:2"
     ]
    }
   ],
   "source": [
    "system = MacroEnergy.load_system(@__DIR__)"
   ]
  },
  {
   "cell_type": "code",
   "execution_count": 3,
   "metadata": {},
   "outputs": [
    {
     "name": "stdout",
     "output_type": "stream",
     "text": [
      "###### ###### ######\n",
      "Running case at /Users/al3792/Documents/MacroEnergy.jl/ExampleSystems/cement_retrofit_locations_test\n"
     ]
    },
    {
     "name": "stderr",
     "output_type": "stream",
     "text": [
      "┌ Info: Loading system from /Users/al3792/Documents/MacroEnergy.jl/ExampleSystems/cement_retrofit_locations_test/system_data.json\n",
      "└ @ MacroEnergy /Users/al3792/Documents/MacroEnergy.jl/src/load_inputs/load_system.jl:18\n",
      "┌ Info: Loading system data\n",
      "└ @ MacroEnergy /Users/al3792/Documents/MacroEnergy.jl/src/load_inputs/load_system_data.jl:18\n",
      "┌ Info: Done loading system data. It took 0.0 seconds\n",
      "└ @ MacroEnergy /Users/al3792/Documents/MacroEnergy.jl/src/load_inputs/load_system_data.jl:26\n",
      "┌ Info: Generating system\n",
      "└ @ MacroEnergy /Users/al3792/Documents/MacroEnergy.jl/src/load_inputs/generate_system.jl:18\n",
      "┌ Warning: TotalHoursModeled not found in time_data.json - Using 8760 as default value for TotalHoursModeled\n",
      "└ @ MacroEnergy /Users/al3792/Documents/MacroEnergy.jl/src/load_inputs/load_time_data.jl:79\n",
      "┌ Warning: Using default weights = 1 as no period map provided and each period maps to itself\n",
      "└ @ MacroEnergy /Users/al3792/Documents/MacroEnergy.jl/src/load_inputs/load_time_data.jl:194\n",
      "┌ Warning: Using default weights = 1 as no period map provided and each period maps to itself\n",
      "└ @ MacroEnergy /Users/al3792/Documents/MacroEnergy.jl/src/load_inputs/load_time_data.jl:194\n",
      "┌ Warning: Using default weights = 1 as no period map provided and each period maps to itself\n",
      "└ @ MacroEnergy /Users/al3792/Documents/MacroEnergy.jl/src/load_inputs/load_time_data.jl:194\n",
      "┌ Warning: Using default weights = 1 as no period map provided and each period maps to itself\n",
      "└ @ MacroEnergy /Users/al3792/Documents/MacroEnergy.jl/src/load_inputs/load_time_data.jl:194\n",
      "┌ Warning: Using default weights = 1 as no period map provided and each period maps to itself\n",
      "└ @ MacroEnergy /Users/al3792/Documents/MacroEnergy.jl/src/load_inputs/load_time_data.jl:194\n",
      "┌ Info: Done generating system. It took 0.32 seconds\n",
      "└ @ MacroEnergy /Users/al3792/Documents/MacroEnergy.jl/src/load_inputs/generate_system.jl:38\n",
      "┌ Info: Done loading system. It took 0.32 seconds\n",
      "└ @ MacroEnergy /Users/al3792/Documents/MacroEnergy.jl/src/load_inputs/load_system.jl:25\n",
      "┌ Info: Generating model\n",
      "└ @ MacroEnergy /Users/al3792/Documents/MacroEnergy.jl/src/generate_model.jl:3\n",
      "┌ Info:  -- Adding linking variables\n",
      "└ @ MacroEnergy /Users/al3792/Documents/MacroEnergy.jl/src/generate_model.jl:15\n",
      "┌ Info:  -- Defining available capacity\n",
      "└ @ MacroEnergy /Users/al3792/Documents/MacroEnergy.jl/src/generate_model.jl:18\n",
      "┌ Info:  -- Generating planning model\n",
      "└ @ MacroEnergy /Users/al3792/Documents/MacroEnergy.jl/src/generate_model.jl:21\n",
      "┌ Info:  -- Generating operational model\n",
      "└ @ MacroEnergy /Users/al3792/Documents/MacroEnergy.jl/src/generate_model.jl:24\n",
      "┌ Info:  -- Model generation complete. It took 12.3 seconds\n",
      "└ @ MacroEnergy /Users/al3792/Documents/MacroEnergy.jl/src/generate_model.jl:29\n"
     ]
    },
    {
     "name": "stdout",
     "output_type": "stream",
     "text": [
      "Set parameter Username\n",
      "Set parameter LicenseID to value 2637694\n",
      "Academic license - for non-commercial use only - expires 2026-03-17\n",
      "Set parameter BarConvTol to value 1e-08\n",
      "Set parameter Crossover to value 1\n",
      "Set parameter Method to value 2\n",
      "Set parameter Method to value 2\n",
      "Set parameter Crossover to value 1\n",
      "Set parameter BarConvTol to value 1e-08\n",
      "Gurobi Optimizer version 12.0.1 build v12.0.1rc0 (mac64[arm] - Darwin 24.2.0 24C101)\n",
      "\n",
      "CPU model: Apple M4 Pro\n",
      "Thread count: 14 physical cores, 14 logical processors, using up to 14 threads\n",
      "\n",
      "Non-default parameters:\n",
      "Method  2\n",
      "Crossover  1\n",
      "\n",
      "Optimize a model with 840991 rows, 551927 columns and 2845967 nonzeros\n",
      "Model fingerprint: 0xc861f797\n",
      "Coefficient statistics:\n",
      "  Matrix range     [1e-03, 2e+04]\n",
      "  Objective range  [1e-01, 2e+07]\n",
      "  Bounds range     [1e+00, 1e+00]\n",
      "  RHS range        [2e+00, 3e+05]\n",
      "Presolve removed 394763 rows and 189997 columns\n",
      "Presolve time: 0.77s\n",
      "Presolved: 446228 rows, 361930 columns, 2196063 nonzeros\n",
      "\n",
      "Ordering time: 0.22s\n",
      "\n",
      "Barrier statistics:\n",
      " Dense cols : 21\n",
      " AA' NZ     : 3.615e+06\n",
      " Factor NZ  : 1.497e+07 (roughly 450 MB of memory)\n",
      " Factor Ops : 1.201e+09 (less than 1 second per iteration)\n",
      " Threads    : 14\n",
      "\n",
      "                  Objective                Residual\n",
      "Iter       Primal          Dual         Primal    Dual     Compl     Time\n",
      "   0   6.25471397e+14  1.68092621e+12  4.50e+08 1.02e+05  4.51e+10     1s\n",
      "   1   3.65795123e+14 -2.75241663e+13  2.94e+08 5.51e+05  2.04e+10     1s\n",
      "   2   3.53010396e+14 -3.69103212e+13  2.86e+08 4.22e+05  1.84e+10     2s\n",
      "   3   1.86870872e+14 -6.11990793e+13  1.01e+08 7.39e+04  1.06e+10     2s\n",
      "   4   3.08949561e+13 -6.39353447e+13  1.63e+07 2.09e+04  1.96e+09     2s\n",
      "   5   1.13245085e+13 -4.56974616e+13  2.82e+06 1.02e+04  4.87e+08     2s\n",
      "   6   4.96535733e+12 -1.45305750e+13  2.91e+05 7.37e+02  6.13e+07     2s\n",
      "   7   1.79313669e+12 -4.69021802e+12  1.04e+01 1.60e+02  1.19e+07     2s\n",
      "   8   6.18361289e+11 -1.04764447e+12  4.75e-03 3.21e+01  2.61e+06     2s\n",
      "   9   1.68505202e+11 -2.04101667e+11  1.88e-04 5.89e+00  5.43e+05     2s\n",
      "  10   4.75181588e+10 -3.23725494e+10  1.67e-05 7.85e-01  1.01e+05     2s\n",
      "  11   8.87570708e+09 -9.34083172e+09  2.14e-06 1.87e-01  2.19e+04     2s\n",
      "  12   5.59892097e+09 -2.55826127e+09  1.13e-06 7.54e-02  9.76e+03     2s\n",
      "  13   3.87998301e+09 -6.60786294e+08  6.36e-07 4.10e-02  5.42e+03     2s\n",
      "  14   3.18353819e+09  2.01018905e+07  4.29e-07 2.97e-02  3.78e+03     3s\n",
      "  15   3.01979754e+09  3.39246500e+08  3.84e-07 2.30e-02  3.20e+03     3s\n",
      "  16   2.89874353e+09  4.42287098e+08  3.44e-07 2.27e-02  2.94e+03     3s\n",
      "  17   2.82470555e+09  6.40328155e+08  3.21e-07 1.95e-02  2.62e+03     3s\n",
      "  18   2.58169964e+09  7.07976682e+08  2.76e-07 1.82e-02  2.25e+03     3s\n",
      "  19   2.54886666e+09  7.71757476e+08  2.96e-07 1.71e-02  2.14e+03     3s\n",
      "  20   2.46227153e+09  8.27541649e+08  3.31e-07 1.62e-02  1.97e+03     3s\n",
      "  21   2.42017132e+09  9.03196553e+08  2.96e-07 1.50e-02  1.83e+03     3s\n",
      "  22   2.36494844e+09  1.15797776e+09  5.27e-07 1.10e-02  1.46e+03     3s\n",
      "  23   2.21017035e+09  1.26999705e+09  2.97e-06 9.14e-03  1.15e+03     3s\n",
      "  24   2.18513477e+09  1.35501768e+09  3.84e-06 7.68e-03  1.02e+03     4s\n",
      "  25   2.16304056e+09  1.41114786e+09  3.81e-06 6.70e-03  9.22e+02     4s\n",
      "  26   2.09431760e+09  1.42072546e+09  4.67e-06 6.53e-03  8.34e+02     4s\n",
      "  27   2.02545818e+09  1.50288220e+09  6.79e-06 4.96e-03  6.55e+02     4s\n",
      "  28   2.01803076e+09  1.53637492e+09  6.74e-06 4.31e-03  6.02e+02     4s\n",
      "  29   1.93597657e+09  1.58774631e+09  1.37e-05 3.28e-03  4.46e+02     4s\n",
      "  30   1.83922845e+09  1.63945284e+09  2.41e-05 2.20e-03  2.65e+02     4s\n",
      "  31   1.83861937e+09  1.64755726e+09  2.40e-05 2.04e-03  2.52e+02     4s\n",
      "  32   1.82754638e+09  1.65943642e+09  2.30e-05 1.80e-03  2.23e+02     4s\n",
      "  33   1.81462600e+09  1.67874969e+09  5.24e-05 1.40e-03  1.84e+02     5s\n",
      "  34   1.79618181e+09  1.69289002e+09  1.16e-04 1.05e-03  1.42e+02     5s\n",
      "  35   1.76763524e+09  1.72535434e+09  7.65e-03 1.69e-04  5.31e+01     5s\n",
      "  36   1.74504351e+09  1.72791093e+09  3.49e-03 1.06e-04  2.25e+01     5s\n",
      "  37   1.74173401e+09  1.72941815e+09  2.31e-03 7.26e-05  1.61e+01     5s\n",
      "  38   1.73994618e+09  1.73147762e+09  2.59e-03 3.02e-05  1.06e+01     5s\n",
      "  39   1.73603154e+09  1.73252882e+09  2.58e-03 1.00e-05  4.35e+00     5s\n",
      "  40   1.73505170e+09  1.73278385e+09  1.78e-03 5.13e-06  2.79e+00     5s\n",
      "  41   1.73357382e+09  1.73296639e+09  3.55e-04 2.04e-06  7.62e-01     6s\n",
      "  42   1.73322286e+09  1.73307114e+09  7.67e-05 5.61e-07  1.92e-01     6s\n",
      "  43   1.73319173e+09  1.73309342e+09  5.30e-05 2.82e-07  1.22e-01     6s\n",
      "  44   1.73317994e+09  1.73310016e+09  4.43e-05 1.98e-07  9.86e-02     6s\n",
      "  45   1.73316475e+09  1.73310140e+09  3.32e-05 1.82e-07  7.89e-02     6s\n",
      "  46   1.73315557e+09  1.73310941e+09  2.66e-05 9.34e-08  5.66e-02     7s\n",
      "  47   1.73314521e+09  1.73310968e+09  1.91e-05 9.04e-08  4.40e-02     7s\n",
      "  48   1.73314302e+09  1.73311054e+09  1.77e-05 8.10e-08  4.02e-02     7s\n",
      "  49   1.73313491e+09  1.73311470e+09  1.19e-05 2.09e-07  2.45e-02     8s\n",
      "  50   1.73312990e+09  1.73311491e+09  8.73e-06 8.57e-08  1.83e-02     8s\n",
      "  51   1.73312844e+09  1.73311586e+09  7.74e-06 1.04e-07  1.52e-02     9s\n",
      "  52   1.73312716e+09  1.73311713e+09  6.81e-06 5.92e-09  1.19e-02     9s\n",
      "  53   1.73312478e+09  1.73311726e+09  5.10e-06 2.24e-08  8.96e-03     9s\n",
      "  54   1.73312208e+09  1.73311735e+09  1.44e-05 2.24e-08  5.64e-03    10s\n",
      "  55   1.73312051e+09  1.73311773e+09  8.98e-06 1.24e-06  3.26e-03    10s\n",
      "  56   1.73312029e+09  1.73311773e+09  2.17e-05 1.53e-07  3.01e-03    10s\n",
      "  57   1.73311981e+09  1.73311774e+09  5.90e-05 1.57e-06  2.43e-03    10s\n",
      "  58   1.73311970e+09  1.73311774e+09  5.58e-05 1.19e-07  2.30e-03    10s\n",
      "  59   1.73311823e+09  1.73311778e+09  1.28e-05 3.62e-06  5.31e-04    10s\n",
      "  60   1.73311784e+09  1.73311778e+09  3.24e-05 4.01e-06  7.33e-05    10s\n",
      "  61   1.73311779e+09  1.73311779e+09  2.19e-06 5.22e-06  1.35e-06    10s\n",
      "  62   1.73311779e+09  1.73311779e+09  6.00e-08 5.01e-06  5.09e-09    11s\n",
      "\n",
      "Barrier solved model in 62 iterations and 10.57 seconds (26.81 work units)\n",
      "Optimal objective 1.73311779e+09\n",
      "\n",
      "Crossover log...\n",
      "\n",
      "  130914 DPushes remaining with DInf 0.0000000e+00                11s\n",
      "   31602 DPushes remaining with DInf 0.0000000e+00                15s\n",
      "       0 DPushes remaining with DInf 0.0000000e+00                18s\n",
      "Warning: Markowitz tolerance tightened to 0.5\n",
      "\n",
      "   24858 PPushes remaining with PInf 0.0000000e+00                18s\n",
      "    8106 PPushes remaining with PInf 0.0000000e+00                31s\n",
      "       0 PPushes remaining with PInf 0.0000000e+00                33s\n",
      "\n",
      "Restart crossover...\n",
      "\n",
      "\n",
      "  130914 DPushes remaining with DInf 0.0000000e+00                33s\n",
      "   41496 DPushes remaining with DInf 0.0000000e+00                36s\n",
      "    6706 DPushes remaining with DInf 0.0000000e+00                40s\n",
      "       0 DPushes remaining with DInf 0.0000000e+00                41s\n",
      "\n",
      "   24858 PPushes remaining with PInf 0.0000000e+00                41s\n",
      "    7511 PPushes remaining with PInf 0.0000000e+00                53s\n",
      "       0 PPushes remaining with PInf 0.0000000e+00                55s\n",
      "\n",
      "  Push phase complete: Pinf 0.0000000e+00, Dinf 2.3161448e-07     55s\n",
      "\n",
      "Iteration    Objective       Primal Inf.    Dual Inf.      Time\n",
      "   76002    1.7331178e+09   0.000000e+00   0.000000e+00     56s\n",
      "\n",
      "Solved in 76002 iterations and 55.68 seconds (235.57 work units)\n",
      "Optimal objective  1.733117788e+09\n",
      "\n",
      "User-callback calls 314223, time in user-callback 0.04 sec\n"
     ]
    },
    {
     "name": "stderr",
     "output_type": "stream",
     "text": [
      "┌ Info: Scaling constraints and RHS\n",
      "└ @ MacroEnergy /Users/al3792/Documents/MacroEnergy.jl/src/utilities/run_tools.jl:26\n",
      "┌ Info: Writing capacity results to /Users/al3792/Documents/MacroEnergy.jl/ExampleSystems/cement_retrofit_locations_test/results_002/capacity.csv\n",
      "└ @ MacroEnergy /Users/al3792/Documents/MacroEnergy.jl/src/write_outputs/capacity.jl:160\n",
      "┌ Info: Writing costs to /Users/al3792/Documents/MacroEnergy.jl/ExampleSystems/cement_retrofit_locations_test/results_002/costs.csv\n",
      "└ @ MacroEnergy /Users/al3792/Documents/MacroEnergy.jl/src/write_outputs/costs.jl:60\n",
      "┌ Info: Writing flow results to /Users/al3792/Documents/MacroEnergy.jl/ExampleSystems/cement_retrofit_locations_test/results_002/flow.csv\n",
      "└ @ MacroEnergy /Users/al3792/Documents/MacroEnergy.jl/src/write_outputs/flow.jl:200\n"
     ]
    }
   ],
   "source": [
    "(system, model) = run_case(@__DIR__; optimizer=Gurobi.Optimizer);"
   ]
  },
  {
   "cell_type": "code",
   "execution_count": 2,
   "metadata": {},
   "outputs": [
    {
     "name": "stderr",
     "output_type": "stream",
     "text": [
      "┌ Info: Generating model\n",
      "└ @ MacroEnergy /Users/al3792/Documents/MacroEnergy.jl/src/generate_model.jl:3\n",
      "┌ Info:  -- Adding linking variables\n",
      "└ @ MacroEnergy /Users/al3792/Documents/MacroEnergy.jl/src/generate_model.jl:15\n",
      "┌ Info:  -- Defining available capacity\n",
      "└ @ MacroEnergy /Users/al3792/Documents/MacroEnergy.jl/src/generate_model.jl:18\n",
      "┌ Info:  -- Generating planning model\n",
      "└ @ MacroEnergy /Users/al3792/Documents/MacroEnergy.jl/src/generate_model.jl:21\n",
      "┌ Info:  -- Generating operational model\n",
      "└ @ MacroEnergy /Users/al3792/Documents/MacroEnergy.jl/src/generate_model.jl:24\n",
      "┌ Info:  -- Model generation complete. It took 12.01 seconds\n",
      "└ @ MacroEnergy /Users/al3792/Documents/MacroEnergy.jl/src/generate_model.jl:29\n"
     ]
    },
    {
     "name": "stdout",
     "output_type": "stream",
     "text": [
      "Set parameter Username\n",
      "Set parameter LicenseID to value 2637694\n",
      "Academic license - for non-commercial use only - expires 2026-03-17\n",
      "Set parameter BarConvTol to value 0.001\n",
      "Set parameter Crossover to value 0\n",
      "Set parameter Method to value 2\n",
      "Set parameter Method to value 2\n",
      "Set parameter Crossover to value 0\n",
      "Set parameter BarConvTol to value 0.001\n",
      "Gurobi Optimizer version 12.0.1 build v12.0.1rc0 (mac64[arm] - Darwin 24.2.0 24C101)\n",
      "\n",
      "CPU model: Apple M4 Pro\n",
      "Thread count: 14 physical cores, 14 logical processors, using up to 14 threads\n",
      "\n",
      "Non-default parameters:\n",
      "Method  2\n",
      "BarConvTol  0.001\n",
      "Crossover  0\n",
      "\n",
      "Optimize a model with 840988 rows, 551927 columns and 2845961 nonzeros\n",
      "Model fingerprint: 0x4a111cd2\n",
      "Coefficient statistics:\n",
      "  Matrix range     [4e-07, 2e+04]\n",
      "  Objective range  [1e-01, 2e+07]\n",
      "  Bounds range     [1e+00, 1e+00]\n",
      "  RHS range        [2e+00, 4e+06]\n",
      "Presolve removed 394763 rows and 189997 columns\n",
      "Presolve time: 0.57s\n",
      "Presolved: 446225 rows, 361930 columns, 2196057 nonzeros\n",
      "Ordering time: 0.22s\n",
      "\n",
      "Barrier statistics:\n",
      " Dense cols : 21\n",
      " AA' NZ     : 3.615e+06\n",
      " Factor NZ  : 1.515e+07 (roughly 450 MB of memory)\n",
      " Factor Ops : 1.261e+09 (less than 1 second per iteration)\n",
      " Threads    : 14\n",
      "\n",
      "                  Objective                Residual\n",
      "Iter       Primal          Dual         Primal    Dual     Compl     Time\n",
      "   0   1.24526304e+15 -4.42280450e+12  1.50e+09 8.06e+04  2.56e+11     1s\n",
      "   1   1.15176923e+15 -1.24033801e+13  1.41e+09 1.31e+06  2.39e+11     1s\n",
      "   2   8.72292774e+14 -6.84417718e+13  7.01e+08 1.09e+06  1.68e+11     1s\n",
      "   3   2.09020821e+14 -2.03429811e+14  9.52e+07 2.60e+05  5.39e+10     1s\n",
      "   4   5.57427828e+13 -2.18969447e+14  2.08e+07 8.37e+04  1.51e+10     1s\n",
      "   5   3.39326495e+13 -1.76434645e+14  1.08e+07 3.56e+04  6.48e+09     2s\n",
      "   6   1.83769425e+13 -1.00046715e+14  4.09e+06 7.41e+03  1.50e+09     2s\n",
      "   7   6.91719375e+12 -3.11801950e+13  8.31e+01 1.50e+02  7.19e+07     2s\n",
      "   8   1.84450065e+12 -5.33879824e+12  2.36e+00 2.17e+01  1.07e+07     2s\n",
      "   9   5.51421511e+11 -5.60198641e+11  1.05e-01 2.24e+00  1.47e+06     2s\n",
      "  10   1.21223646e+11 -1.21800216e+11  3.31e-03 5.64e-01  3.00e+05     2s\n",
      "  11   2.35147969e+10 -2.59423028e+10  5.11e-04 1.12e-01  5.93e+04     2s\n",
      "  12   8.63390385e+09 -7.13441205e+09  1.59e-04 2.92e-02  1.88e+04     2s\n",
      "  13   5.36130751e+09 -2.43889843e+09  8.46e-05 1.35e-02  9.30e+03     2s\n",
      "  14   3.91924089e+09 -6.48350225e+08  5.32e-05 7.11e-03  5.44e+03     2s\n",
      "  15   2.89802784e+09  7.67548845e+08  2.94e-05 2.44e-03  2.53e+03     2s\n",
      "  16   2.69607833e+09  1.05198591e+09  2.45e-05 1.62e-03  1.95e+03     2s\n",
      "  17   2.42170808e+09  1.35567649e+09  1.87e-05 5.32e-04  1.26e+03     3s\n",
      "  18   2.28878998e+09  1.55079107e+09  1.52e-05 1.84e-04  8.72e+02     3s\n",
      "  19   1.88011934e+09  1.60179387e+09  4.32e-06 1.16e-04  3.30e+02     3s\n",
      "  20   1.86354697e+09  1.60445221e+09  3.93e-06 1.13e-04  3.07e+02     3s\n",
      "  21   1.82872579e+09  1.67942088e+09  3.18e-06 1.55e-05  1.76e+02     3s\n",
      "  22   1.80081363e+09  1.68827629e+09  1.23e-05 7.29e-06  1.33e+02     3s\n",
      "  23   1.77067336e+09  1.69388617e+09  1.68e-05 4.55e-06  9.05e+01     3s\n",
      "  24   1.73493193e+09  1.69732445e+09  2.18e-05 5.67e-06  4.44e+01     3s\n",
      "  25   1.72007206e+09  1.69867809e+09  1.22e-05 3.83e-06  2.53e+01     3s\n",
      "  26   1.71434944e+09  1.69905443e+09  1.68e-05 3.38e-06  1.81e+01     3s\n",
      "  27   1.71367043e+09  1.69955131e+09  1.72e-05 2.26e-06  1.67e+01     4s\n",
      "  28   1.70850480e+09  1.70013186e+09  1.81e-05 1.54e-06  9.89e+00     4s\n",
      "  29   1.70173299e+09  1.70050793e+09  5.36e-06 6.88e-07  1.45e+00     4s\n",
      "  30   1.70086083e+09  1.70067245e+09  5.73e-07 1.21e-07  2.24e-01     4s\n",
      "  31   1.70078870e+09  1.70069686e+09  4.23e-07 2.51e-08  1.09e-01     4s\n",
      "  32   1.70072807e+09  1.70069739e+09  3.37e-07 6.71e-08  3.65e-02     4s\n",
      "  33   1.70071938e+09  1.70070042e+09  3.64e-07 8.12e-09  2.25e-02     5s\n",
      "\n",
      "Barrier solved model in 33 iterations and 4.68 seconds (11.96 work units)\n",
      "Optimal objective 1.70071938e+09\n",
      "\n",
      "\n",
      "User-callback calls 908, time in user-callback 0.00 sec\n"
     ]
    }
   ],
   "source": [
    "model = MacroEnergy.generate_model(system)\n",
    "MacroEnergy.set_optimizer(model, Gurobi.Optimizer)\n",
    "MacroEnergy.set_optimizer_attributes(model, \"BarConvTol\"=>1e-3,\"Crossover\" => 0, \"Method\" => 2)\n",
    "MacroEnergy.optimize!(model)"
   ]
  },
  {
   "cell_type": "code",
   "execution_count": 11,
   "metadata": {},
   "outputs": [
    {
     "data": {
      "text/plain": [
       "0.03450592361380814"
      ]
     },
     "metadata": {},
     "output_type": "display_data"
    }
   ],
   "source": [
    "MacroEnergy.value(system.assets[2].cement_edge.retrofitted_capacity)"
   ]
  },
  {
   "cell_type": "code",
   "execution_count": 12,
   "metadata": {},
   "outputs": [
    {
     "data": {
      "text/plain": [
       "0.03450592361380814"
      ]
     },
     "metadata": {},
     "output_type": "display_data"
    }
   ],
   "source": [
    "MacroEnergy.value(system.assets[5].cement_edge.new_capacity)"
   ]
  },
  {
   "cell_type": "code",
   "execution_count": null,
   "metadata": {},
   "outputs": [],
   "source": [
    "MacroEnergy.compute_conflict!(model)\n",
    "list_of_conflicting_constraints = MacroEnergy.ConstraintRef[];\n",
    "for (F, S) in Macro.list_of_constraint_types(model)\n",
    "    for con in Macro.JuMP.all_constraints(model, F, S)\n",
    "        if Macro.JuMP.get_attribute(con, Macro.MOI.ConstraintConflictStatus()) == Macro.MOI.IN_CONFLICT\n",
    "            push!(list_of_conflicting_constraints, con)\n",
    "        end\n",
    "    end\n",
    "end\n",
    "display(list_of_conflicting_constraints)"
   ]
  },
  {
   "cell_type": "code",
   "execution_count": null,
   "metadata": {},
   "outputs": [],
   "source": [
    "include(\"../helper_functions.jl\")\n",
    "using DataFrames"
   ]
  },
  {
   "cell_type": "code",
   "execution_count": null,
   "metadata": {},
   "outputs": [],
   "source": [
    "nodes = Node[x for x in system.locations if x isa MacroEnergy.Node]"
   ]
  },
  {
   "cell_type": "code",
   "execution_count": null,
   "metadata": {},
   "outputs": [],
   "source": [
    "co2_nodes = MacroEnergy.get_nodes_sametype(nodes, CO2)"
   ]
  },
  {
   "cell_type": "code",
   "execution_count": null,
   "metadata": {},
   "outputs": [],
   "source": [
    "case = \"0pct_co2_reduction\"\n",
    "results_dir = joinpath(@__DIR__,  \"results\")\n",
    "mkpath(results_dir)\n",
    "save_results(results_dir, case, system)"
   ]
  },
  {
   "cell_type": "code",
   "execution_count": null,
   "metadata": {},
   "outputs": [],
   "source": [
    "model[:cRetrofitCapacity]"
   ]
  },
  {
   "cell_type": "code",
   "execution_count": null,
   "metadata": {},
   "outputs": [],
   "source": [
    "function get_unique_retrofit_tuples(system::MacroEnergy.System)\n",
    "    # Returns a list of retrofit clusters in the system, described as tuples: (retrofit_id, location)\n",
    "    can_retrofit_ids = []\n",
    "    is_retrofit_ids = []\n",
    "    for e in get_edges(system)\n",
    "        if can_retrofit(e)\n",
    "            push!(can_retrofit_ids, (e.retrofit_id, e.location))\n",
    "        end\n",
    "        if is_retrofit(e)\n",
    "            push!(is_retrofit_ids, (e.retrofit_id, e.location))\n",
    "        end\n",
    "    end\n",
    "    @assert unique(can_retrofit_ids) == unique(is_retrofit_ids)\n",
    "    retrofit_ids = unique(can_retrofit_ids)\n",
    "    return retrofit_ids\n",
    "end\n",
    "\n",
    "function get_can_retrofit_edges(edges, retrofit_id, location)\n",
    "    # Returns the edges that can be retrofitted with a given retrofit_id and location\n",
    "    can_retrofit_edges = []\n",
    "    for edge in edges\n",
    "        if (can_retrofit(edge) == true) && (edge.retrofit_id == retrofit_id) && (edge.location == location)\n",
    "            push!(can_retrofit_edges, edge)\n",
    "        end\n",
    "    end\n",
    "    return can_retrofit_edges\n",
    "end\n",
    "\n",
    "function get_is_retrofit_edges(edges, retrofit_id, location)\n",
    "    # Returns the edges that can retrofit other edges with a given retrofit_id and location\n",
    "    is_retrofit_edges = []\n",
    "    for edge in edges\n",
    "        if (is_retrofit(edge) == true) && (edge.retrofit_id == retrofit_id) && (edge.location == location)\n",
    "            push!(is_retrofit_edges, edge)\n",
    "        end\n",
    "    end\n",
    "    return is_retrofit_edges\n",
    "end"
   ]
  },
  {
   "cell_type": "code",
   "execution_count": null,
   "metadata": {},
   "outputs": [
    {
     "data": {
      "text/plain": [
       "get_is_retrofit_edges (generic function with 1 method)"
      ]
     },
     "metadata": {},
     "output_type": "display_data"
    }
   ],
   "source": [
    "edges = get_edges(system)\n",
    "\n",
    "function get_can_retrofit_edges(edges, retrofit_id, location)\n",
    "    # Returns the edges that can be retrofitted with a given retrofit_id and location\n",
    "    can_retrofit_edges = []\n",
    "    for e in edges\n",
    "        if (can_retrofit(e) == true) && (retrofit_id(e) == retrofit_id) && (location(e) == location)\n",
    "            push!(can_retrofit_edges, e)\n",
    "        end\n",
    "    end\n",
    "    return can_retrofit_edges\n",
    "end\n",
    "\n",
    "function get_is_retrofit_edges(edges, retrofit_id, location)\n",
    "    # Returns the edges that can retrofit other edges with a given retrofit_id and location\n",
    "    is_retrofit_edges = []\n",
    "    for e in edges\n",
    "        if (is_retrofit(e) == true) && (retrofit_id(e) == retrofit_id) && (location(e) == location)\n",
    "            push!(is_retrofit_edges, e)\n",
    "        end\n",
    "    end\n",
    "    return is_retrofit_edges\n",
    "end"
   ]
  },
  {
   "cell_type": "code",
   "execution_count": null,
   "metadata": {},
   "outputs": [
    {
     "ename": "MethodError",
     "evalue": "MethodError: objects of type String are not callable\nThe object of type `String` exists, but no method is defined for this combination of argument types when trying to treat it as a callable object.",
     "output_type": "error",
     "traceback": [
      "MethodError: objects of type String are not callable\n",
      "The object of type `String` exists, but no method is defined for this combination of argument types when trying to treat it as a callable object.\n",
      "\n",
      "Stacktrace:\n",
      " [1] top-level scope\n",
      "   @ ~/Documents/MacroEnergy.jl/ExampleSystems/cement_retrofit_locations_test/jl_notebook_cell_df34fa98e69747e1a8f8a730347b8e2f_X24sZmlsZQ==.jl:4"
     ]
    }
   ],
   "source": [
    "retrofit_id = 1\n",
    "location = \"MA\"\n",
    "e = edges[3]\n",
    "location(e)"
   ]
  },
  {
   "cell_type": "code",
   "execution_count": null,
   "metadata": {},
   "outputs": [],
   "source": [
    "edges = get_edges(system)\n",
    "retrofit_tuples = get_unique_retrofit_tuples(system)\n",
    "\n",
    "@constraint(model, cRetrofitCapacity[(retrofit_id, retrofit_location) in retrofit_tuples],\n",
    "    sum(new_capacity(e) for e in get_can_retrofit_edges(edges, retrofit_id, retrofit_location)) <=\n",
    "    sum(retired_capacity(e) for e in get_is_retrofit_edges(edges, retrofit_id, retrofit_location))\n",
    ")"
   ]
  },
  {
   "cell_type": "code",
   "execution_count": null,
   "metadata": {},
   "outputs": [],
   "source": [
    "edges = get_edges(system)"
   ]
  },
  {
   "cell_type": "code",
   "execution_count": null,
   "metadata": {},
   "outputs": [],
   "source": [
    "nodes = Node[x for x in system.locations if x isa MacroEnergy.Node]\n",
    "co2_node = MacroEnergy.get_nodes_sametype(nodes, CO2)[1]"
   ]
  },
  {
   "cell_type": "code",
   "execution_count": null,
   "metadata": {},
   "outputs": [],
   "source": [
    "system.assets[1].cement_edge.end_vertex"
   ]
  },
  {
   "cell_type": "code",
   "execution_count": null,
   "metadata": {},
   "outputs": [],
   "source": []
  }
 ],
 "metadata": {
  "kernelspec": {
   "display_name": "Julia 1.11.4",
   "language": "julia",
   "name": "julia-1.11"
  },
  "language_info": {
   "file_extension": ".jl",
   "mimetype": "application/julia",
   "name": "julia",
   "version": "1.11.4"
  }
 },
 "nbformat": 4,
 "nbformat_minor": 2
}
