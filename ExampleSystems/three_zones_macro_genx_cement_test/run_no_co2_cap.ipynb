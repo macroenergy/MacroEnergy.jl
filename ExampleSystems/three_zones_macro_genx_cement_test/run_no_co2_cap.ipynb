{
 "cells": [
  {
   "cell_type": "code",
   "execution_count": 5,
   "metadata": {},
   "outputs": [
    {
     "name": "stderr",
     "output_type": "stream",
     "text": [
      "\u001b[32m\u001b[1m  Activating\u001b[22m\u001b[39m project at `~/Macro`\n"
     ]
    }
   ],
   "source": [
    "using Pkg\n",
    "using Revise\n",
    "Pkg.activate(dirname(dirname(@__DIR__)))\n",
    "using Macro\n",
    "using Gurobi\n",
    "using Plots\n",
    "using DataFrames, CSV\n",
    "using BenchmarkTools\n",
    "using JuMP"
   ]
  },
  {
   "cell_type": "code",
   "execution_count": 27,
   "metadata": {},
   "outputs": [
    {
     "name": "stdout",
     "output_type": "stream",
     "text": [
      "###### ###### ######\n",
      "Running case at /home/al3792/Macro/ExampleSystems/three_zones_macro_genx_cement_test\n"
     ]
    },
    {
     "name": "stderr",
     "output_type": "stream",
     "text": [
      "┌ Info: Loading JSON data from /home/al3792/Macro/ExampleSystems/three_zones_macro_genx_cement_test/system_data.json\n",
      "└ @ Macro /home/al3792/Macro/src/load_inputs/load_macroobject.jl:135\n",
      "┌ Info: Loading JSON data from /home/al3792/Macro/ExampleSystems/three_zones_macro_genx_cement_test/system_data.json\n",
      "└ @ Macro /home/al3792/Macro/src/load_inputs/load_macroobject.jl:135\n",
      "┌ Info: Loading JSON data from system/nodes.json\n",
      "└ @ Macro /home/al3792/Macro/src/load_inputs/load_macroobject.jl:135\n",
      "┌ Info: Loading CSV data from system/demand.csv\n",
      "└ @ Macro /home/al3792/Macro/src/load_inputs/file_io/csv.jl:12\n",
      "┌ Info: Loading CSV data from system/demand.csv\n",
      "└ @ Macro /home/al3792/Macro/src/load_inputs/file_io/csv.jl:14\n",
      "┌ Info: Loading CSV data from system/hourly_cement_demand.csv\n",
      "└ @ Macro /home/al3792/Macro/src/load_inputs/file_io/csv.jl:12\n",
      "┌ Info: Loading CSV data from system/hourly_cement_demand.csv\n",
      "└ @ Macro /home/al3792/Macro/src/load_inputs/file_io/csv.jl:14\n",
      "┌ Info: Loading JSON data from assets/cementplant.json\n",
      "└ @ Macro /home/al3792/Macro/src/load_inputs/load_macroobject.jl:135\n",
      "┌ Info: Loading CSV data from assets/fuel_prices.csv\n",
      "└ @ Macro /home/al3792/Macro/src/load_inputs/file_io/csv.jl:12\n",
      "┌ Info: Loading CSV data from assets/fuel_prices.csv\n",
      "└ @ Macro /home/al3792/Macro/src/load_inputs/file_io/csv.jl:14\n",
      "┌ Info: Loading JSON data from assets/power_lines.json\n",
      "└ @ Macro /home/al3792/Macro/src/load_inputs/load_macroobject.jl:135\n",
      "┌ Info: Loading JSON data from assets/storage.json\n",
      "└ @ Macro /home/al3792/Macro/src/load_inputs/load_macroobject.jl:135\n",
      "┌ Info: Loading JSON data from assets/thermal.json\n",
      "└ @ Macro /home/al3792/Macro/src/load_inputs/load_macroobject.jl:135\n",
      "┌ Info: Loading CSV data from assets/fuel_prices.csv\n",
      "└ @ Macro /home/al3792/Macro/src/load_inputs/file_io/csv.jl:12\n",
      "┌ Info: Loading CSV data from assets/fuel_prices.csv\n",
      "└ @ Macro /home/al3792/Macro/src/load_inputs/file_io/csv.jl:14\n",
      "┌ Info: Loading JSON data from assets/vre.json\n",
      "└ @ Macro /home/al3792/Macro/src/load_inputs/load_macroobject.jl:135\n",
      "┌ Info: Loading CSV data from assets/availability.csv\n",
      "└ @ Macro /home/al3792/Macro/src/load_inputs/file_io/csv.jl:12\n",
      "┌ Info: Loading CSV data from assets/availability.csv\n",
      "└ @ Macro /home/al3792/Macro/src/load_inputs/file_io/csv.jl:14\n",
      "┌ Info: Loading CSV data from assets/availability.csv\n",
      "└ @ Macro /home/al3792/Macro/src/load_inputs/file_io/csv.jl:12\n",
      "┌ Info: Loading CSV data from assets/availability.csv\n",
      "└ @ Macro /home/al3792/Macro/src/load_inputs/file_io/csv.jl:14\n"
     ]
    },
    {
     "name": "stdout",
     "output_type": "stream",
     "text": [
      "system.settings.Scaling = false\n"
     ]
    },
    {
     "name": "stderr",
     "output_type": "stream",
     "text": [
      "┌ Info: Starting model generation\n",
      "└ @ Macro /home/al3792/Macro/src/generate_model.jl:3\n",
      "┌ Info: Adding linking variables\n",
      "└ @ Macro /home/al3792/Macro/src/generate_model.jl:17\n",
      "┌ Info: Defining available capacity\n",
      "└ @ Macro /home/al3792/Macro/src/generate_model.jl:20\n",
      "┌ Info: Generating planning model\n",
      "└ @ Macro /home/al3792/Macro/src/generate_model.jl:23\n",
      "┌ Info: Generating operational model\n",
      "└ @ Macro /home/al3792/Macro/src/generate_model.jl:26\n",
      "┌ Info: Model generation complete, it took 14.008322954177856 seconds\n",
      "└ @ Macro /home/al3792/Macro/src/generate_model.jl:31\n"
     ]
    },
    {
     "name": "stdout",
     "output_type": "stream",
     "text": [
      "Set parameter LicenseID to value 197246\n",
      "Set parameter GURO_PAR_SPECIAL\n",
      "Set parameter TokenServer to value \"license.rc.princeton.edu\"\n",
      "Set parameter BarConvTol to value 0.001\n",
      "Set parameter Crossover to value 0\n",
      "Set parameter Method to value 2\n",
      "Set parameter Method to value 2\n",
      "Set parameter Crossover to value 0\n",
      "Set parameter BarConvTol to value 0.001\n",
      "Gurobi Optimizer version 11.0.3 build v11.0.3rc0 (linux64 - \"Red Hat Enterprise Linux 8.10 (Ootpa)\")\n",
      "\n",
      "CPU model: Intel(R) Xeon(R) Gold 6246R CPU @ 3.40GHz, instruction set [SSE2|AVX|AVX2|AVX512]\n",
      "Thread count: 32 physical cores, 32 logical processors, using up to 32 threads\n",
      "\n",
      "Optimize a model with 744619 rows, 481835 columns and 2521829 nonzeros\n",
      "Model fingerprint: 0x75e58f85\n",
      "Coefficient statistics:\n",
      "  Matrix range     [4e-07, 2e+04]\n",
      "  Objective range  [1e-01, 2e+07]\n",
      "  Bounds range     [1e+00, 1e+00]\n",
      "  RHS range        [2e+00, 2e+04]\n",
      "Presolve removed 245858 rows and 140737 columns\n",
      "Presolve time: 1.00s\n",
      "Presolved: 498761 rows, 341098 columns, 1811942 nonzeros\n",
      "Ordering time: 0.48s\n",
      "\n",
      "Barrier statistics:\n",
      " Dense cols : 17\n",
      " AA' NZ     : 3.381e+06\n",
      " Factor NZ  : 1.433e+07 (roughly 500 MB of memory)\n",
      " Factor Ops : 1.086e+09 (less than 1 second per iteration)\n",
      " Threads    : 32\n",
      "\n",
      "                  Objective                Residual\n",
      "Iter       Primal          Dual         Primal    Dual     Compl     Time\n",
      "   0   1.82201026e+14 -1.04878994e+13  1.77e+05 0.00e+00  3.80e+10     3s\n",
      "   1   1.34466412e+14 -1.36152239e+14  1.37e+05 3.01e+05  1.93e+10     4s\n",
      "   2   1.17233595e+14 -1.59659814e+14  1.20e+05 1.76e+05  1.61e+10     5s\n",
      "   3   3.75546751e+13 -1.82988653e+14  3.86e+04 7.16e+04  5.68e+09     7s\n",
      "   4   9.40815082e+12 -1.52737521e+14  6.39e+03 3.33e+04  1.51e+09     8s\n",
      "   5   5.06895253e+12 -8.12690972e+13  1.36e+03 1.33e+04  5.39e+08     8s\n",
      "   6   3.22472252e+12 -1.03396547e+13  1.55e+02 7.27e+02  4.21e+07     9s\n",
      "   7   1.02249243e+12 -3.88827884e+12  3.92e+00 2.43e+02  1.21e+07    10s\n",
      "   8   5.58213389e+11 -7.25274819e+11  4.83e-01 4.27e+01  2.60e+06    11s\n",
      "   9   1.90160961e+11 -1.23157710e+11  5.10e-02 7.23e+00  5.18e+05    13s\n",
      "  10   5.05763939e+10 -1.22431813e+10  5.83e-03 2.94e-01  7.78e+04    13s\n",
      "  11   1.05935403e+10 -4.47583573e+09  1.02e-03 6.38e-02  1.76e+04    14s\n",
      "  12   6.74177305e+09 -9.43804726e+08  5.87e-04 2.26e-02  8.88e+03    15s\n",
      "  13   4.92900576e+09  4.63709686e+08  3.77e-04 1.68e-02  5.13e+03    15s\n",
      "  14   4.38613641e+09  1.30590301e+09  3.09e-04 2.42e-03  3.53e+03    17s\n",
      "  15   3.90680927e+09  1.45405601e+09  2.33e-04 1.85e-03  2.81e+03    17s\n",
      "  16   3.61893444e+09  1.56232722e+09  1.94e-04 1.24e-03  2.36e+03    19s\n",
      "  17   3.46520957e+09  1.59289909e+09  1.74e-04 1.19e-03  2.14e+03    20s\n",
      "  18   3.30501650e+09  1.70247540e+09  1.49e-04 9.97e-04  1.84e+03    21s\n",
      "  19   2.96171888e+09  1.80072325e+09  9.95e-05 7.20e-04  1.33e+03    22s\n",
      "  20   2.80944983e+09  1.83066138e+09  7.93e-05 6.52e-04  1.12e+03    24s\n",
      "  21   2.63938304e+09  1.95319790e+09  5.48e-05 4.57e-04  7.86e+02    26s\n",
      "  22   2.56714812e+09  2.05265900e+09  4.49e-05 1.98e-04  5.89e+02    27s\n",
      "  23   2.51565328e+09  2.12256418e+09  3.83e-05 9.05e-05  4.50e+02    29s\n",
      "  24   2.43119884e+09  2.16018394e+09  2.69e-05 4.22e-05  3.10e+02    30s\n",
      "  25   2.39502841e+09  2.16274169e+09  1.81e-03 2.83e-05  2.66e+02    31s\n",
      "  26   2.39393002e+09  2.18276843e+09  1.80e-03 8.51e-06  2.42e+02    32s\n",
      "  27   2.36814905e+09  2.19437730e+09  1.86e-03 3.73e-09  1.99e+02    34s\n",
      "  28   2.35309818e+09  2.20080490e+09  2.24e-03 5.82e-11  1.74e+02    36s\n",
      "  29   2.34342215e+09  2.20244595e+09  2.23e-03 3.54e-08  1.61e+02    37s\n",
      "  30   2.33651743e+09  2.20353125e+09  2.48e-03 8.73e-11  1.52e+02    40s\n",
      "  31   2.32674638e+09  2.20589902e+09  2.62e-03 7.45e-09  1.38e+02    41s\n",
      "  32   2.31265046e+09  2.20791062e+09  3.29e-03 1.12e-08  1.20e+02    46s\n",
      "  33   2.29166197e+09  2.21299865e+09  5.41e-03 5.82e-11  8.99e+01    50s\n",
      "  34   2.28078273e+09  2.21512659e+09  4.80e-03 1.02e-08  7.51e+01    54s\n",
      "  35   2.27978493e+09  2.21530213e+09  4.74e-03 1.40e-09  7.37e+01    58s\n",
      "  36   2.27640452e+09  2.21666911e+09  4.52e-03 5.82e-11  6.83e+01    60s\n",
      "  37   2.25478120e+09  2.21837434e+09  2.86e-03 2.24e-08  4.16e+01    62s\n",
      "  38   2.24950767e+09  2.21867259e+09  2.40e-03 2.98e-08  3.52e+01    64s\n",
      "  39   2.24583568e+09  2.21888222e+09  2.11e-03 5.82e-11  3.08e+01    65s\n",
      "  40   2.24157927e+09  2.21954777e+09  1.78e-03 2.05e-08  2.52e+01    67s\n",
      "  41   2.23774014e+09  2.21971140e+09  1.44e-03 1.68e-08  2.06e+01    72s\n",
      "  42   2.23554844e+09  2.22023689e+09  1.25e-03 1.68e-08  1.75e+01    77s\n",
      "  43   2.23121302e+09  2.22118184e+09  8.29e-04 2.24e-08  1.15e+01    82s\n",
      "  44   2.23017607e+09  2.22171305e+09  6.58e-04 1.86e-09  9.67e+00    89s\n",
      "  45   2.22964776e+09  2.22189277e+09  4.26e-04 2.42e-08  8.86e+00    95s\n",
      "  46   2.22916903e+09  2.22195884e+09  4.58e-04 5.12e-09  8.24e+00   101s\n",
      "  47   2.22845272e+09  2.22228472e+09  1.06e-03 8.73e-11  7.05e+00   107s\n",
      "  48   2.22740014e+09  2.22291868e+09  1.72e-03 4.66e-08  5.12e+00   114s\n",
      "  49   2.22677379e+09  2.22297190e+09  1.47e-03 2.61e-08  4.34e+00   118s\n",
      "  50   2.22622312e+09  2.22299225e+09  1.90e-03 2.05e-08  3.69e+00   122s\n",
      "  51   2.22551541e+09  2.22299544e+09  1.50e-03 6.98e-09  2.88e+00   129s\n",
      "  52   2.22500751e+09  2.22311137e+09  1.17e-03 2.79e-08  2.17e+00   135s\n",
      "\n",
      "Barrier solved model in 52 iterations and 135.33 seconds (28.60 work units)\n",
      "Optimal objective 2.22500751e+09\n",
      "\n",
      "\n",
      "User-callback calls 1524, time in user-callback 0.00 sec\n"
     ]
    }
   ],
   "source": [
    "case_path = @__DIR__\n",
    "println(\"###### ###### ######\")\n",
    "println(\"Running case at $(case_path)\")\n",
    "\n",
    "system = Macro.load_system(case_path)\n",
    "\n",
    "model = Macro.generate_model(system)\n",
    "\n",
    "Macro.set_optimizer(model, Gurobi.Optimizer);\n",
    "\n",
    "Macro.set_optimizer_attributes(model, \"BarConvTol\"=>1e-3,\"Crossover\" => 0, \"Method\" => 2)\n",
    "\n",
    "Macro.optimize!(model)"
   ]
  },
  {
   "cell_type": "code",
   "execution_count": 28,
   "metadata": {},
   "outputs": [
    {
     "name": "stdout",
     "output_type": "stream",
     "text": [
      "wrote results\n"
     ]
    }
   ],
   "source": [
    "case = \"capacity_no_co2_cap\"\n",
    "\n",
    "capacity_results = Macro.get_optimal_asset_capacity(system)\n",
    "results_dir = joinpath(case_path, \"results\")\n",
    "mkpath(results_dir)\n",
    "Macro.write_csv(joinpath(results_dir, case * \"_capacity.csv\"), capacity_results)\n",
    "println(\"wrote results\")"
   ]
  },
  {
   "cell_type": "code",
   "execution_count": 29,
   "metadata": {},
   "outputs": [
    {
     "data": {
      "text/plain": [
       "1-element Vector{Node}:\n",
       " Node{CO2}(:co2_sink, Macro.TimeData{CO2}(1:1:8760, 1, StepRange{Int64, Int64}[1:1:8760], [1], Dict(1 => 1.0)), Dict(:exogenous => Dict()), AbstractTypeConstraint[], Dict{Any, Any}(:exogenous => 1-dimensional DenseAxisArray{AffExpr,1,...} with index sets:\n",
       "    Dimension 1, 1:1:8760\n",
       "And data, a 8760-element Vector{AffExpr}:\n",
       " vFLOW_cement_MA_co2_edge[1] + vFLOW_cement_CT_co2_edge[1] + vFLOW_ng_MA_co2_edge[1] + vFLOW_ng_CT_co2_edge[1] + vFLOW_ng_ME_co2_edge[1]\n",
       " vFLOW_cement_MA_co2_edge[2] + vFLOW_cement_CT_co2_edge[2] + vFLOW_ng_MA_co2_edge[2] + vFLOW_ng_CT_co2_edge[2] + vFLOW_ng_ME_co2_edge[2]\n",
       " vFLOW_cement_MA_co2_edge[3] + vFLOW_cement_CT_co2_edge[3] + vFLOW_ng_MA_co2_edge[3] + vFLOW_ng_CT_co2_edge[3] + vFLOW_ng_ME_co2_edge[3]\n",
       " vFLOW_cement_MA_co2_edge[4] + vFLOW_cement_CT_co2_edge[4] + vFLOW_ng_MA_co2_edge[4] + vFLOW_ng_CT_co2_edge[4] + vFLOW_ng_ME_co2_edge[4]\n",
       " vFLOW_cement_MA_co2_edge[5] + vFLOW_cement_CT_co2_edge[5] + vFLOW_ng_MA_co2_edge[5] + vFLOW_ng_CT_co2_edge[5] + vFLOW_ng_ME_co2_edge[5]\n",
       " vFLOW_cement_MA_co2_edge[6] + vFLOW_cement_CT_co2_edge[6] + vFLOW_ng_MA_co2_edge[6] + vFLOW_ng_CT_co2_edge[6] + vFLOW_ng_ME_co2_edge[6]\n",
       " vFLOW_cement_MA_co2_edge[7] + vFLOW_cement_CT_co2_edge[7] + vFLOW_ng_MA_co2_edge[7] + vFLOW_ng_CT_co2_edge[7] + vFLOW_ng_ME_co2_edge[7]\n",
       " vFLOW_cement_MA_co2_edge[8] + vFLOW_cement_CT_co2_edge[8] + vFLOW_ng_MA_co2_edge[8] + vFLOW_ng_CT_co2_edge[8] + vFLOW_ng_ME_co2_edge[8]\n",
       " vFLOW_cement_MA_co2_edge[9] + vFLOW_cement_CT_co2_edge[9] + vFLOW_ng_MA_co2_edge[9] + vFLOW_ng_CT_co2_edge[9] + vFLOW_ng_ME_co2_edge[9]\n",
       " vFLOW_cement_MA_co2_edge[10] + vFLOW_cement_CT_co2_edge[10] + vFLOW_ng_MA_co2_edge[10] + vFLOW_ng_CT_co2_edge[10] + vFLOW_ng_ME_co2_edge[10]\n",
       " ⋮\n",
       " vFLOW_cement_MA_co2_edge[8752] + vFLOW_cement_CT_co2_edge[8752] + vFLOW_ng_MA_co2_edge[8752] + vFLOW_ng_CT_co2_edge[8752] + vFLOW_ng_ME_co2_edge[8752]\n",
       " vFLOW_cement_MA_co2_edge[8753] + vFLOW_cement_CT_co2_edge[8753] + vFLOW_ng_MA_co2_edge[8753] + vFLOW_ng_CT_co2_edge[8753] + vFLOW_ng_ME_co2_edge[8753]\n",
       " vFLOW_cement_MA_co2_edge[8754] + vFLOW_cement_CT_co2_edge[8754] + vFLOW_ng_MA_co2_edge[8754] + vFLOW_ng_CT_co2_edge[8754] + vFLOW_ng_ME_co2_edge[8754]\n",
       " vFLOW_cement_MA_co2_edge[8755] + vFLOW_cement_CT_co2_edge[8755] + vFLOW_ng_MA_co2_edge[8755] + vFLOW_ng_CT_co2_edge[8755] + vFLOW_ng_ME_co2_edge[8755]\n",
       " vFLOW_cement_MA_co2_edge[8756] + vFLOW_cement_CT_co2_edge[8756] + vFLOW_ng_MA_co2_edge[8756] + vFLOW_ng_CT_co2_edge[8756] + vFLOW_ng_ME_co2_edge[8756]\n",
       " vFLOW_cement_MA_co2_edge[8757] + vFLOW_cement_CT_co2_edge[8757] + vFLOW_ng_MA_co2_edge[8757] + vFLOW_ng_CT_co2_edge[8757] + vFLOW_ng_ME_co2_edge[8757]\n",
       " vFLOW_cement_MA_co2_edge[8758] + vFLOW_cement_CT_co2_edge[8758] + vFLOW_ng_MA_co2_edge[8758] + vFLOW_ng_CT_co2_edge[8758] + vFLOW_ng_ME_co2_edge[8758]\n",
       " vFLOW_cement_MA_co2_edge[8759] + vFLOW_cement_CT_co2_edge[8759] + vFLOW_ng_MA_co2_edge[8759] + vFLOW_ng_CT_co2_edge[8759] + vFLOW_ng_ME_co2_edge[8759]\n",
       " vFLOW_cement_MA_co2_edge[8760] + vFLOW_cement_CT_co2_edge[8760] + vFLOW_ng_MA_co2_edge[8760] + vFLOW_ng_CT_co2_edge[8760] + vFLOW_ng_ME_co2_edge[8760]), Float64[], [0.0], [0.0], Matrix{VariableRef}(undef, 0, 0), Dict{Any, Any}(), Dict{Any, Any}(), Float64[], [0.0], [0.0], Dict{DataType, Float64}(), Dict{DataType, Float64}(), Matrix{VariableRef}(undef, 0, 0))"
      ]
     },
     "metadata": {},
     "output_type": "display_data"
    }
   ],
   "source": [
    "co2_nodes = Macro.get_nodes_sametype(system.locations, CO2)"
   ]
  },
  {
   "cell_type": "code",
   "execution_count": 31,
   "metadata": {},
   "outputs": [
    {
     "data": {
      "text/html": [
       "<div><div style = \"float: left;\"><span>8760×8 DataFrame</span></div><div style = \"float: right;\"><span style = \"font-style: italic;\">8735 rows omitted</span></div><div style = \"clear: both;\"></div></div><div class = \"data-frame\" style = \"overflow-x: scroll;\"><table class = \"data-frame\" style = \"margin-bottom: 6px;\"><thead><tr class = \"header\"><th class = \"rowNumber\" style = \"font-weight: bold; text-align: right;\">Row</th><th style = \"text-align: left;\">cement_plant_1</th><th style = \"text-align: left;\">cement_plant_2</th><th style = \"text-align: left;\">cement_plant_1_emissions</th><th style = \"text-align: left;\">cement_plant_2_emissions</th><th style = \"text-align: left;\">ng_1_emissions</th><th style = \"text-align: left;\">ng_2_emissions</th><th style = \"text-align: left;\">ng_3_emissions</th><th style = \"text-align: left;\">total_emissions</th></tr><tr class = \"subheader headerLastRow\"><th class = \"rowNumber\" style = \"font-weight: bold; text-align: right;\"></th><th title = \"Float64\" style = \"text-align: left;\">Float64</th><th title = \"Float64\" style = \"text-align: left;\">Float64</th><th title = \"Float64\" style = \"text-align: left;\">Float64</th><th title = \"Float64\" style = \"text-align: left;\">Float64</th><th title = \"Float64\" style = \"text-align: left;\">Float64</th><th title = \"Float64\" style = \"text-align: left;\">Float64</th><th title = \"Float64\" style = \"text-align: left;\">Float64</th><th title = \"Float64\" style = \"text-align: left;\">Float64</th></tr></thead><tbody><tr><td class = \"rowNumber\" style = \"font-weight: bold; text-align: right;\">1</td><td style = \"text-align: right;\">17.5661</td><td style = \"text-align: right;\">82.4339</td><td style = \"text-align: right;\">13.6313</td><td style = \"text-align: right;\">63.9687</td><td style = \"text-align: right;\">1823.62</td><td style = \"text-align: right;\">197.566</td><td style = \"text-align: right;\">2.2792</td><td style = \"text-align: right;\">2101.06</td></tr><tr><td class = \"rowNumber\" style = \"font-weight: bold; text-align: right;\">2</td><td style = \"text-align: right;\">17.566</td><td style = \"text-align: right;\">82.434</td><td style = \"text-align: right;\">13.6312</td><td style = \"text-align: right;\">63.9688</td><td style = \"text-align: right;\">1713.97</td><td style = \"text-align: right;\">197.548</td><td style = \"text-align: right;\">2.29079</td><td style = \"text-align: right;\">1991.41</td></tr><tr><td class = \"rowNumber\" style = \"font-weight: bold; text-align: right;\">3</td><td style = \"text-align: right;\">17.566</td><td style = \"text-align: right;\">82.434</td><td style = \"text-align: right;\">13.6312</td><td style = \"text-align: right;\">63.9688</td><td style = \"text-align: right;\">1632.43</td><td style = \"text-align: right;\">197.467</td><td style = \"text-align: right;\">2.29388</td><td style = \"text-align: right;\">1909.79</td></tr><tr><td class = \"rowNumber\" style = \"font-weight: bold; text-align: right;\">4</td><td style = \"text-align: right;\">17.566</td><td style = \"text-align: right;\">82.434</td><td style = \"text-align: right;\">13.6312</td><td style = \"text-align: right;\">63.9688</td><td style = \"text-align: right;\">1591.41</td><td style = \"text-align: right;\">197.401</td><td style = \"text-align: right;\">2.29007</td><td style = \"text-align: right;\">1868.71</td></tr><tr><td class = \"rowNumber\" style = \"font-weight: bold; text-align: right;\">5</td><td style = \"text-align: right;\">17.5659</td><td style = \"text-align: right;\">82.4341</td><td style = \"text-align: right;\">13.6312</td><td style = \"text-align: right;\">63.9688</td><td style = \"text-align: right;\">1585.01</td><td style = \"text-align: right;\">197.471</td><td style = \"text-align: right;\">2.28015</td><td style = \"text-align: right;\">1862.36</td></tr><tr><td class = \"rowNumber\" style = \"font-weight: bold; text-align: right;\">6</td><td style = \"text-align: right;\">17.5653</td><td style = \"text-align: right;\">82.4347</td><td style = \"text-align: right;\">13.6307</td><td style = \"text-align: right;\">63.9693</td><td style = \"text-align: right;\">1616.46</td><td style = \"text-align: right;\">197.497</td><td style = \"text-align: right;\">2.25853</td><td style = \"text-align: right;\">1893.81</td></tr><tr><td class = \"rowNumber\" style = \"font-weight: bold; text-align: right;\">7</td><td style = \"text-align: right;\">17.5653</td><td style = \"text-align: right;\">82.4347</td><td style = \"text-align: right;\">13.6307</td><td style = \"text-align: right;\">63.9693</td><td style = \"text-align: right;\">1684.05</td><td style = \"text-align: right;\">197.427</td><td style = \"text-align: right;\">2.2276</td><td style = \"text-align: right;\">1961.3</td></tr><tr><td class = \"rowNumber\" style = \"font-weight: bold; text-align: right;\">8</td><td style = \"text-align: right;\">17.5659</td><td style = \"text-align: right;\">82.4341</td><td style = \"text-align: right;\">13.6311</td><td style = \"text-align: right;\">63.9689</td><td style = \"text-align: right;\">1745.35</td><td style = \"text-align: right;\">197.193</td><td style = \"text-align: right;\">2.18864</td><td style = \"text-align: right;\">2022.33</td></tr><tr><td class = \"rowNumber\" style = \"font-weight: bold; text-align: right;\">9</td><td style = \"text-align: right;\">17.5662</td><td style = \"text-align: right;\">82.4338</td><td style = \"text-align: right;\">13.6314</td><td style = \"text-align: right;\">63.9686</td><td style = \"text-align: right;\">1848.91</td><td style = \"text-align: right;\">197.048</td><td style = \"text-align: right;\">2.2594</td><td style = \"text-align: right;\">2125.81</td></tr><tr><td class = \"rowNumber\" style = \"font-weight: bold; text-align: right;\">10</td><td style = \"text-align: right;\">17.5624</td><td style = \"text-align: right;\">82.4376</td><td style = \"text-align: right;\">13.6285</td><td style = \"text-align: right;\">63.9715</td><td style = \"text-align: right;\">1947.87</td><td style = \"text-align: right;\">199.586</td><td style = \"text-align: right;\">2.32438</td><td style = \"text-align: right;\">2227.38</td></tr><tr><td class = \"rowNumber\" style = \"font-weight: bold; text-align: right;\">11</td><td style = \"text-align: right;\">17.5627</td><td style = \"text-align: right;\">82.4373</td><td style = \"text-align: right;\">13.6286</td><td style = \"text-align: right;\">63.9714</td><td style = \"text-align: right;\">2010.32</td><td style = \"text-align: right;\">198.107</td><td style = \"text-align: right;\">2.29947</td><td style = \"text-align: right;\">2288.33</td></tr><tr><td class = \"rowNumber\" style = \"font-weight: bold; text-align: right;\">12</td><td style = \"text-align: right;\">17.5664</td><td style = \"text-align: right;\">82.4336</td><td style = \"text-align: right;\">13.6315</td><td style = \"text-align: right;\">63.9685</td><td style = \"text-align: right;\">2033.28</td><td style = \"text-align: right;\">197.809</td><td style = \"text-align: right;\">2.26835</td><td style = \"text-align: right;\">2310.96</td></tr><tr><td class = \"rowNumber\" style = \"font-weight: bold; text-align: right;\">13</td><td style = \"text-align: right;\">17.5658</td><td style = \"text-align: right;\">82.4342</td><td style = \"text-align: right;\">13.631</td><td style = \"text-align: right;\">63.969</td><td style = \"text-align: right;\">2044.37</td><td style = \"text-align: right;\">197.567</td><td style = \"text-align: right;\">2.27436</td><td style = \"text-align: right;\">2321.81</td></tr><tr><td style = \"text-align: right;\">&vellip;</td><td style = \"text-align: right;\">&vellip;</td><td style = \"text-align: right;\">&vellip;</td><td style = \"text-align: right;\">&vellip;</td><td style = \"text-align: right;\">&vellip;</td><td style = \"text-align: right;\">&vellip;</td><td style = \"text-align: right;\">&vellip;</td><td style = \"text-align: right;\">&vellip;</td><td style = \"text-align: right;\">&vellip;</td></tr><tr><td class = \"rowNumber\" style = \"font-weight: bold; text-align: right;\">8749</td><td style = \"text-align: right;\">17.5662</td><td style = \"text-align: right;\">82.4338</td><td style = \"text-align: right;\">13.6314</td><td style = \"text-align: right;\">63.9686</td><td style = \"text-align: right;\">2564.26</td><td style = \"text-align: right;\">198.308</td><td style = \"text-align: right;\">2.22273</td><td style = \"text-align: right;\">2842.39</td></tr><tr><td class = \"rowNumber\" style = \"font-weight: bold; text-align: right;\">8750</td><td style = \"text-align: right;\">17.5661</td><td style = \"text-align: right;\">82.4339</td><td style = \"text-align: right;\">13.6313</td><td style = \"text-align: right;\">63.9687</td><td style = \"text-align: right;\">2518.42</td><td style = \"text-align: right;\">197.966</td><td style = \"text-align: right;\">2.21415</td><td style = \"text-align: right;\">2796.2</td></tr><tr><td class = \"rowNumber\" style = \"font-weight: bold; text-align: right;\">8751</td><td style = \"text-align: right;\">17.5657</td><td style = \"text-align: right;\">82.4343</td><td style = \"text-align: right;\">13.631</td><td style = \"text-align: right;\">63.969</td><td style = \"text-align: right;\">2489.37</td><td style = \"text-align: right;\">198.087</td><td style = \"text-align: right;\">2.19501</td><td style = \"text-align: right;\">2767.25</td></tr><tr><td class = \"rowNumber\" style = \"font-weight: bold; text-align: right;\">8752</td><td style = \"text-align: right;\">17.5658</td><td style = \"text-align: right;\">82.4342</td><td style = \"text-align: right;\">13.6311</td><td style = \"text-align: right;\">63.9689</td><td style = \"text-align: right;\">2497.32</td><td style = \"text-align: right;\">198.215</td><td style = \"text-align: right;\">2.20053</td><td style = \"text-align: right;\">2775.33</td></tr><tr><td class = \"rowNumber\" style = \"font-weight: bold; text-align: right;\">8753</td><td style = \"text-align: right;\">17.5661</td><td style = \"text-align: right;\">82.4339</td><td style = \"text-align: right;\">13.6313</td><td style = \"text-align: right;\">63.9687</td><td style = \"text-align: right;\">2693.3</td><td style = \"text-align: right;\">197.635</td><td style = \"text-align: right;\">2.26171</td><td style = \"text-align: right;\">2970.8</td></tr><tr><td class = \"rowNumber\" style = \"font-weight: bold; text-align: right;\">8754</td><td style = \"text-align: right;\">17.5661</td><td style = \"text-align: right;\">82.4339</td><td style = \"text-align: right;\">13.6313</td><td style = \"text-align: right;\">63.9687</td><td style = \"text-align: right;\">2718.22</td><td style = \"text-align: right;\">347.812</td><td style = \"text-align: right;\">2.25899</td><td style = \"text-align: right;\">3145.89</td></tr><tr><td class = \"rowNumber\" style = \"font-weight: bold; text-align: right;\">8755</td><td style = \"text-align: right;\">17.566</td><td style = \"text-align: right;\">82.434</td><td style = \"text-align: right;\">13.6312</td><td style = \"text-align: right;\">63.9688</td><td style = \"text-align: right;\">2717.92</td><td style = \"text-align: right;\">258.871</td><td style = \"text-align: right;\">2.27182</td><td style = \"text-align: right;\">3056.66</td></tr><tr><td class = \"rowNumber\" style = \"font-weight: bold; text-align: right;\">8756</td><td style = \"text-align: right;\">17.566</td><td style = \"text-align: right;\">82.434</td><td style = \"text-align: right;\">13.6312</td><td style = \"text-align: right;\">63.9688</td><td style = \"text-align: right;\">2528.17</td><td style = \"text-align: right;\">198.73</td><td style = \"text-align: right;\">2.22512</td><td style = \"text-align: right;\">2806.73</td></tr><tr><td class = \"rowNumber\" style = \"font-weight: bold; text-align: right;\">8757</td><td style = \"text-align: right;\">17.5661</td><td style = \"text-align: right;\">82.4339</td><td style = \"text-align: right;\">13.6313</td><td style = \"text-align: right;\">63.9687</td><td style = \"text-align: right;\">2401.77</td><td style = \"text-align: right;\">198.304</td><td style = \"text-align: right;\">2.19736</td><td style = \"text-align: right;\">2679.87</td></tr><tr><td class = \"rowNumber\" style = \"font-weight: bold; text-align: right;\">8758</td><td style = \"text-align: right;\">17.566</td><td style = \"text-align: right;\">82.434</td><td style = \"text-align: right;\">13.6312</td><td style = \"text-align: right;\">63.9688</td><td style = \"text-align: right;\">2280.22</td><td style = \"text-align: right;\">198.125</td><td style = \"text-align: right;\">2.2027</td><td style = \"text-align: right;\">2558.14</td></tr><tr><td class = \"rowNumber\" style = \"font-weight: bold; text-align: right;\">8759</td><td style = \"text-align: right;\">17.566</td><td style = \"text-align: right;\">82.434</td><td style = \"text-align: right;\">13.6312</td><td style = \"text-align: right;\">63.9688</td><td style = \"text-align: right;\">2153.54</td><td style = \"text-align: right;\">197.84</td><td style = \"text-align: right;\">2.22755</td><td style = \"text-align: right;\">2431.2</td></tr><tr><td class = \"rowNumber\" style = \"font-weight: bold; text-align: right;\">8760</td><td style = \"text-align: right;\">17.566</td><td style = \"text-align: right;\">82.434</td><td style = \"text-align: right;\">13.6312</td><td style = \"text-align: right;\">63.9688</td><td style = \"text-align: right;\">2027.11</td><td style = \"text-align: right;\">197.725</td><td style = \"text-align: right;\">2.25448</td><td style = \"text-align: right;\">2304.69</td></tr></tbody></table></div>"
      ],
      "text/latex": [
       "\\begin{tabular}{r|ccccc}\n",
       "\t& cement\\_plant\\_1 & cement\\_plant\\_2 & cement\\_plant\\_1\\_emissions & cement\\_plant\\_2\\_emissions & \\\\\n",
       "\t\\hline\n",
       "\t& Float64 & Float64 & Float64 & Float64 & \\\\\n",
       "\t\\hline\n",
       "\t1 & 17.5661 & 82.4339 & 13.6313 & 63.9687 & $\\dots$ \\\\\n",
       "\t2 & 17.566 & 82.434 & 13.6312 & 63.9688 & $\\dots$ \\\\\n",
       "\t3 & 17.566 & 82.434 & 13.6312 & 63.9688 & $\\dots$ \\\\\n",
       "\t4 & 17.566 & 82.434 & 13.6312 & 63.9688 & $\\dots$ \\\\\n",
       "\t5 & 17.5659 & 82.4341 & 13.6312 & 63.9688 & $\\dots$ \\\\\n",
       "\t6 & 17.5653 & 82.4347 & 13.6307 & 63.9693 & $\\dots$ \\\\\n",
       "\t7 & 17.5653 & 82.4347 & 13.6307 & 63.9693 & $\\dots$ \\\\\n",
       "\t8 & 17.5659 & 82.4341 & 13.6311 & 63.9689 & $\\dots$ \\\\\n",
       "\t9 & 17.5662 & 82.4338 & 13.6314 & 63.9686 & $\\dots$ \\\\\n",
       "\t10 & 17.5624 & 82.4376 & 13.6285 & 63.9715 & $\\dots$ \\\\\n",
       "\t11 & 17.5627 & 82.4373 & 13.6286 & 63.9714 & $\\dots$ \\\\\n",
       "\t12 & 17.5664 & 82.4336 & 13.6315 & 63.9685 & $\\dots$ \\\\\n",
       "\t13 & 17.5658 & 82.4342 & 13.631 & 63.969 & $\\dots$ \\\\\n",
       "\t14 & 17.5658 & 82.4342 & 13.631 & 63.969 & $\\dots$ \\\\\n",
       "\t15 & 17.5661 & 82.4339 & 13.6313 & 63.9687 & $\\dots$ \\\\\n",
       "\t16 & 17.5659 & 82.4341 & 13.6312 & 63.9688 & $\\dots$ \\\\\n",
       "\t17 & 17.5655 & 82.4345 & 13.6308 & 63.9692 & $\\dots$ \\\\\n",
       "\t18 & 17.5661 & 82.4339 & 13.6313 & 63.9687 & $\\dots$ \\\\\n",
       "\t19 & 17.5661 & 82.4339 & 13.6313 & 63.9687 & $\\dots$ \\\\\n",
       "\t20 & 17.5661 & 82.4339 & 13.6313 & 63.9687 & $\\dots$ \\\\\n",
       "\t21 & 17.5661 & 82.4339 & 13.6313 & 63.9687 & $\\dots$ \\\\\n",
       "\t22 & 17.5661 & 82.4339 & 13.6313 & 63.9687 & $\\dots$ \\\\\n",
       "\t23 & 17.5661 & 82.4339 & 13.6313 & 63.9687 & $\\dots$ \\\\\n",
       "\t24 & 17.566 & 82.434 & 13.6312 & 63.9688 & $\\dots$ \\\\\n",
       "\t$\\dots$ & $\\dots$ & $\\dots$ & $\\dots$ & $\\dots$ &  \\\\\n",
       "\\end{tabular}\n"
      ],
      "text/plain": [
       "\u001b[1m8760×8 DataFrame\u001b[0m\n",
       "\u001b[1m  Row \u001b[0m│\u001b[1m cement_plant_1 \u001b[0m\u001b[1m cement_plant_2 \u001b[0m\u001b[1m cement_plant_1_emissions \u001b[0m\u001b[1m cement_plant\u001b[0m ⋯\n",
       "      │\u001b[90m Float64        \u001b[0m\u001b[90m Float64        \u001b[0m\u001b[90m Float64                  \u001b[0m\u001b[90m Float64     \u001b[0m ⋯\n",
       "──────┼─────────────────────────────────────────────────────────────────────────\n",
       "    1 │        17.5661         82.4339                   13.6313               ⋯\n",
       "    2 │        17.566          82.434                    13.6312\n",
       "    3 │        17.566          82.434                    13.6312\n",
       "    4 │        17.566          82.434                    13.6312\n",
       "    5 │        17.5659         82.4341                   13.6312               ⋯\n",
       "    6 │        17.5653         82.4347                   13.6307\n",
       "    7 │        17.5653         82.4347                   13.6307\n",
       "    8 │        17.5659         82.4341                   13.6311\n",
       "  ⋮   │       ⋮               ⋮                    ⋮                         ⋮ ⋱\n",
       " 8754 │        17.5661         82.4339                   13.6313               ⋯\n",
       " 8755 │        17.566          82.434                    13.6312\n",
       " 8756 │        17.566          82.434                    13.6312\n",
       " 8757 │        17.5661         82.4339                   13.6313\n",
       " 8758 │        17.566          82.434                    13.6312               ⋯\n",
       " 8759 │        17.566          82.434                    13.6312\n",
       " 8760 │        17.566          82.434                    13.6312\n",
       "\u001b[36m                                                 5 columns and 8745 rows omitted\u001b[0m"
      ]
     },
     "metadata": {},
     "output_type": "display_data"
    }
   ],
   "source": [
    "results_8760 = DataFrame(\n",
    "    cement_plant_1 = Macro.value.(Macro.flow(system.assets[1].cement_edge)).data,\n",
    "    cement_plant_2 = Macro.value.(Macro.flow(system.assets[2].cement_edge)).data,\n",
    "    #cement_plant_3 = Macro.value.(Macro.flow(system.assets[3].cement_edge)).data,\n",
    "\n",
    "    cement_plant_1_emissions = Macro.value.(Macro.flow(system.assets[1].co2_edge)).data,\n",
    "    cement_plant_2_emissions = Macro.value.(Macro.flow(system.assets[2].co2_edge)).data,\n",
    "    #cement_plant_3_emissions = Macro.value.(Macro.flow(system.assets[3].co2_edge)).data,\n",
    "\n",
    "    ng_1_emissions = Macro.value.(Macro.flow(system.assets[8].co2_edge)).data,\n",
    "    ng_2_emissions = Macro.value.(Macro.flow(system.assets[9].co2_edge)).data,\n",
    "    ng_3_emissions = Macro.value.(Macro.flow(system.assets[10].co2_edge)).data,\n",
    "\n",
    "    total_emissions = Macro.value.(co2_nodes[1].operation_expr[:exogenous].data)\n",
    ")"
   ]
  },
  {
   "cell_type": "code",
   "execution_count": 32,
   "metadata": {},
   "outputs": [
    {
     "data": {
      "text/html": [
       "<div><div style = \"float: left;\"><span>DataFrameRow (2 columns)</span></div><div style = \"clear: both;\"></div></div><div class = \"data-frame\" style = \"overflow-x: scroll;\"><table class = \"data-frame\" style = \"margin-bottom: 6px;\"><thead><tr class = \"header\"><th class = \"rowLabel\" style = \"font-weight: bold; text-align: right;\">Row</th><th style = \"text-align: left;\">cement_plant_1</th><th style = \"text-align: left;\">cement_plant_2</th></tr><tr class = \"subheader headerLastRow\"><th class = \"rowLabel\" style = \"font-weight: bold; text-align: right;\"></th><th title = \"Float64\" style = \"text-align: left;\">Float64</th><th title = \"Float64\" style = \"text-align: left;\">Float64</th></tr></thead><tbody><tr><td class = \"rowLabel\" style = \"font-weight: bold; text-align: right;\">6727</td><td style = \"text-align: right;\">17.569</td><td style = \"text-align: right;\">82.431</td></tr></tbody></table></div>"
      ],
      "text/latex": [
       "\\begin{tabular}{r|cc}\n",
       "\t& cement\\_plant\\_1 & cement\\_plant\\_2\\\\\n",
       "\t\\hline\n",
       "\t& Float64 & Float64\\\\\n",
       "\t\\hline\n",
       "\t6727 & 17.569 & 82.431 \\\\\n",
       "\\end{tabular}\n"
      ],
      "text/plain": [
       "\u001b[1mDataFrameRow\u001b[0m\n",
       "\u001b[1m  Row \u001b[0m│\u001b[1m cement_plant_1 \u001b[0m\u001b[1m cement_plant_2 \u001b[0m\n",
       "      │\u001b[90m Float64        \u001b[0m\u001b[90m Float64        \u001b[0m\n",
       "──────┼────────────────────────────────\n",
       " 6727 │         17.569          82.431"
      ]
     },
     "metadata": {},
     "output_type": "display_data"
    }
   ],
   "source": [
    "maximum(eachrow(results_8760[!, 1:2]))"
   ]
  },
  {
   "cell_type": "code",
   "execution_count": 18,
   "metadata": {},
   "outputs": [
    {
     "data": {
      "text/plain": [
       "1-element Vector{AbstractTypeConstraint}:\n",
       " CapacityConstraint(missing, missing, 1-dimensional DenseAxisArray{ConstraintRef{Model, MathOptInterface.ConstraintIndex{MathOptInterface.ScalarAffineFunction{Float64}, MathOptInterface.LessThan{Float64}}, ScalarShape},1,...} with index sets:\n",
       "    Dimension 1, 1:1:8760\n",
       "And data, a 8760-element Vector{ConstraintRef{Model, MathOptInterface.ConstraintIndex{MathOptInterface.ScalarAffineFunction{Float64}, MathOptInterface.LessThan{Float64}}, ScalarShape}}:\n",
       " -vNEWCAP_cement_MA_cement_edge + vRETCAP_cement_MA_cement_edge + vFLOW_cement_MA_cement_edge[1] ≤ 0\n",
       " -vNEWCAP_cement_MA_cement_edge + vRETCAP_cement_MA_cement_edge + vFLOW_cement_MA_cement_edge[2] ≤ 0\n",
       " -vNEWCAP_cement_MA_cement_edge + vRETCAP_cement_MA_cement_edge + vFLOW_cement_MA_cement_edge[3] ≤ 0\n",
       " -vNEWCAP_cement_MA_cement_edge + vRETCAP_cement_MA_cement_edge + vFLOW_cement_MA_cement_edge[4] ≤ 0\n",
       " -vNEWCAP_cement_MA_cement_edge + vRETCAP_cement_MA_cement_edge + vFLOW_cement_MA_cement_edge[5] ≤ 0\n",
       " -vNEWCAP_cement_MA_cement_edge + vRETCAP_cement_MA_cement_edge + vFLOW_cement_MA_cement_edge[6] ≤ 0\n",
       " -vNEWCAP_cement_MA_cement_edge + vRETCAP_cement_MA_cement_edge + vFLOW_cement_MA_cement_edge[7] ≤ 0\n",
       " -vNEWCAP_cement_MA_cement_edge + vRETCAP_cement_MA_cement_edge + vFLOW_cement_MA_cement_edge[8] ≤ 0\n",
       " -vNEWCAP_cement_MA_cement_edge + vRETCAP_cement_MA_cement_edge + vFLOW_cement_MA_cement_edge[9] ≤ 0\n",
       " -vNEWCAP_cement_MA_cement_edge + vRETCAP_cement_MA_cement_edge + vFLOW_cement_MA_cement_edge[10] ≤ 0\n",
       " ⋮\n",
       " -vNEWCAP_cement_MA_cement_edge + vRETCAP_cement_MA_cement_edge + vFLOW_cement_MA_cement_edge[8752] ≤ 0\n",
       " -vNEWCAP_cement_MA_cement_edge + vRETCAP_cement_MA_cement_edge + vFLOW_cement_MA_cement_edge[8753] ≤ 0\n",
       " -vNEWCAP_cement_MA_cement_edge + vRETCAP_cement_MA_cement_edge + vFLOW_cement_MA_cement_edge[8754] ≤ 0\n",
       " -vNEWCAP_cement_MA_cement_edge + vRETCAP_cement_MA_cement_edge + vFLOW_cement_MA_cement_edge[8755] ≤ 0\n",
       " -vNEWCAP_cement_MA_cement_edge + vRETCAP_cement_MA_cement_edge + vFLOW_cement_MA_cement_edge[8756] ≤ 0\n",
       " -vNEWCAP_cement_MA_cement_edge + vRETCAP_cement_MA_cement_edge + vFLOW_cement_MA_cement_edge[8757] ≤ 0\n",
       " -vNEWCAP_cement_MA_cement_edge + vRETCAP_cement_MA_cement_edge + vFLOW_cement_MA_cement_edge[8758] ≤ 0\n",
       " -vNEWCAP_cement_MA_cement_edge + vRETCAP_cement_MA_cement_edge + vFLOW_cement_MA_cement_edge[8759] ≤ 0\n",
       " -vNEWCAP_cement_MA_cement_edge + vRETCAP_cement_MA_cement_edge + vFLOW_cement_MA_cement_edge[8760] ≤ 0)"
      ]
     },
     "metadata": {},
     "output_type": "display_data"
    }
   ],
   "source": [
    "system.assets[1].cement_edge.constraints"
   ]
  },
  {
   "cell_type": "code",
   "execution_count": null,
   "metadata": {},
   "outputs": [],
   "source": []
  }
 ],
 "metadata": {
  "kernelspec": {
   "display_name": "Julia 1.11.1",
   "language": "julia",
   "name": "julia-1.11"
  },
  "language_info": {
   "file_extension": ".jl",
   "mimetype": "application/julia",
   "name": "julia",
   "version": "1.11.1"
  }
 },
 "nbformat": 4,
 "nbformat_minor": 2
}
