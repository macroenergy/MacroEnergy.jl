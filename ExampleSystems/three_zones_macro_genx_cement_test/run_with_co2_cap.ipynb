{
 "cells": [
  {
   "cell_type": "code",
   "execution_count": 15,
   "metadata": {},
   "outputs": [
    {
     "name": "stderr",
     "output_type": "stream",
     "text": [
      "\u001b[32m\u001b[1m  Activating\u001b[22m\u001b[39m project at `~/Macro`\n"
     ]
    }
   ],
   "source": [
    "using Pkg\n",
    "using Revise\n",
    "Pkg.activate(dirname(dirname(@__DIR__)))\n",
    "using Macro\n",
    "using Gurobi\n",
    "using Plots\n",
    "using DataFrames, CSV\n",
    "using BenchmarkTools\n",
    "using JuMP"
   ]
  },
  {
   "cell_type": "code",
   "execution_count": 16,
   "metadata": {},
   "outputs": [
    {
     "name": "stdout",
     "output_type": "stream",
     "text": [
      "###### ###### ######\n",
      "Running case at /home/al3792/Macro/ExampleSystems/three_zones_macro_genx_cement_test\n"
     ]
    },
    {
     "name": "stderr",
     "output_type": "stream",
     "text": [
      "┌ Info: Loading JSON data from /home/al3792/Macro/ExampleSystems/three_zones_macro_genx_cement_test/system_data.json\n",
      "└ @ Macro /home/al3792/Macro/src/load_inputs/load_macroobject.jl:135\n",
      "┌ Info: Loading JSON data from /home/al3792/Macro/ExampleSystems/three_zones_macro_genx_cement_test/system_data.json\n",
      "└ @ Macro /home/al3792/Macro/src/load_inputs/load_macroobject.jl:135\n",
      "┌ Info: Loading JSON data from system/nodes.json\n",
      "└ @ Macro /home/al3792/Macro/src/load_inputs/load_macroobject.jl:135\n",
      "┌ Info: Loading CSV data from system/demand.csv\n",
      "└ @ Macro /home/al3792/Macro/src/load_inputs/file_io/csv.jl:12\n",
      "┌ Info: Loading CSV data from system/demand.csv\n",
      "└ @ Macro /home/al3792/Macro/src/load_inputs/file_io/csv.jl:14\n",
      "┌ Info: Loading CSV data from system/hourly_cement_demand.csv\n",
      "└ @ Macro /home/al3792/Macro/src/load_inputs/file_io/csv.jl:12\n",
      "┌ Info: Loading CSV data from system/hourly_cement_demand.csv\n",
      "└ @ Macro /home/al3792/Macro/src/load_inputs/file_io/csv.jl:14\n",
      "┌ Info: Loading JSON data from assets/cementplant.json\n",
      "└ @ Macro /home/al3792/Macro/src/load_inputs/load_macroobject.jl:135\n",
      "┌ Info: Loading CSV data from assets/fuel_prices.csv\n",
      "└ @ Macro /home/al3792/Macro/src/load_inputs/file_io/csv.jl:12\n",
      "┌ Info: Loading CSV data from assets/fuel_prices.csv\n",
      "└ @ Macro /home/al3792/Macro/src/load_inputs/file_io/csv.jl:14\n",
      "┌ Info: Loading JSON data from assets/power_lines.json\n",
      "└ @ Macro /home/al3792/Macro/src/load_inputs/load_macroobject.jl:135\n",
      "┌ Info: Loading JSON data from assets/storage.json\n",
      "└ @ Macro /home/al3792/Macro/src/load_inputs/load_macroobject.jl:135\n",
      "┌ Info: Loading JSON data from assets/thermal.json\n",
      "└ @ Macro /home/al3792/Macro/src/load_inputs/load_macroobject.jl:135\n",
      "┌ Info: Loading CSV data from assets/fuel_prices.csv\n",
      "└ @ Macro /home/al3792/Macro/src/load_inputs/file_io/csv.jl:12\n",
      "┌ Info: Loading CSV data from assets/fuel_prices.csv\n",
      "└ @ Macro /home/al3792/Macro/src/load_inputs/file_io/csv.jl:14\n",
      "┌ Info: Loading JSON data from assets/vre.json\n",
      "└ @ Macro /home/al3792/Macro/src/load_inputs/load_macroobject.jl:135\n",
      "┌ Info: Loading CSV data from assets/availability.csv\n",
      "└ @ Macro /home/al3792/Macro/src/load_inputs/file_io/csv.jl:12\n",
      "┌ Info: Loading CSV data from assets/availability.csv\n",
      "└ @ Macro /home/al3792/Macro/src/load_inputs/file_io/csv.jl:14\n",
      "┌ Info: Loading CSV data from assets/availability.csv\n",
      "└ @ Macro /home/al3792/Macro/src/load_inputs/file_io/csv.jl:12\n",
      "┌ Info: Loading CSV data from assets/availability.csv\n",
      "└ @ Macro /home/al3792/Macro/src/load_inputs/file_io/csv.jl:14\n"
     ]
    },
    {
     "name": "stdout",
     "output_type": "stream",
     "text": [
      "system.settings.Scaling = false\n"
     ]
    },
    {
     "name": "stderr",
     "output_type": "stream",
     "text": [
      "┌ Info: Starting model generation\n",
      "└ @ Macro /home/al3792/Macro/src/generate_model.jl:3\n",
      "┌ Info: Adding linking variables\n",
      "└ @ Macro /home/al3792/Macro/src/generate_model.jl:17\n",
      "┌ Info: Defining available capacity\n",
      "└ @ Macro /home/al3792/Macro/src/generate_model.jl:20\n",
      "┌ Info: Generating planning model\n",
      "└ @ Macro /home/al3792/Macro/src/generate_model.jl:23\n",
      "┌ Info: Generating operational model\n",
      "└ @ Macro /home/al3792/Macro/src/generate_model.jl:26\n",
      "┌ Info: Model generation complete, it took 12.549198150634766 seconds\n",
      "└ @ Macro /home/al3792/Macro/src/generate_model.jl:31\n"
     ]
    },
    {
     "name": "stdout",
     "output_type": "stream",
     "text": [
      "Set parameter LicenseID to value 197246\n",
      "Set parameter GURO_PAR_SPECIAL\n",
      "Set parameter TokenServer to value \"license.rc.princeton.edu\"\n",
      "Set parameter BarConvTol to value 0.001\n",
      "Set parameter Crossover to value 0\n",
      "Set parameter Method to value 2\n",
      "Set parameter Method to value 2\n",
      "Set parameter Crossover to value 0\n",
      "Set parameter BarConvTol to value 0.001\n",
      "Gurobi Optimizer version 11.0.3 build v11.0.3rc0 (linux64 - \"Red Hat Enterprise Linux 8.10 (Ootpa)\")\n",
      "\n",
      "CPU model: Intel(R) Xeon(R) Gold 6246R CPU @ 3.40GHz, instruction set [SSE2|AVX|AVX2|AVX512]\n",
      "Thread count: 32 physical cores, 32 logical processors, using up to 32 threads\n",
      "\n",
      "Optimize a model with 788422 rows, 525638 columns and 2688272 nonzeros\n",
      "Model fingerprint: 0xaea4ed29\n",
      "Coefficient statistics:\n",
      "  Matrix range     [4e-07, 2e+04]\n",
      "  Objective range  [1e-01, 2e+07]\n",
      "  Bounds range     [1e+00, 1e+00]\n",
      "  RHS range        [2e+00, 2e+07]\n",
      "Presolve removed 272117 rows and 166996 columns\n",
      "Presolve time: 1.17s\n",
      "Presolved: 516305 rows, 358642 columns, 2074512 nonzeros\n",
      "Ordering time: 0.45s\n",
      "\n",
      "Barrier statistics:\n",
      " Dense cols : 18\n",
      " AA' NZ     : 4.431e+06\n",
      " Factor NZ  : 1.610e+07 (roughly 500 MB of memory)\n",
      " Factor Ops : 1.434e+09 (less than 1 second per iteration)\n",
      " Threads    : 32\n",
      "\n",
      "                  Objective                Residual\n",
      "Iter       Primal          Dual         Primal    Dual     Compl     Time\n",
      "   0   2.74958317e+15 -5.33283117e+12  4.65e+09 8.69e+04  5.03e+11     3s\n",
      "   1   2.14299113e+15 -1.31691496e+14  3.70e+09 6.25e+05  2.93e+11     3s\n",
      "   2   2.02466336e+15 -3.17651175e+14  3.49e+09 2.63e+05  2.70e+11     4s\n",
      "   3   2.21092895e+14 -3.54382745e+14  3.06e+08 7.33e+04  3.07e+10     5s\n",
      "   4   5.34961766e+13 -3.49112199e+14  3.51e+07 1.26e+04  4.47e+09     5s\n",
      "   5   2.17167925e+13 -1.94545673e+14  3.25e+06 1.31e+03  5.93e+08     5s\n",
      "   6   1.15140887e+13 -6.29622984e+13  7.06e+05 3.01e+02  1.46e+08     6s\n",
      "   7   6.79611770e+12 -3.06282195e+13  3.10e+05 1.28e+02  6.55e+07     6s\n",
      "   8   3.97763208e+12 -9.15886347e+12  1.12e+05 3.29e+01  2.00e+07     7s\n",
      "   9   1.54376980e+12 -2.18960338e+12  1.82e+04 6.60e+00  4.87e+06     8s\n",
      "  10   4.69978700e+11 -3.32118512e+11  3.19e+03 4.39e-01  9.44e+05     8s\n",
      "  11   1.14214433e+11 -7.47247002e+10  5.86e+02 7.57e-10  2.15e+05     9s\n",
      "  12   3.93984191e+10 -2.29907650e+10  1.48e+02 2.91e-10  7.03e+04     9s\n",
      "  13   2.40846373e+10 -1.01820856e+10  7.16e+01 1.38e-10  3.85e+04     9s\n",
      "  14   1.04730298e+10 -3.96465658e+09  1.08e+01 7.28e-11  1.62e+04    10s\n",
      "  15   7.26902283e+09 -1.40638545e+09  1.52e+00 5.82e-11  9.73e+03    11s\n",
      "  16   5.77735247e+09  1.17706471e+08  3.41e-03 5.82e-11  6.35e+03    12s\n",
      "  17   5.18444821e+09  7.52105599e+08  2.78e-03 5.82e-11  4.97e+03    12s\n",
      "  18   4.88979231e+09  1.28041894e+09  2.42e-03 5.82e-11  4.05e+03    13s\n",
      "  19   4.53495212e+09  1.39851359e+09  1.92e-03 5.82e-11  3.52e+03    14s\n",
      "  20   4.41044106e+09  1.48506847e+09  1.75e-03 5.82e-11  3.28e+03    14s\n",
      "  21   4.22112549e+09  1.87240039e+09  1.50e-03 8.73e-11  2.63e+03    15s\n",
      "  22   4.04404239e+09  2.22653385e+09  1.28e-03 8.73e-11  2.04e+03    16s\n",
      "  23   3.90617161e+09  2.49955236e+09  1.10e-03 8.73e-11  1.58e+03    17s\n",
      "  24   3.59350967e+09  2.65110495e+09  7.17e-04 5.82e-11  1.06e+03    18s\n",
      "  25   3.56954262e+09  2.68472410e+09  6.90e-04 5.82e-11  9.92e+02    19s\n",
      "  26   3.56576703e+09  2.70281890e+09  6.86e-04 5.82e-11  9.67e+02    20s\n",
      "  27   3.55060119e+09  2.73197354e+09  6.68e-04 8.73e-11  9.17e+02    20s\n",
      "  28   3.45212870e+09  2.82539064e+09  5.60e-04 8.73e-11  7.02e+02    21s\n",
      "  29   3.30529691e+09  2.87451620e+09  3.70e-04 3.20e-10  4.83e+02    22s\n",
      "  30   3.20142674e+09  2.91610490e+09  2.40e-04 2.18e-10  3.20e+02    23s\n",
      "  31   3.14064379e+09  2.93928207e+09  2.77e-03 1.69e-10  2.26e+02    24s\n",
      "  32   3.12038385e+09  2.95189805e+09  3.12e-03 1.46e-10  1.89e+02    25s\n",
      "  33   3.11915365e+09  2.95356354e+09  2.72e-03 1.09e-10  1.86e+02    25s\n",
      "  34   3.10281826e+09  2.95945536e+09  3.06e-03 8.91e-11  1.61e+02    26s\n",
      "  35   3.09058439e+09  2.96052943e+09  3.10e-03 1.20e-10  1.46e+02    27s\n",
      "  36   3.07664537e+09  2.96514770e+09  2.62e-03 1.29e-10  1.25e+02    29s\n",
      "  37   3.07025571e+09  2.96942813e+09  4.04e-03 1.55e-10  1.13e+02    30s\n",
      "  38   3.06640590e+09  2.97582508e+09  3.63e-03 1.09e-10  1.02e+02    32s\n",
      "  39   3.06514831e+09  2.97743907e+09  3.50e-03 1.44e-10  9.83e+01    33s\n",
      "  40   3.05591921e+09  2.98117302e+09  1.83e-03 1.07e-10  8.38e+01    33s\n",
      "  41   3.04806633e+09  2.98725621e+09  1.95e-03 8.73e-11  6.81e+01    34s\n",
      "  42   3.04423261e+09  2.99186898e+09  1.99e-03 8.19e-11  5.87e+01    35s\n",
      "  43   3.04103523e+09  2.99686165e+09  2.63e-03 1.07e-10  4.95e+01    36s\n",
      "  44   3.03340240e+09  3.00133420e+09  3.78e-03 8.73e-11  3.59e+01    36s\n",
      "  45   3.03248712e+09  3.00142771e+09  3.74e-03 5.82e-11  3.48e+01    39s\n",
      "  46   3.02991510e+09  3.00338467e+09  3.35e-03 8.73e-11  2.97e+01    41s\n",
      "  47   3.02593935e+09  3.00536398e+09  3.03e-03 8.73e-11  2.31e+01    42s\n",
      "  48   3.02416887e+09  3.00677991e+09  2.86e-03 5.82e-11  1.95e+01    43s\n",
      "  49   3.02194772e+09  3.00726472e+09  2.82e-03 5.82e-11  1.65e+01    44s\n",
      "  50   3.02155858e+09  3.00805658e+09  2.78e-03 5.82e-11  1.51e+01    47s\n",
      "  51   3.02059477e+09  3.00877875e+09  2.91e-03 5.82e-11  1.32e+01    50s\n",
      "  52   3.01859908e+09  3.00932618e+09  2.30e-03 5.82e-11  1.04e+01    55s\n",
      "  53   3.01815336e+09  3.00993041e+09  2.08e-03 5.82e-11  9.22e+00    56s\n",
      "  54   3.01694123e+09  3.01014473e+09  1.57e-03 8.73e-11  7.62e+00    57s\n",
      "  55   3.01642417e+09  3.01060272e+09  1.36e-03 5.82e-11  6.52e+00    58s\n",
      "  56   3.01571090e+09  3.01086717e+09  1.09e-03 5.82e-11  5.43e+00    59s\n",
      "  57   3.01513609e+09  3.01126621e+09  8.82e-04 7.28e-11  4.34e+00    60s\n",
      "  58   3.01490476e+09  3.01144093e+09  8.00e-04 1.02e-10  3.88e+00    61s\n",
      "  59   3.01458858e+09  3.01152218e+09  6.93e-04 5.82e-11  3.44e+00    62s\n",
      "  60   3.01429487e+09  3.01163439e+09  5.91e-04 8.73e-11  2.98e+00    63s\n",
      "\n",
      "Barrier solved model in 60 iterations and 63.41 seconds (22.05 work units)\n",
      "Optimal objective 3.01429487e+09\n",
      "\n",
      "\n",
      "User-callback calls 2828, time in user-callback 0.01 sec\n"
     ]
    }
   ],
   "source": [
    "case_path = @__DIR__\n",
    "println(\"###### ###### ######\")\n",
    "println(\"Running case at $(case_path)\")\n",
    "\n",
    "system = Macro.load_system(case_path)\n",
    "\n",
    "model = Macro.generate_model(system)\n",
    "\n",
    "Macro.set_optimizer(model, Gurobi.Optimizer);\n",
    "\n",
    "Macro.set_optimizer_attributes(model, \"BarConvTol\"=>1e-3,\"Crossover\" => 0, \"Method\" => 2)\n",
    "\n",
    "Macro.optimize!(model)"
   ]
  },
  {
   "cell_type": "code",
   "execution_count": 17,
   "metadata": {},
   "outputs": [
    {
     "name": "stdout",
     "output_type": "stream",
     "text": [
      "wrote results\n"
     ]
    }
   ],
   "source": [
    "case = \"capacity_80pct_co2_cap\"\n",
    "\n",
    "capacity_results = Macro.get_optimal_asset_capacity(system)\n",
    "results_dir = joinpath(case_path, \"results\")\n",
    "mkpath(results_dir)\n",
    "Macro.write_csv(joinpath(results_dir, case * \"_capacity.csv\"), capacity_results)\n",
    "println(\"wrote results\")"
   ]
  },
  {
   "cell_type": "code",
   "execution_count": null,
   "metadata": {},
   "outputs": [],
   "source": [
    "co2_nodes = Macro.get_nodes_sametype(system.locations, CO2)"
   ]
  },
  {
   "cell_type": "code",
   "execution_count": 34,
   "metadata": {},
   "outputs": [
    {
     "data": {
      "text/html": [
       "<div><div style = \"float: left;\"><span>8760×10 DataFrame</span></div><div style = \"float: right;\"><span style = \"font-style: italic;\">8735 rows omitted</span></div><div style = \"clear: both;\"></div></div><div class = \"data-frame\" style = \"overflow-x: scroll;\"><table class = \"data-frame\" style = \"margin-bottom: 6px;\"><thead><tr class = \"header\"><th class = \"rowNumber\" style = \"font-weight: bold; text-align: right;\">Row</th><th style = \"text-align: left;\">cement_plant_1</th><th style = \"text-align: left;\">cement_plant_2</th><th style = \"text-align: left;\">cement_plant_3</th><th style = \"text-align: left;\">cement_plant_1_emissions</th><th style = \"text-align: left;\">cement_plant_2_emissions</th><th style = \"text-align: left;\">cement_plant_3_emissions</th><th style = \"text-align: left;\">ng_1_emissions</th><th style = \"text-align: left;\">ng_2_emissions</th><th style = \"text-align: left;\">ng_3_emissions</th><th style = \"text-align: left;\">total_emissions</th></tr><tr class = \"subheader headerLastRow\"><th class = \"rowNumber\" style = \"font-weight: bold; text-align: right;\"></th><th title = \"Float64\" style = \"text-align: left;\">Float64</th><th title = \"Float64\" style = \"text-align: left;\">Float64</th><th title = \"Float64\" style = \"text-align: left;\">Float64</th><th title = \"Float64\" style = \"text-align: left;\">Float64</th><th title = \"Float64\" style = \"text-align: left;\">Float64</th><th title = \"Float64\" style = \"text-align: left;\">Float64</th><th title = \"Float64\" style = \"text-align: left;\">Float64</th><th title = \"Float64\" style = \"text-align: left;\">Float64</th><th title = \"Float64\" style = \"text-align: left;\">Float64</th><th title = \"Float64\" style = \"text-align: left;\">Float64</th></tr></thead><tbody><tr><td class = \"rowNumber\" style = \"font-weight: bold; text-align: right;\">1</td><td style = \"text-align: right;\">0.385105</td><td style = \"text-align: right;\">0.380088</td><td style = \"text-align: right;\">150.879</td><td style = \"text-align: right;\">0.298841</td><td style = \"text-align: right;\">0.294948</td><td style = \"text-align: right;\">117.082</td><td style = \"text-align: right;\">0.298841</td><td style = \"text-align: right;\">0.294948</td><td style = \"text-align: right;\">117.082</td><td style = \"text-align: right;\">1.816e7</td></tr><tr><td class = \"rowNumber\" style = \"font-weight: bold; text-align: right;\">2</td><td style = \"text-align: right;\">0.402296</td><td style = \"text-align: right;\">0.397062</td><td style = \"text-align: right;\">150.844</td><td style = \"text-align: right;\">0.312182</td><td style = \"text-align: right;\">0.30812</td><td style = \"text-align: right;\">117.055</td><td style = \"text-align: right;\">0.312182</td><td style = \"text-align: right;\">0.30812</td><td style = \"text-align: right;\">117.055</td><td style = \"text-align: right;\">1.816e7</td></tr><tr><td class = \"rowNumber\" style = \"font-weight: bold; text-align: right;\">3</td><td style = \"text-align: right;\">72.1464</td><td style = \"text-align: right;\">76.5211</td><td style = \"text-align: right;\">2.97638</td><td style = \"text-align: right;\">55.9856</td><td style = \"text-align: right;\">59.3803</td><td style = \"text-align: right;\">2.30967</td><td style = \"text-align: right;\">55.9856</td><td style = \"text-align: right;\">59.3803</td><td style = \"text-align: right;\">2.30967</td><td style = \"text-align: right;\">1.816e7</td></tr><tr><td class = \"rowNumber\" style = \"font-weight: bold; text-align: right;\">4</td><td style = \"text-align: right;\">49.605</td><td style = \"text-align: right;\">63.7316</td><td style = \"text-align: right;\">38.3072</td><td style = \"text-align: right;\">38.4935</td><td style = \"text-align: right;\">49.4557</td><td style = \"text-align: right;\">29.7264</td><td style = \"text-align: right;\">38.4935</td><td style = \"text-align: right;\">49.4557</td><td style = \"text-align: right;\">29.7264</td><td style = \"text-align: right;\">1.816e7</td></tr><tr><td class = \"rowNumber\" style = \"font-weight: bold; text-align: right;\">5</td><td style = \"text-align: right;\">38.3467</td><td style = \"text-align: right;\">52.4927</td><td style = \"text-align: right;\">60.8044</td><td style = \"text-align: right;\">29.7571</td><td style = \"text-align: right;\">40.7343</td><td style = \"text-align: right;\">47.1842</td><td style = \"text-align: right;\">29.7571</td><td style = \"text-align: right;\">40.7343</td><td style = \"text-align: right;\">47.1842</td><td style = \"text-align: right;\">1.816e7</td></tr><tr><td class = \"rowNumber\" style = \"font-weight: bold; text-align: right;\">6</td><td style = \"text-align: right;\">39.824</td><td style = \"text-align: right;\">55.4283</td><td style = \"text-align: right;\">56.3916</td><td style = \"text-align: right;\">30.9034</td><td style = \"text-align: right;\">43.0123</td><td style = \"text-align: right;\">43.7598</td><td style = \"text-align: right;\">30.9034</td><td style = \"text-align: right;\">43.0123</td><td style = \"text-align: right;\">43.7598</td><td style = \"text-align: right;\">1.816e7</td></tr><tr><td class = \"rowNumber\" style = \"font-weight: bold; text-align: right;\">7</td><td style = \"text-align: right;\">39.917</td><td style = \"text-align: right;\">55.8826</td><td style = \"text-align: right;\">55.8443</td><td style = \"text-align: right;\">30.9756</td><td style = \"text-align: right;\">43.3649</td><td style = \"text-align: right;\">43.3352</td><td style = \"text-align: right;\">30.9756</td><td style = \"text-align: right;\">43.3649</td><td style = \"text-align: right;\">43.3352</td><td style = \"text-align: right;\">1.816e7</td></tr><tr><td class = \"rowNumber\" style = \"font-weight: bold; text-align: right;\">8</td><td style = \"text-align: right;\">39.9123</td><td style = \"text-align: right;\">56.057</td><td style = \"text-align: right;\">55.6746</td><td style = \"text-align: right;\">30.9719</td><td style = \"text-align: right;\">43.5002</td><td style = \"text-align: right;\">43.2035</td><td style = \"text-align: right;\">30.9719</td><td style = \"text-align: right;\">43.5002</td><td style = \"text-align: right;\">43.2035</td><td style = \"text-align: right;\">1.816e7</td></tr><tr><td class = \"rowNumber\" style = \"font-weight: bold; text-align: right;\">9</td><td style = \"text-align: right;\">39.856</td><td style = \"text-align: right;\">56.1363</td><td style = \"text-align: right;\">55.6515</td><td style = \"text-align: right;\">30.9283</td><td style = \"text-align: right;\">43.5618</td><td style = \"text-align: right;\">43.1856</td><td style = \"text-align: right;\">30.9283</td><td style = \"text-align: right;\">43.5618</td><td style = \"text-align: right;\">43.1856</td><td style = \"text-align: right;\">1.816e7</td></tr><tr><td class = \"rowNumber\" style = \"font-weight: bold; text-align: right;\">10</td><td style = \"text-align: right;\">39.8305</td><td style = \"text-align: right;\">56.4381</td><td style = \"text-align: right;\">55.3752</td><td style = \"text-align: right;\">30.9084</td><td style = \"text-align: right;\">43.796</td><td style = \"text-align: right;\">42.9712</td><td style = \"text-align: right;\">30.9084</td><td style = \"text-align: right;\">43.796</td><td style = \"text-align: right;\">42.9712</td><td style = \"text-align: right;\">1.816e7</td></tr><tr><td class = \"rowNumber\" style = \"font-weight: bold; text-align: right;\">11</td><td style = \"text-align: right;\">39.3635</td><td style = \"text-align: right;\">57.7551</td><td style = \"text-align: right;\">54.5252</td><td style = \"text-align: right;\">30.5461</td><td style = \"text-align: right;\">44.8179</td><td style = \"text-align: right;\">42.3116</td><td style = \"text-align: right;\">30.5461</td><td style = \"text-align: right;\">44.8179</td><td style = \"text-align: right;\">42.3116</td><td style = \"text-align: right;\">1.816e7</td></tr><tr><td class = \"rowNumber\" style = \"font-weight: bold; text-align: right;\">12</td><td style = \"text-align: right;\">39.4875</td><td style = \"text-align: right;\">57.4257</td><td style = \"text-align: right;\">54.7307</td><td style = \"text-align: right;\">30.6423</td><td style = \"text-align: right;\">44.5623</td><td style = \"text-align: right;\">42.471</td><td style = \"text-align: right;\">30.6423</td><td style = \"text-align: right;\">44.5623</td><td style = \"text-align: right;\">42.471</td><td style = \"text-align: right;\">1.816e7</td></tr><tr><td class = \"rowNumber\" style = \"font-weight: bold; text-align: right;\">13</td><td style = \"text-align: right;\">39.4219</td><td style = \"text-align: right;\">57.6481</td><td style = \"text-align: right;\">54.5739</td><td style = \"text-align: right;\">30.5914</td><td style = \"text-align: right;\">44.7349</td><td style = \"text-align: right;\">42.3493</td><td style = \"text-align: right;\">30.5914</td><td style = \"text-align: right;\">44.7349</td><td style = \"text-align: right;\">42.3493</td><td style = \"text-align: right;\">1.816e7</td></tr><tr><td style = \"text-align: right;\">&vellip;</td><td style = \"text-align: right;\">&vellip;</td><td style = \"text-align: right;\">&vellip;</td><td style = \"text-align: right;\">&vellip;</td><td style = \"text-align: right;\">&vellip;</td><td style = \"text-align: right;\">&vellip;</td><td style = \"text-align: right;\">&vellip;</td><td style = \"text-align: right;\">&vellip;</td><td style = \"text-align: right;\">&vellip;</td><td style = \"text-align: right;\">&vellip;</td><td style = \"text-align: right;\">&vellip;</td></tr><tr><td class = \"rowNumber\" style = \"font-weight: bold; text-align: right;\">8749</td><td style = \"text-align: right;\">49.5275</td><td style = \"text-align: right;\">79.6603</td><td style = \"text-align: right;\">79.7544</td><td style = \"text-align: right;\">38.4333</td><td style = \"text-align: right;\">61.8164</td><td style = \"text-align: right;\">61.8894</td><td style = \"text-align: right;\">38.4333</td><td style = \"text-align: right;\">61.8164</td><td style = \"text-align: right;\">61.8894</td><td style = \"text-align: right;\">1.816e7</td></tr><tr><td class = \"rowNumber\" style = \"font-weight: bold; text-align: right;\">8750</td><td style = \"text-align: right;\">49.5224</td><td style = \"text-align: right;\">79.5411</td><td style = \"text-align: right;\">79.8787</td><td style = \"text-align: right;\">38.4294</td><td style = \"text-align: right;\">61.7239</td><td style = \"text-align: right;\">61.9858</td><td style = \"text-align: right;\">38.4294</td><td style = \"text-align: right;\">61.7239</td><td style = \"text-align: right;\">61.9858</td><td style = \"text-align: right;\">1.816e7</td></tr><tr><td class = \"rowNumber\" style = \"font-weight: bold; text-align: right;\">8751</td><td style = \"text-align: right;\">49.5985</td><td style = \"text-align: right;\">79.5513</td><td style = \"text-align: right;\">79.7923</td><td style = \"text-align: right;\">38.4885</td><td style = \"text-align: right;\">61.7318</td><td style = \"text-align: right;\">61.9188</td><td style = \"text-align: right;\">38.4885</td><td style = \"text-align: right;\">61.7318</td><td style = \"text-align: right;\">61.9188</td><td style = \"text-align: right;\">1.816e7</td></tr><tr><td class = \"rowNumber\" style = \"font-weight: bold; text-align: right;\">8752</td><td style = \"text-align: right;\">49.6204</td><td style = \"text-align: right;\">79.9795</td><td style = \"text-align: right;\">79.3423</td><td style = \"text-align: right;\">38.5054</td><td style = \"text-align: right;\">62.0641</td><td style = \"text-align: right;\">61.5696</td><td style = \"text-align: right;\">38.5054</td><td style = \"text-align: right;\">62.0641</td><td style = \"text-align: right;\">61.5696</td><td style = \"text-align: right;\">1.816e7</td></tr><tr><td class = \"rowNumber\" style = \"font-weight: bold; text-align: right;\">8753</td><td style = \"text-align: right;\">49.2833</td><td style = \"text-align: right;\">81.3187</td><td style = \"text-align: right;\">78.3402</td><td style = \"text-align: right;\">38.2438</td><td style = \"text-align: right;\">63.1033</td><td style = \"text-align: right;\">60.792</td><td style = \"text-align: right;\">38.2438</td><td style = \"text-align: right;\">63.1033</td><td style = \"text-align: right;\">60.792</td><td style = \"text-align: right;\">1.816e7</td></tr><tr><td class = \"rowNumber\" style = \"font-weight: bold; text-align: right;\">8754</td><td style = \"text-align: right;\">0.479123</td><td style = \"text-align: right;\">207.983</td><td style = \"text-align: right;\">0.480364</td><td style = \"text-align: right;\">0.371799</td><td style = \"text-align: right;\">161.395</td><td style = \"text-align: right;\">0.372762</td><td style = \"text-align: right;\">0.371799</td><td style = \"text-align: right;\">161.395</td><td style = \"text-align: right;\">0.372762</td><td style = \"text-align: right;\">1.816e7</td></tr><tr><td class = \"rowNumber\" style = \"font-weight: bold; text-align: right;\">8755</td><td style = \"text-align: right;\">22.0871</td><td style = \"text-align: right;\">161.364</td><td style = \"text-align: right;\">25.491</td><td style = \"text-align: right;\">17.1396</td><td style = \"text-align: right;\">125.219</td><td style = \"text-align: right;\">19.781</td><td style = \"text-align: right;\">17.1396</td><td style = \"text-align: right;\">125.219</td><td style = \"text-align: right;\">19.781</td><td style = \"text-align: right;\">1.816e7</td></tr><tr><td class = \"rowNumber\" style = \"font-weight: bold; text-align: right;\">8756</td><td style = \"text-align: right;\">49.9288</td><td style = \"text-align: right;\">80.1504</td><td style = \"text-align: right;\">78.863</td><td style = \"text-align: right;\">38.7447</td><td style = \"text-align: right;\">62.1967</td><td style = \"text-align: right;\">61.1977</td><td style = \"text-align: right;\">38.7447</td><td style = \"text-align: right;\">62.1967</td><td style = \"text-align: right;\">61.1977</td><td style = \"text-align: right;\">1.816e7</td></tr><tr><td class = \"rowNumber\" style = \"font-weight: bold; text-align: right;\">8757</td><td style = \"text-align: right;\">50.0229</td><td style = \"text-align: right;\">80.0493</td><td style = \"text-align: right;\">78.87</td><td style = \"text-align: right;\">38.8178</td><td style = \"text-align: right;\">62.1183</td><td style = \"text-align: right;\">61.2031</td><td style = \"text-align: right;\">38.8178</td><td style = \"text-align: right;\">62.1183</td><td style = \"text-align: right;\">61.2031</td><td style = \"text-align: right;\">1.816e7</td></tr><tr><td class = \"rowNumber\" style = \"font-weight: bold; text-align: right;\">8758</td><td style = \"text-align: right;\">50.1178</td><td style = \"text-align: right;\">79.2046</td><td style = \"text-align: right;\">79.6198</td><td style = \"text-align: right;\">38.8914</td><td style = \"text-align: right;\">61.4628</td><td style = \"text-align: right;\">61.7849</td><td style = \"text-align: right;\">38.8914</td><td style = \"text-align: right;\">61.4628</td><td style = \"text-align: right;\">61.7849</td><td style = \"text-align: right;\">1.816e7</td></tr><tr><td class = \"rowNumber\" style = \"font-weight: bold; text-align: right;\">8759</td><td style = \"text-align: right;\">50.1032</td><td style = \"text-align: right;\">79.2587</td><td style = \"text-align: right;\">79.5803</td><td style = \"text-align: right;\">38.8801</td><td style = \"text-align: right;\">61.5047</td><td style = \"text-align: right;\">61.7543</td><td style = \"text-align: right;\">38.8801</td><td style = \"text-align: right;\">61.5047</td><td style = \"text-align: right;\">61.7543</td><td style = \"text-align: right;\">1.816e7</td></tr><tr><td class = \"rowNumber\" style = \"font-weight: bold; text-align: right;\">8760</td><td style = \"text-align: right;\">0.403854</td><td style = \"text-align: right;\">0.397989</td><td style = \"text-align: right;\">208.14</td><td style = \"text-align: right;\">0.31339</td><td style = \"text-align: right;\">0.308839</td><td style = \"text-align: right;\">161.517</td><td style = \"text-align: right;\">0.31339</td><td style = \"text-align: right;\">0.308839</td><td style = \"text-align: right;\">161.517</td><td style = \"text-align: right;\">1.816e7</td></tr></tbody></table></div>"
      ],
      "text/latex": [
       "\\begin{tabular}{r|cccccc}\n",
       "\t& cement\\_plant\\_1 & cement\\_plant\\_2 & cement\\_plant\\_3 & cement\\_plant\\_1\\_emissions & cement\\_plant\\_2\\_emissions & \\\\\n",
       "\t\\hline\n",
       "\t& Float64 & Float64 & Float64 & Float64 & Float64 & \\\\\n",
       "\t\\hline\n",
       "\t1 & 0.385105 & 0.380088 & 150.879 & 0.298841 & 0.294948 & $\\dots$ \\\\\n",
       "\t2 & 0.402296 & 0.397062 & 150.844 & 0.312182 & 0.30812 & $\\dots$ \\\\\n",
       "\t3 & 72.1464 & 76.5211 & 2.97638 & 55.9856 & 59.3803 & $\\dots$ \\\\\n",
       "\t4 & 49.605 & 63.7316 & 38.3072 & 38.4935 & 49.4557 & $\\dots$ \\\\\n",
       "\t5 & 38.3467 & 52.4927 & 60.8044 & 29.7571 & 40.7343 & $\\dots$ \\\\\n",
       "\t6 & 39.824 & 55.4283 & 56.3916 & 30.9034 & 43.0123 & $\\dots$ \\\\\n",
       "\t7 & 39.917 & 55.8826 & 55.8443 & 30.9756 & 43.3649 & $\\dots$ \\\\\n",
       "\t8 & 39.9123 & 56.057 & 55.6746 & 30.9719 & 43.5002 & $\\dots$ \\\\\n",
       "\t9 & 39.856 & 56.1363 & 55.6515 & 30.9283 & 43.5618 & $\\dots$ \\\\\n",
       "\t10 & 39.8305 & 56.4381 & 55.3752 & 30.9084 & 43.796 & $\\dots$ \\\\\n",
       "\t11 & 39.3635 & 57.7551 & 54.5252 & 30.5461 & 44.8179 & $\\dots$ \\\\\n",
       "\t12 & 39.4875 & 57.4257 & 54.7307 & 30.6423 & 44.5623 & $\\dots$ \\\\\n",
       "\t13 & 39.4219 & 57.6481 & 54.5739 & 30.5914 & 44.7349 & $\\dots$ \\\\\n",
       "\t14 & 39.5209 & 57.3809 & 54.742 & 30.6682 & 44.5276 & $\\dots$ \\\\\n",
       "\t15 & 39.667 & 57.0691 & 54.9077 & 30.7816 & 44.2856 & $\\dots$ \\\\\n",
       "\t16 & 39.7712 & 56.7272 & 55.1455 & 30.8624 & 44.0203 & $\\dots$ \\\\\n",
       "\t17 & 39.3519 & 57.8997 & 54.3922 & 30.5371 & 44.9302 & $\\dots$ \\\\\n",
       "\t18 & 39.6592 & 57.23 & 54.7546 & 30.7756 & 44.4105 & $\\dots$ \\\\\n",
       "\t19 & 39.9546 & 56.1152 & 55.574 & 31.0048 & 43.5454 & $\\dots$ \\\\\n",
       "\t20 & 39.6138 & 55.1908 & 56.8393 & 30.7403 & 42.828 & $\\dots$ \\\\\n",
       "\t21 & 39.6468 & 55.1836 & 56.8133 & 30.766 & 42.8225 & $\\dots$ \\\\\n",
       "\t22 & 0.292937 & 0.289764 & 151.061 & 0.227319 & 0.224857 & $\\dots$ \\\\\n",
       "\t23 & 0.292279 & 0.288226 & 151.063 & 0.226808 & 0.223663 & $\\dots$ \\\\\n",
       "\t24 & 0.293573 & 0.290122 & 151.06 & 0.227812 & 0.225135 & $\\dots$ \\\\\n",
       "\t$\\dots$ & $\\dots$ & $\\dots$ & $\\dots$ & $\\dots$ & $\\dots$ &  \\\\\n",
       "\\end{tabular}\n"
      ],
      "text/plain": [
       "\u001b[1m8760×10 DataFrame\u001b[0m\n",
       "\u001b[1m  Row \u001b[0m│\u001b[1m cement_plant_1 \u001b[0m\u001b[1m cement_plant_2 \u001b[0m\u001b[1m cement_plant_3 \u001b[0m\u001b[1m cement_plant_1_emissio\u001b[0m ⋯\n",
       "      │\u001b[90m Float64        \u001b[0m\u001b[90m Float64        \u001b[0m\u001b[90m Float64        \u001b[0m\u001b[90m Float64               \u001b[0m ⋯\n",
       "──────┼─────────────────────────────────────────────────────────────────────────\n",
       "    1 │       0.385105        0.380088      150.879                     0.2988 ⋯\n",
       "    2 │       0.402296        0.397062      150.844                     0.3121\n",
       "    3 │      72.1464         76.5211          2.97638                  55.9856\n",
       "    4 │      49.605          63.7316         38.3072                   38.4935\n",
       "    5 │      38.3467         52.4927         60.8044                   29.7571 ⋯\n",
       "    6 │      39.824          55.4283         56.3916                   30.9034\n",
       "    7 │      39.917          55.8826         55.8443                   30.9756\n",
       "    8 │      39.9123         56.057          55.6746                   30.9719\n",
       "  ⋮   │       ⋮               ⋮               ⋮                    ⋮           ⋱\n",
       " 8754 │       0.479123      207.983           0.480364                  0.3717 ⋯\n",
       " 8755 │      22.0871        161.364          25.491                    17.1396\n",
       " 8756 │      49.9288         80.1504         78.863                    38.7447\n",
       " 8757 │      50.0229         80.0493         78.87                     38.8178\n",
       " 8758 │      50.1178         79.2046         79.6198                   38.8914 ⋯\n",
       " 8759 │      50.1032         79.2587         79.5803                   38.8801\n",
       " 8760 │       0.403854        0.397989      208.14                      0.3133\n",
       "\u001b[36m                                                 7 columns and 8745 rows omitted\u001b[0m"
      ]
     },
     "metadata": {},
     "output_type": "display_data"
    }
   ],
   "source": [
    "results_8760 = DataFrame(\n",
    "    cement_plant_1 = Macro.value.(Macro.flow(system.assets[1].cement_edge)).data,\n",
    "    cement_plant_2 = Macro.value.(Macro.flow(system.assets[2].cement_edge)).data,\n",
    "    cement_plant_3 = Macro.value.(Macro.flow(system.assets[3].cement_edge)).data,\n",
    "\n",
    "    cement_plant_1_emissions = Macro.value.(Macro.flow(system.assets[1].co2_edge)).data,\n",
    "    cement_plant_2_emissions = Macro.value.(Macro.flow(system.assets[2].co2_edge)).data,\n",
    "    cement_plant_3_emissions = Macro.value.(Macro.flow(system.assets[3].co2_edge)).data,\n",
    "\n",
    "    ng_1_emissions = Macro.value.(Macro.flow(system.assets[1].co2_edge)).data,\n",
    "    ng_2_emissions = Macro.value.(Macro.flow(system.assets[2].co2_edge)).data,\n",
    "    ng_3_emissions = Macro.value.(Macro.flow(system.assets[3].co2_edge)).data,\n",
    "\n",
    "    total_emissions = Macro.value(sum(co2_nodes[1].operation_expr[:emissions]))\n",
    ")"
   ]
  },
  {
   "cell_type": "code",
   "execution_count": 35,
   "metadata": {},
   "outputs": [
    {
     "data": {
      "text/plain": [
       "\"/home/al3792/Macro/ExampleSystems/three_zones_macro_genx_cement_test/results/capacity_80pct_co2_cap_8760_results.csv\""
      ]
     },
     "metadata": {},
     "output_type": "display_data"
    }
   ],
   "source": [
    "Macro.write_csv(joinpath(results_dir, case * \"_8760_results.csv\"), results_8760)"
   ]
  },
  {
   "cell_type": "code",
   "execution_count": null,
   "metadata": {},
   "outputs": [],
   "source": []
  }
 ],
 "metadata": {
  "kernelspec": {
   "display_name": "Julia 1.11.1",
   "language": "julia",
   "name": "julia-1.11"
  },
  "language_info": {
   "file_extension": ".jl",
   "mimetype": "application/julia",
   "name": "julia",
   "version": "1.11.1"
  }
 },
 "nbformat": 4,
 "nbformat_minor": 2
}
